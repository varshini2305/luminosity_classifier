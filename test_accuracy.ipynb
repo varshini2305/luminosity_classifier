{
 "cells": [
  {
   "cell_type": "code",
   "execution_count": 1,
   "id": "c0425a33-78bd-4ad5-8527-946e11eb1784",
   "metadata": {},
   "outputs": [
    {
     "name": "stderr",
     "output_type": "stream",
     "text": [
      "/Users/varshinibalaji/Documents/DSProjects/product_classifier/lclassifier_env/lib/python3.10/site-packages/tqdm/auto.py:21: TqdmWarning: IProgress not found. Please update jupyter and ipywidgets. See https://ipywidgets.readthedocs.io/en/stable/user_install.html\n",
      "  from .autonotebook import tqdm as notebook_tqdm\n",
      "[nltk_data] Downloading package punkt to\n",
      "[nltk_data]     /Users/varshinibalaji/nltk_data...\n",
      "[nltk_data]   Package punkt is already up-to-date!\n",
      "[nltk_data] Downloading package averaged_perceptron_tagger to\n",
      "[nltk_data]     /Users/varshinibalaji/nltk_data...\n",
      "[nltk_data]   Package averaged_perceptron_tagger is already up-to-\n",
      "[nltk_data]       date!\n"
     ]
    }
   ],
   "source": [
    "# streamlit run main.py\n",
    "import pandas as pd\n",
    "from sklearn.feature_extraction.text import TfidfVectorizer\n",
    "from sklearn.preprocessing import StandardScaler, LabelEncoder\n",
    "from sklearn.linear_model import LogisticRegression\n",
    "import transformers\n",
    "from transformers import AutoTokenizer, AutoModel\n",
    "from functools import lru_cache\n",
    "import numpy as np\n",
    "import streamlit as st\n",
    "import sys\n",
    "import subprocess\n",
    "import json\n",
    "import os\n",
    "from tqdm import tqdm\n",
    "\n",
    "\n",
    "\n",
    "from pdf_parser import predict_luminosity_from_url, predict_if_lighting"
   ]
  },
  {
   "cell_type": "code",
   "execution_count": 2,
   "id": "7fe7ad3d-0dcd-4a3f-b7d2-9ff2f956f40a",
   "metadata": {},
   "outputs": [
    {
     "data": {
      "text/html": [
       "<div>\n",
       "<style scoped>\n",
       "    .dataframe tbody tr th:only-of-type {\n",
       "        vertical-align: middle;\n",
       "    }\n",
       "\n",
       "    .dataframe tbody tr th {\n",
       "        vertical-align: top;\n",
       "    }\n",
       "\n",
       "    .dataframe thead th {\n",
       "        text-align: right;\n",
       "    }\n",
       "</style>\n",
       "<table border=\"1\" class=\"dataframe\">\n",
       "  <thead>\n",
       "    <tr style=\"text-align: right;\">\n",
       "      <th></th>\n",
       "      <th>id</th>\n",
       "      <th>url</th>\n",
       "      <th>is_lighting</th>\n",
       "      <th>parsed_text</th>\n",
       "      <th>processed_text</th>\n",
       "      <th>parsed_lines</th>\n",
       "      <th>predict_lighting</th>\n",
       "      <th>light_phrase_index</th>\n",
       "      <th>light_phrase</th>\n",
       "      <th>updated_predict_lighting</th>\n",
       "    </tr>\n",
       "  </thead>\n",
       "  <tbody>\n",
       "    <tr>\n",
       "      <th>0</th>\n",
       "      <td>TP0</td>\n",
       "      <td>https://cdn.currentlighting.com/site/specsheet...</td>\n",
       "      <td>0</td>\n",
       "      <td>Synchron AC Power System Suggested Specificati...</td>\n",
       "      <td>synchron ac power system suggested specificati...</td>\n",
       "      <td>[synchron ac power system suggested specificat...</td>\n",
       "      <td>True</td>\n",
       "      <td>7.0</td>\n",
       "      <td>output the system shall be capable of powering...</td>\n",
       "      <td>True</td>\n",
       "    </tr>\n",
       "    <tr>\n",
       "      <th>1</th>\n",
       "      <td>TP1</td>\n",
       "      <td>https://cdn.currentlighting.com/site/specsheet...</td>\n",
       "      <td>0</td>\n",
       "      <td>Synchron AC Power System Suggested Specificati...</td>\n",
       "      <td>synchron ac power system suggested specificati...</td>\n",
       "      <td>[synchron ac power system suggested specificat...</td>\n",
       "      <td>True</td>\n",
       "      <td>7.0</td>\n",
       "      <td>output the system shall be capable of powering...</td>\n",
       "      <td>True</td>\n",
       "    </tr>\n",
       "    <tr>\n",
       "      <th>2</th>\n",
       "      <td>TP2</td>\n",
       "      <td>https://cdn.currentlighting.com/site/specsheet...</td>\n",
       "      <td>0</td>\n",
       "      <td>Synchron AC Power System Suggested Specificati...</td>\n",
       "      <td>synchron ac power system suggested specificati...</td>\n",
       "      <td>[synchron ac power system suggested specificat...</td>\n",
       "      <td>True</td>\n",
       "      <td>7.0</td>\n",
       "      <td>output the system shall be capable of powering...</td>\n",
       "      <td>True</td>\n",
       "    </tr>\n",
       "    <tr>\n",
       "      <th>3</th>\n",
       "      <td>TP3</td>\n",
       "      <td>https://www.assets.signify.com/is/content/Sign...</td>\n",
       "      <td>0</td>\n",
       "      <td>LXF / LXT Lexington Lumen Tables\\nStreetworks\\...</td>\n",
       "      <td>lxf / lxt lexington lumen tables\\nstreetworks\\...</td>\n",
       "      <td>[lxf / lxt lexington lumen tables, streetworks...</td>\n",
       "      <td>True</td>\n",
       "      <td>0.0</td>\n",
       "      <td>lxf / lxt lexington lumen tables</td>\n",
       "      <td>True</td>\n",
       "    </tr>\n",
       "    <tr>\n",
       "      <th>4</th>\n",
       "      <td>TP4</td>\n",
       "      <td>https://www.assets.signify.com/is/content/Sign...</td>\n",
       "      <td>0</td>\n",
       "      <td>LXF / LXT Lexington Lumen Tables\\nStreetworks\\...</td>\n",
       "      <td>lxf / lxt lexington lumen tables\\nstreetworks\\...</td>\n",
       "      <td>[lxf / lxt lexington lumen tables, streetworks...</td>\n",
       "      <td>True</td>\n",
       "      <td>0.0</td>\n",
       "      <td>lxf / lxt lexington lumen tables</td>\n",
       "      <td>True</td>\n",
       "    </tr>\n",
       "  </tbody>\n",
       "</table>\n",
       "</div>"
      ],
      "text/plain": [
       "    id                                                url  is_lighting  \\\n",
       "0  TP0  https://cdn.currentlighting.com/site/specsheet...            0   \n",
       "1  TP1  https://cdn.currentlighting.com/site/specsheet...            0   \n",
       "2  TP2  https://cdn.currentlighting.com/site/specsheet...            0   \n",
       "3  TP3  https://www.assets.signify.com/is/content/Sign...            0   \n",
       "4  TP4  https://www.assets.signify.com/is/content/Sign...            0   \n",
       "\n",
       "                                         parsed_text  \\\n",
       "0  Synchron AC Power System Suggested Specificati...   \n",
       "1  Synchron AC Power System Suggested Specificati...   \n",
       "2  Synchron AC Power System Suggested Specificati...   \n",
       "3  LXF / LXT Lexington Lumen Tables\\nStreetworks\\...   \n",
       "4  LXF / LXT Lexington Lumen Tables\\nStreetworks\\...   \n",
       "\n",
       "                                      processed_text  \\\n",
       "0  synchron ac power system suggested specificati...   \n",
       "1  synchron ac power system suggested specificati...   \n",
       "2  synchron ac power system suggested specificati...   \n",
       "3  lxf / lxt lexington lumen tables\\nstreetworks\\...   \n",
       "4  lxf / lxt lexington lumen tables\\nstreetworks\\...   \n",
       "\n",
       "                                        parsed_lines  predict_lighting  \\\n",
       "0  [synchron ac power system suggested specificat...              True   \n",
       "1  [synchron ac power system suggested specificat...              True   \n",
       "2  [synchron ac power system suggested specificat...              True   \n",
       "3  [lxf / lxt lexington lumen tables, streetworks...              True   \n",
       "4  [lxf / lxt lexington lumen tables, streetworks...              True   \n",
       "\n",
       "   light_phrase_index                                       light_phrase  \\\n",
       "0                 7.0  output the system shall be capable of powering...   \n",
       "1                 7.0  output the system shall be capable of powering...   \n",
       "2                 7.0  output the system shall be capable of powering...   \n",
       "3                 0.0                   lxf / lxt lexington lumen tables   \n",
       "4                 0.0                   lxf / lxt lexington lumen tables   \n",
       "\n",
       "  updated_predict_lighting  \n",
       "0                     True  \n",
       "1                     True  \n",
       "2                     True  \n",
       "3                     True  \n",
       "4                     True  "
      ]
     },
     "execution_count": 2,
     "metadata": {},
     "output_type": "execute_result"
    }
   ],
   "source": [
    "test_data = pd.read_pickle(\"data/test_data.pkl\")\n",
    "test_data.head()"
   ]
  },
  {
   "cell_type": "code",
   "execution_count": 3,
   "id": "f94f2005-53b1-408a-8cfb-769d7bd7781e",
   "metadata": {},
   "outputs": [
    {
     "name": "stderr",
     "output_type": "stream",
     "text": [
      " 31%|███████████████████████████████████████████████████████████████▍                                                                                                                                           | 25/80 [00:31<02:38,  2.88s/it]ERROR:root:https://www.usailighting.com/site/view.php?id=21834\n",
      " 40%|█████████████████████████████████████████████████████████████████████████████████▏                                                                                                                         | 32/80 [02:05<06:01,  7.53s/it]ERROR:root:https://www.usailighting.com/site/view.php?id=42373\n",
      " 49%|██████████████████████████████████████████████████████████████████████████████████████████████████▉                                                                                                        | 39/80 [03:32<04:11,  6.14s/it]ERROR:root:https://www.usailighting.com/site/view.php?id=42408\n",
      " 60%|█████████████████████████████████████████████████████████████████████████████████████████████████████████████████████████▊                                                                                 | 48/80 [05:32<04:17,  8.06s/it]ERROR:root:https://www.usailighting.com/site/view.php?id=42749\n",
      " 80%|██████████████████████████████████████████████████████████████████████████████████████████████████████████████████████████████████████████████████████████████████▍                                        | 64/80 [07:47<01:20,  5.04s/it]ERROR:root:https://www.usailighting.com/site/view.php?id=42930\n",
      "100%|███████████████████████████████████████████████████████████████████████████████████████████████████████████████████████████████████████████████████████████████████████████████████████████████████████████| 80/80 [09:55<00:00,  7.44s/it]\n"
     ]
    }
   ],
   "source": [
    "# is_lighting, product_desc, light_phrase, confidence_score = predict_luminosity_from_url(product_name)\n",
    "tqdm.pandas()\n",
    "\n",
    "test_data['preprocessed_text'] = test_data['parsed_lines']\n",
    "\n",
    "# test_data['model_prediction_meta'] = test_data['processed_text'].progress_apply(lambda x: predict_luminosity_from_url(x, True))\n",
    "\n",
    "test_data['model_prediction_meta'] = test_data['url'].progress_apply(lambda x: predict_luminosity_from_url(x))"
   ]
  },
  {
   "cell_type": "code",
   "execution_count": 24,
   "id": "4c4f170b-1951-4567-97c3-55e74d2cba75",
   "metadata": {},
   "outputs": [
    {
     "data": {
      "text/plain": [
       "'https://www.usailighting.com/site/view.php?id=42369'"
      ]
     },
     "execution_count": 24,
     "metadata": {},
     "output_type": "execute_result"
    }
   ],
   "source": [
    "test_data['url'].iloc[30]"
   ]
  },
  {
   "cell_type": "code",
   "execution_count": 4,
   "id": "de422cc3-bd85-49e1-adc4-85bcd726e9d4",
   "metadata": {},
   "outputs": [],
   "source": [
    "test_data['model_prediction'] = test_data['model_prediction_meta'].apply(lambda x: x[0])\n",
    "\n",
    "test_data['product_desc'] = test_data['model_prediction_meta'].apply(lambda x: x[1])\n",
    "\n",
    "test_data['light_phrase'] = test_data['model_prediction_meta'].apply(lambda x: x[2])\n",
    "\n",
    "test_data['confidence_score'] = test_data['model_prediction_meta'].apply(lambda x: x[3])"
   ]
  },
  {
   "cell_type": "code",
   "execution_count": 7,
   "id": "71e97ec4-c37e-4db7-a838-704a4e0c8926",
   "metadata": {
    "scrolled": true
   },
   "outputs": [
    {
     "data": {
      "text/plain": [
       "is_lighting  model_prediction\n",
       "0            False               50\n",
       "             True                10\n",
       "1            False                8\n",
       "             True                12\n",
       "dtype: int64"
      ]
     },
     "execution_count": 7,
     "metadata": {},
     "output_type": "execute_result"
    }
   ],
   "source": [
    "test_data.groupby(['is_lighting', 'model_prediction'], dropna = False).size()"
   ]
  },
  {
   "cell_type": "code",
   "execution_count": 6,
   "id": "3e686992-74d3-40be-b05a-88567e584325",
   "metadata": {},
   "outputs": [
    {
     "name": "stdout",
     "output_type": "stream",
     "text": [
      "correct predictions: 62\n",
      "total: 80\n",
      "accuracy: 0.775\n",
      "precision: 0.5454545454545454\n",
      "recall: 0.6\n"
     ]
    }
   ],
   "source": [
    "correct = test_data.loc[(((test_data['model_prediction'] == False)&(test_data['is_lighting'] == 0))|((test_data['model_prediction']== True)&(test_data['is_lighting'] == 1)))]\n",
    "\n",
    "print(f\"correct predictions: {len(correct)}\")\n",
    "\n",
    "print(f\"total: {len(test_data)}\")\n",
    "\n",
    "print(f\"accuracy: {len(correct)/len(test_data)}\")\n",
    "\n",
    "print(f\"precision: {len(test_data.loc[((test_data['model_prediction'] == True)&(test_data['is_lighting'] == 1))])/len(test_data.loc[((test_data['model_prediction'] == True))])}\")\n",
    "\n",
    "print(f\"recall: {len(test_data.loc[((test_data['model_prediction'] == True)&(test_data['is_lighting'] == 1))])/len(test_data.loc[((test_data['is_lighting'] == 1))])}\")"
   ]
  },
  {
   "cell_type": "markdown",
   "id": "36663491-e150-4619-b3d5-d1d678771818",
   "metadata": {},
   "source": [
    "#### Metrics\n",
    "\n",
    "- correct predictions: 62\n",
    "- total: 80\n",
    "- accuracy: 77.5%\n",
    "- precision: 55%\n",
    "- recall: 60%"
   ]
  },
  {
   "cell_type": "code",
   "execution_count": 12,
   "id": "4f9075d4-8294-4a53-9738-f40acc023ba9",
   "metadata": {},
   "outputs": [],
   "source": [
    "test_data.to_pickle(\"temp/test_data_predictions.pkl\")"
   ]
  },
  {
   "cell_type": "code",
   "execution_count": 15,
   "id": "18f60e2a-7137-43bf-9d6d-e50bacd1e47a",
   "metadata": {},
   "outputs": [
    {
     "data": {
      "text/plain": [
       "'https://www.assets.signify.com/is/content/Signify/7f3dac4eae71462583e0ad41006cad73'"
      ]
     },
     "execution_count": 15,
     "metadata": {},
     "output_type": "execute_result"
    }
   ],
   "source": [
    "test_data.loc[test_data['is_lighting'] == 1, 'url'].iloc[4]"
   ]
  },
  {
   "cell_type": "code",
   "execution_count": 8,
   "id": "6ac8fbe1-a5e8-4d49-a541-4e045ae294b1",
   "metadata": {},
   "outputs": [],
   "source": [
    "pd.set_option('display.max_colwidth', None)"
   ]
  },
  {
   "cell_type": "markdown",
   "id": "573ee113-e3c2-45c2-970b-da3ff496d292",
   "metadata": {},
   "source": [
    "### observing false positives"
   ]
  },
  {
   "cell_type": "code",
   "execution_count": 14,
   "id": "ee770320-1d76-40b6-a04d-bb4ba88a4476",
   "metadata": {},
   "outputs": [
    {
     "data": {
      "text/plain": [
       "3     https://www.assets.signify.com/is/content/Signify/04110edf0a674d49b97ead5f01854f50\n",
       "4     https://www.assets.signify.com/is/content/Signify/04110edf0a674d49b97ead5f01854f50\n",
       "5     https://www.assets.signify.com/is/content/Signify/04110edf0a674d49b97ead5f01854f50\n",
       "40                                   https://www.usailighting.com/site/view.php?id=42450\n",
       "41                                   https://www.usailighting.com/site/view.php?id=42450\n",
       "57                                   https://www.usailighting.com/site/view.php?id=42927\n",
       "58                                   https://www.usailighting.com/site/view.php?id=42927\n",
       "59                                   https://www.usailighting.com/site/view.php?id=42928\n",
       "70                                    https://www.usailighting.com/site/view.php?id=5902\n",
       "71                                    https://www.usailighting.com/site/view.php?id=5902\n",
       "Name: url, dtype: object"
      ]
     },
     "execution_count": 14,
     "metadata": {},
     "output_type": "execute_result"
    }
   ],
   "source": [
    "test_data.loc[((test_data['is_lighting'] == 0)&(test_data['model_prediction'] == True)), 'url']"
   ]
  },
  {
   "cell_type": "markdown",
   "id": "9cbe4650-7f8b-4d52-9320-18b21617672c",
   "metadata": {},
   "source": [
    "### observing false negatives"
   ]
  },
  {
   "cell_type": "code",
   "execution_count": 13,
   "id": "7ee7f9a8-934d-404f-8742-4971e86bc213",
   "metadata": {},
   "outputs": [
    {
     "data": {
      "text/plain": [
       "7                                                  https://www.assets.signify.com/is/content/Signify/6f5854d9da7f40858c29ad41007d0a7f\n",
       "8                                                  https://www.assets.signify.com/is/content/Signify/6f5854d9da7f40858c29ad41007d0a7f\n",
       "9                                                  https://www.assets.signify.com/is/content/Signify/6f5854d9da7f40858c29ad41007d0a7f\n",
       "15                                                 https://www.assets.signify.com/is/content/Signify/ac1049ecda8c4cf98458ad41006cbaf0\n",
       "16    https://www.cooperlighting.com/api/assets/v1/file/CLS/content/1c22383ce4764a2da7deadbb010bd4e7/1c22383ce4764a2da7deadbb010bd4e7\n",
       "17    https://www.cooperlighting.com/api/assets/v1/file/CLS/content/1c22383ce4764a2da7deadbb010bd4e7/1c22383ce4764a2da7deadbb010bd4e7\n",
       "18    https://www.cooperlighting.com/api/assets/v1/file/CLS/content/1c22383ce4764a2da7deadbb010bd4e7/1c22383ce4764a2da7deadbb010bd4e7\n",
       "26                                                                                https://www.usailighting.com/site/view.php?id=21834\n",
       "Name: url, dtype: object"
      ]
     },
     "execution_count": 13,
     "metadata": {},
     "output_type": "execute_result"
    }
   ],
   "source": [
    "test_data.loc[((test_data['is_lighting'] == 1)&(test_data['model_prediction'] == False)), 'url']"
   ]
  },
  {
   "cell_type": "code",
   "execution_count": null,
   "id": "c80b8dd6-425a-4f97-b539-b1eaf9c3920f",
   "metadata": {},
   "outputs": [],
   "source": []
  }
 ],
 "metadata": {
  "kernelspec": {
   "display_name": "lclassifier_env",
   "language": "python",
   "name": "lclassifier_env"
  },
  "language_info": {
   "codemirror_mode": {
    "name": "ipython",
    "version": 3
   },
   "file_extension": ".py",
   "mimetype": "text/x-python",
   "name": "python",
   "nbconvert_exporter": "python",
   "pygments_lexer": "ipython3",
   "version": "3.10.13"
  }
 },
 "nbformat": 4,
 "nbformat_minor": 5
}
