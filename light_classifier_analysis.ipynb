{
 "cells": [
  {
   "cell_type": "markdown",
   "id": "430ed3b3-0ce9-4237-8f50-ca7f6b20b61a",
   "metadata": {},
   "source": [
    "#### Data Science Assignment \n",
    "\n",
    "Assignment Description\n",
    "\n",
    "As part of enhancing product understanding, we seek to determine if a product document pertains to a lighting product or not. Your initial task as a Data Scientist is to construct a model for classifying a product PDF page into either a lighting or non-lighting product.\n",
    "\n",
    "\n",
    "Data Description:\n",
    "Training Data\n",
    "The provided training data is a CSV file named `parspec_train_data.csv`, comprising three columns, serving as your training dataset.\n",
    "ID: PDF ID\n",
    "URL: The URL where the PDF is hosted; you are required to download the PDFs from this source.\n",
    "Is Lighting Product? - Gold Label\n",
    "\n",
    "\n",
    "Test Data: `parspec_test_data.csv`\n",
    "\n",
    "\n",
    "\n",
    "\n",
    "The Task:\n",
    "1. Construct a pipeline to extract text from PDFs.\n",
    "2. Develop a model for predicting the product type, i.e., whether it is a lighting or non-lighting product.\n",
    "3. Establish an inference pipeline where any user can input a PDF URL, and the pipeline should return the label (lighting or non-lighting) along with class probabilities. This can be achieved by either creating a small function or developing a hosted pipeline.\n",
    "4. Make predictions on the test data\t\t\t\t\n",
    "\t\t\t\t\t\t\n",
    "Deliverables\n",
    "\n",
    "\n",
    "The following must be submitted:\n",
    "Code that you wrote to solve the problem\n",
    "Inference pipeline function or hosted app link \n",
    "And, answer to the below questions:\n",
    "How long did it take to solve the problem?\n",
    "Explain your solution?\n",
    "Which model did you use and why?\n",
    "Any shortcomings and how can we improve the performance?\n",
    "Report your accuracy on test data\n",
    "\t\t\t\t\t\n",
    "\t\t\t\t\n",
    "\t\t\t\n",
    "\t\t\n",
    "\n"
   ]
  },
  {
   "cell_type": "code",
   "execution_count": 1,
   "id": "4c7d1885-0e1c-4f7e-b1be-9d6347c2742a",
   "metadata": {
    "scrolled": true
   },
   "outputs": [
    {
     "name": "stderr",
     "output_type": "stream",
     "text": [
      "/Users/varshinibalaji/Documents/DSProjects/product_classifier/lclassifier_env/lib/python3.10/site-packages/tqdm/auto.py:21: TqdmWarning: IProgress not found. Please update jupyter and ipywidgets. See https://ipywidgets.readthedocs.io/en/stable/user_install.html\n",
      "  from .autonotebook import tqdm as notebook_tqdm\n"
     ]
    }
   ],
   "source": [
    "import os\n",
    "import pickle\n",
    "import requests\n",
    "from bs4 import BeautifulSoup\n",
    "from functools import lru_cache\n",
    "from tqdm import tqdm\n",
    "\n",
    "import pandas as pd\n",
    "import numpy as np\n",
    "\n",
    "# NLP Libraries\n",
    "import spacy\n",
    "import nltk\n",
    "from transformers import AutoTokenizer, AutoModel\n",
    "\n",
    "# Machine Learning Libraries\n",
    "from sklearn.feature_extraction.text import TfidfVectorizer\n",
    "from sklearn.linear_model import LogisticRegression\n",
    "from sklearn.preprocessing import StandardScaler, LabelEncoder\n",
    "from sklearn.model_selection import train_test_split\n",
    "from sklearn.metrics import accuracy_score, precision_score, recall_score\n",
    "\n",
    "# OpenAI Libraries\n",
    "import openai\n",
    "\n",
    "# PDF Processing\n",
    "import fitz\n",
    "from PyPDF2 import PdfFileReader\n",
    "\n",
    "# External Libraries\n",
    "from llama_cpp import Llama\n",
    "from dotenv import load_dotenv, find_dotenv\n"
   ]
  },
  {
   "cell_type": "code",
   "execution_count": 108,
   "id": "7c683351-12bd-4997-9a59-d2cca5668224",
   "metadata": {},
   "outputs": [],
   "source": [
    "# load training data\n",
    "train_data = pd.read_csv(\"data/parspec_train_data.csv\")"
   ]
  },
  {
   "cell_type": "code",
   "execution_count": 293,
   "id": "c911dd1b-0578-4496-91ba-afd2eba53a7f",
   "metadata": {},
   "outputs": [
    {
     "data": {
      "text/html": [
       "<div>\n",
       "<style scoped>\n",
       "    .dataframe tbody tr th:only-of-type {\n",
       "        vertical-align: middle;\n",
       "    }\n",
       "\n",
       "    .dataframe tbody tr th {\n",
       "        vertical-align: top;\n",
       "    }\n",
       "\n",
       "    .dataframe thead th {\n",
       "        text-align: right;\n",
       "    }\n",
       "</style>\n",
       "<table border=\"1\" class=\"dataframe\">\n",
       "  <thead>\n",
       "    <tr style=\"text-align: right;\">\n",
       "      <th></th>\n",
       "      <th>ID</th>\n",
       "      <th>URL</th>\n",
       "      <th>Is lighting product?</th>\n",
       "    </tr>\n",
       "  </thead>\n",
       "  <tbody>\n",
       "    <tr>\n",
       "      <th>0</th>\n",
       "      <td>P-0</td>\n",
       "      <td>https://a4b6eb24...</td>\n",
       "      <td>Yes</td>\n",
       "    </tr>\n",
       "    <tr>\n",
       "      <th>1</th>\n",
       "      <td>P-1</td>\n",
       "      <td>https://a4b6eb24...</td>\n",
       "      <td>Yes</td>\n",
       "    </tr>\n",
       "    <tr>\n",
       "      <th>2</th>\n",
       "      <td>P-2</td>\n",
       "      <td>https://myelektr...</td>\n",
       "      <td>Yes</td>\n",
       "    </tr>\n",
       "    <tr>\n",
       "      <th>3</th>\n",
       "      <td>P-3</td>\n",
       "      <td>https://myelektr...</td>\n",
       "      <td>Yes</td>\n",
       "    </tr>\n",
       "    <tr>\n",
       "      <th>4</th>\n",
       "      <td>P-4</td>\n",
       "      <td>https://myelektr...</td>\n",
       "      <td>Yes</td>\n",
       "    </tr>\n",
       "  </tbody>\n",
       "</table>\n",
       "</div>"
      ],
      "text/plain": [
       "    ID                  URL Is lighting product?\n",
       "0  P-0  https://a4b6eb24...                  Yes\n",
       "1  P-1  https://a4b6eb24...                  Yes\n",
       "2  P-2  https://myelektr...                  Yes\n",
       "3  P-3  https://myelektr...                  Yes\n",
       "4  P-4  https://myelektr...                  Yes"
      ]
     },
     "execution_count": 293,
     "metadata": {},
     "output_type": "execute_result"
    }
   ],
   "source": [
    "train_data.head()"
   ]
  },
  {
   "cell_type": "code",
   "execution_count": 14,
   "id": "069de4a8-f5ae-4655-9081-5a692ad7fc44",
   "metadata": {},
   "outputs": [],
   "source": [
    "train_data.columns = ['id', 'url', 'is_lighting']"
   ]
  },
  {
   "cell_type": "code",
   "execution_count": 15,
   "id": "12802bf5-2604-49e5-8f3f-ce4071a88f9d",
   "metadata": {},
   "outputs": [
    {
     "data": {
      "text/plain": [
       "'https://a4b6eb24-cef6-4be0-88b1-aa225dd7e4f7.usrfiles.com/ugd/a4b6eb_617bfed66731495e997bcacd789777ad.pdf'"
      ]
     },
     "execution_count": 15,
     "metadata": {},
     "output_type": "execute_result"
    }
   ],
   "source": [
    "train_data.iloc[0]['url']"
   ]
  },
  {
   "cell_type": "code",
   "execution_count": 16,
   "id": "6c782589-68b9-45e2-8b47-7261027cbf88",
   "metadata": {},
   "outputs": [],
   "source": [
    "parsed_urls = pd.read_pickle(\"data/parsed_text_580.pkl\")\n",
    "\n",
    "urls = list(parsed_urls['parsed_text'].to_numpy())"
   ]
  },
  {
   "cell_type": "code",
   "execution_count": 17,
   "id": "69365505-1486-4810-8823-921ff4e28ce4",
   "metadata": {},
   "outputs": [
    {
     "data": {
      "text/plain": [
       "584"
      ]
     },
     "execution_count": 17,
     "metadata": {},
     "output_type": "execute_result"
    }
   ],
   "source": [
    "len(urls)"
   ]
  },
  {
   "cell_type": "code",
   "execution_count": 10,
   "id": "cb2d307c-10fb-42fc-baa2-90d6a5013947",
   "metadata": {},
   "outputs": [
    {
     "name": "stderr",
     "output_type": "stream",
     "text": [
      "/Users/varshinibalaji/anaconda3/envs/pdf_env/lib/python3.12/site-packages/tqdm/auto.py:21: TqdmWarning: IProgress not found. Please update jupyter and ipywidgets. See https://ipywidgets.readthedocs.io/en/stable/user_install.html\n",
      "  from .autonotebook import tqdm as notebook_tqdm\n"
     ]
    }
   ],
   "source": [
    "from bs4 import BeautifulSoup\n",
    "import requests\n",
    "import fitz\n",
    "import swifter\n",
    "from tqdm import tqdm\n",
    "\n",
    "def parse_pdf_from_url(pdf_url):\n",
    "    response = requests.get(pdf_url)\n",
    "    if response.status_code == 200:\n",
    "        pdf_bytes = response.content\n",
    "        pdf_document = fitz.open(stream=pdf_bytes, filetype=\"pdf\")\n",
    "        # Extract text from each page\n",
    "        pdf_text = \"\"\n",
    "        for page_number in range(pdf_document.page_count):\n",
    "            page = pdf_document[page_number]\n",
    "            pdf_text += page.get_text()\n",
    "        pdf_document.close()\n",
    "    else:\n",
    "        pdf_text = None\n",
    "    return pdf_text\n",
    "\n",
    "# parsed_text = parse_pdf_from_url(pdf_url)\n",
    "\n",
    "train_docs = train_data.to_dict(\"records\")\n",
    "# urls = []\n",
    "\n",
    "# for doc in tqdm(train_docs[584:]:\n",
    "#      urls.append(parse_pdf_from_url(doc['url']))"
   ]
  },
  {
   "cell_type": "code",
   "execution_count": 33,
   "id": "10951cb4-01b7-4d88-815d-3ed2943e687b",
   "metadata": {
    "collapsed": true,
    "jupyter": {
     "outputs_hidden": true
    },
    "scrolled": true
   },
   "outputs": [
    {
     "name": "stderr",
     "output_type": "stream",
     "text": [
      "  0%|                                           | 1/429 [00:01<09:12,  1.29s/it]"
     ]
    },
    {
     "name": "stdout",
     "output_type": "stream",
     "text": [
      "HTTPSConnectionPool(host='cms.buzzi.space', port=443): Max retries exceeded with url: /files/attachments/.10434/6172_Buzzispace_Curtains_Bracks_20210714_LR_WIP.pdf (Caused by SSLError(CertificateError(\"hostname 'cms.buzzi.space' doesn't match either of '*.l27powered.eu', 'l27powered.eu'\")))\n"
     ]
    },
    {
     "name": "stderr",
     "output_type": "stream",
     "text": [
      "  0%|▏                                          | 2/429 [00:02<08:29,  1.19s/it]"
     ]
    },
    {
     "name": "stdout",
     "output_type": "stream",
     "text": [
      "HTTPSConnectionPool(host='cms.buzzi.space', port=443): Max retries exceeded with url: /files/attachments/.10505/6209_PSS_BuzziNordic_ST600_v01.pdf (Caused by SSLError(CertificateError(\"hostname 'cms.buzzi.space' doesn't match either of '*.l27powered.eu', 'l27powered.eu'\")))\n"
     ]
    },
    {
     "name": "stderr",
     "output_type": "stream",
     "text": [
      "  1%|▎                                          | 3/429 [00:03<07:29,  1.05s/it]"
     ]
    },
    {
     "name": "stdout",
     "output_type": "stream",
     "text": [
      "HTTPSConnectionPool(host='cms.buzzi.space', port=443): Max retries exceeded with url: /files/attachments/.11231/6348_PSS_BuzziK_v02.pdf (Caused by SSLError(CertificateError(\"hostname 'cms.buzzi.space' doesn't match either of '*.l27powered.eu', 'l27powered.eu'\")))\n"
     ]
    },
    {
     "name": "stderr",
     "output_type": "stream",
     "text": [
      "  1%|▍                                          | 4/429 [00:04<07:45,  1.10s/it]"
     ]
    },
    {
     "name": "stdout",
     "output_type": "stream",
     "text": [
      "HTTPSConnectionPool(host='cms.buzzi.space', port=443): Max retries exceeded with url: /files/attachments/.11232/6349_PSS_BuzziQ_v02.pdf (Caused by SSLError(CertificateError(\"hostname 'cms.buzzi.space' doesn't match either of '*.l27powered.eu', 'l27powered.eu'\")))\n"
     ]
    },
    {
     "name": "stderr",
     "output_type": "stream",
     "text": [
      "  1%|▌                                          | 5/429 [00:05<08:03,  1.14s/it]"
     ]
    },
    {
     "name": "stdout",
     "output_type": "stream",
     "text": [
      "HTTPSConnectionPool(host='cms.buzzi.space', port=443): Max retries exceeded with url: /files/attachments/.11736/6550_PSS_BuzziBreeze_v11.pdf (Caused by SSLError(CertificateError(\"hostname 'cms.buzzi.space' doesn't match either of '*.l27powered.eu', 'l27powered.eu'\")))\n"
     ]
    },
    {
     "name": "stderr",
     "output_type": "stream",
     "text": [
      "  1%|▌                                          | 6/429 [00:06<07:35,  1.08s/it]"
     ]
    },
    {
     "name": "stdout",
     "output_type": "stream",
     "text": [
      "HTTPSConnectionPool(host='cms.buzzi.space', port=443): Max retries exceeded with url: /files/attachments/.11758/6563_PSS_BuzziTwist_v05.pdf (Caused by SSLError(CertificateError(\"hostname 'cms.buzzi.space' doesn't match either of '*.l27powered.eu', 'l27powered.eu'\")))\n"
     ]
    },
    {
     "name": "stderr",
     "output_type": "stream",
     "text": [
      "  2%|▋                                          | 7/429 [00:07<07:04,  1.01s/it]"
     ]
    },
    {
     "name": "stdout",
     "output_type": "stream",
     "text": [
      "HTTPSConnectionPool(host='cms.buzzi.space', port=443): Max retries exceeded with url: /files/attachments/.11862/6620_PSS_BuzziCube_3D_v12.pdf (Caused by SSLError(CertificateError(\"hostname 'cms.buzzi.space' doesn't match either of '*.l27powered.eu', 'l27powered.eu'\")))\n"
     ]
    },
    {
     "name": "stderr",
     "output_type": "stream",
     "text": [
      "  2%|▊                                          | 8/429 [00:08<06:35,  1.06it/s]"
     ]
    },
    {
     "name": "stdout",
     "output_type": "stream",
     "text": [
      "HTTPSConnectionPool(host='cms.buzzi.space', port=443): Max retries exceeded with url: /files/attachments/.11885/6623_PSS_BuzziRugs_v06.pdf (Caused by SSLError(CertificateError(\"hostname 'cms.buzzi.space' doesn't match either of '*.l27powered.eu', 'l27powered.eu'\")))\n"
     ]
    },
    {
     "name": "stderr",
     "output_type": "stream",
     "text": [
      "  2%|▉                                          | 9/429 [00:09<06:38,  1.05it/s]"
     ]
    },
    {
     "name": "stdout",
     "output_type": "stream",
     "text": [
      "HTTPSConnectionPool(host='cms.buzzi.space', port=443): Max retries exceeded with url: /files/attachments/.11963/6657_PSS_BuzziBrickBack_v13.pdf (Caused by SSLError(CertificateError(\"hostname 'cms.buzzi.space' doesn't match either of '*.l27powered.eu', 'l27powered.eu'\")))\n"
     ]
    },
    {
     "name": "stderr",
     "output_type": "stream",
     "text": [
      "  2%|▉                                         | 10/429 [00:10<06:58,  1.00it/s]"
     ]
    },
    {
     "name": "stdout",
     "output_type": "stream",
     "text": [
      "HTTPSConnectionPool(host='cms.buzzi.space', port=443): Max retries exceeded with url: /files/attachments/.11964/6658_PSS_BrickBack_Architectural_v11.pdf (Caused by SSLError(CertificateError(\"hostname 'cms.buzzi.space' doesn't match either of '*.l27powered.eu', 'l27powered.eu'\")))\n"
     ]
    },
    {
     "name": "stderr",
     "output_type": "stream",
     "text": [
      " 64%|██████████████████████████               | 273/429 [12:39<03:30,  1.35s/it]"
     ]
    },
    {
     "name": "stdout",
     "output_type": "stream",
     "text": [
      "Invalid URL 'nan': No scheme supplied. Perhaps you meant https://nan?\n",
      "Invalid URL 'nan': No scheme supplied. Perhaps you meant https://nan?\n",
      "Invalid URL 'nan': No scheme supplied. Perhaps you meant https://nan?\n",
      "Invalid URL 'nan': No scheme supplied. Perhaps you meant https://nan?\n",
      "Invalid URL 'nan': No scheme supplied. Perhaps you meant https://nan?\n",
      "Invalid URL 'nan': No scheme supplied. Perhaps you meant https://nan?\n",
      "Invalid URL 'nan': No scheme supplied. Perhaps you meant https://nan?\n",
      "Invalid URL 'nan': No scheme supplied. Perhaps you meant https://nan?\n"
     ]
    },
    {
     "name": "stderr",
     "output_type": "stream",
     "text": [
      " 72%|█████████████████████████████▌           | 309/429 [13:34<03:10,  1.59s/it]"
     ]
    },
    {
     "name": "stdout",
     "output_type": "stream",
     "text": [
      "No connection adapters were found for 'thttps://www.flo.com/wp-content/uploads/2023/02/FLO_CoRe-MAX_Ordering-Guide_V.1.0.1_2022-11-28-2022_US_EN.pdf'\n"
     ]
    },
    {
     "name": "stderr",
     "output_type": "stream",
     "text": [
      " 80%|████████████████████████████████▋        | 342/429 [15:55<06:44,  4.65s/it]"
     ]
    },
    {
     "name": "stdout",
     "output_type": "stream",
     "text": [
      "Invalid URL 'nan': No scheme supplied. Perhaps you meant https://nan?\n"
     ]
    },
    {
     "name": "stderr",
     "output_type": "stream",
     "text": [
      " 80%|████████████████████████████████▉        | 344/429 [15:59<04:55,  3.47s/it]"
     ]
    },
    {
     "name": "stdout",
     "output_type": "stream",
     "text": [
      "Invalid URL 'nan': No scheme supplied. Perhaps you meant https://nan?\n"
     ]
    },
    {
     "name": "stderr",
     "output_type": "stream",
     "text": [
      " 81%|█████████████████████████████████▎       | 349/429 [16:18<05:38,  4.23s/it]"
     ]
    },
    {
     "name": "stdout",
     "output_type": "stream",
     "text": [
      "Invalid URL 'nan': No scheme supplied. Perhaps you meant https://nan?\n",
      "Invalid URL 'nan': No scheme supplied. Perhaps you meant https://nan?\n",
      "Invalid URL 'nan': No scheme supplied. Perhaps you meant https://nan?\n"
     ]
    },
    {
     "name": "stderr",
     "output_type": "stream",
     "text": [
      "100%|█████████████████████████████████████████| 429/429 [22:00<00:00,  3.08s/it]\n"
     ]
    }
   ],
   "source": [
    "import time\n",
    "\n",
    "parsed_urls = pd.read_pickle(\"data/parsed_text_580.pkl\")\n",
    "\n",
    "urls = list(parsed_urls['parsed_text'].to_numpy())\n",
    "\n",
    "for doc in tqdm(train_docs[584:]):\n",
    "    try:\n",
    "     urls.append(parse_pdf_from_url(doc['url']))\n",
    "    except Exception as e:\n",
    "        print(e)\n",
    "        urls.append(None)"
   ]
  },
  {
   "cell_type": "code",
   "execution_count": 34,
   "id": "5b351e32-9987-49f8-8757-3a7adb1fa05d",
   "metadata": {},
   "outputs": [
    {
     "data": {
      "text/plain": [
       "1013"
      ]
     },
     "execution_count": 34,
     "metadata": {},
     "output_type": "execute_result"
    }
   ],
   "source": [
    "len(urls)"
   ]
  },
  {
   "cell_type": "code",
   "execution_count": 35,
   "id": "6d81c367-bc1e-448a-92ed-c3cebcdcb989",
   "metadata": {
    "scrolled": true
   },
   "outputs": [
    {
     "data": {
      "text/plain": [
       "1013"
      ]
     },
     "execution_count": 35,
     "metadata": {},
     "output_type": "execute_result"
    }
   ],
   "source": [
    "len(train_docs)"
   ]
  },
  {
   "cell_type": "code",
   "execution_count": 37,
   "id": "cd411f3b-85e5-4e48-98bb-ecc3b3240c32",
   "metadata": {},
   "outputs": [],
   "source": [
    "df = pd.DataFrame({'parsed_text': urls})"
   ]
  },
  {
   "cell_type": "code",
   "execution_count": 44,
   "id": "fe0dbc1b-143c-4e6e-862f-4277b4478d83",
   "metadata": {},
   "outputs": [],
   "source": [
    "train_data_with_parsed_text = train_data.join(df)"
   ]
  },
  {
   "cell_type": "code",
   "execution_count": 45,
   "id": "21c4ae2e-df40-480e-a6a4-3b56d7cad8f7",
   "metadata": {},
   "outputs": [],
   "source": [
    "train_data_with_parsed_text.to_pickle(\"data/train_data_with_parsed_text.pkl\")"
   ]
  },
  {
   "cell_type": "code",
   "execution_count": 21,
   "id": "4830beba-b7a4-42bf-bf44-bd74503a6e48",
   "metadata": {},
   "outputs": [
    {
     "data": {
      "text/plain": [
       "(1013, 4)"
      ]
     },
     "execution_count": 21,
     "metadata": {},
     "output_type": "execute_result"
    }
   ],
   "source": [
    "train_data_with_parsed_text = pd.read_pickle(\"data/train_data_with_parsed_text.pkl\")\n",
    "train_data_with_parsed_text.shape"
   ]
  },
  {
   "cell_type": "code",
   "execution_count": 22,
   "id": "4d4e7895-fec0-45f0-b666-ca980ab86a4e",
   "metadata": {
    "scrolled": true
   },
   "outputs": [
    {
     "data": {
      "text/html": [
       "<div>\n",
       "<style scoped>\n",
       "    .dataframe tbody tr th:only-of-type {\n",
       "        vertical-align: middle;\n",
       "    }\n",
       "\n",
       "    .dataframe tbody tr th {\n",
       "        vertical-align: top;\n",
       "    }\n",
       "\n",
       "    .dataframe thead th {\n",
       "        text-align: right;\n",
       "    }\n",
       "</style>\n",
       "<table border=\"1\" class=\"dataframe\">\n",
       "  <thead>\n",
       "    <tr style=\"text-align: right;\">\n",
       "      <th></th>\n",
       "      <th>id</th>\n",
       "      <th>url</th>\n",
       "      <th>is_lighting</th>\n",
       "      <th>parsed_text</th>\n",
       "    </tr>\n",
       "  </thead>\n",
       "  <tbody>\n",
       "    <tr>\n",
       "      <th>0</th>\n",
       "      <td>P-0</td>\n",
       "      <td>https://a4b6eb24-cef6-4be0-88b1-aa225dd7e4f7.u...</td>\n",
       "      <td>Yes</td>\n",
       "      <td>FEATURES\\n•Different color and beam configurat...</td>\n",
       "    </tr>\n",
       "    <tr>\n",
       "      <th>1</th>\n",
       "      <td>P-1</td>\n",
       "      <td>https://a4b6eb24-cef6-4be0-88b1-aa225dd7e4f7.u...</td>\n",
       "      <td>Yes</td>\n",
       "      <td>Recommended Use:\\n•Architectural\\n•Landscaping...</td>\n",
       "    </tr>\n",
       "    <tr>\n",
       "      <th>2</th>\n",
       "      <td>P-2</td>\n",
       "      <td>https://myelektralite.com/assets/1018-AI-Outdo...</td>\n",
       "      <td>Yes</td>\n",
       "      <td>None</td>\n",
       "    </tr>\n",
       "    <tr>\n",
       "      <th>3</th>\n",
       "      <td>P-3</td>\n",
       "      <td>https://myelektralite.com/assets/1018-Data-She...</td>\n",
       "      <td>Yes</td>\n",
       "      <td>None</td>\n",
       "    </tr>\n",
       "    <tr>\n",
       "      <th>4</th>\n",
       "      <td>P-4</td>\n",
       "      <td>https://myelektralite.com/assets/1018AI-Data-S...</td>\n",
       "      <td>Yes</td>\n",
       "      <td>None</td>\n",
       "    </tr>\n",
       "  </tbody>\n",
       "</table>\n",
       "</div>"
      ],
      "text/plain": [
       "    id                                                url is_lighting  \\\n",
       "0  P-0  https://a4b6eb24-cef6-4be0-88b1-aa225dd7e4f7.u...         Yes   \n",
       "1  P-1  https://a4b6eb24-cef6-4be0-88b1-aa225dd7e4f7.u...         Yes   \n",
       "2  P-2  https://myelektralite.com/assets/1018-AI-Outdo...         Yes   \n",
       "3  P-3  https://myelektralite.com/assets/1018-Data-She...         Yes   \n",
       "4  P-4  https://myelektralite.com/assets/1018AI-Data-S...         Yes   \n",
       "\n",
       "                                         parsed_text  \n",
       "0  FEATURES\\n•Different color and beam configurat...  \n",
       "1  Recommended Use:\\n•Architectural\\n•Landscaping...  \n",
       "2                                               None  \n",
       "3                                               None  \n",
       "4                                               None  "
      ]
     },
     "execution_count": 22,
     "metadata": {},
     "output_type": "execute_result"
    }
   ],
   "source": [
    "train_data_with_parsed_text.head()"
   ]
  },
  {
   "cell_type": "markdown",
   "id": "e0df12bf-6427-4e70-bfa9-7b84c05a09ae",
   "metadata": {},
   "source": [
    "cases where the pdf cannot be parsed or parsed_text = None, are cases where the pdf url cannot be opened"
   ]
  },
  {
   "cell_type": "code",
   "execution_count": 23,
   "id": "aad492b0-bb6d-4b67-98db-45ee4810962c",
   "metadata": {},
   "outputs": [
    {
     "data": {
      "text/plain": [
       "139"
      ]
     },
     "execution_count": 23,
     "metadata": {},
     "output_type": "execute_result"
    }
   ],
   "source": [
    "# no of links cannot be loaded\n",
    "len(train_data_with_parsed_text.loc[train_data_with_parsed_text['parsed_text'].isnull()==True])"
   ]
  },
  {
   "cell_type": "code",
   "execution_count": 24,
   "id": "76553232-184e-4929-af14-a4a9babb5698",
   "metadata": {},
   "outputs": [
    {
     "data": {
      "text/plain": [
       "874"
      ]
     },
     "execution_count": 24,
     "metadata": {},
     "output_type": "execute_result"
    }
   ],
   "source": [
    "# no of links can be loaded\n",
    "len(train_data_with_parsed_text.loc[train_data_with_parsed_text['parsed_text'].isnull()==False])"
   ]
  },
  {
   "cell_type": "code",
   "execution_count": 512,
   "id": "821f3711-f2e0-4d41-abba-f9a778a03bb4",
   "metadata": {},
   "outputs": [],
   "source": [
    "# since the no of cases without the parseable pdf link is less fraction, we can drop those records\n",
    "\n",
    "train_data_with_parsed_text_filtered = train_data_with_parsed_text.loc[train_data_with_parsed_text['parsed_text'].isnull()==False]\n",
    "\n",
    "train_data_with_parsed_text_filtered.loc[train_data_with_parsed_text_filtered['is_lighting'] == 'Yes','is_lighting' ] = 1\n",
    "train_data_with_parsed_text_filtered.loc[train_data_with_parsed_text_filtered['is_lighting'] == 'No','is_lighting' ] = 0"
   ]
  },
  {
   "cell_type": "code",
   "execution_count": 513,
   "id": "663b19e0-6bc7-407e-9bca-fefa1fea3365",
   "metadata": {
    "scrolled": true
   },
   "outputs": [
    {
     "data": {
      "text/plain": [
       "(874, 4)"
      ]
     },
     "execution_count": 513,
     "metadata": {},
     "output_type": "execute_result"
    }
   ],
   "source": [
    "train_data_with_parsed_text_filtered.shape"
   ]
  },
  {
   "cell_type": "code",
   "execution_count": 514,
   "id": "bd3fd49c-5288-4d72-a702-e0e88144fe66",
   "metadata": {
    "scrolled": true
   },
   "outputs": [
    {
     "data": {
      "text/html": [
       "<div>\n",
       "<style scoped>\n",
       "    .dataframe tbody tr th:only-of-type {\n",
       "        vertical-align: middle;\n",
       "    }\n",
       "\n",
       "    .dataframe tbody tr th {\n",
       "        vertical-align: top;\n",
       "    }\n",
       "\n",
       "    .dataframe thead th {\n",
       "        text-align: right;\n",
       "    }\n",
       "</style>\n",
       "<table border=\"1\" class=\"dataframe\">\n",
       "  <thead>\n",
       "    <tr style=\"text-align: right;\">\n",
       "      <th></th>\n",
       "      <th>id</th>\n",
       "      <th>url</th>\n",
       "      <th>is_lighting</th>\n",
       "      <th>parsed_text</th>\n",
       "    </tr>\n",
       "  </thead>\n",
       "  <tbody>\n",
       "    <tr>\n",
       "      <th>0</th>\n",
       "      <td>P-0</td>\n",
       "      <td>https://a4b6eb24...</td>\n",
       "      <td>1</td>\n",
       "      <td>FEATURES\\n•Diffe...</td>\n",
       "    </tr>\n",
       "    <tr>\n",
       "      <th>1</th>\n",
       "      <td>P-1</td>\n",
       "      <td>https://a4b6eb24...</td>\n",
       "      <td>1</td>\n",
       "      <td>Recommended Use:...</td>\n",
       "    </tr>\n",
       "    <tr>\n",
       "      <th>12</th>\n",
       "      <td>P-12</td>\n",
       "      <td>https://en.everl...</td>\n",
       "      <td>0</td>\n",
       "      <td>EVERLIGHT ELECTR...</td>\n",
       "    </tr>\n",
       "    <tr>\n",
       "      <th>13</th>\n",
       "      <td>P-13</td>\n",
       "      <td>https://en.everl...</td>\n",
       "      <td>1</td>\n",
       "      <td>\\n1  \\nCopyrigh...</td>\n",
       "    </tr>\n",
       "    <tr>\n",
       "      <th>14</th>\n",
       "      <td>P-14</td>\n",
       "      <td>https://en.everl...</td>\n",
       "      <td>1</td>\n",
       "      <td>\\n1  \\nCopyrigh...</td>\n",
       "    </tr>\n",
       "  </tbody>\n",
       "</table>\n",
       "</div>"
      ],
      "text/plain": [
       "      id                  url is_lighting          parsed_text\n",
       "0    P-0  https://a4b6eb24...           1  FEATURES\\n•Diffe...\n",
       "1    P-1  https://a4b6eb24...           1  Recommended Use:...\n",
       "12  P-12  https://en.everl...           0  EVERLIGHT ELECTR...\n",
       "13  P-13  https://en.everl...           1   \\n1  \\nCopyrigh...\n",
       "14  P-14  https://en.everl...           1   \\n1  \\nCopyrigh..."
      ]
     },
     "execution_count": 514,
     "metadata": {},
     "output_type": "execute_result"
    }
   ],
   "source": [
    "train_data_with_parsed_text_filtered.head()"
   ]
  },
  {
   "cell_type": "code",
   "execution_count": 515,
   "id": "8a4a9c9e-b4ba-4416-b19c-76fa6d3adede",
   "metadata": {},
   "outputs": [],
   "source": [
    "del train_data_with_parsed_text_filtered['id']"
   ]
  },
  {
   "cell_type": "code",
   "execution_count": 516,
   "id": "4f8da031-3265-486e-a1b3-7d5d25c54d52",
   "metadata": {
    "scrolled": true
   },
   "outputs": [
    {
     "name": "stderr",
     "output_type": "stream",
     "text": [
      "/var/folders/5p/k025km096tndpdfzbd0mhr8c0000gn/T/ipykernel_8019/1893469975.py:8: SettingWithCopyWarning: \n",
      "A value is trying to be set on a copy of a slice from a DataFrame.\n",
      "Try using .loc[row_indexer,col_indexer] = value instead\n",
      "\n",
      "See the caveats in the documentation: https://pandas.pydata.org/pandas-docs/stable/user_guide/indexing.html#returning-a-view-versus-a-copy\n",
      "  train_data_with_parsed_text_filtered['processed_text'] = train_data_with_parsed_text_filtered['parsed_text'].apply(lambda x: lowercase(x))\n",
      "/var/folders/5p/k025km096tndpdfzbd0mhr8c0000gn/T/ipykernel_8019/1893469975.py:9: SettingWithCopyWarning: \n",
      "A value is trying to be set on a copy of a slice from a DataFrame.\n",
      "Try using .loc[row_indexer,col_indexer] = value instead\n",
      "\n",
      "See the caveats in the documentation: https://pandas.pydata.org/pandas-docs/stable/user_guide/indexing.html#returning-a-view-versus-a-copy\n",
      "  train_data_with_parsed_text_filtered['parsed_lines'] = train_data_with_parsed_text_filtered['processed_text'].apply(lambda x: x.split('\\n'))\n"
     ]
    }
   ],
   "source": [
    "#preprocessing parsed_text\n",
    "def lowercase(x):\n",
    "    try:\n",
    "        return x.lower()\n",
    "    except Exception:\n",
    "        return None\n",
    "\n",
    "train_data_with_parsed_text_filtered['processed_text'] = train_data_with_parsed_text_filtered['parsed_text'].apply(lambda x: lowercase(x))\n",
    "train_data_with_parsed_text_filtered['parsed_lines'] = train_data_with_parsed_text_filtered['processed_text'].apply(lambda x: x.split('\\n'))"
   ]
  },
  {
   "cell_type": "code",
   "execution_count": 517,
   "id": "cb1bb2c0-a241-4c77-848f-6e46cf95926a",
   "metadata": {},
   "outputs": [
    {
     "name": "stderr",
     "output_type": "stream",
     "text": [
      "<>:2: SyntaxWarning: invalid escape sequence '\\.'\n",
      "<>:2: SyntaxWarning: invalid escape sequence '\\.'\n",
      "/var/folders/5p/k025km096tndpdfzbd0mhr8c0000gn/T/ipykernel_8019/1953798628.py:2: SyntaxWarning: invalid escape sequence '\\.'\n",
      "  email_pattern = re.compile(\"([a-zA-Z0-9]+[@][a-zA-Z0-9]+[\\.]{1}[a-zA-Z]{2,})\")\n"
     ]
    },
    {
     "data": {
      "text/plain": [
       "'phone:  |  |  | sales@decorsusacom'"
      ]
     },
     "execution_count": 517,
     "metadata": {},
     "output_type": "execute_result"
    }
   ],
   "source": [
    "phone_pattern = re.compile(r'([0-9\\-\\.]+)')\n",
    "email_pattern = re.compile(\"([a-zA-Z0-9]+[@][a-zA-Z0-9]+[\\.]{1}[a-zA-Z]{2,})\")\n",
    "\n",
    "re.sub(phone_pattern, '', 'phone: 866.248.6300 | 732.486.8520 |  | sales@decorsusa.com')"
   ]
  },
  {
   "cell_type": "code",
   "execution_count": 518,
   "id": "35622eb8-01ca-4f70-9656-439de0745e22",
   "metadata": {
    "scrolled": true
   },
   "outputs": [
    {
     "name": "stderr",
     "output_type": "stream",
     "text": [
      "/var/folders/5p/k025km096tndpdfzbd0mhr8c0000gn/T/ipykernel_8019/3431438861.py:51: SettingWithCopyWarning: \n",
      "A value is trying to be set on a copy of a slice from a DataFrame.\n",
      "Try using .loc[row_indexer,col_indexer] = value instead\n",
      "\n",
      "See the caveats in the documentation: https://pandas.pydata.org/pandas-docs/stable/user_guide/indexing.html#returning-a-view-versus-a-copy\n",
      "  train_data_with_parsed_text_filtered['parsed_lines'] = train_data_with_parsed_text_filtered['parsed_lines'].apply(lambda x: preprocess_text(x))\n"
     ]
    }
   ],
   "source": [
    "import re\n",
    "\n",
    "def preprocess_text(lines):\n",
    "    # Define the set of special characters and numbers to be removed from both ends\n",
    "    special_chars = ' ,;.!#1234567890'\n",
    "\n",
    "    # Define a regular expression pattern to match the specified characters at both ends\n",
    "    updated_lines = []\n",
    "    for l in lines:\n",
    "        if 'copyright' in l or 'phone' in l or 'email' in l:\n",
    "            updated_lines.append('')\n",
    "        else:\n",
    "            # Use re.sub to remove the specified characters from both ends\n",
    "             # Define a pattern to match common website formats\n",
    "            website_pattern = r'(www\\.[a-zA-Z0-9-]+(\\.[a-zA-Z]{2,})+)|(http[s]?://[a-zA-Z0-9-]+(\\.[a-zA-Z]{2,})+)'\n",
    "        \n",
    "            # Combine the patterns to match both special characters at ends and websites\n",
    "            combined_pattern = f'^[{re.escape(special_chars)}]+|[{re.escape(special_chars)}]+$|{website_pattern}'\n",
    "        \n",
    "            # Use re.sub to remove the specified characters and websites from both ends\n",
    "            processed_text = re.sub(combined_pattern, '', l)\n",
    "            processed_text = processed_text.strip(' ').strip('.').strip(':').strip('•').strip('°').strip('©').strip('-')\n",
    "\n",
    "            # removing some stop words observed\n",
    "            processed_text = processed_text.replace('ltd', '')\n",
    "            processed_text = processed_text.replace('features', '')\n",
    "            processed_text = processed_text.replace('co.', '')\n",
    "            processed_text = processed_text.replace('•', '')\n",
    "            \n",
    "            processed_text = re.sub(phone_pattern, '', processed_text)\n",
    "            processed_text = re.sub(email_pattern, '', processed_text)\n",
    "            \n",
    "            remove_special_character_pattern = re.compile(r'[^a-zA-Z0-9\\s\\.\\/,]')\n",
    "            \n",
    "            processed_text = re.sub(remove_special_character_pattern, '', processed_text)\n",
    "            processed_text = processed_text.strip(' ')\n",
    "            updated_lines.append(processed_text)\n",
    "\n",
    "    return updated_lines\n",
    "\n",
    "def remove_special_characters(text):\n",
    "    # Define a regex pattern to match non-alphanumeric and non-whitespace characters\n",
    "    pattern = re.compile(r'[^a-zA-Z0-9\\s\\.\\/,]')\n",
    "    \n",
    "    # Use the pattern to replace special characters with an empty string\n",
    "    cleaned_text = re.sub(pattern, '', text)\n",
    "    \n",
    "    return cleaned_text\n",
    "\n",
    "\n",
    "train_data_with_parsed_text_filtered['parsed_lines'] = train_data_with_parsed_text_filtered['parsed_lines'].apply(lambda x: preprocess_text(x))"
   ]
  },
  {
   "cell_type": "code",
   "execution_count": 519,
   "id": "03d292fc-6490-4594-aeb2-1b1fbdbb3eca",
   "metadata": {},
   "outputs": [
    {
     "name": "stderr",
     "output_type": "stream",
     "text": [
      "/var/folders/5p/k025km096tndpdfzbd0mhr8c0000gn/T/ipykernel_8019/731765168.py:5: SettingWithCopyWarning: \n",
      "A value is trying to be set on a copy of a slice from a DataFrame.\n",
      "Try using .loc[row_indexer,col_indexer] = value instead\n",
      "\n",
      "See the caveats in the documentation: https://pandas.pydata.org/pandas-docs/stable/user_guide/indexing.html#returning-a-view-versus-a-copy\n",
      "  train_data_with_parsed_text_filtered['parsed_lines'] = train_data_with_parsed_text_filtered['parsed_lines'].apply(lambda x: remove_empty(x))\n",
      "/var/folders/5p/k025km096tndpdfzbd0mhr8c0000gn/T/ipykernel_8019/731765168.py:7: SettingWithCopyWarning: \n",
      "A value is trying to be set on a copy of a slice from a DataFrame.\n",
      "Try using .loc[row_indexer,col_indexer] = value instead\n",
      "\n",
      "See the caveats in the documentation: https://pandas.pydata.org/pandas-docs/stable/user_guide/indexing.html#returning-a-view-versus-a-copy\n",
      "  train_data_with_parsed_text_filtered['parsed_lines'] = train_data_with_parsed_text_filtered['parsed_lines'].apply(lambda x: list(set(x)))\n"
     ]
    }
   ],
   "source": [
    "def remove_empty(x):\n",
    "    x = [i for i in x if i != '']\n",
    "    return x\n",
    "\n",
    "train_data_with_parsed_text_filtered['parsed_lines'] = train_data_with_parsed_text_filtered['parsed_lines'].apply(lambda x: remove_empty(x))\n",
    "\n",
    "train_data_with_parsed_text_filtered['parsed_lines'] = train_data_with_parsed_text_filtered['parsed_lines'].apply(lambda x: list(set(x)))"
   ]
  },
  {
   "cell_type": "code",
   "execution_count": 204,
   "id": "9c0925eb-795a-42aa-abcb-8e35f074eabe",
   "metadata": {
    "collapsed": true,
    "jupyter": {
     "outputs_hidden": true
    }
   },
   "outputs": [
    {
     "data": {
      "text/html": [
       "<div>\n",
       "<style scoped>\n",
       "    .dataframe tbody tr th:only-of-type {\n",
       "        vertical-align: middle;\n",
       "    }\n",
       "\n",
       "    .dataframe tbody tr th {\n",
       "        vertical-align: top;\n",
       "    }\n",
       "\n",
       "    .dataframe thead th {\n",
       "        text-align: right;\n",
       "    }\n",
       "</style>\n",
       "<table border=\"1\" class=\"dataframe\">\n",
       "  <thead>\n",
       "    <tr style=\"text-align: right;\">\n",
       "      <th></th>\n",
       "      <th>id</th>\n",
       "      <th>url</th>\n",
       "      <th>is_lighting</th>\n",
       "      <th>parsed_text</th>\n",
       "      <th>processed_text</th>\n",
       "      <th>parsed_lines</th>\n",
       "      <th>predict_lighting</th>\n",
       "      <th>light_phrase</th>\n",
       "    </tr>\n",
       "  </thead>\n",
       "  <tbody>\n",
       "    <tr>\n",
       "      <th>0</th>\n",
       "      <td>P-0</td>\n",
       "      <td>https://a4b6eb24-cef6-4be0-88b1-aa225dd7e4f7.usrfiles.com/ugd/a4b6eb_617bfed66731495e997bcacd789777ad.pdf</td>\n",
       "      <td>Yes</td>\n",
       "      <td>FEATURES\\n•Different color and beam configurations available.\\n•Aluminum alloy housing, high heat dissipation performance.\\n•Universal power supply.\\n•Easy Installation.\\n•3-Year Warranty.\\n•Electrical Input: 100-277 VAC\\n•ETL Listed\\n•25W\\nDECORS LED DUAL LIGHT\\nLED DUAL light\\n©Decors USA LLC\\nPhone: 866.248.6300 | 732.486.8520 | www.decorsusa.com | sales@decorsusa.com\\nAVAILABLE COLORS\\n•Blue •Green •Amber •Warm White (3000K) •Cool  White (5000K) •Red • Purple\\nDECORS LED DUAL LIGHT\\nLED DUAL light\\n©Decors USA LLC\\nPhone: 866.248.6300 | 732.486.8520 | www.decorsusa.com | sales@decorsusa.com\\n15°\\n120°\\n120°\\n150°\\n150°\\nPHOTOMETRICS\\nH(m)\\n2.00\\n5.00\\n10.00\\n15.00\\nMedlux\\n3347.2\\n546.2\\n133.9\\n33.3\\nMaxlux\\n4904.3\\n784.8\\n196.2\\n48.8\\n25°\\n120°\\n120°\\n150°\\n150°\\nH(m)\\n2.00\\n5.00\\n10.00\\n15.00\\nMedlux\\n873\\n139.5\\n34.7\\n8\\nMaxlux\\n1312.3\\n203.7\\n49.3\\n12.5\\n</td>\n",
       "      <td>features\\n•different color and beam configurations available.\\n•aluminum alloy housing, high heat dissipation performance.\\n•universal power supply.\\n•easy installation.\\n•3-year warranty.\\n•electrical input: 100-277 vac\\n•etl listed\\n•25w\\ndecors led dual light\\nled dual light\\n©decors usa llc\\nphone: 866.248.6300 | 732.486.8520 | www.decorsusa.com | sales@decorsusa.com\\navailable colors\\n•blue •green •amber •warm white (3000k) •cool  white (5000k) •red • purple\\ndecors led dual light\\nled dual light\\n©decors usa llc\\nphone: 866.248.6300 | 732.486.8520 | www.decorsusa.com | sales@decorsusa.com\\n15°\\n120°\\n120°\\n150°\\n150°\\nphotometrics\\nh(m)\\n2.00\\n5.00\\n10.00\\n15.00\\nmedlux\\n3347.2\\n546.2\\n133.9\\n33.3\\nmaxlux\\n4904.3\\n784.8\\n196.2\\n48.8\\n25°\\n120°\\n120°\\n150°\\n150°\\nh(m)\\n2.00\\n5.00\\n10.00\\n15.00\\nmedlux\\n873\\n139.5\\n34.7\\n8\\nmaxlux\\n1312.3\\n203.7\\n49.3\\n12.5\\n</td>\n",
       "      <td>[medlux, maxlux, year warranty, easy installation, universal power supply, electrical input  vac, decors led dual light, decors usa llc, photometrics, led dual light, available colors, different color and beam configurations available, hm, aluminum alloy housing, high heat dissipation performance, etl listed, w, blue green amber warm white k cool  white k red  purple]</td>\n",
       "      <td>True</td>\n",
       "      <td>decors led dual light</td>\n",
       "    </tr>\n",
       "    <tr>\n",
       "      <th>1</th>\n",
       "      <td>P-1</td>\n",
       "      <td>https://a4b6eb24-cef6-4be0-88b1-aa225dd7e4f7.usrfiles.com/ugd/a4b6eb_c53e05a13ae1462eabbdc1c66c1efbb8.pdf</td>\n",
       "      <td>Yes</td>\n",
       "      <td>Recommended Use:\\n•Architectural\\n•Landscaping\\n•General exterior lighting of\\nhotels, signs, flags, multi-unit\\nresidential, commercial, and\\ngovernment buildings.\\n24 led up light\\nDU-SQ-HW24\\nDETAILS\\nLIGHT SOURCE \\n24x Cree 1 W LED Lamps\\nPOWER CONSUMPTION \\n32W\\nBEAM WIDTH\\n25 Degree\\nMEASUREMENT \\n9-3/4”L x 7-3/4”W x 4-1/2”H\\nWEIGHT\\n17 Lbs\\n12 led DOWNlight\\nDU-SQ-HW12\\n*Includes DU-WS12 (Sconce)\\nDETAILS\\nLIGHT SOURCE \\n12x1 W Cree LED Lamps\\nPOWER CONSUMPTION \\n13W\\nBEAM WIDTH\\n15 Degree\\nMEASUREMENT \\n7-3/4”L x 6”W x 4-1/4”H\\nWEIGHT\\n13 Lbs\\n©Decors USA LLC\\nPhone: 866.248.6300 | 732.486.8520 | www.decorsusa.com | sales@decorsusa.com\\nMount for 12 LED Downlight and 24 LED UP Light\\nDECORS Hallmark LED LIGHTS\\nDETAILS\\nMEASUREMENT \\n10”W x 12”H x 5”D\\nWEIGHT\\n8 Lbs\\n• All-weather outdoor use\\n• IP65 rated.\\n• Environmental Temp. Range: -\\n7.6° to 113° F (-20° to 45° C)\\n• Electrical Input:  90-265VAC\\n• LED UP Light comes with\\nMounting Brackets\\nhallmark\\nLED LIGHTS\\nSCONCE COVERS\\nDU-WS12 &amp; DU-WS24\\nDecors USA Provides the UL Listed 12 LED and 24 LED lights in various colors:\\nCOLOR\\nWhite\\nWarm White\\nRed\\nGreen\\nBlue\\nAmber\\nPurple\\nLUMENS\\n1680 lm\\n1440 lm\\n840 lm\\n680 lm\\n600 lm\\n960 lm\\n640 lm\\nCT (WAVE LENGTH)\\n5000-7000K\\n2700-3200K\\n620-630 nm\\n520-530 nm\\n450-475 nm\\n585-595 nm\\n420-435 nm\\nPROJECTION DISTANCE: 20M Based on 24 LED lights at 32 watts total\\navailable colors\\nand illumination\\n©Decors USA LLC\\nPhone: 866.248.6300 | 732.486.8520 | www.decorsusa.com | sales@decorsusa.com\\nDECORS Hallmark LED LIGHTS\\nmounting instructions\\n©Decors USA LLC\\nPhone: 866.248.6300 | 732.486.8520 | www.decorsusa.com | sales@decorsusa.com\\nDU-SQ-HW12 with DU WS12\\nParts\\n1. 12 LED Light Fixture (DU-SQ-HW12)\\n2. Sconce Cover (DU WS12)\\n3. Fixture Mounting Screws 3/16” (2) / Sconce Cover Mount-\\ning Screws (4)\\n4. Wall Anchor Screws 3/8” (6) Not Included.\\n5. Weatherproof Junction Box, Weather Proof Cover with one\\n1/2” outlet and Weatherproof Cable Connection. Not includ-\\ned.\\nInstallation\\nCAUTION: Do not attempt to open the unit. Opening \\nthe unit will damage the factory installed water tight seal, \\nwhich will void the warranty of the fixture.\\n1. All wiring and installation should be done by a licensed\\nelectrician.\\n2. Disconnect power before installation. Please note: the\\n120-volt single phase wiring serving this fixture shall be photo\\nsensor controlled for higher energy efficiency and extended\\nlife.\\n3. Mark the location on the wall or column where the fixture\\nneeds to be installed. The location shall NOT be less than 4 ft\\nfrom ground level.\\n4. Install an exterior weatherproof junction box with 120/230\\nVolt single phase wiring appropriate for a 100-watt exterior\\nlight fixture.\\n5. Using the wall mount as a guide, mark 6 holes around\\njunction box. Drill 3/8” holes on the marked location. Attach\\nthe wall mounts using six anchor screws.\\n6. Attach the Sconce Cover with six anchor screws.\\n7. Mount the fixture using two fixture mounting screws and\\nadjust the angle for desired light effect.\\n8. Connect the fixture cable to the junction box using the\\nweatherproof cable connector. Attach a weatherproof cover\\nto the junction box. Attach Sconce Cover using four mounting\\nscrews.\\nDU-SQ-HW24\\nParts\\n1. 24 LED Light Fixture (DU-SQ-HW24)\\n2. Mounting Brackets (2)\\n3. Fixture Mounting Screws 3/16” (2)\\n4. Wall Anchor Screws 3/8” (6) Not Included.\\n5. Weatherproof Junction Box, Weather Proof Cover with\\none 1/2” outlet and Weatherproof Cable Connection. Not\\nincluded.\\nInstallation\\nCAUTION: Do not attempt to open the unit. Opening \\nthe unit will damage the factory installed water tight \\nseal, which will void the warranty of the fixture.\\n1. All wiring and installation should be done by a licensed\\nelectrician.\\n2. Disconnect power before installation. Please note: the\\n120-volt single phase wiring serving this fixture shall be\\nphoto sensor controlled for higher energy efficiency and\\nextended life.\\n3. Mark the location on the wall or column where the fixture\\nneeds to be installed. The location shall NOT be less than 4\\nft from ground level.\\n4. Install an exterior weatherproof junction box with\\n120/230 Volt single phase wiring appropriate for a 100-watt\\nexterior light fixture.\\n5. Using the mounting bracket as a guide, mark four holes\\naround junction box. Drill 3/8” holes on the marked location. \\n6. Attach the Mounting Brackets with four anchor screws.\\n7. Mount the fixture using two fixture mounting screws and\\nadjust the angle for desired light effect.\\n8. Connect the fixture cable to the junction box using the\\nweatherproof cable connector. Attach a weatherproof cover\\nto the junction box. \\nDECORS Hallmark LED LIGHTS\\nDU-cr-4/6-cwx-p\\nLIGHT DATA\\nLED \\nCREE XRE\\nLED NUMBER \\n4\\nCOLOR \\nCOOL WHITE\\nLUMEN OUTPUT \\n300 LM\\nMAX EFFICACY \\n75\\nIP RATING \\n65\\n2”\\nSupply Voltage\\nInput Frequency\\nInput Power\\nLifetime\\nPERFORMANCE PARAMETERS\\n90V ~ 132V AC\\n50/60 Hz\\n5W\\n30,000h\\nMaterial\\nSurface Treatment\\nAPPEARANCE AND MATERIAL\\nAluminum Alloy, PC\\nSilver gray painted\\nETL Listed\\nLED “X” Light\\n©Decors USA LLC\\nPhone: 866.248.6300 | 732.486.8520 | www.decorsusa.com | sales@decorsusa.com\\nDECORS Hallmark LED LIGHTS\\n6”\\n</td>\n",
       "      <td>recommended use:\\n•architectural\\n•landscaping\\n•general exterior lighting of\\nhotels, signs, flags, multi-unit\\nresidential, commercial, and\\ngovernment buildings.\\n24 led up light\\ndu-sq-hw24\\ndetails\\nlight source \\n24x cree 1 w led lamps\\npower consumption \\n32w\\nbeam width\\n25 degree\\nmeasurement \\n9-3/4”l x 7-3/4”w x 4-1/2”h\\nweight\\n17 lbs\\n12 led downlight\\ndu-sq-hw12\\n*includes du-ws12 (sconce)\\ndetails\\nlight source \\n12x1 w cree led lamps\\npower consumption \\n13w\\nbeam width\\n15 degree\\nmeasurement \\n7-3/4”l x 6”w x 4-1/4”h\\nweight\\n13 lbs\\n©decors usa llc\\nphone: 866.248.6300 | 732.486.8520 | www.decorsusa.com | sales@decorsusa.com\\nmount for 12 led downlight and 24 led up light\\ndecors hallmark led lights\\ndetails\\nmeasurement \\n10”w x 12”h x 5”d\\nweight\\n8 lbs\\n• all-weather outdoor use\\n• ip65 rated.\\n• environmental temp. range: -\\n7.6° to 113° f (-20° to 45° c)\\n• electrical input:  90-265vac\\n• led up light comes with\\nmounting brackets\\nhallmark\\nled lights\\nsconce covers\\ndu-ws12 &amp; du-ws24\\ndecors usa provides the ul listed 12 led and 24 led lights in various colors:\\ncolor\\nwhite\\nwarm white\\nred\\ngreen\\nblue\\namber\\npurple\\nlumens\\n1680 lm\\n1440 lm\\n840 lm\\n680 lm\\n600 lm\\n960 lm\\n640 lm\\nct (wave length)\\n5000-7000k\\n2700-3200k\\n620-630 nm\\n520-530 nm\\n450-475 nm\\n585-595 nm\\n420-435 nm\\nprojection distance: 20m based on 24 led lights at 32 watts total\\navailable colors\\nand illumination\\n©decors usa llc\\nphone: 866.248.6300 | 732.486.8520 | www.decorsusa.com | sales@decorsusa.com\\ndecors hallmark led lights\\nmounting instructions\\n©decors usa llc\\nphone: 866.248.6300 | 732.486.8520 | www.decorsusa.com | sales@decorsusa.com\\ndu-sq-hw12 with du ws12\\nparts\\n1. 12 led light fixture (du-sq-hw12)\\n2. sconce cover (du ws12)\\n3. fixture mounting screws 3/16” (2) / sconce cover mount-\\ning screws (4)\\n4. wall anchor screws 3/8” (6) not included.\\n5. weatherproof junction box, weather proof cover with one\\n1/2” outlet and weatherproof cable connection. not includ-\\ned.\\ninstallation\\ncaution: do not attempt to open the unit. opening \\nthe unit will damage the factory installed water tight seal, \\nwhich will void the warranty of the fixture.\\n1. all wiring and installation should be done by a licensed\\nelectrician.\\n2. disconnect power before installation. please note: the\\n120-volt single phase wiring serving this fixture shall be photo\\nsensor controlled for higher energy efficiency and extended\\nlife.\\n3. mark the location on the wall or column where the fixture\\nneeds to be installed. the location shall not be less than 4 ft\\nfrom ground level.\\n4. install an exterior weatherproof junction box with 120/230\\nvolt single phase wiring appropriate for a 100-watt exterior\\nlight fixture.\\n5. using the wall mount as a guide, mark 6 holes around\\njunction box. drill 3/8” holes on the marked location. attach\\nthe wall mounts using six anchor screws.\\n6. attach the sconce cover with six anchor screws.\\n7. mount the fixture using two fixture mounting screws and\\nadjust the angle for desired light effect.\\n8. connect the fixture cable to the junction box using the\\nweatherproof cable connector. attach a weatherproof cover\\nto the junction box. attach sconce cover using four mounting\\nscrews.\\ndu-sq-hw24\\nparts\\n1. 24 led light fixture (du-sq-hw24)\\n2. mounting brackets (2)\\n3. fixture mounting screws 3/16” (2)\\n4. wall anchor screws 3/8” (6) not included.\\n5. weatherproof junction box, weather proof cover with\\none 1/2” outlet and weatherproof cable connection. not\\nincluded.\\ninstallation\\ncaution: do not attempt to open the unit. opening \\nthe unit will damage the factory installed water tight \\nseal, which will void the warranty of the fixture.\\n1. all wiring and installation should be done by a licensed\\nelectrician.\\n2. disconnect power before installation. please note: the\\n120-volt single phase wiring serving this fixture shall be\\nphoto sensor controlled for higher energy efficiency and\\nextended life.\\n3. mark the location on the wall or column where the fixture\\nneeds to be installed. the location shall not be less than 4\\nft from ground level.\\n4. install an exterior weatherproof junction box with\\n120/230 volt single phase wiring appropriate for a 100-watt\\nexterior light fixture.\\n5. using the mounting bracket as a guide, mark four holes\\naround junction box. drill 3/8” holes on the marked location. \\n6. attach the mounting brackets with four anchor screws.\\n7. mount the fixture using two fixture mounting screws and\\nadjust the angle for desired light effect.\\n8. connect the fixture cable to the junction box using the\\nweatherproof cable connector. attach a weatherproof cover\\nto the junction box. \\ndecors hallmark led lights\\ndu-cr-4/6-cwx-p\\nlight data\\nled \\ncree xre\\nled number \\n4\\ncolor \\ncool white\\nlumen output \\n300 lm\\nmax efficacy \\n75\\nip rating \\n65\\n2”\\nsupply voltage\\ninput frequency\\ninput power\\nlifetime\\nperformance parameters\\n90v ~ 132v ac\\n50/60 hz\\n5w\\n30,000h\\nmaterial\\nsurface treatment\\nappearance and material\\naluminum alloy, pc\\nsilver gray painted\\netl listed\\nled “x” light\\n©decors usa llc\\nphone: 866.248.6300 | 732.486.8520 | www.decorsusa.com | sales@decorsusa.com\\ndecors hallmark led lights\\n6”\\n</td>\n",
       "      <td>[color, connect the fixture cable to the junction box using the, light data, led, environmental temp range, electrician, / volt single phase wiring appropriate for a watt, install an exterior weatherproof junction box with, decors hallmark led lights, decors usa llc, blue, warm white, junction box drill / holes on the marked location attach, light source, recommended use, lumens, red, w, electrical input  vac, the unit will damage the factory installed water tight seal, led up light, using the mounting bracket as a guide, mark four holes, /l x /w x /h, from ground level, includes duws sconce, lm, k, seal, which will void the warranty of the fixture, projection distance m based on  led lights at  watts total, mounting brackets , wall anchor screws /  not included, led lights, fixture mounting screws / , included, mark the location on the wall or column where the fixture, etl listed, residential, commercial, and, ct wave length, and illumination, cool white, max efficacy, to the junction box, sconce cover du ws, around junction box drill / holes on the marked location, details, lumen output, install an exterior weatherproof junction box with /, mount the fixture using two fixture mounting screws and, attach the mounting brackets with four anchor screws, volt single phase wiring appropriate for a watt exterior, h, using the wall mount as a guide, mark  holes around, v  v ac, led downlight, /l x w x /h, mounting brackets, sconce covers, adjust the angle for desired light effect, decors usa provides the ul listed  led and  led lights in various colors, fixture mounting screws /  / sconce cover mount, all wiring and installation should be done by a licensed, hotels, signs, flags, multiunit, extended life, needs to be installed the location shall not be less than, silver gray painted, which will void the warranty of the fixture, ft from ground level, volt single phase wiring serving this fixture shall be photo, ip rated, input power, beam width, ed, landscaping, weatherproof cable connector attach a weatherproof cover, led number, dusqhw, nm, dusqhw with du ws, ducr/cwxp, one / outlet and weatherproof cable connection not, caution do not attempt to open the unit opening, degree, light fixture, ing screws , installation, hallmark, life, x w cree led lamps, green, needs to be installed the location shall not be less than  ft, government buildings, cree xre, photo sensor controlled for higher energy efficiency and, lbs, measurement, purple, supply voltage, available colors, the wall mounts using six anchor screws, architectural, ...]</td>\n",
       "      <td>True</td>\n",
       "      <td>light data</td>\n",
       "    </tr>\n",
       "    <tr>\n",
       "      <th>12</th>\n",
       "      <td>P-12</td>\n",
       "      <td>https://en.everlight.com/wp-content/plugins/ItemRelationship/product_files/pdf/031-IRM-37XXT_Series_data.pdf</td>\n",
       "      <td>No</td>\n",
       "      <td>EVERLIGHT ELECTRONICS CO.,LTD. \\n  Everlight Electronics Co., Ltd.          http:\\\\www.everlight.com             Rev 1       Page: 1 of 10 \\n  Device No：SZDMO-037-031         Prepared date：31-August-2007           Prepared by： Liuyan \\nTechnical Data Sheet \\nInfrared Remote-control Receiver Module \\n \\nIRM-37xxT SERIES \\nFeatures \\n• Photo detector and preamplifier in one package \\n• Internal filter for PCM frequency \\n• Improved inner shielding against electrical field disturbance \\n• TTL and CMOS compatibility \\n• Low power consumption \\n• Improved immunity against ambient light \\n• Suitable burst length \\n≧≧10 cycles1burst\\n \\n• Pb free \\n \\n• BiCMOS manufacture IC ; ESD HBM&gt;4000V ; MM&gt;250V \\n• The product itself will remain within RoHS compliant version. \\n \\nDescriptions \\nThe IRM-37xxT is miniaturized receivers for infrared remote control systems. \\nPIN diode and preamplifier are assembled on lead frame, the epoxy package is  \\ndesigned as IR filter. The demodulated output signal can directly be decoded by \\na microprocessor.IRM-37xxT is the standard IR remote control receiver \\nseries, supporting all major transmission codes. \\n \\nApplications    \\n․Light detecting portion of remote control \\n․AV instruments such as Audio, TV, VCR, CD, MD, etc. \\n․Home appliances such as Air-conditioner, Fan , etc. \\n․The other equipments with wireless remote control. \\n․CATV set top boxes \\n․Multi-media Equipment \\n \\n \\nPART \\nMATERIAL \\nCOLOR \\nChip \\nSilicon \\nBlack \\nCompound \\nEpoxy \\nBlack \\n \\n \\n \\n \\n \\n \\n　\\nVer.:1     Release Date:09/19/2008      狀態:Approved(正式發行)\\nEVERLIGHT ELECTRONICS CO.,LTD. \\n  Everlight Electronics Co., Ltd.          http:\\\\www.everlight.com             Rev 1       Page: 2 of 10 \\n  Device No：SZDMO-037-031         Prepared date：31-August-2007           Prepared by： Liuyan \\n \\nIRM-37xxT SERIES  \\n \\nPackage Dimensions   \\n            \\n \\nUnit:mm \\nNotes:  1.All dimensions are in millimeters. \\n         2.Tolerances unless dimensions ±0.3mm. \\n \\nAvailable Types For Different Carrier Frequencies \\nType \\nCarrier Frequencies (Typ) \\nIRM-3736T \\n36 kHz \\nIRM-3738T \\n38 kHz \\nIRM-3740T \\n40 kHz \\nIRM-3756T \\n56 kHz \\n \\n　\\nVer.:1     Release Date:09/19/2008      狀態:Approved(正式發行)\\nEVERLIGHT ELECTRONICS CO.,LTD. \\n  Everlight Electronics Co., Ltd.          http:\\\\www.everlight.com             Rev 1       Page: 3 of 10 \\n  Device No：SZDMO-037-031         Prepared date：31-August-2007           Prepared by： Liuyan \\n \\nIRM-37xxT SERIES \\nAbsolute Maximum Ratings (Ta=25℃) \\nParameter \\nSymbol\\nRating \\nUnit \\nNotice \\nSupply Voltage \\nVcc \\n0~6 \\nV \\n \\nOperating Temperature \\nTopr \\n-25 ~ +80 \\n℃ \\n \\nStorage Temperature \\nTstg \\n-40 ~ +85 \\n℃ \\n \\nSoldering Temperature \\nTsol \\n260 \\n℃ \\n4mm from mold body \\nless than 10 seconds \\n \\nRecommended Operating Condition \\nSupply Voltage Rating: Vcc 2.7V to 5.5V \\nElectro-Optical Characteristics (Ta=25℃, and Vcc=3V) \\nParameter \\nSymbol\\nMIN. \\nTYP. \\nMAX.\\nUnit \\nCondition \\nConsumption Current \\nIcc \\n--- \\n1.0 \\n1.2 \\nmA \\nNo signal input\\nPeak Wavelength \\nλp \\n--- \\n940 \\n--- \\nnm \\n \\nReception Distance \\nL0 \\n14 \\n--- \\n--- \\nm \\n \\nL45 \\n6 \\n--- \\n--- \\nHalf Angle(Horizontal) \\nΘh \\n--- \\n45 \\n--- \\ndeg \\nAt the ray axis\\n*1 \\nHalf Angle(Vertical) \\nΘv \\n--- \\n45 \\n--- \\ndeg \\n \\nHigh Level Pulse Width \\nTH \\n400 \\n--- \\n800 \\nμs \\nAt the ray axis\\n*2 \\nLow Level Pulse Width \\nTL \\n400 \\n--- \\n800 \\nμs \\nHigh Level Output Voltage \\nVH \\n2.7 \\n--- \\n--- \\nV \\n \\nLow Level Output Voltage \\nVL \\n--- \\n--- \\n0.5 \\nV \\n \\nNotes: \\n*1:The ray receiving surface at a vertex and relation to the ray axis in the range of θ= 0° and θ=45°. \\n*2:A range from 30cm to the arrival distance.  Average value of 50 pulses. \\n \\n \\n \\n　\\nVer.:1     Release Date:09/19/2008      狀態:Approved(正式發行)\\nEVERLIGHT ELECTRONICS CO.,LTD. \\n  Everlight Electronics Co., Ltd.          http:\\\\www.everlight.com             Rev 1       Page: 4 of 10 \\n  Device No：SZDMO-037-031         Prepared date：31-August-2007           Prepared by： Liuyan \\n \\nIRM-37xxT SERIES \\n \\nTest Method： \\n The specified electro-optical characteristics is satisfied under the following \\n Conditions at the controllable distance. \\n \\n Measurement place \\n   A place that is nothing of extreme light reflected in the room. \\n External light \\n   Project the light of ordinary white fluorescent lamps which are not high \\n   Frequency lamps and must be less then 10 Lux at the module surface.  \\n   (Ee≦10Lux) \\n Standard transmitter \\n   A transmitter whose output is so adjusted as to Vo=400mVp-p and the output \\n   Wave form shown in Fig.-1.According to the measurement method shown in \\n   Fig.-2 the standard transmitter is specified. \\n   However , the infrared photodiode to be used for the transmitter should be \\n   λp=940nm,Δλ=50nm. Also, photodiode is used of PD438B(Vr=5V). \\n   (Standard light 1 Light source temperature 2856°K). \\n Measuring system \\n   According to the measuring system shown in Fig.-3 \\n \\nBlock Diagram： \\n \\n \\n \\n \\n \\n \\n \\n \\n \\n \\n \\n \\n \\n \\n \\n \\nModulated IR signal \\nmin 10 pulses \\nCarrier frequency f0 \\nOUT \\nIN \\nVs \\nGND \\nInput \\nCGA &amp; filter \\nDemodulator \\nOscillator \\nAGC1ATC &amp; digital control \\nµC \\n　\\nVer.:1     Release Date:09/19/2008      狀態:Approved(正式發行)\\nEVERLIGHT ELECTRONICS CO.,LTD. \\n  Everlight Electronics Co., Ltd.          http:\\\\www.everlight.com             Rev 1       Page: 5 of 10 \\n  Device No：SZDMO-037-031         Prepared date：31-August-2007           Prepared by： Liuyan \\nCarrier frequency is adjusted to \\ncenter frequency of each product.\\nIR TANSMITTER \\nOUTPUT WAVE FORM\\nOUTPUT PULSE \\nOF DEVICE\\nStandard Transmitter\\nOscilloscope\\nVout\\n10uF\\n+5.0± 0.1V\\n10k\\n20cm\\n100k\\nθ\\nθ\\nD.U.T\\nL: Transmission Distance\\nStandard Transmitter\\nGND\\nVcc\\nOUT\\nVout\\nθ: Angle Of Horizontal &amp; Vertical Direction\\n \\nIRM-37xxT SERIES \\n \\nApplication Circuit： \\n \\n \\n \\n \\n \\n \\n \\n \\n \\n \\n          RC Filter should be connected closely between Vcc pin and GND pin. \\n \\n \\n \\n \\n  Fig.-1  Transmitter Wave Form                         D.U.T output Pulse \\n \\n \\n \\n \\n \\n \\n \\n \\n \\n \\n                                            \\n \\n \\n \\n \\n \\n  Fig.-2  Measuring Method                      Fig.-3    Measuring System \\n \\n \\n \\n \\n \\n \\n \\n \\n \\n \\n \\n \\n \\n \\n \\n \\n \\n \\nDuty=0.5 \\n　\\nVer.:1     Release Date:09/19/2008      狀態:Approved(正式發行)\\nEVERLIGHT ELECTRONICS CO.,LTD. \\n  Everlight Electronics Co., Ltd.          http:\\\\www.everlight.com             Rev 1       Page: 6 of 10 \\n  Device No：SZDMO-037-031         Prepared date：31-August-2007           Prepared by： Liuyan \\n \\nIRM-37xxT SERIES \\nThe Notice of Application: \\nTransmission of remote control signal consist of four parts: Encode Part, IR Transmitter Source, \\nIRM device, Decode Part \\n \\n1. When IRM-37xxT SERIES code select frequency, it need to well understand the center system of \\nencode part. \\n2. Strong or weak light of IR Transmitter can affect distance of transmission. \\n3. When using IRM-37xxT SERIES device, it requires the composition of code pattern to reach the \\ndemand as follows:    \\nMinimum tburst \\n( number of pulses per burst) \\nMinimum tburst_gap \\n( number of pulses \\nbetween two burst) \\nMinimum tpause \\n10 pulses \\n14 pulses \\n25 msec \\n \\n4. It needs to ensure the translation range of decode part if it is applied to the pulse-width range. \\n \\nIf the above items hardly assure of its application, it’ll cause NG(no good) message from the edge \\nof signal. \\n \\nIRM-37xxT SERIES Code Property: \\nData format \\n \\nData format \\n \\nNEC \\nO \\nSony 12 Bit \\nO \\nRC5 _ Philips \\nO \\nSony 15 Bit \\nX \\nRC6 _ Philips \\nO \\nSony 20 Bit \\nX \\nRCA _ Thomson \\nX \\nMatsushita \\nO \\nToshiba \\nO \\nMitsubishi \\nO \\nSharp \\nO \\nZenith \\nO \\nJVC \\nO \\nHigh data rate  \\n (4000 bit1s) \\nX \\n　\\nVer.:1     Release Date:09/19/2008      狀態:Approved(正式發行)\\nEVERLIGHT ELECTRONICS CO.,LTD. \\n  Everlight Electronics Co., Ltd.          http:\\\\www.everlight.com             Rev 1       Page: 7 of 10 \\n  Device No：SZDMO-037-031         Prepared date：31-August-2007           Prepared by： Liuyan \\n  \\nIRM-37xxT SERIES \\nTypical Electro-Optical Characteristics Curves \\n \\nFig.-4 Relative Spectral Sensitivity vs. \\nWavelength \\nFig.-5 \\nRelative \\nTransmission \\nDistance \\nvs. \\nDirection \\n \\nAngle      (deg)\\n-20\\nRelative Transmission Distance (%)\\n-60\\n0\\n80\\n40\\n20\\n60\\n-40\\n0\\n20\\n60\\n40\\nFig.-6 Output Pulse Length vs. Arrival Distance Fig.-7 Arrival Distance vs. Supply Voltage \\n16\\nTransmission Distance Lc (m)\\n2\\n0\\n10\\n6\\n4\\n8\\n12\\n14\\nOutput Pulse Width TWL (μsec)\\n \\n \\n \\n \\nTransmission Distance Lc (m)\\n3.8\\nSupply Voltage Vcc (V)\\n2.7\\n0\\n3.3\\n3.0\\n3.5\\n4.1 4.4\\n4.7\\n5.0 5.3\\n5.5\\n17.5\\n10.5\\n7.0\\n3.5\\n　\\nVer.:1     Release Date:09/19/2008      狀態:Approved(正式發行)\\nEVERLIGHT ELECTRONICS CO.,LTD. \\n  Everlight Electronics Co., Ltd.          http:\\\\www.everlight.com             Rev 1       Page: 8 of 10 \\n  Device No：SZDMO-037-031         Prepared date：31-August-2007           Prepared by： Liuyan \\nRelative Transmission Distance (%)\\nCenter Carrier Frequency  (kHz)\\nRelative Transmission Distance (%)\\nCenter Carrier Frequency  (kHz)\\n \\nIRM-37xxT SERIES \\n \\nTypical Electro-Optical Characteristics Curves \\nFig.-8 Relative Transmission Distance vs. Center Carrier Frequency \\n \\n                IRM-3736T                               IRM-3738T \\n                   \\n \\n \\n                 IRM-3740T                               IRM-3756T \\n                                              \\n \\n \\n \\n \\n \\n \\n　\\nVer.:1     Release Date:09/19/2008      狀態:Approved(正式發行)\\nEVERLIGHT ELECTRONICS CO.,LTD. \\n  Everlight Electronics Co., Ltd.          http:\\\\www.everlight.com             Rev 1       Page: 9 of 10 \\n  Device No：SZDMO-037-031         Prepared date：31-August-2007           Prepared by： Liuyan \\nAmbient Temperature Ta (°C)\\n7.0\\n3.5\\n14.0\\n10.5\\n17.5\\nTransmission Distance Lc (m)\\n \\nIRM-37xxT SERIES \\nTypical Electro-Optical Characteristics Curves \\nFig.-9 Arrival Distance vs. Ambient Temperature \\n \\n \\n \\n \\n \\n \\n \\n \\n \\n \\n \\nReliability Test Item And Condition \\n The reliability of products shall be satisfied with items listed below. \\n Confidence level：90% \\n LTPD：10% \\nTest Items \\nTest Conditions \\nFailure Judgement \\nCriteria \\nSamples(n)\\nDefective(c)\\nTemperature cycle \\n1 cycle  -40℃       +100℃ \\n       (15min)(5min)(15min) \\n300 cycle test \\nL0≦ L×0.8 \\nL45≦ L×0.8 \\n \\n \\nL: Lower \\nspecification limit \\n n=22,c=0 \\nHigh temperature test \\nTemp: +100℃ \\nVcc:6V \\n1000hrs \\n n=22,c=0 \\nLow temperature \\nstorage \\nTemp: -40℃ \\n1000hrs \\n n=22,c=0 \\nHigh temperature \\nHigh humidity \\nTa: 85℃,RH:85% \\n1000hrs \\n n=22,c=0 \\nSolder heat \\nTemp: 260±5℃ 10sec \\n4mm From the bottom of the package. \\n n=22,c=0 \\n　\\nVer.:1     Release Date:09/19/2008      狀態:Approved(正式發行)\\nEVERLIGHT ELECTRONICS CO.,LTD. \\n  Everlight Electronics Co., Ltd.          http:\\\\www.everlight.com             Rev 1       Page: 10 of 10 \\n  Device No：SZDMO-037-031         Prepared date：31-August-2007           Prepared by： Liuyan \\n \\nIRM-37xxT SERIES \\n \\nPacking Quantity Specification \\n1. 1500 PCS11Box \\n2. 10 Boxes11Carton \\n \\nLabel Form Specification \\n \\nCPN: Customer’s Production Number \\nP1N : Production Number \\nQTY: Packing Quantity \\nCAT: Ranks \\nHUE: None \\nREF: Reference \\nLOT No: Lot Number \\nMADE IN TAIWAN: Production Place  \\n \\n \\nNotes \\n1. Above specification may be changed without notice. EVERLIGHT will reserve authority on \\nmaterial change for above specification. \\n2. When using this product, please observe the absolute maximum ratings and the instructions \\nfor using outlined in these specification sheets. EVERLIGHT assumes no responsibility for \\nany damage resulting from use of the product which does not comply with the absolute  \\nmaximum ratings and the instructions included in these specification sheets. \\n3. These specification sheets include materials protected under copyright of EVERLIGHT \\ncorporation. Please don’t reproduce or cause anyone to reproduce them without \\nEVERLIGHT’s consent. \\n \\n \\n \\nIRM-37xxT \\nEVERLIGHT ELECTRONICS CO., LTD.  \\n \\n \\nTel: 886-2-2267-2000, 2267-9936 \\nOffice: No 25, Lane 76, Sec 3, Chung Yang Rd,    \\nFax: 886-2267-6244, 2267-6189, 2267-6306 \\n      Tucheng, Taipei 236, Taiwan, R.O.C  \\n \\n \\nhttp:\\\\www.everlight.com \\n　\\nVer.:1     Release Date:09/19/2008      狀態:Approved(正式發行)\\n</td>\n",
       "      <td>everlight electronics co.,ltd. \\n  everlight electronics co., ltd.          http:\\\\www.everlight.com             rev 1       page: 1 of 10 \\n  device no：szdmo-037-031         prepared date：31-august-2007           prepared by： liuyan \\ntechnical data sheet \\ninfrared remote-control receiver module \\n \\nirm-37xxt series \\nfeatures \\n• photo detector and preamplifier in one package \\n• internal filter for pcm frequency \\n• improved inner shielding against electrical field disturbance \\n• ttl and cmos compatibility \\n• low power consumption \\n• improved immunity against ambient light \\n• suitable burst length \\n≧≧10 cycles1burst\\n \\n• pb free \\n \\n• bicmos manufacture ic ; esd hbm&gt;4000v ; mm&gt;250v \\n• the product itself will remain within rohs compliant version. \\n \\ndescriptions \\nthe irm-37xxt is miniaturized receivers for infrared remote control systems. \\npin diode and preamplifier are assembled on lead frame, the epoxy package is  \\ndesigned as ir filter. the demodulated output signal can directly be decoded by \\na microprocessor.irm-37xxt is the standard ir remote control receiver \\nseries, supporting all major transmission codes. \\n \\napplications    \\n․light detecting portion of remote control \\n․av instruments such as audio, tv, vcr, cd, md, etc. \\n․home appliances such as air-conditioner, fan , etc. \\n․the other equipments with wireless remote control. \\n․catv set top boxes \\n․multi-media equipment \\n \\n \\npart \\nmaterial \\ncolor \\nchip \\nsilicon \\nblack \\ncompound \\nepoxy \\nblack \\n \\n \\n \\n \\n \\n \\n　\\nver.:1     release date:09/19/2008      狀態:approved(正式發行)\\neverlight electronics co.,ltd. \\n  everlight electronics co., ltd.          http:\\\\www.everlight.com             rev 1       page: 2 of 10 \\n  device no：szdmo-037-031         prepared date：31-august-2007           prepared by： liuyan \\n \\nirm-37xxt series  \\n \\npackage dimensions   \\n            \\n \\nunit:mm \\nnotes:  1.all dimensions are in millimeters. \\n         2.tolerances unless dimensions ±0.3mm. \\n \\navailable types for different carrier frequencies \\ntype \\ncarrier frequencies (typ) \\nirm-3736t \\n36 khz \\nirm-3738t \\n38 khz \\nirm-3740t \\n40 khz \\nirm-3756t \\n56 khz \\n \\n　\\nver.:1     release date:09/19/2008      狀態:approved(正式發行)\\neverlight electronics co.,ltd. \\n  everlight electronics co., ltd.          http:\\\\www.everlight.com             rev 1       page: 3 of 10 \\n  device no：szdmo-037-031         prepared date：31-august-2007           prepared by： liuyan \\n \\nirm-37xxt series \\nabsolute maximum ratings (ta=25℃) \\nparameter \\nsymbol\\nrating \\nunit \\nnotice \\nsupply voltage \\nvcc \\n0~6 \\nv \\n \\noperating temperature \\ntopr \\n-25 ~ +80 \\n℃ \\n \\nstorage temperature \\ntstg \\n-40 ~ +85 \\n℃ \\n \\nsoldering temperature \\ntsol \\n260 \\n℃ \\n4mm from mold body \\nless than 10 seconds \\n \\nrecommended operating condition \\nsupply voltage rating: vcc 2.7v to 5.5v \\nelectro-optical characteristics (ta=25℃, and vcc=3v) \\nparameter \\nsymbol\\nmin. \\ntyp. \\nmax.\\nunit \\ncondition \\nconsumption current \\nicc \\n--- \\n1.0 \\n1.2 \\nma \\nno signal input\\npeak wavelength \\nλp \\n--- \\n940 \\n--- \\nnm \\n \\nreception distance \\nl0 \\n14 \\n--- \\n--- \\nm \\n \\nl45 \\n6 \\n--- \\n--- \\nhalf angle(horizontal) \\nθh \\n--- \\n45 \\n--- \\ndeg \\nat the ray axis\\n*1 \\nhalf angle(vertical) \\nθv \\n--- \\n45 \\n--- \\ndeg \\n \\nhigh level pulse width \\nth \\n400 \\n--- \\n800 \\nμs \\nat the ray axis\\n*2 \\nlow level pulse width \\ntl \\n400 \\n--- \\n800 \\nμs \\nhigh level output voltage \\nvh \\n2.7 \\n--- \\n--- \\nv \\n \\nlow level output voltage \\nvl \\n--- \\n--- \\n0.5 \\nv \\n \\nnotes: \\n*1:the ray receiving surface at a vertex and relation to the ray axis in the range of θ= 0° and θ=45°. \\n*2:a range from 30cm to the arrival distance.  average value of 50 pulses. \\n \\n \\n \\n　\\nver.:1     release date:09/19/2008      狀態:approved(正式發行)\\neverlight electronics co.,ltd. \\n  everlight electronics co., ltd.          http:\\\\www.everlight.com             rev 1       page: 4 of 10 \\n  device no：szdmo-037-031         prepared date：31-august-2007           prepared by： liuyan \\n \\nirm-37xxt series \\n \\ntest method： \\n the specified electro-optical characteristics is satisfied under the following \\n conditions at the controllable distance. \\n \\n measurement place \\n   a place that is nothing of extreme light reflected in the room. \\n external light \\n   project the light of ordinary white fluorescent lamps which are not high \\n   frequency lamps and must be less then 10 lux at the module surface.  \\n   (ee≦10lux) \\n standard transmitter \\n   a transmitter whose output is so adjusted as to vo=400mvp-p and the output \\n   wave form shown in fig.-1.according to the measurement method shown in \\n   fig.-2 the standard transmitter is specified. \\n   however , the infrared photodiode to be used for the transmitter should be \\n   λp=940nm,δλ=50nm. also, photodiode is used of pd438b(vr=5v). \\n   (standard light 1 light source temperature 2856°k). \\n measuring system \\n   according to the measuring system shown in fig.-3 \\n \\nblock diagram： \\n \\n \\n \\n \\n \\n \\n \\n \\n \\n \\n \\n \\n \\n \\n \\n \\nmodulated ir signal \\nmin 10 pulses \\ncarrier frequency f0 \\nout \\nin \\nvs \\ngnd \\ninput \\ncga &amp; filter \\ndemodulator \\noscillator \\nagc1atc &amp; digital control \\nµc \\n　\\nver.:1     release date:09/19/2008      狀態:approved(正式發行)\\neverlight electronics co.,ltd. \\n  everlight electronics co., ltd.          http:\\\\www.everlight.com             rev 1       page: 5 of 10 \\n  device no：szdmo-037-031         prepared date：31-august-2007           prepared by： liuyan \\ncarrier frequency is adjusted to \\ncenter frequency of each product.\\nir tansmitter \\noutput wave form\\noutput pulse \\nof device\\nstandard transmitter\\noscilloscope\\nvout\\n10uf\\n+5.0± 0.1v\\n10k\\n20cm\\n100k\\nθ\\nθ\\nd.u.t\\nl: transmission distance\\nstandard transmitter\\ngnd\\nvcc\\nout\\nvout\\nθ: angle of horizontal &amp; vertical direction\\n \\nirm-37xxt series \\n \\napplication circuit： \\n \\n \\n \\n \\n \\n \\n \\n \\n \\n \\n          rc filter should be connected closely between vcc pin and gnd pin. \\n \\n \\n \\n \\n  fig.-1  transmitter wave form                         d.u.t output pulse \\n \\n \\n \\n \\n \\n \\n \\n \\n \\n \\n                                            \\n \\n \\n \\n \\n \\n  fig.-2  measuring method                      fig.-3    measuring system \\n \\n \\n \\n \\n \\n \\n \\n \\n \\n \\n \\n \\n \\n \\n \\n \\n \\n \\nduty=0.5 \\n　\\nver.:1     release date:09/19/2008      狀態:approved(正式發行)\\neverlight electronics co.,ltd. \\n  everlight electronics co., ltd.          http:\\\\www.everlight.com             rev 1       page: 6 of 10 \\n  device no：szdmo-037-031         prepared date：31-august-2007           prepared by： liuyan \\n \\nirm-37xxt series \\nthe notice of application: \\ntransmission of remote control signal consist of four parts: encode part, ir transmitter source, \\nirm device, decode part \\n \\n1. when irm-37xxt series code select frequency, it need to well understand the center system of \\nencode part. \\n2. strong or weak light of ir transmitter can affect distance of transmission. \\n3. when using irm-37xxt series device, it requires the composition of code pattern to reach the \\ndemand as follows:    \\nminimum tburst \\n( number of pulses per burst) \\nminimum tburst_gap \\n( number of pulses \\nbetween two burst) \\nminimum tpause \\n10 pulses \\n14 pulses \\n25 msec \\n \\n4. it needs to ensure the translation range of decode part if it is applied to the pulse-width range. \\n \\nif the above items hardly assure of its application, it’ll cause ng(no good) message from the edge \\nof signal. \\n \\nirm-37xxt series code property: \\ndata format \\n \\ndata format \\n \\nnec \\no \\nsony 12 bit \\no \\nrc5 _ philips \\no \\nsony 15 bit \\nx \\nrc6 _ philips \\no \\nsony 20 bit \\nx \\nrca _ thomson \\nx \\nmatsushita \\no \\ntoshiba \\no \\nmitsubishi \\no \\nsharp \\no \\nzenith \\no \\njvc \\no \\nhigh data rate  \\n (4000 bit1s) \\nx \\n　\\nver.:1     release date:09/19/2008      狀態:approved(正式發行)\\neverlight electronics co.,ltd. \\n  everlight electronics co., ltd.          http:\\\\www.everlight.com             rev 1       page: 7 of 10 \\n  device no：szdmo-037-031         prepared date：31-august-2007           prepared by： liuyan \\n  \\nirm-37xxt series \\ntypical electro-optical characteristics curves \\n \\nfig.-4 relative spectral sensitivity vs. \\nwavelength \\nfig.-5 \\nrelative \\ntransmission \\ndistance \\nvs. \\ndirection \\n \\nangle      (deg)\\n-20\\nrelative transmission distance (%)\\n-60\\n0\\n80\\n40\\n20\\n60\\n-40\\n0\\n20\\n60\\n40\\nfig.-6 output pulse length vs. arrival distance fig.-7 arrival distance vs. supply voltage \\n16\\ntransmission distance lc (m)\\n2\\n0\\n10\\n6\\n4\\n8\\n12\\n14\\noutput pulse width twl (μsec)\\n \\n \\n \\n \\ntransmission distance lc (m)\\n3.8\\nsupply voltage vcc (v)\\n2.7\\n0\\n3.3\\n3.0\\n3.5\\n4.1 4.4\\n4.7\\n5.0 5.3\\n5.5\\n17.5\\n10.5\\n7.0\\n3.5\\n　\\nver.:1     release date:09/19/2008      狀態:approved(正式發行)\\neverlight electronics co.,ltd. \\n  everlight electronics co., ltd.          http:\\\\www.everlight.com             rev 1       page: 8 of 10 \\n  device no：szdmo-037-031         prepared date：31-august-2007           prepared by： liuyan \\nrelative transmission distance (%)\\ncenter carrier frequency  (khz)\\nrelative transmission distance (%)\\ncenter carrier frequency  (khz)\\n \\nirm-37xxt series \\n \\ntypical electro-optical characteristics curves \\nfig.-8 relative transmission distance vs. center carrier frequency \\n \\n                irm-3736t                               irm-3738t \\n                   \\n \\n \\n                 irm-3740t                               irm-3756t \\n                                              \\n \\n \\n \\n \\n \\n \\n　\\nver.:1     release date:09/19/2008      狀態:approved(正式發行)\\neverlight electronics co.,ltd. \\n  everlight electronics co., ltd.          http:\\\\www.everlight.com             rev 1       page: 9 of 10 \\n  device no：szdmo-037-031         prepared date：31-august-2007           prepared by： liuyan \\nambient temperature ta (°c)\\n7.0\\n3.5\\n14.0\\n10.5\\n17.5\\ntransmission distance lc (m)\\n \\nirm-37xxt series \\ntypical electro-optical characteristics curves \\nfig.-9 arrival distance vs. ambient temperature \\n \\n \\n \\n \\n \\n \\n \\n \\n \\n \\n \\nreliability test item and condition \\n the reliability of products shall be satisfied with items listed below. \\n confidence level：90% \\n ltpd：10% \\ntest items \\ntest conditions \\nfailure judgement \\ncriteria \\nsamples(n)\\ndefective(c)\\ntemperature cycle \\n1 cycle  -40℃       +100℃ \\n       (15min)(5min)(15min) \\n300 cycle test \\nl0≦ l×0.8 \\nl45≦ l×0.8 \\n \\n \\nl: lower \\nspecification limit \\n n=22,c=0 \\nhigh temperature test \\ntemp: +100℃ \\nvcc:6v \\n1000hrs \\n n=22,c=0 \\nlow temperature \\nstorage \\ntemp: -40℃ \\n1000hrs \\n n=22,c=0 \\nhigh temperature \\nhigh humidity \\nta: 85℃,rh:85% \\n1000hrs \\n n=22,c=0 \\nsolder heat \\ntemp: 260±5℃ 10sec \\n4mm from the bottom of the package. \\n n=22,c=0 \\n　\\nver.:1     release date:09/19/2008      狀態:approved(正式發行)\\neverlight electronics co.,ltd. \\n  everlight electronics co., ltd.          http:\\\\www.everlight.com             rev 1       page: 10 of 10 \\n  device no：szdmo-037-031         prepared date：31-august-2007           prepared by： liuyan \\n \\nirm-37xxt series \\n \\npacking quantity specification \\n1. 1500 pcs11box \\n2. 10 boxes11carton \\n \\nlabel form specification \\n \\ncpn: customer’s production number \\np1n : production number \\nqty: packing quantity \\ncat: ranks \\nhue: none \\nref: reference \\nlot no: lot number \\nmade in taiwan: production place  \\n \\n \\nnotes \\n1. above specification may be changed without notice. everlight will reserve authority on \\nmaterial change for above specification. \\n2. when using this product, please observe the absolute maximum ratings and the instructions \\nfor using outlined in these specification sheets. everlight assumes no responsibility for \\nany damage resulting from use of the product which does not comply with the absolute  \\nmaximum ratings and the instructions included in these specification sheets. \\n3. these specification sheets include materials protected under copyright of everlight \\ncorporation. please don’t reproduce or cause anyone to reproduce them without \\neverlight’s consent. \\n \\n \\n \\nirm-37xxt \\neverlight electronics co., ltd.  \\n \\n \\ntel: 886-2-2267-2000, 2267-9936 \\noffice: no 25, lane 76, sec 3, chung yang rd,    \\nfax: 886-2267-6244, 2267-6189, 2267-6306 \\n      tucheng, taipei 236, taiwan, r.o.c  \\n \\n \\nhttp:\\\\www.everlight.com \\n　\\nver.:1     release date:09/19/2008      狀態:approved(正式發行)\\n</td>\n",
       "      <td>[c, max, color, fig  transmitter wave form                         dut output pulse, of device, catv set top boxes, pnm,nm also, photodiode is used of pdbvrv, high temperature test, pulses, distance, consumption current, vcc, frequency lamps and must be less then  lux at the module surface, modulated ir signal, tel, everlight electronics, pin diode and preamplifier are assembled on lead frame, the epoxy package is, jvc, packing quantity specification, irmt, chip, output wave form, above specification may be changed without notice everlight will reserve authority on, l l, temperature cycle, sharp, eelux, s, demand as follows, half anglevertical, high humidity, temp  sec, fig the standard transmitter is specified, the irmxxt is miniaturized receivers for infrared remote control systems, less than  seconds, light detecting portion of remote control, pb free, made in taiwan production place, n,c, gnd, oscillator, peak wavelength, data format, tucheng, taipei , taiwan, roc, mitsubishi, the specified electrooptical characteristics is satisfied under the following, ref reference, application circuit, confidence level, fig  measuring method                      fig    measuring system, fig relative spectral sensitivity vs, black, input, sony  bit, part, irmxxt, tsol, deg, oscilloscope, vccv, samplesn, output pulse, demodulator, l transmission distance, designed as ir filter the demodulated output signal can directly be decoded by, block diagram, pn  production number, duty, the notice of application, operating temperature, k, notes  all dimensions are in millimeters, center frequency of each product, msec, out, center carrier frequency  khz, o, standard light  light source temperature k, matsushita, tl, fig, p, irmxxt series code property, typ, a range from cm to the arrival distance  average value of  pulses, temp , solder heat, irm device, decode part, technical data sheet, a microprocessorirmxxt is the standard ir remote control receiver, supply voltage rating vcc v to v, however , the infrared photodiode to be used for the transmitter should be, unitmm, uf, transmission, nec, typical electrooptical characteristics curves, h, between two burst, unit, ...]</td>\n",
       "      <td>True</td>\n",
       "      <td>frequency lamps and must be less then  lux at the module surface</td>\n",
       "    </tr>\n",
       "    <tr>\n",
       "      <th>13</th>\n",
       "      <td>P-13</td>\n",
       "      <td>https://en.everlight.com/wp-content/plugins/ItemRelationship/product_files/pdf/1003SUBD-S400-A6.pdf</td>\n",
       "      <td>Yes</td>\n",
       "      <td>\\n1  \\nCopyright © 2010, Everlight All Rights Reserved. Release Date :Sep.27. 2018 Issue No: DLE-0003884_Rev.4 \\nwww.everlight.com \\n \\n \\n \\n LAMP \\n1003SUBD/S400-A6 \\n \\n \\n \\n \\n \\n \\n \\n \\n \\n \\n \\n \\n \\n \\n \\n \\n \\n \\n \\n \\n \\n \\n \\n \\n \\n \\n \\n \\n \\n \\n \\n \\n \\n \\n \\n \\n \\n \\n \\n \\n \\n \\n \\n \\n \\n \\n \\n \\n \\n \\n \\n \\n \\n \\n \\n \\n \\n \\n \\n \\n \\n \\n \\n \\n \\nFeatures \\n• Choice of various viewing angles \\n• Available on tape and reel. \\n• Reliable and robust \\n• Pb free \\n• The product itself will remain within RoHS compliant version. \\n \\nDescription \\n•The series is specially designed for applications requiring higher brightness \\n•The led lamps are available with different colors, intensities.. \\n \\nApplications \\n• TV set \\n• Monitor \\n• Telephone \\n• Computer \\n \\n \\n \\n \\n \\n \\n \\n \\n \\n \\n \\n \\n \\n \\n \\n \\n \\n \\n \\n \\n \\n \\n \\n \\n \\n \\n \\n　\\nVer.:4     Release Date:10/05/2018      狀態:Approved(正式發行)\\nDATASHEET \\nLAMP \\n1003SUBD/S400-A6 \\n \\n \\n \\n2  \\nCopyright © 2010, Everlight All Rights Reserved. Release Date : Sep.27. 2018 Issue No: DLE-0003884_Rev.4 \\nwww.everlight.com \\n \\n \\n Device Selection Guide \\n \\nChip \\nMaterials \\nEmitted Color \\nResin Color \\nInGaN \\nBlue \\nBlue Diffused \\n \\n \\n \\n \\n Absolute Maximum Ratings (Ta=25℃) \\n \\nParameter \\nSymbol \\nRating \\nUnit \\nContinuous Forward Current \\nIF \\n25 \\nmA \\nPeak Forward Current (Duty 1/10 @ 1KHZ) \\nIFP \\n100 \\nmA \\nReverse Voltage \\nVR \\n5 \\nV \\nPower Dissipation \\nPd \\n90 \\nmW \\nOperating Temperature \\nTopr \\n-40 ~ +85 \\n℃ \\nStorage Temperature \\nTstg \\n-40 ~ +100 \\n℃ \\nSoldering Temperature \\nTsol \\n260 ℃ for 5 sec. \\n \\n \\n \\n \\n \\n Electro-Optical Characteristics (Ta=25℃) \\n \\nParameter \\nSymbol \\nMin. \\nTyp. \\nMax. \\nUnit \\nCondition \\nLuminous Intensity \\nIv \\n10 \\n20 \\n----- \\nmcd \\nIF=20mA \\nViewing Angle \\n2θ1/2 \\n----- \\n110 \\n----- \\ndeg \\nIF=20mA \\nPeak Wavelength \\nλp \\n----- \\n468 \\n----- \\nnm \\nIF=20mA \\nDominant Wavelength \\nλd \\n----- \\n470 \\n----- \\nnm \\nIF=20mA \\nSpectrum Radiation Bandwidth \\nΔλ \\n----- \\n35 \\n----- \\nnm \\nIF=20mA \\nForward Voltage \\nVF \\n2.7 \\n3.3 \\n4.0 \\nV \\nIF=20mA \\nReverse Current \\nIR \\n----- \\n----- \\n50 \\nμA \\nVR=5V \\n \\n \\n \\n \\n \\nNote:  \\n \\n*Measurement Uncertainty of Forward Voltage: ±0.1V \\n \\n*Measurement Uncertainty of Luminous Intensity: ±10% \\n*Measurement Uncertainty of Dominant Wavelength ±1.0nm \\n　\\nVer.:4     Release Date:10/05/2018      狀態:Approved(正式發行)\\nDATASHEET \\nLAMP \\n1003SUBD/S400-A6 \\n \\n \\n \\n3  \\nCopyright © 2010, Everlight All Rights Reserved. Release Date : Sep.27. 2018 Issue No: DLE-0003884_Rev.4 \\nwww.everlight.com \\n \\n Typical Electro-Optical Characteristics Curves \\n  \\n \\nRelative Intensity vs. Wavelength (Ta=25℃) \\nDirectivity (Ta=25℃) \\n \\nRelative Intensity (a.u.) \\n \\nRadiation Angle \\n \\n \\n \\nWavelength (nm) \\n \\nRelative Intensity (a.u.) \\n \\n \\nForward Current vs. Forward Voltage (Ta=25℃) \\nRelative Intensity vs. Forward Current (Ta=25℃) \\n \\nForward Current (mA) \\n1.5\\n2.0\\n2.5\\n3.0\\n3.5\\n4.0\\n4.5\\n0\\n5\\n10\\n15\\n20\\n25\\n \\n \\nForward Current(mA)\\nForward Voltage(V)\\n \\n \\nRelative Intensity(a.u.) \\n0\\n5\\n10\\n15\\n20\\n25\\n0.0\\n0.5\\n1.0\\n1.5\\n \\n \\n \\n  \\nForward Voltage (V) \\n \\nForward Current (mA) \\n \\n \\nRelative Intensity vs. Ambient Temp. \\nForward Current vs. Ambient Temp. \\n \\nRelative Intensity(a.u.) \\n25\\n30\\n35\\n40\\n45\\n50\\n55\\n60\\n65\\n70\\n0.0\\n0.5\\n1.0\\n1.5\\n2.0\\n \\n \\n \\nForward Current (mA) \\n0\\n20\\n40\\n60\\n80\\n100\\n0\\n10\\n20\\n30\\n40\\n \\n \\n \\n  \\nAmbient Temperature Ta(℃) \\n \\nAmbient Temperature Ta(℃) \\n \\n \\n　\\nVer.:4     Release Date:10/05/2018      狀態:Approved(正式發行)\\nDATASHEET \\nLAMP \\n1003SUBD/S400-A6 \\n \\n \\n \\n4  \\nCopyright © 2010, Everlight All Rights Reserved. Release Date : Sep.27. 2018 Issue No: DLE-0003884_Rev.4 \\nwww.everlight.com \\n \\n  Package Dimension \\n \\n \\n \\n \\n \\n \\n \\n \\n \\n \\n \\n \\n \\n \\n \\n \\n \\n \\n \\n \\n \\n \\n \\n \\n \\n \\n \\n \\n \\n \\n \\n \\n \\n \\n \\n \\n \\n \\n \\n \\n \\n \\nNotes: \\n1. All dimensions are in millimeters \\n2. The height of flange must be less than 1.5mm(0.059\"). \\n3. Without special declared, the tolerance is ±0.25mm. \\n \\n \\n \\n　\\nVer.:4     Release Date:10/05/2018      狀態:Approved(正式發行)\\nDATASHEET \\nLAMP \\n1003SUBD/S400-A6 \\n \\n \\n \\n5  \\nCopyright © 2010, Everlight All Rights Reserved. Release Date : Sep.27. 2018 Issue No: DLE-0003884_Rev.4 \\nwww.everlight.com \\n \\nPb\\nEL ECTROSTATIC ELECTRONAGNETIC \\nMAGNETIC OR RADIOACTIVE RELDS\\nanti-static for 750\\n \\n Moisture Resistant Packing Materials \\nLabel Explanation \\n \\n \\n \\nCPN: Customer's  Production Number \\nP/N : Production Number \\nQTY: Packing Quantity \\nCAT: Ranks \\nHUE: Dominant Wavelength \\nREF: Reference \\nLOT No: Lot Number \\n \\n \\n \\n \\n Packing Specification \\n■ Anti-electrostatic bag              ■ Inner Carton                       ■ Outside Carton \\n \\n \\n \\n \\n \\n \\n \\n \\n \\n \\n \\n \\n \\n \\n \\n \\n \\n \\n \\n \\n \\n \\n \\n \\n \\n■ Packing Quantity  \\n1. MIN 200 To 500 PCS/1 Bag, 5 Bags/1 Inner Carton \\n2. 10 Inner Cartons/1 Outside Carton \\n　\\nVer.:4     Release Date:10/05/2018      狀態:Approved(正式發行)\\nDATASHEET \\nLAMP \\n1003SUBD/S400-A6 \\n \\n \\n \\n6  \\nCopyright © 2010, Everlight All Rights Reserved. Release Date : Sep.27. 2018 Issue No: DLE-0003884_Rev.4 \\nwww.everlight.com \\n \\nPrehead\\nlaminar wave\\nFluxing\\n \\n \\nNotes \\n \\n1. \\nLead Forming \\n \\nDuring lead formation, the leads should be bent at a point at least 3mm from the base of the epoxy bulb. \\n \\nLead forming should be done before soldering. \\n \\nAvoid stressing the LED package during leads forming. The stress to the base may damage the LED’s characteristics or it \\nmay break the LEDs. \\n \\nCut the LED lead frames at room temperature. Cutting the lead frames at high temperatures may cause failure of the LEDs. \\n \\nWhen mounting the LEDs onto a PCB, the PCB holes must be aligned exactly with the lead position of the LED. If the LEDs \\nare mounted with stress at the leads, it causes deterioration of the epoxy resin and this will degrade the LEDs. \\n2. \\nStorage \\n \\nThe LEDs should be stored at 30°C or less and 70%RH or less after being shipped from Everlight and the storage life limits \\nare 3 months. If the LEDs are stored for 3 months or more, they can be stored for a year in a sealed container with a \\nnitrogen atmosphere and moisture absorbent material. \\n \\nPlease avoid rapid transitions in ambient temperature, especially, in high humidity environments where condensation can \\noccur. \\n3. \\nSoldering \\n \\nCareful attention should be paid during soldering. When soldering, leave more then 3mm from solder joint to epoxy bulb, \\nand soldering beyond the base of the tie bar is recommended. \\n \\nRecommended soldering conditions: \\nHand Soldering \\nDIP Soldering \\nTemp. at tip of iron \\n300℃ Max. (30W Max.) \\nPreheat temp. \\n100℃ Max. (60 sec Max.) \\nSoldering time \\n3 sec Max. \\nBath temp. &amp; time \\n260 Max., 5 sec Max \\nDistance \\n3mm Min.(From solder \\njoint to epoxy bulb) \\nDistance \\n3mm Min. (From solder \\njoint to epoxy bulb) \\n \\nRecommended soldering profile \\n \\n \\n \\n \\n \\n \\n \\n \\n \\n \\n \\n \\n \\n \\nAvoiding applying any stress to the lead frame while the LEDs are at high temperature particularly when soldering. \\n \\nDip and hand soldering should not be done more than one time \\n \\n \\nAfter soldering the LEDs, the epoxy bulb should be protected from mechanical shock or vibration until the LEDs return to \\nroom temperature. \\n　\\nVer.:4     Release Date:10/05/2018      狀態:Approved(正式發行)\\nDATASHEET \\nLAMP \\n1003SUBD/S400-A6 \\n \\n \\n \\n7  \\nCopyright © 2010, Everlight All Rights Reserved. Release Date : Sep.27. 2018 Issue No: DLE-0003884_Rev.4 \\nwww.everlight.com \\n \\n \\nA rapid-rate process is not recommended for cooling the LEDs down from the peak temperature. \\n \\nAlthough the recommended soldering conditions are specified in the above table, dip or hand soldering at the lowest \\npossible temperature is desirable for the LEDs. \\n \\n \\nWave soldering parameter must be set and maintain according to recommended temperature and dwell time in the solder \\nwave.  \\n4. \\nCleaning \\n \\nWhen necessary, cleaning should occur only with isopropyl alcohol at room temperature for a duration of no more than \\none minute. Dry at room temperature before use. \\n \\nDo not clean the LEDs by the ultrasonic. When it is absolutely necessary, the influence of ultrasonic cleaning on the LEDs \\ndepends on factors such as ultrasonic power and the assembled condition. Ultrasonic cleaning shall be pre-qualified to \\nensure this will not cause damage to the LED \\n5. \\nHeat Management \\n \\nHeat management of LEDs must be taken into consideration during the design stage of LED application. The current \\nshould be de-rated appropriately by referring to the de-rating curve found in each product specification. \\n \\nThe temperature surrounding the LED in the application should be controlled. Please refer to the data sheet de-rating \\ncurve. \\n6. ESD (Electrostatic Discharge) \\n \\nThe products are sensitive to static electricity or surge voltage. ESD can damage a die and its reliability. \\nWhen handling the products, the following measures against electrostatic discharge are strongly \\nrecommended: \\nEliminating the charge \\nGrounded wrist strap, ESD footwear, clothes, and floors \\nGrounded workstation equipment and tools \\nESD table/shelf mat made of conductive materials \\n \\nProper grounding is required for all devices, equipment, and machinery used in product assembly. \\nSurge protection should be considered when designing of commercial products. \\n \\nIf tools or equipment contain insulating materials such as glass or plastic, \\nthe following measures against electrostatic discharge are strongly recommended: \\nDissipating static charge with conductive materials \\nPreventing charge generation with moisture  \\nNeutralizing the charge with ionizers \\n7. \\nDirections for use \\n \\nThe LEDs should be operated with forward bias. The driving circuit must be designed so that the LEDs are not subjected \\nto forward or reverse voltage while it is off. If reverse voltage is continuously applied to the LEDs, it may cause migration \\nresulting in LED damage. \\n \\n \\nDISCLAIMER \\n \\n \\n1. \\nEVERLIGHT reserves the right(s) on the adjustment of product material mix for the specification. \\n2. \\nThe product meets EVERLIGHT published specification for a period of twelve (12) months from date of \\nshipment. \\n3. \\nThe graphs shown in this datasheet are representing typical data only and do not show guaranteed values. \\n　\\nVer.:4     Release Date:10/05/2018      狀態:Approved(正式發行)\\nDATASHEET \\nLAMP \\n1003SUBD/S400-A6 \\n \\n \\n \\n8  \\nCopyright © 2010, Everlight All Rights Reserved. Release Date : Sep.27. 2018 Issue No: DLE-0003884_Rev.4 \\nwww.everlight.com \\n \\n4. \\nWhen using this product, please observe the absolute maximum ratings and the instructions for using outlined \\nin these specification sheets. EVERLIGHT assumes no responsibility for any damage resulting from the use of \\nthe product which does not comply with the absolute maximum ratings and the instructions included in these \\nspecification sheets. \\n5. \\nThese specification sheets include materials protected under copyright of EVERLIGHT. Reproduction in any \\nform is prohibited without obtaining EVERLIGHT’s prior consent. \\n6. \\nThis product is not intended to be used for military, aircraft, automotive, medical, life sustaining or life saving \\napplications or any other application which can result in human injury or death. Please contact authorized \\nEverlight sales agent for special application request. \\n \\n \\n　\\nVer.:4     Release Date:10/05/2018      狀態:Approved(正式發行)\\n</td>\n",
       "      <td>\\n1  \\ncopyright © 2010, everlight all rights reserved. release date :sep.27. 2018 issue no: dle-0003884_rev.4 \\nwww.everlight.com \\n \\n \\n \\n lamp \\n1003subd/s400-a6 \\n \\n \\n \\n \\n \\n \\n \\n \\n \\n \\n \\n \\n \\n \\n \\n \\n \\n \\n \\n \\n \\n \\n \\n \\n \\n \\n \\n \\n \\n \\n \\n \\n \\n \\n \\n \\n \\n \\n \\n \\n \\n \\n \\n \\n \\n \\n \\n \\n \\n \\n \\n \\n \\n \\n \\n \\n \\n \\n \\n \\n \\n \\n \\n \\n \\nfeatures \\n• choice of various viewing angles \\n• available on tape and reel. \\n• reliable and robust \\n• pb free \\n• the product itself will remain within rohs compliant version. \\n \\ndescription \\n•the series is specially designed for applications requiring higher brightness \\n•the led lamps are available with different colors, intensities.. \\n \\napplications \\n• tv set \\n• monitor \\n• telephone \\n• computer \\n \\n \\n \\n \\n \\n \\n \\n \\n \\n \\n \\n \\n \\n \\n \\n \\n \\n \\n \\n \\n \\n \\n \\n \\n \\n \\n \\n　\\nver.:4     release date:10/05/2018      狀態:approved(正式發行)\\ndatasheet \\nlamp \\n1003subd/s400-a6 \\n \\n \\n \\n2  \\ncopyright © 2010, everlight all rights reserved. release date : sep.27. 2018 issue no: dle-0003884_rev.4 \\nwww.everlight.com \\n \\n \\n device selection guide \\n \\nchip \\nmaterials \\nemitted color \\nresin color \\ningan \\nblue \\nblue diffused \\n \\n \\n \\n \\n absolute maximum ratings (ta=25℃) \\n \\nparameter \\nsymbol \\nrating \\nunit \\ncontinuous forward current \\nif \\n25 \\nma \\npeak forward current (duty 1/10 @ 1khz) \\nifp \\n100 \\nma \\nreverse voltage \\nvr \\n5 \\nv \\npower dissipation \\npd \\n90 \\nmw \\noperating temperature \\ntopr \\n-40 ~ +85 \\n℃ \\nstorage temperature \\ntstg \\n-40 ~ +100 \\n℃ \\nsoldering temperature \\ntsol \\n260 ℃ for 5 sec. \\n \\n \\n \\n \\n \\n electro-optical characteristics (ta=25℃) \\n \\nparameter \\nsymbol \\nmin. \\ntyp. \\nmax. \\nunit \\ncondition \\nluminous intensity \\niv \\n10 \\n20 \\n----- \\nmcd \\nif=20ma \\nviewing angle \\n2θ1/2 \\n----- \\n110 \\n----- \\ndeg \\nif=20ma \\npeak wavelength \\nλp \\n----- \\n468 \\n----- \\nnm \\nif=20ma \\ndominant wavelength \\nλd \\n----- \\n470 \\n----- \\nnm \\nif=20ma \\nspectrum radiation bandwidth \\nδλ \\n----- \\n35 \\n----- \\nnm \\nif=20ma \\nforward voltage \\nvf \\n2.7 \\n3.3 \\n4.0 \\nv \\nif=20ma \\nreverse current \\nir \\n----- \\n----- \\n50 \\nμa \\nvr=5v \\n \\n \\n \\n \\n \\nnote:  \\n \\n*measurement uncertainty of forward voltage: ±0.1v \\n \\n*measurement uncertainty of luminous intensity: ±10% \\n*measurement uncertainty of dominant wavelength ±1.0nm \\n　\\nver.:4     release date:10/05/2018      狀態:approved(正式發行)\\ndatasheet \\nlamp \\n1003subd/s400-a6 \\n \\n \\n \\n3  \\ncopyright © 2010, everlight all rights reserved. release date : sep.27. 2018 issue no: dle-0003884_rev.4 \\nwww.everlight.com \\n \\n typical electro-optical characteristics curves \\n  \\n \\nrelative intensity vs. wavelength (ta=25℃) \\ndirectivity (ta=25℃) \\n \\nrelative intensity (a.u.) \\n \\nradiation angle \\n \\n \\n \\nwavelength (nm) \\n \\nrelative intensity (a.u.) \\n \\n \\nforward current vs. forward voltage (ta=25℃) \\nrelative intensity vs. forward current (ta=25℃) \\n \\nforward current (ma) \\n1.5\\n2.0\\n2.5\\n3.0\\n3.5\\n4.0\\n4.5\\n0\\n5\\n10\\n15\\n20\\n25\\n \\n \\nforward current(ma)\\nforward voltage(v)\\n \\n \\nrelative intensity(a.u.) \\n0\\n5\\n10\\n15\\n20\\n25\\n0.0\\n0.5\\n1.0\\n1.5\\n \\n \\n \\n  \\nforward voltage (v) \\n \\nforward current (ma) \\n \\n \\nrelative intensity vs. ambient temp. \\nforward current vs. ambient temp. \\n \\nrelative intensity(a.u.) \\n25\\n30\\n35\\n40\\n45\\n50\\n55\\n60\\n65\\n70\\n0.0\\n0.5\\n1.0\\n1.5\\n2.0\\n \\n \\n \\nforward current (ma) \\n0\\n20\\n40\\n60\\n80\\n100\\n0\\n10\\n20\\n30\\n40\\n \\n \\n \\n  \\nambient temperature ta(℃) \\n \\nambient temperature ta(℃) \\n \\n \\n　\\nver.:4     release date:10/05/2018      狀態:approved(正式發行)\\ndatasheet \\nlamp \\n1003subd/s400-a6 \\n \\n \\n \\n4  \\ncopyright © 2010, everlight all rights reserved. release date : sep.27. 2018 issue no: dle-0003884_rev.4 \\nwww.everlight.com \\n \\n  package dimension \\n \\n \\n \\n \\n \\n \\n \\n \\n \\n \\n \\n \\n \\n \\n \\n \\n \\n \\n \\n \\n \\n \\n \\n \\n \\n \\n \\n \\n \\n \\n \\n \\n \\n \\n \\n \\n \\n \\n \\n \\n \\n \\nnotes: \\n1. all dimensions are in millimeters \\n2. the height of flange must be less than 1.5mm(0.059\"). \\n3. without special declared, the tolerance is ±0.25mm. \\n \\n \\n \\n　\\nver.:4     release date:10/05/2018      狀態:approved(正式發行)\\ndatasheet \\nlamp \\n1003subd/s400-a6 \\n \\n \\n \\n5  \\ncopyright © 2010, everlight all rights reserved. release date : sep.27. 2018 issue no: dle-0003884_rev.4 \\nwww.everlight.com \\n \\npb\\nel ectrostatic electronagnetic \\nmagnetic or radioactive relds\\nanti-static for 750\\n \\n moisture resistant packing materials \\nlabel explanation \\n \\n \\n \\ncpn: customer's  production number \\np/n : production number \\nqty: packing quantity \\ncat: ranks \\nhue: dominant wavelength \\nref: reference \\nlot no: lot number \\n \\n \\n \\n \\n packing specification \\n■ anti-electrostatic bag              ■ inner carton                       ■ outside carton \\n \\n \\n \\n \\n \\n \\n \\n \\n \\n \\n \\n \\n \\n \\n \\n \\n \\n \\n \\n \\n \\n \\n \\n \\n \\n■ packing quantity  \\n1. min 200 to 500 pcs/1 bag, 5 bags/1 inner carton \\n2. 10 inner cartons/1 outside carton \\n　\\nver.:4     release date:10/05/2018      狀態:approved(正式發行)\\ndatasheet \\nlamp \\n1003subd/s400-a6 \\n \\n \\n \\n6  \\ncopyright © 2010, everlight all rights reserved. release date : sep.27. 2018 issue no: dle-0003884_rev.4 \\nwww.everlight.com \\n \\nprehead\\nlaminar wave\\nfluxing\\n \\n \\nnotes \\n \\n1. \\nlead forming \\n \\nduring lead formation, the leads should be bent at a point at least 3mm from the base of the epoxy bulb. \\n \\nlead forming should be done before soldering. \\n \\navoid stressing the led package during leads forming. the stress to the base may damage the led’s characteristics or it \\nmay break the leds. \\n \\ncut the led lead frames at room temperature. cutting the lead frames at high temperatures may cause failure of the leds. \\n \\nwhen mounting the leds onto a pcb, the pcb holes must be aligned exactly with the lead position of the led. if the leds \\nare mounted with stress at the leads, it causes deterioration of the epoxy resin and this will degrade the leds. \\n2. \\nstorage \\n \\nthe leds should be stored at 30°c or less and 70%rh or less after being shipped from everlight and the storage life limits \\nare 3 months. if the leds are stored for 3 months or more, they can be stored for a year in a sealed container with a \\nnitrogen atmosphere and moisture absorbent material. \\n \\nplease avoid rapid transitions in ambient temperature, especially, in high humidity environments where condensation can \\noccur. \\n3. \\nsoldering \\n \\ncareful attention should be paid during soldering. when soldering, leave more then 3mm from solder joint to epoxy bulb, \\nand soldering beyond the base of the tie bar is recommended. \\n \\nrecommended soldering conditions: \\nhand soldering \\ndip soldering \\ntemp. at tip of iron \\n300℃ max. (30w max.) \\npreheat temp. \\n100℃ max. (60 sec max.) \\nsoldering time \\n3 sec max. \\nbath temp. &amp; time \\n260 max., 5 sec max \\ndistance \\n3mm min.(from solder \\njoint to epoxy bulb) \\ndistance \\n3mm min. (from solder \\njoint to epoxy bulb) \\n \\nrecommended soldering profile \\n \\n \\n \\n \\n \\n \\n \\n \\n \\n \\n \\n \\n \\n \\navoiding applying any stress to the lead frame while the leds are at high temperature particularly when soldering. \\n \\ndip and hand soldering should not be done more than one time \\n \\n \\nafter soldering the leds, the epoxy bulb should be protected from mechanical shock or vibration until the leds return to \\nroom temperature. \\n　\\nver.:4     release date:10/05/2018      狀態:approved(正式發行)\\ndatasheet \\nlamp \\n1003subd/s400-a6 \\n \\n \\n \\n7  \\ncopyright © 2010, everlight all rights reserved. release date : sep.27. 2018 issue no: dle-0003884_rev.4 \\nwww.everlight.com \\n \\n \\na rapid-rate process is not recommended for cooling the leds down from the peak temperature. \\n \\nalthough the recommended soldering conditions are specified in the above table, dip or hand soldering at the lowest \\npossible temperature is desirable for the leds. \\n \\n \\nwave soldering parameter must be set and maintain according to recommended temperature and dwell time in the solder \\nwave.  \\n4. \\ncleaning \\n \\nwhen necessary, cleaning should occur only with isopropyl alcohol at room temperature for a duration of no more than \\none minute. dry at room temperature before use. \\n \\ndo not clean the leds by the ultrasonic. when it is absolutely necessary, the influence of ultrasonic cleaning on the leds \\ndepends on factors such as ultrasonic power and the assembled condition. ultrasonic cleaning shall be pre-qualified to \\nensure this will not cause damage to the led \\n5. \\nheat management \\n \\nheat management of leds must be taken into consideration during the design stage of led application. the current \\nshould be de-rated appropriately by referring to the de-rating curve found in each product specification. \\n \\nthe temperature surrounding the led in the application should be controlled. please refer to the data sheet de-rating \\ncurve. \\n6. esd (electrostatic discharge) \\n \\nthe products are sensitive to static electricity or surge voltage. esd can damage a die and its reliability. \\nwhen handling the products, the following measures against electrostatic discharge are strongly \\nrecommended: \\neliminating the charge \\ngrounded wrist strap, esd footwear, clothes, and floors \\ngrounded workstation equipment and tools \\nesd table/shelf mat made of conductive materials \\n \\nproper grounding is required for all devices, equipment, and machinery used in product assembly. \\nsurge protection should be considered when designing of commercial products. \\n \\nif tools or equipment contain insulating materials such as glass or plastic, \\nthe following measures against electrostatic discharge are strongly recommended: \\ndissipating static charge with conductive materials \\npreventing charge generation with moisture  \\nneutralizing the charge with ionizers \\n7. \\ndirections for use \\n \\nthe leds should be operated with forward bias. the driving circuit must be designed so that the leds are not subjected \\nto forward or reverse voltage while it is off. if reverse voltage is continuously applied to the leds, it may cause migration \\nresulting in led damage. \\n \\n \\ndisclaimer \\n \\n \\n1. \\neverlight reserves the right(s) on the adjustment of product material mix for the specification. \\n2. \\nthe product meets everlight published specification for a period of twelve (12) months from date of \\nshipment. \\n3. \\nthe graphs shown in this datasheet are representing typical data only and do not show guaranteed values. \\n　\\nver.:4     release date:10/05/2018      狀態:approved(正式發行)\\ndatasheet \\nlamp \\n1003subd/s400-a6 \\n \\n \\n \\n8  \\ncopyright © 2010, everlight all rights reserved. release date : sep.27. 2018 issue no: dle-0003884_rev.4 \\nwww.everlight.com \\n \\n4. \\nwhen using this product, please observe the absolute maximum ratings and the instructions for using outlined \\nin these specification sheets. everlight assumes no responsibility for any damage resulting from the use of \\nthe product which does not comply with the absolute maximum ratings and the instructions included in these \\nspecification sheets. \\n5. \\nthese specification sheets include materials protected under copyright of everlight. reproduction in any \\nform is prohibited without obtaining everlight’s prior consent. \\n6. \\nthis product is not intended to be used for military, aircraft, automotive, medical, life sustaining or life saving \\napplications or any other application which can result in human injury or death. please contact authorized \\neverlight sales agent for special application request. \\n \\n \\n　\\nver.:4     release date:10/05/2018      狀態:approved(正式發行)\\n</td>\n",
       "      <td>[power dissipation, max, dissipating static charge with conductive materials, are  months if the leds are stored for  months or more, they can be stored for a year in a sealed container with a, measurement uncertainty of forward voltage v,  for  sec, bath temp  time, distance, heat management of leds must be taken into consideration during the design stage of led application the current, computer, applications or any other application which can result in human injury or death please contact authorized, fluxing, avoiding applying any stress to the lead frame while the leds are at high temperature particularly when soldering, /, peak forward current duty /  khz, specification sheets, chip, everlight reserves the rights on the adjustment of product material mix for the specification, esd table/shelf mat made of conductive materials, lead forming should be done before soldering, one minute dry at room temperature before use, subd/sa, pb free, soldering, blue, room temperature, resulting in led damage, viewing angle, avoid stressing the led package during leads forming the stress to the base may damage the leds characteristics or it,  packing quantity, to forward or reverse voltage while it is off if reverse voltage is continuously applied to the leds, it may cause migration, label explanation, peak wavelength, relative intensity vs forward current ta, ref reference, all dimensions are in millimeters, do not clean the leds by the ultrasonic when it is absolutely necessary, the influence of ultrasonic cleaning on the leds, a, careful attention should be paid during soldering when soldering, leave more then mm from solder joint to epoxy bulb, vf, dip soldering, tsol, deg, monitor, operating temperature, note, the leds should be stored at c or less and rh or less after being shipped from everlight and the storage life limits, materials, reverse voltage, a rapidrate process is not recommended for cooling the leds down from the peak temperature, directivity ta, dip and hand soldering should not be done more than one time, sec max, wave, recommended soldering conditions, the temperature surrounding the led in the application should be controlled please refer to the data sheet derating, forward current vs forward voltage ta, p, preheat temp, typ, soldering time, recommended soldering profile, nitrogen atmosphere and moisture absorbent material, ambient temperature ta, wavelength nm, package dimension, radiation angle, in these specification sheets everlight assumes no responsibility for any damage resulting from the use of, forward current ma, grounded wrist strap, esd footwear, clothes, and floors, moisture resistant packing materials, packing specification, lamp, choice of various viewing angles, typical electrooptical characteristics curves, unit, mcd, d, emitted color, eliminating the charge, min, cat ranks, storage temperature, forward currentma, joint to epoxy bulb, symbol, cut the led lead frames at room temperature cutting the lead frames at high temperatures may cause failure of the leds, tstg, relative intensity vs ambient temp, occur, vr, forward voltage, device selection guide, the series is specially designed for applications requiring higher brightness, cpn customers  production number, depends on factors such as ultrasonic power and the assembled condition ultrasonic cleaning shall be prequalified to, the products are sensitive to static electricity or surge voltage esd can damage a die and its reliability, hue dominant wavelength, directions for use, shipment, ...]</td>\n",
       "      <td>True</td>\n",
       "      <td>are  months if the leds are stored for  months or more, they can be stored for a year in a sealed container with a</td>\n",
       "    </tr>\n",
       "    <tr>\n",
       "      <th>14</th>\n",
       "      <td>P-14</td>\n",
       "      <td>https://en.everlight.com/wp-content/plugins/ItemRelationship/product_files/pdf/1003SUGD-S400-A4.pdf</td>\n",
       "      <td>Yes</td>\n",
       "      <td>\\n1  \\nCopyright © 2010, Everlight All Rights Reserved. Release Date : Dec.19. 2013. Issue No: DLE-0005238.Rev.2 \\nwww.everlight.com \\n \\n \\n \\n LAMP \\n1003SUGD/S400-A4 \\n \\n \\n \\n \\n \\n \\n \\n \\n \\n \\n \\n \\n \\n \\n \\n \\n \\n \\n \\n \\n \\n \\n \\n \\n \\n \\n \\n \\n \\n \\n \\n \\n \\n \\n \\nFeatures \\n• Choice of various viewing angles \\n• Available on tape and reel. \\n• Reliable and robust \\n• Pb free \\n• The product itself will remain within RoHS compliant version. \\n \\nDescription \\n•The series is specially designed for applications requiring higher brightness \\n•The led lamps are available with different colors, intensities.. \\n \\nApplications \\n• TV set \\n• Monitor \\n• Telephone \\n• Computer \\n \\n \\n \\n \\n \\n \\n \\n \\n \\n \\n \\n \\n \\n \\n \\n \\n \\n \\n \\n \\n \\n \\n \\n \\n \\n \\n \\n　\\nVer.:2     Release Date:12/25/2013      狀態:Approved(正式發行)\\nDATASHEET \\nLAMP \\n1003SUGD/S400-A4 \\n \\n \\n2  \\nCopyright © 2010, Everlight All Rights Reserved. Release Date : Dec.19. 2013. Issue No: DLE-0005238.Rev.2 \\nwww.everlight.com \\n \\n \\n Device Selection Guide \\n \\nChip \\nMaterials \\nEmitted Color \\nResin Color \\nInGaN \\nBrilliant Green \\nGreen Diffused \\n \\n \\n \\n \\n Absolute Maximum Ratings (Ta=25℃) \\n \\nParameter \\nSymbol \\nRating \\nUnit \\nContinuous Forward Current \\nIF \\n25 \\nmA \\nPeak Forward Current (Duty 1/10 @ 1KHZ) \\nIFP \\n100 \\nmA \\nReverse Voltage \\nVR \\n5 \\nV \\nPower Dissipation \\nPd \\n90 \\nmW \\nOperating Temperature \\nTopr \\n-40 ~ +85 \\n℃ \\nStorage Temperature \\nTstg \\n-40 ~ +100 \\n℃ \\nSoldering Temperature \\nTsol \\n260 ℃ for 5 sec. \\n \\n \\n \\n \\n \\n Electro-Optical Characteristics (Ta=25℃) \\n \\nParameter \\nSymbol \\nMin. \\nTyp. \\nMax. \\nUnit \\nCondition\\nLuminous Intensity \\nIv \\n16 \\n50 \\n----- \\nmcd \\nIF=20mA \\nViewing Angle \\n2θ1/2 \\n----- \\n110 \\n----- \\ndeg \\nIF=20mA \\nPeak Wavelength \\nλp \\n----- \\n518 \\n----- \\nnm \\nIF=20mA \\nDominant Wavelength \\nλd \\n----- \\n525 \\n----- \\nnm \\nIF=20mA \\nSpectrum Radiation Bandwidth \\nΔλ \\n----- \\n35 \\n----- \\nnm \\nIF=20mA \\nForward Voltage \\nVF \\n----- \\n3.3 \\n4.0 \\nV \\nIF=20mA \\nReverse Current \\nIR \\n----- \\n----- \\n50 \\nμA \\nVR=5V \\n \\n \\n \\n \\n \\n \\n \\n \\n　\\nVer.:2     Release Date:12/25/2013      狀態:Approved(正式發行)\\nDATASHEET \\nLAMP \\n1003SUGD/S400-A4 \\n \\n \\n3  \\nCopyright © 2010, Everlight All Rights Reserved. Release Date : Dec.19. 2013. Issue No: DLE-0005238.Rev.2 \\nwww.everlight.com \\n \\n Typical Electro-Optical Characteristics Curves\\n \\n \\nRelative Intensity vs. Wavelength (Ta=25℃)\\nDirectivity (Ta=25℃) \\n \\nRelative Intensity (a.u.) \\nRadiation Angle \\n \\n \\n \\nWavelength (nm) \\n \\nRelative Intensity (a.u.) \\n \\n \\nForward Current vs. Forward Voltage (Ta=25℃) \\nRelative Intensity vs. Forward Current (Ta=25℃) \\n \\nForward Current (mA) \\n1.5\\n2.0\\n2.5\\n3.0\\n3.5\\n4.0\\n4.5\\n0\\n5\\n10\\n15\\n20\\n25\\n \\nRelative Intensity(a.u.) \\n0\\n5\\n10\\n15\\n20\\n25\\n0.0\\n0.5\\n1.0\\n1.5\\n  \\nForward Voltage (V) \\n \\nForward Current (mA) \\n \\n \\nRelative Intensity vs. Ambient Temp. \\nForward Current vs. Ambient Temp. \\n \\nRelative Intensity(a.u.) \\n25\\n30\\n35\\n40\\n45\\n50\\n55\\n60\\n65\\n70\\n0.0\\n0.5\\n1.0\\n1.5\\n2.0\\n \\nForward Current (mA) \\n0\\n20\\n40\\n60\\n80\\n100\\n0\\n10\\n20\\n30\\n40\\n  \\nAmbient Temperature Ta(℃) \\n \\nAmbient Temperature Ta(℃) \\n \\n \\n　\\nVer.:2     Release Date:12/25/2013      狀態:Approved(正式發行)\\nDATASHEET \\nLAMP \\n1003SUGD/S400-A4 \\n \\n \\n4  \\nCopyright © 2010, Everlight All Rights Reserved. Release Date : Dec.19. 2013. Issue No: DLE-0005238.Rev.2 \\nwww.everlight.com \\n \\n  Package Dimension \\n \\n \\n \\n \\n \\n \\n \\n \\n \\n \\n \\n \\n \\n \\n \\n \\n \\n \\n \\n \\n \\n \\n \\n \\n \\n \\n \\n \\n \\n \\n \\n \\n \\n \\n \\n \\n \\n \\n \\n \\n \\n \\nNote: Note: \\n1. All dimensions are in millimeters \\n2. The height of flange must be less than 1.5mm(0.059\"). \\n3. Without special declared, the tolerance is ±0.25mm. \\n \\n \\n \\n　\\nVer.:2     Release Date:12/25/2013      狀態:Approved(正式發行)\\nDATASHEET \\nLAMP \\n1003SUGD/S400-A4 \\n \\n \\n5  \\nCopyright © 2010, Everlight All Rights Reserved. Release Date : Dec.19. 2013. Issue No: DLE-0005238.Rev.2 \\nwww.everlight.com \\n \\nPb\\nEL ECTROSTATIC ELECTRONAGNETIC \\nMAGNETIC OR RADIOACTIVE RELDS\\nanti-static for 750\\n \\n Moisture Resistant Packing Materials \\nLabel Explanation \\n \\n \\nCPN: Customer's  Production Number \\nP/N : Production Number \\nQTY: Packing Quantity \\nCAT: Ranks \\nHUE: Dominant Wavelength \\nREF: Reference \\nLOT No: Lot Number \\n \\n \\n \\n \\n Packing Specification \\n■ Anti-electrostatic bag              ■ Inner Carton                       ■ Outside Carton \\n \\n \\n \\n \\n \\n \\n \\n \\n \\n \\n \\n \\n \\n \\n \\n \\n \\n \\n \\n \\n \\n \\n \\n \\n \\nRoHS\\nPb\\nX\\nEVERLIGHT\\n1003SUGD/S400-A4\\n■ Packing Quantity  \\n1.500 PCS/1 Bag, 5 Bags/1 Inner Carton \\n2. 10 Inner Cartons/1 Outside Carton \\n　\\nVer.:2     Release Date:12/25/2013      狀態:Approved(正式發行)\\nDATASHEET \\nLAMP \\n1003SUGD/S400-A4 \\n \\n \\n6  \\nCopyright © 2010, Everlight All Rights Reserved. Release Date : Dec.19. 2013. Issue No: DLE-0005238.Rev.2 \\nwww.everlight.com \\n \\nPrehead\\nlaminar wave\\nFluxing\\n \\n \\nNotes \\n \\n1. \\nLead Forming \\n \\nDuring lead formation, the leads should be bent at a point at least 3mm from the base of the epoxy bulb. \\n \\nLead forming should be done before soldering. \\n \\nAvoid stressing the LED package during leads forming. The stress to the base may damage the LED’s characteristics or it \\nmay break the LEDs. \\n \\nCut the LED lead frames at room temperature. Cutting the lead frames at high temperatures may cause failure of the LEDs. \\n \\nWhen mounting the LEDs onto a PCB, the PCB holes must be aligned exactly with the lead position of the LED. If the LEDs \\nare mounted with stress at the leads, it causes deterioration of the epoxy resin and this will degrade the LEDs. \\n2. \\nStorage \\n \\nThe LEDs should be stored at 30°C or less and 70%RH or less after being shipped from Everlight and the storage life limits \\nare 3 months. If the LEDs are stored for 3 months or more, they can be stored for a year in a sealed container with a \\nnitrogen atmosphere and moisture absorbent material. \\n \\nPlease avoid rapid transitions in ambient temperature, especially, in high humidity environments where condensation can \\noccur. \\n3. \\nSoldering \\n \\nCareful attention should be paid during soldering. When soldering, leave more then 3mm from solder joint to epoxy bulb, \\nand soldering beyond the base of the tie bar is recommended. \\n \\nRecommended soldering conditions: \\nHand Soldering \\nDIP Soldering \\nTemp. at tip of iron \\n300℃ Max. (30W Max.)\\nPreheat temp. \\n100℃ Max. (60 sec Max.) \\nSoldering time \\n3 sec Max. \\nBath temp. &amp; time \\n260 Max., 5 sec Max \\nDistance \\n3mm Min.(From solder \\njoint to epoxy bulb) \\nDistance \\n3mm Min. (From solder \\njoint to epoxy bulb) \\n \\nRecommended soldering profile \\n \\n \\n \\n \\n \\n \\n \\n \\n \\n \\n \\n \\n \\n \\nAvoiding applying any stress to the lead frame while the LEDs are at high temperature particularly when soldering. \\n \\nDip and hand soldering should not be done more than one time \\n \\n \\nAfter soldering the LEDs, the epoxy bulb should be protected from mechanical shock or vibration until the LEDs return to \\nroom temperature. \\n　\\nVer.:2     Release Date:12/25/2013      狀態:Approved(正式發行)\\nDATASHEET \\nLAMP \\n1003SUGD/S400-A4 \\n \\n \\n7  \\nCopyright © 2010, Everlight All Rights Reserved. Release Date : Dec.19. 2013. Issue No: DLE-0005238.Rev.2 \\nwww.everlight.com \\n \\n \\nA rapid-rate process is not recommended for cooling the LEDs down from the peak temperature. \\n \\nAlthough the recommended soldering conditions are specified in the above table, dip or hand soldering at the lowest \\npossible temperature is desirable for the LEDs. \\n \\n \\nWave soldering parameter must be set and maintain according to recommended temperature and dwell time in the solder \\nwave.  \\n4. \\nCleaning \\n \\nWhen necessary, cleaning should occur only with isopropyl alcohol at room temperature for a duration of no more than \\none minute. Dry at room temperature before use. \\n \\nDo not clean the LEDs by the ultrasonic. When it is absolutely necessary, the influence of ultrasonic cleaning on the LEDs \\ndepends on factors such as ultrasonic power and the assembled condition. Ultrasonic cleaning shall be pre-qualified to \\nensure this will not cause damage to the LED \\n5. \\nHeat Management \\n \\nHeat management of LEDs must be taken into consideration during the design stage of LED application. The current \\nshould be de-rated appropriately by referring to the de-rating curve found in each product specification. \\n \\nThe temperature surrounding the LED in the application should be controlled. Please refer to the data sheet de-rating \\ncurve. \\n6. ESD (Electrostatic Discharge) \\n \\nThe products are sensitive to static electricity or surge voltage. ESD can damage a die and its reliability. \\nWhen handling the products, the following measures against electrostatic discharge are strongly \\nrecommended: \\nEliminating the charge \\nGrounded wrist strap, ESD footwear, clothes, and floors \\nGrounded workstation equipment and tools \\nESD table/shelf mat made of conductive materials \\n \\nProper grounding is required for all devices, equipment, and machinery used in product assembly. \\nSurge protection should be considered when designing of commercial products. \\n \\nIf tools or equipment contain insulating materials such as glass or plastic, \\nthe following measures against electrostatic discharge are strongly recommended: \\nDissipating static charge with conductive materials \\nPreventing charge generation with moisture  \\nNeutralizing the charge with ionizers \\n7. \\nDirections for use \\n \\nThe LEDs should be operated with forward bias. The driving circuit must be designed so that the LEDs are not subjected \\nto forward or reverse voltage while it is off. If reverse voltage is continuously applied to the LEDs, it may cause migration \\nresulting in LED damage. \\n8. \\nOther \\n \\nAbove specification may be changed without notice. EVERLIGHT will reserve authority on material change for above \\nspecification. \\n \\nWhen using this product, please observe the absolute maximum ratings and the instructions for using outlined in these \\nspecification sheets. EVERLIGHT assumes no responsibility for any damage resulting from use of the product which does \\nnot comply  \\nwith the absolute maximum ratings and the instructions included in these specification sheets. \\n　\\nVer.:2     Release Date:12/25/2013      狀態:Approved(正式發行)\\nDATASHEET \\nLAMP \\n1003SUGD/S400-A4 \\n \\n \\n8  \\nCopyright © 2010, Everlight All Rights Reserved. Release Date : Dec.19. 2013. Issue No: DLE-0005238.Rev.2 \\nwww.everlight.com \\n \\n \\nThese specification sheets include materials protected under copyright of EVERLIGHT corporation. Please don’t \\nreproduce or cause anyone to reproduce them without EVERLIGHT’s consent. \\n \\n　\\nVer.:2     Release Date:12/25/2013      狀態:Approved(正式發行)\\n</td>\n",
       "      <td>\\n1  \\ncopyright © 2010, everlight all rights reserved. release date : dec.19. 2013. issue no: dle-0005238.rev.2 \\nwww.everlight.com \\n \\n \\n \\n lamp \\n1003sugd/s400-a4 \\n \\n \\n \\n \\n \\n \\n \\n \\n \\n \\n \\n \\n \\n \\n \\n \\n \\n \\n \\n \\n \\n \\n \\n \\n \\n \\n \\n \\n \\n \\n \\n \\n \\n \\n \\nfeatures \\n• choice of various viewing angles \\n• available on tape and reel. \\n• reliable and robust \\n• pb free \\n• the product itself will remain within rohs compliant version. \\n \\ndescription \\n•the series is specially designed for applications requiring higher brightness \\n•the led lamps are available with different colors, intensities.. \\n \\napplications \\n• tv set \\n• monitor \\n• telephone \\n• computer \\n \\n \\n \\n \\n \\n \\n \\n \\n \\n \\n \\n \\n \\n \\n \\n \\n \\n \\n \\n \\n \\n \\n \\n \\n \\n \\n \\n　\\nver.:2     release date:12/25/2013      狀態:approved(正式發行)\\ndatasheet \\nlamp \\n1003sugd/s400-a4 \\n \\n \\n2  \\ncopyright © 2010, everlight all rights reserved. release date : dec.19. 2013. issue no: dle-0005238.rev.2 \\nwww.everlight.com \\n \\n \\n device selection guide \\n \\nchip \\nmaterials \\nemitted color \\nresin color \\ningan \\nbrilliant green \\ngreen diffused \\n \\n \\n \\n \\n absolute maximum ratings (ta=25℃) \\n \\nparameter \\nsymbol \\nrating \\nunit \\ncontinuous forward current \\nif \\n25 \\nma \\npeak forward current (duty 1/10 @ 1khz) \\nifp \\n100 \\nma \\nreverse voltage \\nvr \\n5 \\nv \\npower dissipation \\npd \\n90 \\nmw \\noperating temperature \\ntopr \\n-40 ~ +85 \\n℃ \\nstorage temperature \\ntstg \\n-40 ~ +100 \\n℃ \\nsoldering temperature \\ntsol \\n260 ℃ for 5 sec. \\n \\n \\n \\n \\n \\n electro-optical characteristics (ta=25℃) \\n \\nparameter \\nsymbol \\nmin. \\ntyp. \\nmax. \\nunit \\ncondition\\nluminous intensity \\niv \\n16 \\n50 \\n----- \\nmcd \\nif=20ma \\nviewing angle \\n2θ1/2 \\n----- \\n110 \\n----- \\ndeg \\nif=20ma \\npeak wavelength \\nλp \\n----- \\n518 \\n----- \\nnm \\nif=20ma \\ndominant wavelength \\nλd \\n----- \\n525 \\n----- \\nnm \\nif=20ma \\nspectrum radiation bandwidth \\nδλ \\n----- \\n35 \\n----- \\nnm \\nif=20ma \\nforward voltage \\nvf \\n----- \\n3.3 \\n4.0 \\nv \\nif=20ma \\nreverse current \\nir \\n----- \\n----- \\n50 \\nμa \\nvr=5v \\n \\n \\n \\n \\n \\n \\n \\n \\n　\\nver.:2     release date:12/25/2013      狀態:approved(正式發行)\\ndatasheet \\nlamp \\n1003sugd/s400-a4 \\n \\n \\n3  \\ncopyright © 2010, everlight all rights reserved. release date : dec.19. 2013. issue no: dle-0005238.rev.2 \\nwww.everlight.com \\n \\n typical electro-optical characteristics curves\\n \\n \\nrelative intensity vs. wavelength (ta=25℃)\\ndirectivity (ta=25℃) \\n \\nrelative intensity (a.u.) \\nradiation angle \\n \\n \\n \\nwavelength (nm) \\n \\nrelative intensity (a.u.) \\n \\n \\nforward current vs. forward voltage (ta=25℃) \\nrelative intensity vs. forward current (ta=25℃) \\n \\nforward current (ma) \\n1.5\\n2.0\\n2.5\\n3.0\\n3.5\\n4.0\\n4.5\\n0\\n5\\n10\\n15\\n20\\n25\\n \\nrelative intensity(a.u.) \\n0\\n5\\n10\\n15\\n20\\n25\\n0.0\\n0.5\\n1.0\\n1.5\\n  \\nforward voltage (v) \\n \\nforward current (ma) \\n \\n \\nrelative intensity vs. ambient temp. \\nforward current vs. ambient temp. \\n \\nrelative intensity(a.u.) \\n25\\n30\\n35\\n40\\n45\\n50\\n55\\n60\\n65\\n70\\n0.0\\n0.5\\n1.0\\n1.5\\n2.0\\n \\nforward current (ma) \\n0\\n20\\n40\\n60\\n80\\n100\\n0\\n10\\n20\\n30\\n40\\n  \\nambient temperature ta(℃) \\n \\nambient temperature ta(℃) \\n \\n \\n　\\nver.:2     release date:12/25/2013      狀態:approved(正式發行)\\ndatasheet \\nlamp \\n1003sugd/s400-a4 \\n \\n \\n4  \\ncopyright © 2010, everlight all rights reserved. release date : dec.19. 2013. issue no: dle-0005238.rev.2 \\nwww.everlight.com \\n \\n  package dimension \\n \\n \\n \\n \\n \\n \\n \\n \\n \\n \\n \\n \\n \\n \\n \\n \\n \\n \\n \\n \\n \\n \\n \\n \\n \\n \\n \\n \\n \\n \\n \\n \\n \\n \\n \\n \\n \\n \\n \\n \\n \\n \\nnote: note: \\n1. all dimensions are in millimeters \\n2. the height of flange must be less than 1.5mm(0.059\"). \\n3. without special declared, the tolerance is ±0.25mm. \\n \\n \\n \\n　\\nver.:2     release date:12/25/2013      狀態:approved(正式發行)\\ndatasheet \\nlamp \\n1003sugd/s400-a4 \\n \\n \\n5  \\ncopyright © 2010, everlight all rights reserved. release date : dec.19. 2013. issue no: dle-0005238.rev.2 \\nwww.everlight.com \\n \\npb\\nel ectrostatic electronagnetic \\nmagnetic or radioactive relds\\nanti-static for 750\\n \\n moisture resistant packing materials \\nlabel explanation \\n \\n \\ncpn: customer's  production number \\np/n : production number \\nqty: packing quantity \\ncat: ranks \\nhue: dominant wavelength \\nref: reference \\nlot no: lot number \\n \\n \\n \\n \\n packing specification \\n■ anti-electrostatic bag              ■ inner carton                       ■ outside carton \\n \\n \\n \\n \\n \\n \\n \\n \\n \\n \\n \\n \\n \\n \\n \\n \\n \\n \\n \\n \\n \\n \\n \\n \\n \\nrohs\\npb\\nx\\neverlight\\n1003sugd/s400-a4\\n■ packing quantity  \\n1.500 pcs/1 bag, 5 bags/1 inner carton \\n2. 10 inner cartons/1 outside carton \\n　\\nver.:2     release date:12/25/2013      狀態:approved(正式發行)\\ndatasheet \\nlamp \\n1003sugd/s400-a4 \\n \\n \\n6  \\ncopyright © 2010, everlight all rights reserved. release date : dec.19. 2013. issue no: dle-0005238.rev.2 \\nwww.everlight.com \\n \\nprehead\\nlaminar wave\\nfluxing\\n \\n \\nnotes \\n \\n1. \\nlead forming \\n \\nduring lead formation, the leads should be bent at a point at least 3mm from the base of the epoxy bulb. \\n \\nlead forming should be done before soldering. \\n \\navoid stressing the led package during leads forming. the stress to the base may damage the led’s characteristics or it \\nmay break the leds. \\n \\ncut the led lead frames at room temperature. cutting the lead frames at high temperatures may cause failure of the leds. \\n \\nwhen mounting the leds onto a pcb, the pcb holes must be aligned exactly with the lead position of the led. if the leds \\nare mounted with stress at the leads, it causes deterioration of the epoxy resin and this will degrade the leds. \\n2. \\nstorage \\n \\nthe leds should be stored at 30°c or less and 70%rh or less after being shipped from everlight and the storage life limits \\nare 3 months. if the leds are stored for 3 months or more, they can be stored for a year in a sealed container with a \\nnitrogen atmosphere and moisture absorbent material. \\n \\nplease avoid rapid transitions in ambient temperature, especially, in high humidity environments where condensation can \\noccur. \\n3. \\nsoldering \\n \\ncareful attention should be paid during soldering. when soldering, leave more then 3mm from solder joint to epoxy bulb, \\nand soldering beyond the base of the tie bar is recommended. \\n \\nrecommended soldering conditions: \\nhand soldering \\ndip soldering \\ntemp. at tip of iron \\n300℃ max. (30w max.)\\npreheat temp. \\n100℃ max. (60 sec max.) \\nsoldering time \\n3 sec max. \\nbath temp. &amp; time \\n260 max., 5 sec max \\ndistance \\n3mm min.(from solder \\njoint to epoxy bulb) \\ndistance \\n3mm min. (from solder \\njoint to epoxy bulb) \\n \\nrecommended soldering profile \\n \\n \\n \\n \\n \\n \\n \\n \\n \\n \\n \\n \\n \\n \\navoiding applying any stress to the lead frame while the leds are at high temperature particularly when soldering. \\n \\ndip and hand soldering should not be done more than one time \\n \\n \\nafter soldering the leds, the epoxy bulb should be protected from mechanical shock or vibration until the leds return to \\nroom temperature. \\n　\\nver.:2     release date:12/25/2013      狀態:approved(正式發行)\\ndatasheet \\nlamp \\n1003sugd/s400-a4 \\n \\n \\n7  \\ncopyright © 2010, everlight all rights reserved. release date : dec.19. 2013. issue no: dle-0005238.rev.2 \\nwww.everlight.com \\n \\n \\na rapid-rate process is not recommended for cooling the leds down from the peak temperature. \\n \\nalthough the recommended soldering conditions are specified in the above table, dip or hand soldering at the lowest \\npossible temperature is desirable for the leds. \\n \\n \\nwave soldering parameter must be set and maintain according to recommended temperature and dwell time in the solder \\nwave.  \\n4. \\ncleaning \\n \\nwhen necessary, cleaning should occur only with isopropyl alcohol at room temperature for a duration of no more than \\none minute. dry at room temperature before use. \\n \\ndo not clean the leds by the ultrasonic. when it is absolutely necessary, the influence of ultrasonic cleaning on the leds \\ndepends on factors such as ultrasonic power and the assembled condition. ultrasonic cleaning shall be pre-qualified to \\nensure this will not cause damage to the led \\n5. \\nheat management \\n \\nheat management of leds must be taken into consideration during the design stage of led application. the current \\nshould be de-rated appropriately by referring to the de-rating curve found in each product specification. \\n \\nthe temperature surrounding the led in the application should be controlled. please refer to the data sheet de-rating \\ncurve. \\n6. esd (electrostatic discharge) \\n \\nthe products are sensitive to static electricity or surge voltage. esd can damage a die and its reliability. \\nwhen handling the products, the following measures against electrostatic discharge are strongly \\nrecommended: \\neliminating the charge \\ngrounded wrist strap, esd footwear, clothes, and floors \\ngrounded workstation equipment and tools \\nesd table/shelf mat made of conductive materials \\n \\nproper grounding is required for all devices, equipment, and machinery used in product assembly. \\nsurge protection should be considered when designing of commercial products. \\n \\nif tools or equipment contain insulating materials such as glass or plastic, \\nthe following measures against electrostatic discharge are strongly recommended: \\ndissipating static charge with conductive materials \\npreventing charge generation with moisture  \\nneutralizing the charge with ionizers \\n7. \\ndirections for use \\n \\nthe leds should be operated with forward bias. the driving circuit must be designed so that the leds are not subjected \\nto forward or reverse voltage while it is off. if reverse voltage is continuously applied to the leds, it may cause migration \\nresulting in led damage. \\n8. \\nother \\n \\nabove specification may be changed without notice. everlight will reserve authority on material change for above \\nspecification. \\n \\nwhen using this product, please observe the absolute maximum ratings and the instructions for using outlined in these \\nspecification sheets. everlight assumes no responsibility for any damage resulting from use of the product which does \\nnot comply  \\nwith the absolute maximum ratings and the instructions included in these specification sheets. \\n　\\nver.:2     release date:12/25/2013      狀態:approved(正式發行)\\ndatasheet \\nlamp \\n1003sugd/s400-a4 \\n \\n \\n8  \\ncopyright © 2010, everlight all rights reserved. release date : dec.19. 2013. issue no: dle-0005238.rev.2 \\nwww.everlight.com \\n \\n \\nthese specification sheets include materials protected under copyright of everlight corporation. please don’t \\nreproduce or cause anyone to reproduce them without everlight’s consent. \\n \\n　\\nver.:2     release date:12/25/2013      狀態:approved(正式發行)\\n</td>\n",
       "      <td>[power dissipation, max, dissipating static charge with conductive materials, are  months if the leds are stored for  months or more, they can be stored for a year in a sealed container with a,  for  sec, bath temp  time, distance, heat management of leds must be taken into consideration during the design stage of led application the current, computer, fluxing, avoiding applying any stress to the lead frame while the leds are at high temperature particularly when soldering, /, peak forward current duty /  khz, not comply, chip, esd table/shelf mat made of conductive materials, lead forming should be done before soldering, one minute dry at room temperature before use, pb free, soldering, room temperature, with the absolute maximum ratings and the instructions included in these specification sheets, resulting in led damage, viewing angle, avoid stressing the led package during leads forming the stress to the base may damage the leds characteristics or it,  packing quantity, to forward or reverse voltage while it is off if reverse voltage is continuously applied to the leds, it may cause migration, label explanation, peak wavelength, when using this product, please observe the absolute maximum ratings and the instructions for using outlined in these, relative intensity vs forward current ta, ref reference, all dimensions are in millimeters, do not clean the leds by the ultrasonic when it is absolutely necessary, the influence of ultrasonic cleaning on the leds, a, careful attention should be paid during soldering when soldering, leave more then mm from solder joint to epoxy bulb, vf, above specification may be changed without notice everlight will reserve authority on material change for above, dip soldering, brilliant green, tsol, deg, monitor, operating temperature, the leds should be stored at c or less and rh or less after being shipped from everlight and the storage life limits, materials, reverse voltage, a rapidrate process is not recommended for cooling the leds down from the peak temperature, directivity ta, dip and hand soldering should not be done more than one time, sec max, wave, recommended soldering conditions, the temperature surrounding the led in the application should be controlled please refer to the data sheet derating, forward current vs forward voltage ta, p, reproduce or cause anyone to reproduce them without everlights consent, preheat temp, typ, soldering time, recommended soldering profile, nitrogen atmosphere and moisture absorbent material, ambient temperature ta, wavelength nm, package dimension, radiation angle, forward current ma, grounded wrist strap, esd footwear, clothes, and floors, moisture resistant packing materials, packing specification, lamp, choice of various viewing angles, typical electrooptical characteristics curves, unit, mcd, d, emitted color, eliminating the charge, min, cat ranks, storage temperature, x, rohs, joint to epoxy bulb, symbol, cut the led lead frames at room temperature cutting the lead frames at high temperatures may cause failure of the leds, tstg, relative intensity vs ambient temp, occur, vr, forward voltage, device selection guide, the series is specially designed for applications requiring higher brightness, cpn customers  production number, depends on factors such as ultrasonic power and the assembled condition ultrasonic cleaning shall be prequalified to, the products are sensitive to static electricity or surge voltage esd can damage a die and its reliability, hue dominant wavelength, green diffused, directions for use, el ectrostatic electronagnetic, ...]</td>\n",
       "      <td>True</td>\n",
       "      <td>are  months if the leds are stored for  months or more, they can be stored for a year in a sealed container with a</td>\n",
       "    </tr>\n",
       "  </tbody>\n",
       "</table>\n",
       "</div>"
      ],
      "text/plain": [
       "      id  \\\n",
       "0    P-0   \n",
       "1    P-1   \n",
       "12  P-12   \n",
       "13  P-13   \n",
       "14  P-14   \n",
       "\n",
       "                                                                                                             url  \\\n",
       "0      https://a4b6eb24-cef6-4be0-88b1-aa225dd7e4f7.usrfiles.com/ugd/a4b6eb_617bfed66731495e997bcacd789777ad.pdf   \n",
       "1      https://a4b6eb24-cef6-4be0-88b1-aa225dd7e4f7.usrfiles.com/ugd/a4b6eb_c53e05a13ae1462eabbdc1c66c1efbb8.pdf   \n",
       "12  https://en.everlight.com/wp-content/plugins/ItemRelationship/product_files/pdf/031-IRM-37XXT_Series_data.pdf   \n",
       "13           https://en.everlight.com/wp-content/plugins/ItemRelationship/product_files/pdf/1003SUBD-S400-A6.pdf   \n",
       "14           https://en.everlight.com/wp-content/plugins/ItemRelationship/product_files/pdf/1003SUGD-S400-A4.pdf   \n",
       "\n",
       "   is_lighting  \\\n",
       "0          Yes   \n",
       "1          Yes   \n",
       "12          No   \n",
       "13         Yes   \n",
       "14         Yes   \n",
       "\n",
       "                                                                                                                                                                                                                                                                                                                                                                                                                                                                                                                                                                                                                                                                                                                                                                                                                                                                                                                                                                                                                                                                                                                                                                                                                                                                                                                                                                                                                                                                                                                                                                                                                                                                                                                                                                                                                                                                                                                                                                                                                                                                                                                                                                                                                                                                                                                                                                                                                                                                                                                                                                                                                                                                                                                                                                                                                                                                                                                                                                                                                                                                                                                                                                                                                                                                                                                                                                                                                                                                                                                                                                                                                                                                                                                                                                                                                                                                                                                                                                                                                                                                                                                                                                                                                                                                                                                                                                                                                                                                                                                                                                                                                                                                                                                                                                                                                                                                                                                                                                                                                                                                                                                                                                                                                                                                                                                                                                                                                                                                                                                                                                                                                                                                                                                                                                                                                                                                                                                                                                                                                                                                                                                                                                                                                                                                                                                                                                                                                                                                                                                                                                                                                                                                                                                                                                                                                                                                                                                                                                                                                                                                                                                                                                                                                                                                                                                                                                                                                                                                                                                                                                                                                                                                                                                                                                                                                                                                                                                                                                                                                                                                                                                                                                                                                                                                                                                                                                                                                                                                                                                                                                                                                                                                                                                                                                                                                                                                                                                                                                                                                                                                                                                                                                                                                                                                                                                                                                                                                                                                                                                                                                                                                                                                                                                                                                                                                                                                                                                                                                                                                                                                                                                                                                                                                                                                                                                                                                                                                                                                                                                                                                                                                                                                                                                                                                                                                                                                                                                                                                                                                                                                                                                                                                                                                                                                                                                                                                                                                                                                                                                                                                                                                                                                                                                                                                                                                                                                                                                                                                                                                                                                                                                                                                                                                                                                                                                                                                                                                                                                                                                                                                                                                                                                                                                                                                                                                                                                                                                                                                             parsed_text  \\\n",
       "0                                                                                                                                                                                                                                                                                                                                                                                                                                                                                                                                                                                                                                                                                                                                                                                                                                                                                                                                                                                                                                                                                                                                                                                                                                                                                                                                                                                                                                                                                                                                                                                                                                                                                                                                                                                                                                                                                                                                                                                                                                                                                                                                                                                                                                                                                                                                                                                                                                                                                                                                                                                                                                                                                                                                                                                                                                                                                                                                                                                                                                                                                                                                                                                                                                                                                                                                                                                                                                                                                                                                                                                                                                                                                                                                                                                                                                                                                                                                                                                                                                                                                                                                                                                                                                                                                                                                                                                                                                                                                                                                                                                                                                                                                                                                                                                                                                                                                                                                                                                                                                                                                                                                                                                                                                                                                                                                                                                                                                                                                                                                                                                                                                                                                                                                                                                                                                                                                                                                                                                                                                                                                                                                                                                                                                                                                                                                                                                                                                                                                                                                                                                                                                                                                                                                                                                                                                                                                                                                                                                                                                                                                                                                                                                                                                                                                                                                                                                                                                                                                                                                                                                                                                                                                                                                                                                                                                                                                                                                                                                                                                                                                                                                                                                                                                                                                                                                                                                                                                                                                                                                                                                                                                                                                                                                                                                                                                                                                                                                                                                                                                                                                                                                                                                                                                                                                                                                                                                                                                                                                                                                                                                                                                                                                                                                                                                                                                                                                                                                                                                                                                                                                                                                                                                                                                                                                                                                                                                                                                                                                                                                                                                                                                                                                                                                                                                                                                                                                                                                                                                                                                                                                                                                                                                                                                                                                                                                                                                                                                                                                                                                                                                                                                                                                                                                                                                                                                                                                                                                                                                                                                                                            FEATURES\\n•Different color and beam configurations available.\\n•Aluminum alloy housing, high heat dissipation performance.\\n•Universal power supply.\\n•Easy Installation.\\n•3-Year Warranty.\\n•Electrical Input: 100-277 VAC\\n•ETL Listed\\n•25W\\nDECORS LED DUAL LIGHT\\nLED DUAL light\\n©Decors USA LLC\\nPhone: 866.248.6300 | 732.486.8520 | www.decorsusa.com | sales@decorsusa.com\\nAVAILABLE COLORS\\n•Blue •Green •Amber •Warm White (3000K) •Cool  White (5000K) •Red • Purple\\nDECORS LED DUAL LIGHT\\nLED DUAL light\\n©Decors USA LLC\\nPhone: 866.248.6300 | 732.486.8520 | www.decorsusa.com | sales@decorsusa.com\\n15°\\n120°\\n120°\\n150°\\n150°\\nPHOTOMETRICS\\nH(m)\\n2.00\\n5.00\\n10.00\\n15.00\\nMedlux\\n3347.2\\n546.2\\n133.9\\n33.3\\nMaxlux\\n4904.3\\n784.8\\n196.2\\n48.8\\n25°\\n120°\\n120°\\n150°\\n150°\\nH(m)\\n2.00\\n5.00\\n10.00\\n15.00\\nMedlux\\n873\\n139.5\\n34.7\\n8\\nMaxlux\\n1312.3\\n203.7\\n49.3\\n12.5\\n   \n",
       "1                                                                                                                                                                                                                                                                                                                                                                                                                                                                                                                                                                                                                                                                                                                                                                                                                                                                                                                                                                                                                                                                                                                                                                                                                                                                                                                                                                                                                                                                                                                                                                                                                                                                                                                                                                                                                                                                                                                                                                                                                                                                                                                                                                                                                                                                                                                                                                                                                                                                                                                                                                                                                                                                                                                                                                                                                                                                                                                                                                                                                                                                                                                                                                                                                                                                                                                                                                                                                                                                                                                                                                                                                                                                                                                                                                                                                                                                                                                                                                                                                                                                                                                                                                                                                                                                                                                                                                                                                                                                                                                                                                                                                                                                                                                                                                                                                                                                                                                                                                                                                                                                                                                                                                                                                                                                                                                                                                                                                                                                                                                                                                                                                                                                                                                                                                                                                                                                                                                                                                                                                                                                                                                                                                                                                                                                                                                                                                                                                                                                                                                                                                                                                                                                                                                                                                                                                                                                                                                                                                                                                                                                                                                                                                                                                                                                                                                                                                                                                                                                                                                          Recommended Use:\\n•Architectural\\n•Landscaping\\n•General exterior lighting of\\nhotels, signs, flags, multi-unit\\nresidential, commercial, and\\ngovernment buildings.\\n24 led up light\\nDU-SQ-HW24\\nDETAILS\\nLIGHT SOURCE \\n24x Cree 1 W LED Lamps\\nPOWER CONSUMPTION \\n32W\\nBEAM WIDTH\\n25 Degree\\nMEASUREMENT \\n9-3/4”L x 7-3/4”W x 4-1/2”H\\nWEIGHT\\n17 Lbs\\n12 led DOWNlight\\nDU-SQ-HW12\\n*Includes DU-WS12 (Sconce)\\nDETAILS\\nLIGHT SOURCE \\n12x1 W Cree LED Lamps\\nPOWER CONSUMPTION \\n13W\\nBEAM WIDTH\\n15 Degree\\nMEASUREMENT \\n7-3/4”L x 6”W x 4-1/4”H\\nWEIGHT\\n13 Lbs\\n©Decors USA LLC\\nPhone: 866.248.6300 | 732.486.8520 | www.decorsusa.com | sales@decorsusa.com\\nMount for 12 LED Downlight and 24 LED UP Light\\nDECORS Hallmark LED LIGHTS\\nDETAILS\\nMEASUREMENT \\n10”W x 12”H x 5”D\\nWEIGHT\\n8 Lbs\\n• All-weather outdoor use\\n• IP65 rated.\\n• Environmental Temp. Range: -\\n7.6° to 113° F (-20° to 45° C)\\n• Electrical Input:  90-265VAC\\n• LED UP Light comes with\\nMounting Brackets\\nhallmark\\nLED LIGHTS\\nSCONCE COVERS\\nDU-WS12 & DU-WS24\\nDecors USA Provides the UL Listed 12 LED and 24 LED lights in various colors:\\nCOLOR\\nWhite\\nWarm White\\nRed\\nGreen\\nBlue\\nAmber\\nPurple\\nLUMENS\\n1680 lm\\n1440 lm\\n840 lm\\n680 lm\\n600 lm\\n960 lm\\n640 lm\\nCT (WAVE LENGTH)\\n5000-7000K\\n2700-3200K\\n620-630 nm\\n520-530 nm\\n450-475 nm\\n585-595 nm\\n420-435 nm\\nPROJECTION DISTANCE: 20M Based on 24 LED lights at 32 watts total\\navailable colors\\nand illumination\\n©Decors USA LLC\\nPhone: 866.248.6300 | 732.486.8520 | www.decorsusa.com | sales@decorsusa.com\\nDECORS Hallmark LED LIGHTS\\nmounting instructions\\n©Decors USA LLC\\nPhone: 866.248.6300 | 732.486.8520 | www.decorsusa.com | sales@decorsusa.com\\nDU-SQ-HW12 with DU WS12\\nParts\\n1. 12 LED Light Fixture (DU-SQ-HW12)\\n2. Sconce Cover (DU WS12)\\n3. Fixture Mounting Screws 3/16” (2) / Sconce Cover Mount-\\ning Screws (4)\\n4. Wall Anchor Screws 3/8” (6) Not Included.\\n5. Weatherproof Junction Box, Weather Proof Cover with one\\n1/2” outlet and Weatherproof Cable Connection. Not includ-\\ned.\\nInstallation\\nCAUTION: Do not attempt to open the unit. Opening \\nthe unit will damage the factory installed water tight seal, \\nwhich will void the warranty of the fixture.\\n1. All wiring and installation should be done by a licensed\\nelectrician.\\n2. Disconnect power before installation. Please note: the\\n120-volt single phase wiring serving this fixture shall be photo\\nsensor controlled for higher energy efficiency and extended\\nlife.\\n3. Mark the location on the wall or column where the fixture\\nneeds to be installed. The location shall NOT be less than 4 ft\\nfrom ground level.\\n4. Install an exterior weatherproof junction box with 120/230\\nVolt single phase wiring appropriate for a 100-watt exterior\\nlight fixture.\\n5. Using the wall mount as a guide, mark 6 holes around\\njunction box. Drill 3/8” holes on the marked location. Attach\\nthe wall mounts using six anchor screws.\\n6. Attach the Sconce Cover with six anchor screws.\\n7. Mount the fixture using two fixture mounting screws and\\nadjust the angle for desired light effect.\\n8. Connect the fixture cable to the junction box using the\\nweatherproof cable connector. Attach a weatherproof cover\\nto the junction box. Attach Sconce Cover using four mounting\\nscrews.\\nDU-SQ-HW24\\nParts\\n1. 24 LED Light Fixture (DU-SQ-HW24)\\n2. Mounting Brackets (2)\\n3. Fixture Mounting Screws 3/16” (2)\\n4. Wall Anchor Screws 3/8” (6) Not Included.\\n5. Weatherproof Junction Box, Weather Proof Cover with\\none 1/2” outlet and Weatherproof Cable Connection. Not\\nincluded.\\nInstallation\\nCAUTION: Do not attempt to open the unit. Opening \\nthe unit will damage the factory installed water tight \\nseal, which will void the warranty of the fixture.\\n1. All wiring and installation should be done by a licensed\\nelectrician.\\n2. Disconnect power before installation. Please note: the\\n120-volt single phase wiring serving this fixture shall be\\nphoto sensor controlled for higher energy efficiency and\\nextended life.\\n3. Mark the location on the wall or column where the fixture\\nneeds to be installed. The location shall NOT be less than 4\\nft from ground level.\\n4. Install an exterior weatherproof junction box with\\n120/230 Volt single phase wiring appropriate for a 100-watt\\nexterior light fixture.\\n5. Using the mounting bracket as a guide, mark four holes\\naround junction box. Drill 3/8” holes on the marked location. \\n6. Attach the Mounting Brackets with four anchor screws.\\n7. Mount the fixture using two fixture mounting screws and\\nadjust the angle for desired light effect.\\n8. Connect the fixture cable to the junction box using the\\nweatherproof cable connector. Attach a weatherproof cover\\nto the junction box. \\nDECORS Hallmark LED LIGHTS\\nDU-cr-4/6-cwx-p\\nLIGHT DATA\\nLED \\nCREE XRE\\nLED NUMBER \\n4\\nCOLOR \\nCOOL WHITE\\nLUMEN OUTPUT \\n300 LM\\nMAX EFFICACY \\n75\\nIP RATING \\n65\\n2”\\nSupply Voltage\\nInput Frequency\\nInput Power\\nLifetime\\nPERFORMANCE PARAMETERS\\n90V ~ 132V AC\\n50/60 Hz\\n5W\\n30,000h\\nMaterial\\nSurface Treatment\\nAPPEARANCE AND MATERIAL\\nAluminum Alloy, PC\\nSilver gray painted\\nETL Listed\\nLED “X” Light\\n©Decors USA LLC\\nPhone: 866.248.6300 | 732.486.8520 | www.decorsusa.com | sales@decorsusa.com\\nDECORS Hallmark LED LIGHTS\\n6”\\n   \n",
       "12  EVERLIGHT ELECTRONICS CO.,LTD. \\n  Everlight Electronics Co., Ltd.          http:\\\\www.everlight.com             Rev 1       Page: 1 of 10 \\n  Device No：SZDMO-037-031         Prepared date：31-August-2007           Prepared by： Liuyan \\nTechnical Data Sheet \\nInfrared Remote-control Receiver Module \\n \\nIRM-37xxT SERIES \\nFeatures \\n• Photo detector and preamplifier in one package \\n• Internal filter for PCM frequency \\n• Improved inner shielding against electrical field disturbance \\n• TTL and CMOS compatibility \\n• Low power consumption \\n• Improved immunity against ambient light \\n• Suitable burst length \\n≧≧10 cycles1burst\\n \\n• Pb free \\n \\n• BiCMOS manufacture IC ; ESD HBM>4000V ; MM>250V \\n• The product itself will remain within RoHS compliant version. \\n \\nDescriptions \\nThe IRM-37xxT is miniaturized receivers for infrared remote control systems. \\nPIN diode and preamplifier are assembled on lead frame, the epoxy package is  \\ndesigned as IR filter. The demodulated output signal can directly be decoded by \\na microprocessor.IRM-37xxT is the standard IR remote control receiver \\nseries, supporting all major transmission codes. \\n \\nApplications    \\n․Light detecting portion of remote control \\n․AV instruments such as Audio, TV, VCR, CD, MD, etc. \\n․Home appliances such as Air-conditioner, Fan , etc. \\n․The other equipments with wireless remote control. \\n․CATV set top boxes \\n․Multi-media Equipment \\n \\n \\nPART \\nMATERIAL \\nCOLOR \\nChip \\nSilicon \\nBlack \\nCompound \\nEpoxy \\nBlack \\n \\n \\n \\n \\n \\n \\n　\\nVer.:1     Release Date:09/19/2008      狀態:Approved(正式發行)\\nEVERLIGHT ELECTRONICS CO.,LTD. \\n  Everlight Electronics Co., Ltd.          http:\\\\www.everlight.com             Rev 1       Page: 2 of 10 \\n  Device No：SZDMO-037-031         Prepared date：31-August-2007           Prepared by： Liuyan \\n \\nIRM-37xxT SERIES  \\n \\nPackage Dimensions   \\n            \\n \\nUnit:mm \\nNotes:  1.All dimensions are in millimeters. \\n         2.Tolerances unless dimensions ±0.3mm. \\n \\nAvailable Types For Different Carrier Frequencies \\nType \\nCarrier Frequencies (Typ) \\nIRM-3736T \\n36 kHz \\nIRM-3738T \\n38 kHz \\nIRM-3740T \\n40 kHz \\nIRM-3756T \\n56 kHz \\n \\n　\\nVer.:1     Release Date:09/19/2008      狀態:Approved(正式發行)\\nEVERLIGHT ELECTRONICS CO.,LTD. \\n  Everlight Electronics Co., Ltd.          http:\\\\www.everlight.com             Rev 1       Page: 3 of 10 \\n  Device No：SZDMO-037-031         Prepared date：31-August-2007           Prepared by： Liuyan \\n \\nIRM-37xxT SERIES \\nAbsolute Maximum Ratings (Ta=25℃) \\nParameter \\nSymbol\\nRating \\nUnit \\nNotice \\nSupply Voltage \\nVcc \\n0~6 \\nV \\n \\nOperating Temperature \\nTopr \\n-25 ~ +80 \\n℃ \\n \\nStorage Temperature \\nTstg \\n-40 ~ +85 \\n℃ \\n \\nSoldering Temperature \\nTsol \\n260 \\n℃ \\n4mm from mold body \\nless than 10 seconds \\n \\nRecommended Operating Condition \\nSupply Voltage Rating: Vcc 2.7V to 5.5V \\nElectro-Optical Characteristics (Ta=25℃, and Vcc=3V) \\nParameter \\nSymbol\\nMIN. \\nTYP. \\nMAX.\\nUnit \\nCondition \\nConsumption Current \\nIcc \\n--- \\n1.0 \\n1.2 \\nmA \\nNo signal input\\nPeak Wavelength \\nλp \\n--- \\n940 \\n--- \\nnm \\n \\nReception Distance \\nL0 \\n14 \\n--- \\n--- \\nm \\n \\nL45 \\n6 \\n--- \\n--- \\nHalf Angle(Horizontal) \\nΘh \\n--- \\n45 \\n--- \\ndeg \\nAt the ray axis\\n*1 \\nHalf Angle(Vertical) \\nΘv \\n--- \\n45 \\n--- \\ndeg \\n \\nHigh Level Pulse Width \\nTH \\n400 \\n--- \\n800 \\nμs \\nAt the ray axis\\n*2 \\nLow Level Pulse Width \\nTL \\n400 \\n--- \\n800 \\nμs \\nHigh Level Output Voltage \\nVH \\n2.7 \\n--- \\n--- \\nV \\n \\nLow Level Output Voltage \\nVL \\n--- \\n--- \\n0.5 \\nV \\n \\nNotes: \\n*1:The ray receiving surface at a vertex and relation to the ray axis in the range of θ= 0° and θ=45°. \\n*2:A range from 30cm to the arrival distance.  Average value of 50 pulses. \\n \\n \\n \\n　\\nVer.:1     Release Date:09/19/2008      狀態:Approved(正式發行)\\nEVERLIGHT ELECTRONICS CO.,LTD. \\n  Everlight Electronics Co., Ltd.          http:\\\\www.everlight.com             Rev 1       Page: 4 of 10 \\n  Device No：SZDMO-037-031         Prepared date：31-August-2007           Prepared by： Liuyan \\n \\nIRM-37xxT SERIES \\n \\nTest Method： \\n The specified electro-optical characteristics is satisfied under the following \\n Conditions at the controllable distance. \\n \\n Measurement place \\n   A place that is nothing of extreme light reflected in the room. \\n External light \\n   Project the light of ordinary white fluorescent lamps which are not high \\n   Frequency lamps and must be less then 10 Lux at the module surface.  \\n   (Ee≦10Lux) \\n Standard transmitter \\n   A transmitter whose output is so adjusted as to Vo=400mVp-p and the output \\n   Wave form shown in Fig.-1.According to the measurement method shown in \\n   Fig.-2 the standard transmitter is specified. \\n   However , the infrared photodiode to be used for the transmitter should be \\n   λp=940nm,Δλ=50nm. Also, photodiode is used of PD438B(Vr=5V). \\n   (Standard light 1 Light source temperature 2856°K). \\n Measuring system \\n   According to the measuring system shown in Fig.-3 \\n \\nBlock Diagram： \\n \\n \\n \\n \\n \\n \\n \\n \\n \\n \\n \\n \\n \\n \\n \\n \\nModulated IR signal \\nmin 10 pulses \\nCarrier frequency f0 \\nOUT \\nIN \\nVs \\nGND \\nInput \\nCGA & filter \\nDemodulator \\nOscillator \\nAGC1ATC & digital control \\nµC \\n　\\nVer.:1     Release Date:09/19/2008      狀態:Approved(正式發行)\\nEVERLIGHT ELECTRONICS CO.,LTD. \\n  Everlight Electronics Co., Ltd.          http:\\\\www.everlight.com             Rev 1       Page: 5 of 10 \\n  Device No：SZDMO-037-031         Prepared date：31-August-2007           Prepared by： Liuyan \\nCarrier frequency is adjusted to \\ncenter frequency of each product.\\nIR TANSMITTER \\nOUTPUT WAVE FORM\\nOUTPUT PULSE \\nOF DEVICE\\nStandard Transmitter\\nOscilloscope\\nVout\\n10uF\\n+5.0± 0.1V\\n10k\\n20cm\\n100k\\nθ\\nθ\\nD.U.T\\nL: Transmission Distance\\nStandard Transmitter\\nGND\\nVcc\\nOUT\\nVout\\nθ: Angle Of Horizontal & Vertical Direction\\n \\nIRM-37xxT SERIES \\n \\nApplication Circuit： \\n \\n \\n \\n \\n \\n \\n \\n \\n \\n \\n          RC Filter should be connected closely between Vcc pin and GND pin. \\n \\n \\n \\n \\n  Fig.-1  Transmitter Wave Form                         D.U.T output Pulse \\n \\n \\n \\n \\n \\n \\n \\n \\n \\n \\n                                            \\n \\n \\n \\n \\n \\n  Fig.-2  Measuring Method                      Fig.-3    Measuring System \\n \\n \\n \\n \\n \\n \\n \\n \\n \\n \\n \\n \\n \\n \\n \\n \\n \\n \\nDuty=0.5 \\n　\\nVer.:1     Release Date:09/19/2008      狀態:Approved(正式發行)\\nEVERLIGHT ELECTRONICS CO.,LTD. \\n  Everlight Electronics Co., Ltd.          http:\\\\www.everlight.com             Rev 1       Page: 6 of 10 \\n  Device No：SZDMO-037-031         Prepared date：31-August-2007           Prepared by： Liuyan \\n \\nIRM-37xxT SERIES \\nThe Notice of Application: \\nTransmission of remote control signal consist of four parts: Encode Part, IR Transmitter Source, \\nIRM device, Decode Part \\n \\n1. When IRM-37xxT SERIES code select frequency, it need to well understand the center system of \\nencode part. \\n2. Strong or weak light of IR Transmitter can affect distance of transmission. \\n3. When using IRM-37xxT SERIES device, it requires the composition of code pattern to reach the \\ndemand as follows:    \\nMinimum tburst \\n( number of pulses per burst) \\nMinimum tburst_gap \\n( number of pulses \\nbetween two burst) \\nMinimum tpause \\n10 pulses \\n14 pulses \\n25 msec \\n \\n4. It needs to ensure the translation range of decode part if it is applied to the pulse-width range. \\n \\nIf the above items hardly assure of its application, it’ll cause NG(no good) message from the edge \\nof signal. \\n \\nIRM-37xxT SERIES Code Property: \\nData format \\n \\nData format \\n \\nNEC \\nO \\nSony 12 Bit \\nO \\nRC5 _ Philips \\nO \\nSony 15 Bit \\nX \\nRC6 _ Philips \\nO \\nSony 20 Bit \\nX \\nRCA _ Thomson \\nX \\nMatsushita \\nO \\nToshiba \\nO \\nMitsubishi \\nO \\nSharp \\nO \\nZenith \\nO \\nJVC \\nO \\nHigh data rate  \\n (4000 bit1s) \\nX \\n　\\nVer.:1     Release Date:09/19/2008      狀態:Approved(正式發行)\\nEVERLIGHT ELECTRONICS CO.,LTD. \\n  Everlight Electronics Co., Ltd.          http:\\\\www.everlight.com             Rev 1       Page: 7 of 10 \\n  Device No：SZDMO-037-031         Prepared date：31-August-2007           Prepared by： Liuyan \\n  \\nIRM-37xxT SERIES \\nTypical Electro-Optical Characteristics Curves \\n \\nFig.-4 Relative Spectral Sensitivity vs. \\nWavelength \\nFig.-5 \\nRelative \\nTransmission \\nDistance \\nvs. \\nDirection \\n \\nAngle      (deg)\\n-20\\nRelative Transmission Distance (%)\\n-60\\n0\\n80\\n40\\n20\\n60\\n-40\\n0\\n20\\n60\\n40\\nFig.-6 Output Pulse Length vs. Arrival Distance Fig.-7 Arrival Distance vs. Supply Voltage \\n16\\nTransmission Distance Lc (m)\\n2\\n0\\n10\\n6\\n4\\n8\\n12\\n14\\nOutput Pulse Width TWL (μsec)\\n \\n \\n \\n \\nTransmission Distance Lc (m)\\n3.8\\nSupply Voltage Vcc (V)\\n2.7\\n0\\n3.3\\n3.0\\n3.5\\n4.1 4.4\\n4.7\\n5.0 5.3\\n5.5\\n17.5\\n10.5\\n7.0\\n3.5\\n　\\nVer.:1     Release Date:09/19/2008      狀態:Approved(正式發行)\\nEVERLIGHT ELECTRONICS CO.,LTD. \\n  Everlight Electronics Co., Ltd.          http:\\\\www.everlight.com             Rev 1       Page: 8 of 10 \\n  Device No：SZDMO-037-031         Prepared date：31-August-2007           Prepared by： Liuyan \\nRelative Transmission Distance (%)\\nCenter Carrier Frequency  (kHz)\\nRelative Transmission Distance (%)\\nCenter Carrier Frequency  (kHz)\\n \\nIRM-37xxT SERIES \\n \\nTypical Electro-Optical Characteristics Curves \\nFig.-8 Relative Transmission Distance vs. Center Carrier Frequency \\n \\n                IRM-3736T                               IRM-3738T \\n                   \\n \\n \\n                 IRM-3740T                               IRM-3756T \\n                                              \\n \\n \\n \\n \\n \\n \\n　\\nVer.:1     Release Date:09/19/2008      狀態:Approved(正式發行)\\nEVERLIGHT ELECTRONICS CO.,LTD. \\n  Everlight Electronics Co., Ltd.          http:\\\\www.everlight.com             Rev 1       Page: 9 of 10 \\n  Device No：SZDMO-037-031         Prepared date：31-August-2007           Prepared by： Liuyan \\nAmbient Temperature Ta (°C)\\n7.0\\n3.5\\n14.0\\n10.5\\n17.5\\nTransmission Distance Lc (m)\\n \\nIRM-37xxT SERIES \\nTypical Electro-Optical Characteristics Curves \\nFig.-9 Arrival Distance vs. Ambient Temperature \\n \\n \\n \\n \\n \\n \\n \\n \\n \\n \\n \\nReliability Test Item And Condition \\n The reliability of products shall be satisfied with items listed below. \\n Confidence level：90% \\n LTPD：10% \\nTest Items \\nTest Conditions \\nFailure Judgement \\nCriteria \\nSamples(n)\\nDefective(c)\\nTemperature cycle \\n1 cycle  -40℃       +100℃ \\n       (15min)(5min)(15min) \\n300 cycle test \\nL0≦ L×0.8 \\nL45≦ L×0.8 \\n \\n \\nL: Lower \\nspecification limit \\n n=22,c=0 \\nHigh temperature test \\nTemp: +100℃ \\nVcc:6V \\n1000hrs \\n n=22,c=0 \\nLow temperature \\nstorage \\nTemp: -40℃ \\n1000hrs \\n n=22,c=0 \\nHigh temperature \\nHigh humidity \\nTa: 85℃,RH:85% \\n1000hrs \\n n=22,c=0 \\nSolder heat \\nTemp: 260±5℃ 10sec \\n4mm From the bottom of the package. \\n n=22,c=0 \\n　\\nVer.:1     Release Date:09/19/2008      狀態:Approved(正式發行)\\nEVERLIGHT ELECTRONICS CO.,LTD. \\n  Everlight Electronics Co., Ltd.          http:\\\\www.everlight.com             Rev 1       Page: 10 of 10 \\n  Device No：SZDMO-037-031         Prepared date：31-August-2007           Prepared by： Liuyan \\n \\nIRM-37xxT SERIES \\n \\nPacking Quantity Specification \\n1. 1500 PCS11Box \\n2. 10 Boxes11Carton \\n \\nLabel Form Specification \\n \\nCPN: Customer’s Production Number \\nP1N : Production Number \\nQTY: Packing Quantity \\nCAT: Ranks \\nHUE: None \\nREF: Reference \\nLOT No: Lot Number \\nMADE IN TAIWAN: Production Place  \\n \\n \\nNotes \\n1. Above specification may be changed without notice. EVERLIGHT will reserve authority on \\nmaterial change for above specification. \\n2. When using this product, please observe the absolute maximum ratings and the instructions \\nfor using outlined in these specification sheets. EVERLIGHT assumes no responsibility for \\nany damage resulting from use of the product which does not comply with the absolute  \\nmaximum ratings and the instructions included in these specification sheets. \\n3. These specification sheets include materials protected under copyright of EVERLIGHT \\ncorporation. Please don’t reproduce or cause anyone to reproduce them without \\nEVERLIGHT’s consent. \\n \\n \\n \\nIRM-37xxT \\nEVERLIGHT ELECTRONICS CO., LTD.  \\n \\n \\nTel: 886-2-2267-2000, 2267-9936 \\nOffice: No 25, Lane 76, Sec 3, Chung Yang Rd,    \\nFax: 886-2267-6244, 2267-6189, 2267-6306 \\n      Tucheng, Taipei 236, Taiwan, R.O.C  \\n \\n \\nhttp:\\\\www.everlight.com \\n　\\nVer.:1     Release Date:09/19/2008      狀態:Approved(正式發行)\\n   \n",
       "13                                                                                                                                                                                                                                                                                                                                                                                                                                                                                                                                                                                                                                                                                                                                                                                                                                         \\n1  \\nCopyright © 2010, Everlight All Rights Reserved. Release Date :Sep.27. 2018 Issue No: DLE-0003884_Rev.4 \\nwww.everlight.com \\n \\n \\n \\n LAMP \\n1003SUBD/S400-A6 \\n \\n \\n \\n \\n \\n \\n \\n \\n \\n \\n \\n \\n \\n \\n \\n \\n \\n \\n \\n \\n \\n \\n \\n \\n \\n \\n \\n \\n \\n \\n \\n \\n \\n \\n \\n \\n \\n \\n \\n \\n \\n \\n \\n \\n \\n \\n \\n \\n \\n \\n \\n \\n \\n \\n \\n \\n \\n \\n \\n \\n \\n \\n \\n \\n \\nFeatures \\n• Choice of various viewing angles \\n• Available on tape and reel. \\n• Reliable and robust \\n• Pb free \\n• The product itself will remain within RoHS compliant version. \\n \\nDescription \\n•The series is specially designed for applications requiring higher brightness \\n•The led lamps are available with different colors, intensities.. \\n \\nApplications \\n• TV set \\n• Monitor \\n• Telephone \\n• Computer \\n \\n \\n \\n \\n \\n \\n \\n \\n \\n \\n \\n \\n \\n \\n \\n \\n \\n \\n \\n \\n \\n \\n \\n \\n \\n \\n \\n　\\nVer.:4     Release Date:10/05/2018      狀態:Approved(正式發行)\\nDATASHEET \\nLAMP \\n1003SUBD/S400-A6 \\n \\n \\n \\n2  \\nCopyright © 2010, Everlight All Rights Reserved. Release Date : Sep.27. 2018 Issue No: DLE-0003884_Rev.4 \\nwww.everlight.com \\n \\n \\n Device Selection Guide \\n \\nChip \\nMaterials \\nEmitted Color \\nResin Color \\nInGaN \\nBlue \\nBlue Diffused \\n \\n \\n \\n \\n Absolute Maximum Ratings (Ta=25℃) \\n \\nParameter \\nSymbol \\nRating \\nUnit \\nContinuous Forward Current \\nIF \\n25 \\nmA \\nPeak Forward Current (Duty 1/10 @ 1KHZ) \\nIFP \\n100 \\nmA \\nReverse Voltage \\nVR \\n5 \\nV \\nPower Dissipation \\nPd \\n90 \\nmW \\nOperating Temperature \\nTopr \\n-40 ~ +85 \\n℃ \\nStorage Temperature \\nTstg \\n-40 ~ +100 \\n℃ \\nSoldering Temperature \\nTsol \\n260 ℃ for 5 sec. \\n \\n \\n \\n \\n \\n Electro-Optical Characteristics (Ta=25℃) \\n \\nParameter \\nSymbol \\nMin. \\nTyp. \\nMax. \\nUnit \\nCondition \\nLuminous Intensity \\nIv \\n10 \\n20 \\n----- \\nmcd \\nIF=20mA \\nViewing Angle \\n2θ1/2 \\n----- \\n110 \\n----- \\ndeg \\nIF=20mA \\nPeak Wavelength \\nλp \\n----- \\n468 \\n----- \\nnm \\nIF=20mA \\nDominant Wavelength \\nλd \\n----- \\n470 \\n----- \\nnm \\nIF=20mA \\nSpectrum Radiation Bandwidth \\nΔλ \\n----- \\n35 \\n----- \\nnm \\nIF=20mA \\nForward Voltage \\nVF \\n2.7 \\n3.3 \\n4.0 \\nV \\nIF=20mA \\nReverse Current \\nIR \\n----- \\n----- \\n50 \\nμA \\nVR=5V \\n \\n \\n \\n \\n \\nNote:  \\n \\n*Measurement Uncertainty of Forward Voltage: ±0.1V \\n \\n*Measurement Uncertainty of Luminous Intensity: ±10% \\n*Measurement Uncertainty of Dominant Wavelength ±1.0nm \\n　\\nVer.:4     Release Date:10/05/2018      狀態:Approved(正式發行)\\nDATASHEET \\nLAMP \\n1003SUBD/S400-A6 \\n \\n \\n \\n3  \\nCopyright © 2010, Everlight All Rights Reserved. Release Date : Sep.27. 2018 Issue No: DLE-0003884_Rev.4 \\nwww.everlight.com \\n \\n Typical Electro-Optical Characteristics Curves \\n  \\n \\nRelative Intensity vs. Wavelength (Ta=25℃) \\nDirectivity (Ta=25℃) \\n \\nRelative Intensity (a.u.) \\n \\nRadiation Angle \\n \\n \\n \\nWavelength (nm) \\n \\nRelative Intensity (a.u.) \\n \\n \\nForward Current vs. Forward Voltage (Ta=25℃) \\nRelative Intensity vs. Forward Current (Ta=25℃) \\n \\nForward Current (mA) \\n1.5\\n2.0\\n2.5\\n3.0\\n3.5\\n4.0\\n4.5\\n0\\n5\\n10\\n15\\n20\\n25\\n \\n \\nForward Current(mA)\\nForward Voltage(V)\\n \\n \\nRelative Intensity(a.u.) \\n0\\n5\\n10\\n15\\n20\\n25\\n0.0\\n0.5\\n1.0\\n1.5\\n \\n \\n \\n  \\nForward Voltage (V) \\n \\nForward Current (mA) \\n \\n \\nRelative Intensity vs. Ambient Temp. \\nForward Current vs. Ambient Temp. \\n \\nRelative Intensity(a.u.) \\n25\\n30\\n35\\n40\\n45\\n50\\n55\\n60\\n65\\n70\\n0.0\\n0.5\\n1.0\\n1.5\\n2.0\\n \\n \\n \\nForward Current (mA) \\n0\\n20\\n40\\n60\\n80\\n100\\n0\\n10\\n20\\n30\\n40\\n \\n \\n \\n  \\nAmbient Temperature Ta(℃) \\n \\nAmbient Temperature Ta(℃) \\n \\n \\n　\\nVer.:4     Release Date:10/05/2018      狀態:Approved(正式發行)\\nDATASHEET \\nLAMP \\n1003SUBD/S400-A6 \\n \\n \\n \\n4  \\nCopyright © 2010, Everlight All Rights Reserved. Release Date : Sep.27. 2018 Issue No: DLE-0003884_Rev.4 \\nwww.everlight.com \\n \\n  Package Dimension \\n \\n \\n \\n \\n \\n \\n \\n \\n \\n \\n \\n \\n \\n \\n \\n \\n \\n \\n \\n \\n \\n \\n \\n \\n \\n \\n \\n \\n \\n \\n \\n \\n \\n \\n \\n \\n \\n \\n \\n \\n \\n \\nNotes: \\n1. All dimensions are in millimeters \\n2. The height of flange must be less than 1.5mm(0.059\"). \\n3. Without special declared, the tolerance is ±0.25mm. \\n \\n \\n \\n　\\nVer.:4     Release Date:10/05/2018      狀態:Approved(正式發行)\\nDATASHEET \\nLAMP \\n1003SUBD/S400-A6 \\n \\n \\n \\n5  \\nCopyright © 2010, Everlight All Rights Reserved. Release Date : Sep.27. 2018 Issue No: DLE-0003884_Rev.4 \\nwww.everlight.com \\n \\nPb\\nEL ECTROSTATIC ELECTRONAGNETIC \\nMAGNETIC OR RADIOACTIVE RELDS\\nanti-static for 750\\n \\n Moisture Resistant Packing Materials \\nLabel Explanation \\n \\n \\n \\nCPN: Customer's  Production Number \\nP/N : Production Number \\nQTY: Packing Quantity \\nCAT: Ranks \\nHUE: Dominant Wavelength \\nREF: Reference \\nLOT No: Lot Number \\n \\n \\n \\n \\n Packing Specification \\n■ Anti-electrostatic bag              ■ Inner Carton                       ■ Outside Carton \\n \\n \\n \\n \\n \\n \\n \\n \\n \\n \\n \\n \\n \\n \\n \\n \\n \\n \\n \\n \\n \\n \\n \\n \\n \\n■ Packing Quantity  \\n1. MIN 200 To 500 PCS/1 Bag, 5 Bags/1 Inner Carton \\n2. 10 Inner Cartons/1 Outside Carton \\n　\\nVer.:4     Release Date:10/05/2018      狀態:Approved(正式發行)\\nDATASHEET \\nLAMP \\n1003SUBD/S400-A6 \\n \\n \\n \\n6  \\nCopyright © 2010, Everlight All Rights Reserved. Release Date : Sep.27. 2018 Issue No: DLE-0003884_Rev.4 \\nwww.everlight.com \\n \\nPrehead\\nlaminar wave\\nFluxing\\n \\n \\nNotes \\n \\n1. \\nLead Forming \\n \\nDuring lead formation, the leads should be bent at a point at least 3mm from the base of the epoxy bulb. \\n \\nLead forming should be done before soldering. \\n \\nAvoid stressing the LED package during leads forming. The stress to the base may damage the LED’s characteristics or it \\nmay break the LEDs. \\n \\nCut the LED lead frames at room temperature. Cutting the lead frames at high temperatures may cause failure of the LEDs. \\n \\nWhen mounting the LEDs onto a PCB, the PCB holes must be aligned exactly with the lead position of the LED. If the LEDs \\nare mounted with stress at the leads, it causes deterioration of the epoxy resin and this will degrade the LEDs. \\n2. \\nStorage \\n \\nThe LEDs should be stored at 30°C or less and 70%RH or less after being shipped from Everlight and the storage life limits \\nare 3 months. If the LEDs are stored for 3 months or more, they can be stored for a year in a sealed container with a \\nnitrogen atmosphere and moisture absorbent material. \\n \\nPlease avoid rapid transitions in ambient temperature, especially, in high humidity environments where condensation can \\noccur. \\n3. \\nSoldering \\n \\nCareful attention should be paid during soldering. When soldering, leave more then 3mm from solder joint to epoxy bulb, \\nand soldering beyond the base of the tie bar is recommended. \\n \\nRecommended soldering conditions: \\nHand Soldering \\nDIP Soldering \\nTemp. at tip of iron \\n300℃ Max. (30W Max.) \\nPreheat temp. \\n100℃ Max. (60 sec Max.) \\nSoldering time \\n3 sec Max. \\nBath temp. & time \\n260 Max., 5 sec Max \\nDistance \\n3mm Min.(From solder \\njoint to epoxy bulb) \\nDistance \\n3mm Min. (From solder \\njoint to epoxy bulb) \\n \\nRecommended soldering profile \\n \\n \\n \\n \\n \\n \\n \\n \\n \\n \\n \\n \\n \\n \\nAvoiding applying any stress to the lead frame while the LEDs are at high temperature particularly when soldering. \\n \\nDip and hand soldering should not be done more than one time \\n \\n \\nAfter soldering the LEDs, the epoxy bulb should be protected from mechanical shock or vibration until the LEDs return to \\nroom temperature. \\n　\\nVer.:4     Release Date:10/05/2018      狀態:Approved(正式發行)\\nDATASHEET \\nLAMP \\n1003SUBD/S400-A6 \\n \\n \\n \\n7  \\nCopyright © 2010, Everlight All Rights Reserved. Release Date : Sep.27. 2018 Issue No: DLE-0003884_Rev.4 \\nwww.everlight.com \\n \\n \\nA rapid-rate process is not recommended for cooling the LEDs down from the peak temperature. \\n \\nAlthough the recommended soldering conditions are specified in the above table, dip or hand soldering at the lowest \\npossible temperature is desirable for the LEDs. \\n \\n \\nWave soldering parameter must be set and maintain according to recommended temperature and dwell time in the solder \\nwave.  \\n4. \\nCleaning \\n \\nWhen necessary, cleaning should occur only with isopropyl alcohol at room temperature for a duration of no more than \\none minute. Dry at room temperature before use. \\n \\nDo not clean the LEDs by the ultrasonic. When it is absolutely necessary, the influence of ultrasonic cleaning on the LEDs \\ndepends on factors such as ultrasonic power and the assembled condition. Ultrasonic cleaning shall be pre-qualified to \\nensure this will not cause damage to the LED \\n5. \\nHeat Management \\n \\nHeat management of LEDs must be taken into consideration during the design stage of LED application. The current \\nshould be de-rated appropriately by referring to the de-rating curve found in each product specification. \\n \\nThe temperature surrounding the LED in the application should be controlled. Please refer to the data sheet de-rating \\ncurve. \\n6. ESD (Electrostatic Discharge) \\n \\nThe products are sensitive to static electricity or surge voltage. ESD can damage a die and its reliability. \\nWhen handling the products, the following measures against electrostatic discharge are strongly \\nrecommended: \\nEliminating the charge \\nGrounded wrist strap, ESD footwear, clothes, and floors \\nGrounded workstation equipment and tools \\nESD table/shelf mat made of conductive materials \\n \\nProper grounding is required for all devices, equipment, and machinery used in product assembly. \\nSurge protection should be considered when designing of commercial products. \\n \\nIf tools or equipment contain insulating materials such as glass or plastic, \\nthe following measures against electrostatic discharge are strongly recommended: \\nDissipating static charge with conductive materials \\nPreventing charge generation with moisture  \\nNeutralizing the charge with ionizers \\n7. \\nDirections for use \\n \\nThe LEDs should be operated with forward bias. The driving circuit must be designed so that the LEDs are not subjected \\nto forward or reverse voltage while it is off. If reverse voltage is continuously applied to the LEDs, it may cause migration \\nresulting in LED damage. \\n \\n \\nDISCLAIMER \\n \\n \\n1. \\nEVERLIGHT reserves the right(s) on the adjustment of product material mix for the specification. \\n2. \\nThe product meets EVERLIGHT published specification for a period of twelve (12) months from date of \\nshipment. \\n3. \\nThe graphs shown in this datasheet are representing typical data only and do not show guaranteed values. \\n　\\nVer.:4     Release Date:10/05/2018      狀態:Approved(正式發行)\\nDATASHEET \\nLAMP \\n1003SUBD/S400-A6 \\n \\n \\n \\n8  \\nCopyright © 2010, Everlight All Rights Reserved. Release Date : Sep.27. 2018 Issue No: DLE-0003884_Rev.4 \\nwww.everlight.com \\n \\n4. \\nWhen using this product, please observe the absolute maximum ratings and the instructions for using outlined \\nin these specification sheets. EVERLIGHT assumes no responsibility for any damage resulting from the use of \\nthe product which does not comply with the absolute maximum ratings and the instructions included in these \\nspecification sheets. \\n5. \\nThese specification sheets include materials protected under copyright of EVERLIGHT. Reproduction in any \\nform is prohibited without obtaining EVERLIGHT’s prior consent. \\n6. \\nThis product is not intended to be used for military, aircraft, automotive, medical, life sustaining or life saving \\napplications or any other application which can result in human injury or death. Please contact authorized \\nEverlight sales agent for special application request. \\n \\n \\n　\\nVer.:4     Release Date:10/05/2018      狀態:Approved(正式發行)\\n   \n",
       "14                                                                                                                                                                                                                                                                                                                                                                                                                                                                                                                                                                                                                                                                                                                                                                                                                                                                                                                                                                                                                                                                                                                                                                                                                                                                                                                                                                                                                                                                                                                                                                                                                                                                            \\n1  \\nCopyright © 2010, Everlight All Rights Reserved. Release Date : Dec.19. 2013. Issue No: DLE-0005238.Rev.2 \\nwww.everlight.com \\n \\n \\n \\n LAMP \\n1003SUGD/S400-A4 \\n \\n \\n \\n \\n \\n \\n \\n \\n \\n \\n \\n \\n \\n \\n \\n \\n \\n \\n \\n \\n \\n \\n \\n \\n \\n \\n \\n \\n \\n \\n \\n \\n \\n \\n \\nFeatures \\n• Choice of various viewing angles \\n• Available on tape and reel. \\n• Reliable and robust \\n• Pb free \\n• The product itself will remain within RoHS compliant version. \\n \\nDescription \\n•The series is specially designed for applications requiring higher brightness \\n•The led lamps are available with different colors, intensities.. \\n \\nApplications \\n• TV set \\n• Monitor \\n• Telephone \\n• Computer \\n \\n \\n \\n \\n \\n \\n \\n \\n \\n \\n \\n \\n \\n \\n \\n \\n \\n \\n \\n \\n \\n \\n \\n \\n \\n \\n \\n　\\nVer.:2     Release Date:12/25/2013      狀態:Approved(正式發行)\\nDATASHEET \\nLAMP \\n1003SUGD/S400-A4 \\n \\n \\n2  \\nCopyright © 2010, Everlight All Rights Reserved. Release Date : Dec.19. 2013. Issue No: DLE-0005238.Rev.2 \\nwww.everlight.com \\n \\n \\n Device Selection Guide \\n \\nChip \\nMaterials \\nEmitted Color \\nResin Color \\nInGaN \\nBrilliant Green \\nGreen Diffused \\n \\n \\n \\n \\n Absolute Maximum Ratings (Ta=25℃) \\n \\nParameter \\nSymbol \\nRating \\nUnit \\nContinuous Forward Current \\nIF \\n25 \\nmA \\nPeak Forward Current (Duty 1/10 @ 1KHZ) \\nIFP \\n100 \\nmA \\nReverse Voltage \\nVR \\n5 \\nV \\nPower Dissipation \\nPd \\n90 \\nmW \\nOperating Temperature \\nTopr \\n-40 ~ +85 \\n℃ \\nStorage Temperature \\nTstg \\n-40 ~ +100 \\n℃ \\nSoldering Temperature \\nTsol \\n260 ℃ for 5 sec. \\n \\n \\n \\n \\n \\n Electro-Optical Characteristics (Ta=25℃) \\n \\nParameter \\nSymbol \\nMin. \\nTyp. \\nMax. \\nUnit \\nCondition\\nLuminous Intensity \\nIv \\n16 \\n50 \\n----- \\nmcd \\nIF=20mA \\nViewing Angle \\n2θ1/2 \\n----- \\n110 \\n----- \\ndeg \\nIF=20mA \\nPeak Wavelength \\nλp \\n----- \\n518 \\n----- \\nnm \\nIF=20mA \\nDominant Wavelength \\nλd \\n----- \\n525 \\n----- \\nnm \\nIF=20mA \\nSpectrum Radiation Bandwidth \\nΔλ \\n----- \\n35 \\n----- \\nnm \\nIF=20mA \\nForward Voltage \\nVF \\n----- \\n3.3 \\n4.0 \\nV \\nIF=20mA \\nReverse Current \\nIR \\n----- \\n----- \\n50 \\nμA \\nVR=5V \\n \\n \\n \\n \\n \\n \\n \\n \\n　\\nVer.:2     Release Date:12/25/2013      狀態:Approved(正式發行)\\nDATASHEET \\nLAMP \\n1003SUGD/S400-A4 \\n \\n \\n3  \\nCopyright © 2010, Everlight All Rights Reserved. Release Date : Dec.19. 2013. Issue No: DLE-0005238.Rev.2 \\nwww.everlight.com \\n \\n Typical Electro-Optical Characteristics Curves\\n \\n \\nRelative Intensity vs. Wavelength (Ta=25℃)\\nDirectivity (Ta=25℃) \\n \\nRelative Intensity (a.u.) \\nRadiation Angle \\n \\n \\n \\nWavelength (nm) \\n \\nRelative Intensity (a.u.) \\n \\n \\nForward Current vs. Forward Voltage (Ta=25℃) \\nRelative Intensity vs. Forward Current (Ta=25℃) \\n \\nForward Current (mA) \\n1.5\\n2.0\\n2.5\\n3.0\\n3.5\\n4.0\\n4.5\\n0\\n5\\n10\\n15\\n20\\n25\\n \\nRelative Intensity(a.u.) \\n0\\n5\\n10\\n15\\n20\\n25\\n0.0\\n0.5\\n1.0\\n1.5\\n  \\nForward Voltage (V) \\n \\nForward Current (mA) \\n \\n \\nRelative Intensity vs. Ambient Temp. \\nForward Current vs. Ambient Temp. \\n \\nRelative Intensity(a.u.) \\n25\\n30\\n35\\n40\\n45\\n50\\n55\\n60\\n65\\n70\\n0.0\\n0.5\\n1.0\\n1.5\\n2.0\\n \\nForward Current (mA) \\n0\\n20\\n40\\n60\\n80\\n100\\n0\\n10\\n20\\n30\\n40\\n  \\nAmbient Temperature Ta(℃) \\n \\nAmbient Temperature Ta(℃) \\n \\n \\n　\\nVer.:2     Release Date:12/25/2013      狀態:Approved(正式發行)\\nDATASHEET \\nLAMP \\n1003SUGD/S400-A4 \\n \\n \\n4  \\nCopyright © 2010, Everlight All Rights Reserved. Release Date : Dec.19. 2013. Issue No: DLE-0005238.Rev.2 \\nwww.everlight.com \\n \\n  Package Dimension \\n \\n \\n \\n \\n \\n \\n \\n \\n \\n \\n \\n \\n \\n \\n \\n \\n \\n \\n \\n \\n \\n \\n \\n \\n \\n \\n \\n \\n \\n \\n \\n \\n \\n \\n \\n \\n \\n \\n \\n \\n \\n \\nNote: Note: \\n1. All dimensions are in millimeters \\n2. The height of flange must be less than 1.5mm(0.059\"). \\n3. Without special declared, the tolerance is ±0.25mm. \\n \\n \\n \\n　\\nVer.:2     Release Date:12/25/2013      狀態:Approved(正式發行)\\nDATASHEET \\nLAMP \\n1003SUGD/S400-A4 \\n \\n \\n5  \\nCopyright © 2010, Everlight All Rights Reserved. Release Date : Dec.19. 2013. Issue No: DLE-0005238.Rev.2 \\nwww.everlight.com \\n \\nPb\\nEL ECTROSTATIC ELECTRONAGNETIC \\nMAGNETIC OR RADIOACTIVE RELDS\\nanti-static for 750\\n \\n Moisture Resistant Packing Materials \\nLabel Explanation \\n \\n \\nCPN: Customer's  Production Number \\nP/N : Production Number \\nQTY: Packing Quantity \\nCAT: Ranks \\nHUE: Dominant Wavelength \\nREF: Reference \\nLOT No: Lot Number \\n \\n \\n \\n \\n Packing Specification \\n■ Anti-electrostatic bag              ■ Inner Carton                       ■ Outside Carton \\n \\n \\n \\n \\n \\n \\n \\n \\n \\n \\n \\n \\n \\n \\n \\n \\n \\n \\n \\n \\n \\n \\n \\n \\n \\nRoHS\\nPb\\nX\\nEVERLIGHT\\n1003SUGD/S400-A4\\n■ Packing Quantity  \\n1.500 PCS/1 Bag, 5 Bags/1 Inner Carton \\n2. 10 Inner Cartons/1 Outside Carton \\n　\\nVer.:2     Release Date:12/25/2013      狀態:Approved(正式發行)\\nDATASHEET \\nLAMP \\n1003SUGD/S400-A4 \\n \\n \\n6  \\nCopyright © 2010, Everlight All Rights Reserved. Release Date : Dec.19. 2013. Issue No: DLE-0005238.Rev.2 \\nwww.everlight.com \\n \\nPrehead\\nlaminar wave\\nFluxing\\n \\n \\nNotes \\n \\n1. \\nLead Forming \\n \\nDuring lead formation, the leads should be bent at a point at least 3mm from the base of the epoxy bulb. \\n \\nLead forming should be done before soldering. \\n \\nAvoid stressing the LED package during leads forming. The stress to the base may damage the LED’s characteristics or it \\nmay break the LEDs. \\n \\nCut the LED lead frames at room temperature. Cutting the lead frames at high temperatures may cause failure of the LEDs. \\n \\nWhen mounting the LEDs onto a PCB, the PCB holes must be aligned exactly with the lead position of the LED. If the LEDs \\nare mounted with stress at the leads, it causes deterioration of the epoxy resin and this will degrade the LEDs. \\n2. \\nStorage \\n \\nThe LEDs should be stored at 30°C or less and 70%RH or less after being shipped from Everlight and the storage life limits \\nare 3 months. If the LEDs are stored for 3 months or more, they can be stored for a year in a sealed container with a \\nnitrogen atmosphere and moisture absorbent material. \\n \\nPlease avoid rapid transitions in ambient temperature, especially, in high humidity environments where condensation can \\noccur. \\n3. \\nSoldering \\n \\nCareful attention should be paid during soldering. When soldering, leave more then 3mm from solder joint to epoxy bulb, \\nand soldering beyond the base of the tie bar is recommended. \\n \\nRecommended soldering conditions: \\nHand Soldering \\nDIP Soldering \\nTemp. at tip of iron \\n300℃ Max. (30W Max.)\\nPreheat temp. \\n100℃ Max. (60 sec Max.) \\nSoldering time \\n3 sec Max. \\nBath temp. & time \\n260 Max., 5 sec Max \\nDistance \\n3mm Min.(From solder \\njoint to epoxy bulb) \\nDistance \\n3mm Min. (From solder \\njoint to epoxy bulb) \\n \\nRecommended soldering profile \\n \\n \\n \\n \\n \\n \\n \\n \\n \\n \\n \\n \\n \\n \\nAvoiding applying any stress to the lead frame while the LEDs are at high temperature particularly when soldering. \\n \\nDip and hand soldering should not be done more than one time \\n \\n \\nAfter soldering the LEDs, the epoxy bulb should be protected from mechanical shock or vibration until the LEDs return to \\nroom temperature. \\n　\\nVer.:2     Release Date:12/25/2013      狀態:Approved(正式發行)\\nDATASHEET \\nLAMP \\n1003SUGD/S400-A4 \\n \\n \\n7  \\nCopyright © 2010, Everlight All Rights Reserved. Release Date : Dec.19. 2013. Issue No: DLE-0005238.Rev.2 \\nwww.everlight.com \\n \\n \\nA rapid-rate process is not recommended for cooling the LEDs down from the peak temperature. \\n \\nAlthough the recommended soldering conditions are specified in the above table, dip or hand soldering at the lowest \\npossible temperature is desirable for the LEDs. \\n \\n \\nWave soldering parameter must be set and maintain according to recommended temperature and dwell time in the solder \\nwave.  \\n4. \\nCleaning \\n \\nWhen necessary, cleaning should occur only with isopropyl alcohol at room temperature for a duration of no more than \\none minute. Dry at room temperature before use. \\n \\nDo not clean the LEDs by the ultrasonic. When it is absolutely necessary, the influence of ultrasonic cleaning on the LEDs \\ndepends on factors such as ultrasonic power and the assembled condition. Ultrasonic cleaning shall be pre-qualified to \\nensure this will not cause damage to the LED \\n5. \\nHeat Management \\n \\nHeat management of LEDs must be taken into consideration during the design stage of LED application. The current \\nshould be de-rated appropriately by referring to the de-rating curve found in each product specification. \\n \\nThe temperature surrounding the LED in the application should be controlled. Please refer to the data sheet de-rating \\ncurve. \\n6. ESD (Electrostatic Discharge) \\n \\nThe products are sensitive to static electricity or surge voltage. ESD can damage a die and its reliability. \\nWhen handling the products, the following measures against electrostatic discharge are strongly \\nrecommended: \\nEliminating the charge \\nGrounded wrist strap, ESD footwear, clothes, and floors \\nGrounded workstation equipment and tools \\nESD table/shelf mat made of conductive materials \\n \\nProper grounding is required for all devices, equipment, and machinery used in product assembly. \\nSurge protection should be considered when designing of commercial products. \\n \\nIf tools or equipment contain insulating materials such as glass or plastic, \\nthe following measures against electrostatic discharge are strongly recommended: \\nDissipating static charge with conductive materials \\nPreventing charge generation with moisture  \\nNeutralizing the charge with ionizers \\n7. \\nDirections for use \\n \\nThe LEDs should be operated with forward bias. The driving circuit must be designed so that the LEDs are not subjected \\nto forward or reverse voltage while it is off. If reverse voltage is continuously applied to the LEDs, it may cause migration \\nresulting in LED damage. \\n8. \\nOther \\n \\nAbove specification may be changed without notice. EVERLIGHT will reserve authority on material change for above \\nspecification. \\n \\nWhen using this product, please observe the absolute maximum ratings and the instructions for using outlined in these \\nspecification sheets. EVERLIGHT assumes no responsibility for any damage resulting from use of the product which does \\nnot comply  \\nwith the absolute maximum ratings and the instructions included in these specification sheets. \\n　\\nVer.:2     Release Date:12/25/2013      狀態:Approved(正式發行)\\nDATASHEET \\nLAMP \\n1003SUGD/S400-A4 \\n \\n \\n8  \\nCopyright © 2010, Everlight All Rights Reserved. Release Date : Dec.19. 2013. Issue No: DLE-0005238.Rev.2 \\nwww.everlight.com \\n \\n \\nThese specification sheets include materials protected under copyright of EVERLIGHT corporation. Please don’t \\nreproduce or cause anyone to reproduce them without EVERLIGHT’s consent. \\n \\n　\\nVer.:2     Release Date:12/25/2013      狀態:Approved(正式發行)\\n   \n",
       "\n",
       "                                                                                                                                                                                                                                                                                                                                                                                                                                                                                                                                                                                                                                                                                                                                                                                                                                                                                                                                                                                                                                                                                                                                                                                                                                                                                                                                                                                                                                                                                                                                                                                                                                                                                                                                                                                                                                                                                                                                                                                                                                                                                                                                                                                                                                                                                                                                                                                                                                                                                                                                                                                                                                                                                                                                                                                                                                                                                                                                                                                                                                                                                                                                                                                                                                                                                                                                                                                                                                                                                                                                                                                                                                                                                                                                                                                                                                                                                                                                                                                                                                                                                                                                                                                                                                                                                                                                                                                                                                                                                                                                                                                                                                                                                                                                                                                                                                                                                                                                                                                                                                                                                                                                                                                                                                                                                                                                                                                                                                                                                                                                                                                                                                                                                                                                                                                                                                                                                                                                                                                                                                                                                                                                                                                                                                                                                                                                                                                                                                                                                                                                                                                                                                                                                                                                                                                                                                                                                                                                                                                                                                                                                                                                                                                                                                                                                                                                                                                                                                                                                                                                                                                                                                                                                                                                                                                                                                                                                                                                                                                                                                                                                                                                                                                                                                                                                                                                                                                                                                                                                                                                                                                                                                                                                                                                                                                                                                                                                                                                                                                                                                                                                                                                                                                                                                                                                                                                                                                                                                                                                                                                                                                                                                                                                                                                                                                                                                                                                                                                                                                                                                                                                                                                                                                                                                                                                                                                                                                                                                                                                                                                                                                                                                                                                                                                                                                                                                                                                                                                                                                                                                                                                                                                                                                                                                                                                                                                                                                                                                                                                                                                                                                                                                                                                                                                                                                                                                                                                                                                                                                                                                                                                                                                                                                                                                                                                                                                                                                                                                                                                                                                                                                                                                                                                                                                                                                                                                                                                                                                                                          processed_text  \\\n",
       "0                                                                                                                                                                                                                                                                                                                                                                                                                                                                                                                                                                                                                                                                                                                                                                                                                                                                                                                                                                                                                                                                                                                                                                                                                                                                                                                                                                                                                                                                                                                                                                                                                                                                                                                                                                                                                                                                                                                                                                                                                                                                                                                                                                                                                                                                                                                                                                                                                                                                                                                                                                                                                                                                                                                                                                                                                                                                                                                                                                                                                                                                                                                                                                                                                                                                                                                                                                                                                                                                                                                                                                                                                                                                                                                                                                                                                                                                                                                                                                                                                                                                                                                                                                                                                                                                                                                                                                                                                                                                                                                                                                                                                                                                                                                                                                                                                                                                                                                                                                                                                                                                                                                                                                                                                                                                                                                                                                                                                                                                                                                                                                                                                                                                                                                                                                                                                                                                                                                                                                                                                                                                                                                                                                                                                                                                                                                                                                                                                                                                                                                                                                                                                                                                                                                                                                                                                                                                                                                                                                                                                                                                                                                                                                                                                                                                                                                                                                                                                                                                                                                                                                                                                                                                                                                                                                                                                                                                                                                                                                                                                                                                                                                                                                                                                                                                                                                                                                                                                                                                                                                                                                                                                                                                                                                                                                                                                                                                                                                                                                                                                                                                                                                                                                                                                                                                                                                                                                                                                                                                                                                                                                                                                                                                                                                                                                                                                                                                                                                                                                                                                                                                                                                                                                                                                                                                                                                                                                                                                                                                                                                                                                                                                                                                                                                                                                                                                                                                                                                                                                                                                                                                                                                                                                                                                                                                                                                                                                                                                                                                                                                                                                                                                                                                                                                                                                                                                                                                                                                                                                                                                                                                            features\\n•different color and beam configurations available.\\n•aluminum alloy housing, high heat dissipation performance.\\n•universal power supply.\\n•easy installation.\\n•3-year warranty.\\n•electrical input: 100-277 vac\\n•etl listed\\n•25w\\ndecors led dual light\\nled dual light\\n©decors usa llc\\nphone: 866.248.6300 | 732.486.8520 | www.decorsusa.com | sales@decorsusa.com\\navailable colors\\n•blue •green •amber •warm white (3000k) •cool  white (5000k) •red • purple\\ndecors led dual light\\nled dual light\\n©decors usa llc\\nphone: 866.248.6300 | 732.486.8520 | www.decorsusa.com | sales@decorsusa.com\\n15°\\n120°\\n120°\\n150°\\n150°\\nphotometrics\\nh(m)\\n2.00\\n5.00\\n10.00\\n15.00\\nmedlux\\n3347.2\\n546.2\\n133.9\\n33.3\\nmaxlux\\n4904.3\\n784.8\\n196.2\\n48.8\\n25°\\n120°\\n120°\\n150°\\n150°\\nh(m)\\n2.00\\n5.00\\n10.00\\n15.00\\nmedlux\\n873\\n139.5\\n34.7\\n8\\nmaxlux\\n1312.3\\n203.7\\n49.3\\n12.5\\n   \n",
       "1                                                                                                                                                                                                                                                                                                                                                                                                                                                                                                                                                                                                                                                                                                                                                                                                                                                                                                                                                                                                                                                                                                                                                                                                                                                                                                                                                                                                                                                                                                                                                                                                                                                                                                                                                                                                                                                                                                                                                                                                                                                                                                                                                                                                                                                                                                                                                                                                                                                                                                                                                                                                                                                                                                                                                                                                                                                                                                                                                                                                                                                                                                                                                                                                                                                                                                                                                                                                                                                                                                                                                                                                                                                                                                                                                                                                                                                                                                                                                                                                                                                                                                                                                                                                                                                                                                                                                                                                                                                                                                                                                                                                                                                                                                                                                                                                                                                                                                                                                                                                                                                                                                                                                                                                                                                                                                                                                                                                                                                                                                                                                                                                                                                                                                                                                                                                                                                                                                                                                                                                                                                                                                                                                                                                                                                                                                                                                                                                                                                                                                                                                                                                                                                                                                                                                                                                                                                                                                                                                                                                                                                                                                                                                                                                                                                                                                                                                                                                                                                                                                                          recommended use:\\n•architectural\\n•landscaping\\n•general exterior lighting of\\nhotels, signs, flags, multi-unit\\nresidential, commercial, and\\ngovernment buildings.\\n24 led up light\\ndu-sq-hw24\\ndetails\\nlight source \\n24x cree 1 w led lamps\\npower consumption \\n32w\\nbeam width\\n25 degree\\nmeasurement \\n9-3/4”l x 7-3/4”w x 4-1/2”h\\nweight\\n17 lbs\\n12 led downlight\\ndu-sq-hw12\\n*includes du-ws12 (sconce)\\ndetails\\nlight source \\n12x1 w cree led lamps\\npower consumption \\n13w\\nbeam width\\n15 degree\\nmeasurement \\n7-3/4”l x 6”w x 4-1/4”h\\nweight\\n13 lbs\\n©decors usa llc\\nphone: 866.248.6300 | 732.486.8520 | www.decorsusa.com | sales@decorsusa.com\\nmount for 12 led downlight and 24 led up light\\ndecors hallmark led lights\\ndetails\\nmeasurement \\n10”w x 12”h x 5”d\\nweight\\n8 lbs\\n• all-weather outdoor use\\n• ip65 rated.\\n• environmental temp. range: -\\n7.6° to 113° f (-20° to 45° c)\\n• electrical input:  90-265vac\\n• led up light comes with\\nmounting brackets\\nhallmark\\nled lights\\nsconce covers\\ndu-ws12 & du-ws24\\ndecors usa provides the ul listed 12 led and 24 led lights in various colors:\\ncolor\\nwhite\\nwarm white\\nred\\ngreen\\nblue\\namber\\npurple\\nlumens\\n1680 lm\\n1440 lm\\n840 lm\\n680 lm\\n600 lm\\n960 lm\\n640 lm\\nct (wave length)\\n5000-7000k\\n2700-3200k\\n620-630 nm\\n520-530 nm\\n450-475 nm\\n585-595 nm\\n420-435 nm\\nprojection distance: 20m based on 24 led lights at 32 watts total\\navailable colors\\nand illumination\\n©decors usa llc\\nphone: 866.248.6300 | 732.486.8520 | www.decorsusa.com | sales@decorsusa.com\\ndecors hallmark led lights\\nmounting instructions\\n©decors usa llc\\nphone: 866.248.6300 | 732.486.8520 | www.decorsusa.com | sales@decorsusa.com\\ndu-sq-hw12 with du ws12\\nparts\\n1. 12 led light fixture (du-sq-hw12)\\n2. sconce cover (du ws12)\\n3. fixture mounting screws 3/16” (2) / sconce cover mount-\\ning screws (4)\\n4. wall anchor screws 3/8” (6) not included.\\n5. weatherproof junction box, weather proof cover with one\\n1/2” outlet and weatherproof cable connection. not includ-\\ned.\\ninstallation\\ncaution: do not attempt to open the unit. opening \\nthe unit will damage the factory installed water tight seal, \\nwhich will void the warranty of the fixture.\\n1. all wiring and installation should be done by a licensed\\nelectrician.\\n2. disconnect power before installation. please note: the\\n120-volt single phase wiring serving this fixture shall be photo\\nsensor controlled for higher energy efficiency and extended\\nlife.\\n3. mark the location on the wall or column where the fixture\\nneeds to be installed. the location shall not be less than 4 ft\\nfrom ground level.\\n4. install an exterior weatherproof junction box with 120/230\\nvolt single phase wiring appropriate for a 100-watt exterior\\nlight fixture.\\n5. using the wall mount as a guide, mark 6 holes around\\njunction box. drill 3/8” holes on the marked location. attach\\nthe wall mounts using six anchor screws.\\n6. attach the sconce cover with six anchor screws.\\n7. mount the fixture using two fixture mounting screws and\\nadjust the angle for desired light effect.\\n8. connect the fixture cable to the junction box using the\\nweatherproof cable connector. attach a weatherproof cover\\nto the junction box. attach sconce cover using four mounting\\nscrews.\\ndu-sq-hw24\\nparts\\n1. 24 led light fixture (du-sq-hw24)\\n2. mounting brackets (2)\\n3. fixture mounting screws 3/16” (2)\\n4. wall anchor screws 3/8” (6) not included.\\n5. weatherproof junction box, weather proof cover with\\none 1/2” outlet and weatherproof cable connection. not\\nincluded.\\ninstallation\\ncaution: do not attempt to open the unit. opening \\nthe unit will damage the factory installed water tight \\nseal, which will void the warranty of the fixture.\\n1. all wiring and installation should be done by a licensed\\nelectrician.\\n2. disconnect power before installation. please note: the\\n120-volt single phase wiring serving this fixture shall be\\nphoto sensor controlled for higher energy efficiency and\\nextended life.\\n3. mark the location on the wall or column where the fixture\\nneeds to be installed. the location shall not be less than 4\\nft from ground level.\\n4. install an exterior weatherproof junction box with\\n120/230 volt single phase wiring appropriate for a 100-watt\\nexterior light fixture.\\n5. using the mounting bracket as a guide, mark four holes\\naround junction box. drill 3/8” holes on the marked location. \\n6. attach the mounting brackets with four anchor screws.\\n7. mount the fixture using two fixture mounting screws and\\nadjust the angle for desired light effect.\\n8. connect the fixture cable to the junction box using the\\nweatherproof cable connector. attach a weatherproof cover\\nto the junction box. \\ndecors hallmark led lights\\ndu-cr-4/6-cwx-p\\nlight data\\nled \\ncree xre\\nled number \\n4\\ncolor \\ncool white\\nlumen output \\n300 lm\\nmax efficacy \\n75\\nip rating \\n65\\n2”\\nsupply voltage\\ninput frequency\\ninput power\\nlifetime\\nperformance parameters\\n90v ~ 132v ac\\n50/60 hz\\n5w\\n30,000h\\nmaterial\\nsurface treatment\\nappearance and material\\naluminum alloy, pc\\nsilver gray painted\\netl listed\\nled “x” light\\n©decors usa llc\\nphone: 866.248.6300 | 732.486.8520 | www.decorsusa.com | sales@decorsusa.com\\ndecors hallmark led lights\\n6”\\n   \n",
       "12  everlight electronics co.,ltd. \\n  everlight electronics co., ltd.          http:\\\\www.everlight.com             rev 1       page: 1 of 10 \\n  device no：szdmo-037-031         prepared date：31-august-2007           prepared by： liuyan \\ntechnical data sheet \\ninfrared remote-control receiver module \\n \\nirm-37xxt series \\nfeatures \\n• photo detector and preamplifier in one package \\n• internal filter for pcm frequency \\n• improved inner shielding against electrical field disturbance \\n• ttl and cmos compatibility \\n• low power consumption \\n• improved immunity against ambient light \\n• suitable burst length \\n≧≧10 cycles1burst\\n \\n• pb free \\n \\n• bicmos manufacture ic ; esd hbm>4000v ; mm>250v \\n• the product itself will remain within rohs compliant version. \\n \\ndescriptions \\nthe irm-37xxt is miniaturized receivers for infrared remote control systems. \\npin diode and preamplifier are assembled on lead frame, the epoxy package is  \\ndesigned as ir filter. the demodulated output signal can directly be decoded by \\na microprocessor.irm-37xxt is the standard ir remote control receiver \\nseries, supporting all major transmission codes. \\n \\napplications    \\n․light detecting portion of remote control \\n․av instruments such as audio, tv, vcr, cd, md, etc. \\n․home appliances such as air-conditioner, fan , etc. \\n․the other equipments with wireless remote control. \\n․catv set top boxes \\n․multi-media equipment \\n \\n \\npart \\nmaterial \\ncolor \\nchip \\nsilicon \\nblack \\ncompound \\nepoxy \\nblack \\n \\n \\n \\n \\n \\n \\n　\\nver.:1     release date:09/19/2008      狀態:approved(正式發行)\\neverlight electronics co.,ltd. \\n  everlight electronics co., ltd.          http:\\\\www.everlight.com             rev 1       page: 2 of 10 \\n  device no：szdmo-037-031         prepared date：31-august-2007           prepared by： liuyan \\n \\nirm-37xxt series  \\n \\npackage dimensions   \\n            \\n \\nunit:mm \\nnotes:  1.all dimensions are in millimeters. \\n         2.tolerances unless dimensions ±0.3mm. \\n \\navailable types for different carrier frequencies \\ntype \\ncarrier frequencies (typ) \\nirm-3736t \\n36 khz \\nirm-3738t \\n38 khz \\nirm-3740t \\n40 khz \\nirm-3756t \\n56 khz \\n \\n　\\nver.:1     release date:09/19/2008      狀態:approved(正式發行)\\neverlight electronics co.,ltd. \\n  everlight electronics co., ltd.          http:\\\\www.everlight.com             rev 1       page: 3 of 10 \\n  device no：szdmo-037-031         prepared date：31-august-2007           prepared by： liuyan \\n \\nirm-37xxt series \\nabsolute maximum ratings (ta=25℃) \\nparameter \\nsymbol\\nrating \\nunit \\nnotice \\nsupply voltage \\nvcc \\n0~6 \\nv \\n \\noperating temperature \\ntopr \\n-25 ~ +80 \\n℃ \\n \\nstorage temperature \\ntstg \\n-40 ~ +85 \\n℃ \\n \\nsoldering temperature \\ntsol \\n260 \\n℃ \\n4mm from mold body \\nless than 10 seconds \\n \\nrecommended operating condition \\nsupply voltage rating: vcc 2.7v to 5.5v \\nelectro-optical characteristics (ta=25℃, and vcc=3v) \\nparameter \\nsymbol\\nmin. \\ntyp. \\nmax.\\nunit \\ncondition \\nconsumption current \\nicc \\n--- \\n1.0 \\n1.2 \\nma \\nno signal input\\npeak wavelength \\nλp \\n--- \\n940 \\n--- \\nnm \\n \\nreception distance \\nl0 \\n14 \\n--- \\n--- \\nm \\n \\nl45 \\n6 \\n--- \\n--- \\nhalf angle(horizontal) \\nθh \\n--- \\n45 \\n--- \\ndeg \\nat the ray axis\\n*1 \\nhalf angle(vertical) \\nθv \\n--- \\n45 \\n--- \\ndeg \\n \\nhigh level pulse width \\nth \\n400 \\n--- \\n800 \\nμs \\nat the ray axis\\n*2 \\nlow level pulse width \\ntl \\n400 \\n--- \\n800 \\nμs \\nhigh level output voltage \\nvh \\n2.7 \\n--- \\n--- \\nv \\n \\nlow level output voltage \\nvl \\n--- \\n--- \\n0.5 \\nv \\n \\nnotes: \\n*1:the ray receiving surface at a vertex and relation to the ray axis in the range of θ= 0° and θ=45°. \\n*2:a range from 30cm to the arrival distance.  average value of 50 pulses. \\n \\n \\n \\n　\\nver.:1     release date:09/19/2008      狀態:approved(正式發行)\\neverlight electronics co.,ltd. \\n  everlight electronics co., ltd.          http:\\\\www.everlight.com             rev 1       page: 4 of 10 \\n  device no：szdmo-037-031         prepared date：31-august-2007           prepared by： liuyan \\n \\nirm-37xxt series \\n \\ntest method： \\n the specified electro-optical characteristics is satisfied under the following \\n conditions at the controllable distance. \\n \\n measurement place \\n   a place that is nothing of extreme light reflected in the room. \\n external light \\n   project the light of ordinary white fluorescent lamps which are not high \\n   frequency lamps and must be less then 10 lux at the module surface.  \\n   (ee≦10lux) \\n standard transmitter \\n   a transmitter whose output is so adjusted as to vo=400mvp-p and the output \\n   wave form shown in fig.-1.according to the measurement method shown in \\n   fig.-2 the standard transmitter is specified. \\n   however , the infrared photodiode to be used for the transmitter should be \\n   λp=940nm,δλ=50nm. also, photodiode is used of pd438b(vr=5v). \\n   (standard light 1 light source temperature 2856°k). \\n measuring system \\n   according to the measuring system shown in fig.-3 \\n \\nblock diagram： \\n \\n \\n \\n \\n \\n \\n \\n \\n \\n \\n \\n \\n \\n \\n \\n \\nmodulated ir signal \\nmin 10 pulses \\ncarrier frequency f0 \\nout \\nin \\nvs \\ngnd \\ninput \\ncga & filter \\ndemodulator \\noscillator \\nagc1atc & digital control \\nµc \\n　\\nver.:1     release date:09/19/2008      狀態:approved(正式發行)\\neverlight electronics co.,ltd. \\n  everlight electronics co., ltd.          http:\\\\www.everlight.com             rev 1       page: 5 of 10 \\n  device no：szdmo-037-031         prepared date：31-august-2007           prepared by： liuyan \\ncarrier frequency is adjusted to \\ncenter frequency of each product.\\nir tansmitter \\noutput wave form\\noutput pulse \\nof device\\nstandard transmitter\\noscilloscope\\nvout\\n10uf\\n+5.0± 0.1v\\n10k\\n20cm\\n100k\\nθ\\nθ\\nd.u.t\\nl: transmission distance\\nstandard transmitter\\ngnd\\nvcc\\nout\\nvout\\nθ: angle of horizontal & vertical direction\\n \\nirm-37xxt series \\n \\napplication circuit： \\n \\n \\n \\n \\n \\n \\n \\n \\n \\n \\n          rc filter should be connected closely between vcc pin and gnd pin. \\n \\n \\n \\n \\n  fig.-1  transmitter wave form                         d.u.t output pulse \\n \\n \\n \\n \\n \\n \\n \\n \\n \\n \\n                                            \\n \\n \\n \\n \\n \\n  fig.-2  measuring method                      fig.-3    measuring system \\n \\n \\n \\n \\n \\n \\n \\n \\n \\n \\n \\n \\n \\n \\n \\n \\n \\n \\nduty=0.5 \\n　\\nver.:1     release date:09/19/2008      狀態:approved(正式發行)\\neverlight electronics co.,ltd. \\n  everlight electronics co., ltd.          http:\\\\www.everlight.com             rev 1       page: 6 of 10 \\n  device no：szdmo-037-031         prepared date：31-august-2007           prepared by： liuyan \\n \\nirm-37xxt series \\nthe notice of application: \\ntransmission of remote control signal consist of four parts: encode part, ir transmitter source, \\nirm device, decode part \\n \\n1. when irm-37xxt series code select frequency, it need to well understand the center system of \\nencode part. \\n2. strong or weak light of ir transmitter can affect distance of transmission. \\n3. when using irm-37xxt series device, it requires the composition of code pattern to reach the \\ndemand as follows:    \\nminimum tburst \\n( number of pulses per burst) \\nminimum tburst_gap \\n( number of pulses \\nbetween two burst) \\nminimum tpause \\n10 pulses \\n14 pulses \\n25 msec \\n \\n4. it needs to ensure the translation range of decode part if it is applied to the pulse-width range. \\n \\nif the above items hardly assure of its application, it’ll cause ng(no good) message from the edge \\nof signal. \\n \\nirm-37xxt series code property: \\ndata format \\n \\ndata format \\n \\nnec \\no \\nsony 12 bit \\no \\nrc5 _ philips \\no \\nsony 15 bit \\nx \\nrc6 _ philips \\no \\nsony 20 bit \\nx \\nrca _ thomson \\nx \\nmatsushita \\no \\ntoshiba \\no \\nmitsubishi \\no \\nsharp \\no \\nzenith \\no \\njvc \\no \\nhigh data rate  \\n (4000 bit1s) \\nx \\n　\\nver.:1     release date:09/19/2008      狀態:approved(正式發行)\\neverlight electronics co.,ltd. \\n  everlight electronics co., ltd.          http:\\\\www.everlight.com             rev 1       page: 7 of 10 \\n  device no：szdmo-037-031         prepared date：31-august-2007           prepared by： liuyan \\n  \\nirm-37xxt series \\ntypical electro-optical characteristics curves \\n \\nfig.-4 relative spectral sensitivity vs. \\nwavelength \\nfig.-5 \\nrelative \\ntransmission \\ndistance \\nvs. \\ndirection \\n \\nangle      (deg)\\n-20\\nrelative transmission distance (%)\\n-60\\n0\\n80\\n40\\n20\\n60\\n-40\\n0\\n20\\n60\\n40\\nfig.-6 output pulse length vs. arrival distance fig.-7 arrival distance vs. supply voltage \\n16\\ntransmission distance lc (m)\\n2\\n0\\n10\\n6\\n4\\n8\\n12\\n14\\noutput pulse width twl (μsec)\\n \\n \\n \\n \\ntransmission distance lc (m)\\n3.8\\nsupply voltage vcc (v)\\n2.7\\n0\\n3.3\\n3.0\\n3.5\\n4.1 4.4\\n4.7\\n5.0 5.3\\n5.5\\n17.5\\n10.5\\n7.0\\n3.5\\n　\\nver.:1     release date:09/19/2008      狀態:approved(正式發行)\\neverlight electronics co.,ltd. \\n  everlight electronics co., ltd.          http:\\\\www.everlight.com             rev 1       page: 8 of 10 \\n  device no：szdmo-037-031         prepared date：31-august-2007           prepared by： liuyan \\nrelative transmission distance (%)\\ncenter carrier frequency  (khz)\\nrelative transmission distance (%)\\ncenter carrier frequency  (khz)\\n \\nirm-37xxt series \\n \\ntypical electro-optical characteristics curves \\nfig.-8 relative transmission distance vs. center carrier frequency \\n \\n                irm-3736t                               irm-3738t \\n                   \\n \\n \\n                 irm-3740t                               irm-3756t \\n                                              \\n \\n \\n \\n \\n \\n \\n　\\nver.:1     release date:09/19/2008      狀態:approved(正式發行)\\neverlight electronics co.,ltd. \\n  everlight electronics co., ltd.          http:\\\\www.everlight.com             rev 1       page: 9 of 10 \\n  device no：szdmo-037-031         prepared date：31-august-2007           prepared by： liuyan \\nambient temperature ta (°c)\\n7.0\\n3.5\\n14.0\\n10.5\\n17.5\\ntransmission distance lc (m)\\n \\nirm-37xxt series \\ntypical electro-optical characteristics curves \\nfig.-9 arrival distance vs. ambient temperature \\n \\n \\n \\n \\n \\n \\n \\n \\n \\n \\n \\nreliability test item and condition \\n the reliability of products shall be satisfied with items listed below. \\n confidence level：90% \\n ltpd：10% \\ntest items \\ntest conditions \\nfailure judgement \\ncriteria \\nsamples(n)\\ndefective(c)\\ntemperature cycle \\n1 cycle  -40℃       +100℃ \\n       (15min)(5min)(15min) \\n300 cycle test \\nl0≦ l×0.8 \\nl45≦ l×0.8 \\n \\n \\nl: lower \\nspecification limit \\n n=22,c=0 \\nhigh temperature test \\ntemp: +100℃ \\nvcc:6v \\n1000hrs \\n n=22,c=0 \\nlow temperature \\nstorage \\ntemp: -40℃ \\n1000hrs \\n n=22,c=0 \\nhigh temperature \\nhigh humidity \\nta: 85℃,rh:85% \\n1000hrs \\n n=22,c=0 \\nsolder heat \\ntemp: 260±5℃ 10sec \\n4mm from the bottom of the package. \\n n=22,c=0 \\n　\\nver.:1     release date:09/19/2008      狀態:approved(正式發行)\\neverlight electronics co.,ltd. \\n  everlight electronics co., ltd.          http:\\\\www.everlight.com             rev 1       page: 10 of 10 \\n  device no：szdmo-037-031         prepared date：31-august-2007           prepared by： liuyan \\n \\nirm-37xxt series \\n \\npacking quantity specification \\n1. 1500 pcs11box \\n2. 10 boxes11carton \\n \\nlabel form specification \\n \\ncpn: customer’s production number \\np1n : production number \\nqty: packing quantity \\ncat: ranks \\nhue: none \\nref: reference \\nlot no: lot number \\nmade in taiwan: production place  \\n \\n \\nnotes \\n1. above specification may be changed without notice. everlight will reserve authority on \\nmaterial change for above specification. \\n2. when using this product, please observe the absolute maximum ratings and the instructions \\nfor using outlined in these specification sheets. everlight assumes no responsibility for \\nany damage resulting from use of the product which does not comply with the absolute  \\nmaximum ratings and the instructions included in these specification sheets. \\n3. these specification sheets include materials protected under copyright of everlight \\ncorporation. please don’t reproduce or cause anyone to reproduce them without \\neverlight’s consent. \\n \\n \\n \\nirm-37xxt \\neverlight electronics co., ltd.  \\n \\n \\ntel: 886-2-2267-2000, 2267-9936 \\noffice: no 25, lane 76, sec 3, chung yang rd,    \\nfax: 886-2267-6244, 2267-6189, 2267-6306 \\n      tucheng, taipei 236, taiwan, r.o.c  \\n \\n \\nhttp:\\\\www.everlight.com \\n　\\nver.:1     release date:09/19/2008      狀態:approved(正式發行)\\n   \n",
       "13                                                                                                                                                                                                                                                                                                                                                                                                                                                                                                                                                                                                                                                                                                                                                                                                                                         \\n1  \\ncopyright © 2010, everlight all rights reserved. release date :sep.27. 2018 issue no: dle-0003884_rev.4 \\nwww.everlight.com \\n \\n \\n \\n lamp \\n1003subd/s400-a6 \\n \\n \\n \\n \\n \\n \\n \\n \\n \\n \\n \\n \\n \\n \\n \\n \\n \\n \\n \\n \\n \\n \\n \\n \\n \\n \\n \\n \\n \\n \\n \\n \\n \\n \\n \\n \\n \\n \\n \\n \\n \\n \\n \\n \\n \\n \\n \\n \\n \\n \\n \\n \\n \\n \\n \\n \\n \\n \\n \\n \\n \\n \\n \\n \\n \\nfeatures \\n• choice of various viewing angles \\n• available on tape and reel. \\n• reliable and robust \\n• pb free \\n• the product itself will remain within rohs compliant version. \\n \\ndescription \\n•the series is specially designed for applications requiring higher brightness \\n•the led lamps are available with different colors, intensities.. \\n \\napplications \\n• tv set \\n• monitor \\n• telephone \\n• computer \\n \\n \\n \\n \\n \\n \\n \\n \\n \\n \\n \\n \\n \\n \\n \\n \\n \\n \\n \\n \\n \\n \\n \\n \\n \\n \\n \\n　\\nver.:4     release date:10/05/2018      狀態:approved(正式發行)\\ndatasheet \\nlamp \\n1003subd/s400-a6 \\n \\n \\n \\n2  \\ncopyright © 2010, everlight all rights reserved. release date : sep.27. 2018 issue no: dle-0003884_rev.4 \\nwww.everlight.com \\n \\n \\n device selection guide \\n \\nchip \\nmaterials \\nemitted color \\nresin color \\ningan \\nblue \\nblue diffused \\n \\n \\n \\n \\n absolute maximum ratings (ta=25℃) \\n \\nparameter \\nsymbol \\nrating \\nunit \\ncontinuous forward current \\nif \\n25 \\nma \\npeak forward current (duty 1/10 @ 1khz) \\nifp \\n100 \\nma \\nreverse voltage \\nvr \\n5 \\nv \\npower dissipation \\npd \\n90 \\nmw \\noperating temperature \\ntopr \\n-40 ~ +85 \\n℃ \\nstorage temperature \\ntstg \\n-40 ~ +100 \\n℃ \\nsoldering temperature \\ntsol \\n260 ℃ for 5 sec. \\n \\n \\n \\n \\n \\n electro-optical characteristics (ta=25℃) \\n \\nparameter \\nsymbol \\nmin. \\ntyp. \\nmax. \\nunit \\ncondition \\nluminous intensity \\niv \\n10 \\n20 \\n----- \\nmcd \\nif=20ma \\nviewing angle \\n2θ1/2 \\n----- \\n110 \\n----- \\ndeg \\nif=20ma \\npeak wavelength \\nλp \\n----- \\n468 \\n----- \\nnm \\nif=20ma \\ndominant wavelength \\nλd \\n----- \\n470 \\n----- \\nnm \\nif=20ma \\nspectrum radiation bandwidth \\nδλ \\n----- \\n35 \\n----- \\nnm \\nif=20ma \\nforward voltage \\nvf \\n2.7 \\n3.3 \\n4.0 \\nv \\nif=20ma \\nreverse current \\nir \\n----- \\n----- \\n50 \\nμa \\nvr=5v \\n \\n \\n \\n \\n \\nnote:  \\n \\n*measurement uncertainty of forward voltage: ±0.1v \\n \\n*measurement uncertainty of luminous intensity: ±10% \\n*measurement uncertainty of dominant wavelength ±1.0nm \\n　\\nver.:4     release date:10/05/2018      狀態:approved(正式發行)\\ndatasheet \\nlamp \\n1003subd/s400-a6 \\n \\n \\n \\n3  \\ncopyright © 2010, everlight all rights reserved. release date : sep.27. 2018 issue no: dle-0003884_rev.4 \\nwww.everlight.com \\n \\n typical electro-optical characteristics curves \\n  \\n \\nrelative intensity vs. wavelength (ta=25℃) \\ndirectivity (ta=25℃) \\n \\nrelative intensity (a.u.) \\n \\nradiation angle \\n \\n \\n \\nwavelength (nm) \\n \\nrelative intensity (a.u.) \\n \\n \\nforward current vs. forward voltage (ta=25℃) \\nrelative intensity vs. forward current (ta=25℃) \\n \\nforward current (ma) \\n1.5\\n2.0\\n2.5\\n3.0\\n3.5\\n4.0\\n4.5\\n0\\n5\\n10\\n15\\n20\\n25\\n \\n \\nforward current(ma)\\nforward voltage(v)\\n \\n \\nrelative intensity(a.u.) \\n0\\n5\\n10\\n15\\n20\\n25\\n0.0\\n0.5\\n1.0\\n1.5\\n \\n \\n \\n  \\nforward voltage (v) \\n \\nforward current (ma) \\n \\n \\nrelative intensity vs. ambient temp. \\nforward current vs. ambient temp. \\n \\nrelative intensity(a.u.) \\n25\\n30\\n35\\n40\\n45\\n50\\n55\\n60\\n65\\n70\\n0.0\\n0.5\\n1.0\\n1.5\\n2.0\\n \\n \\n \\nforward current (ma) \\n0\\n20\\n40\\n60\\n80\\n100\\n0\\n10\\n20\\n30\\n40\\n \\n \\n \\n  \\nambient temperature ta(℃) \\n \\nambient temperature ta(℃) \\n \\n \\n　\\nver.:4     release date:10/05/2018      狀態:approved(正式發行)\\ndatasheet \\nlamp \\n1003subd/s400-a6 \\n \\n \\n \\n4  \\ncopyright © 2010, everlight all rights reserved. release date : sep.27. 2018 issue no: dle-0003884_rev.4 \\nwww.everlight.com \\n \\n  package dimension \\n \\n \\n \\n \\n \\n \\n \\n \\n \\n \\n \\n \\n \\n \\n \\n \\n \\n \\n \\n \\n \\n \\n \\n \\n \\n \\n \\n \\n \\n \\n \\n \\n \\n \\n \\n \\n \\n \\n \\n \\n \\n \\nnotes: \\n1. all dimensions are in millimeters \\n2. the height of flange must be less than 1.5mm(0.059\"). \\n3. without special declared, the tolerance is ±0.25mm. \\n \\n \\n \\n　\\nver.:4     release date:10/05/2018      狀態:approved(正式發行)\\ndatasheet \\nlamp \\n1003subd/s400-a6 \\n \\n \\n \\n5  \\ncopyright © 2010, everlight all rights reserved. release date : sep.27. 2018 issue no: dle-0003884_rev.4 \\nwww.everlight.com \\n \\npb\\nel ectrostatic electronagnetic \\nmagnetic or radioactive relds\\nanti-static for 750\\n \\n moisture resistant packing materials \\nlabel explanation \\n \\n \\n \\ncpn: customer's  production number \\np/n : production number \\nqty: packing quantity \\ncat: ranks \\nhue: dominant wavelength \\nref: reference \\nlot no: lot number \\n \\n \\n \\n \\n packing specification \\n■ anti-electrostatic bag              ■ inner carton                       ■ outside carton \\n \\n \\n \\n \\n \\n \\n \\n \\n \\n \\n \\n \\n \\n \\n \\n \\n \\n \\n \\n \\n \\n \\n \\n \\n \\n■ packing quantity  \\n1. min 200 to 500 pcs/1 bag, 5 bags/1 inner carton \\n2. 10 inner cartons/1 outside carton \\n　\\nver.:4     release date:10/05/2018      狀態:approved(正式發行)\\ndatasheet \\nlamp \\n1003subd/s400-a6 \\n \\n \\n \\n6  \\ncopyright © 2010, everlight all rights reserved. release date : sep.27. 2018 issue no: dle-0003884_rev.4 \\nwww.everlight.com \\n \\nprehead\\nlaminar wave\\nfluxing\\n \\n \\nnotes \\n \\n1. \\nlead forming \\n \\nduring lead formation, the leads should be bent at a point at least 3mm from the base of the epoxy bulb. \\n \\nlead forming should be done before soldering. \\n \\navoid stressing the led package during leads forming. the stress to the base may damage the led’s characteristics or it \\nmay break the leds. \\n \\ncut the led lead frames at room temperature. cutting the lead frames at high temperatures may cause failure of the leds. \\n \\nwhen mounting the leds onto a pcb, the pcb holes must be aligned exactly with the lead position of the led. if the leds \\nare mounted with stress at the leads, it causes deterioration of the epoxy resin and this will degrade the leds. \\n2. \\nstorage \\n \\nthe leds should be stored at 30°c or less and 70%rh or less after being shipped from everlight and the storage life limits \\nare 3 months. if the leds are stored for 3 months or more, they can be stored for a year in a sealed container with a \\nnitrogen atmosphere and moisture absorbent material. \\n \\nplease avoid rapid transitions in ambient temperature, especially, in high humidity environments where condensation can \\noccur. \\n3. \\nsoldering \\n \\ncareful attention should be paid during soldering. when soldering, leave more then 3mm from solder joint to epoxy bulb, \\nand soldering beyond the base of the tie bar is recommended. \\n \\nrecommended soldering conditions: \\nhand soldering \\ndip soldering \\ntemp. at tip of iron \\n300℃ max. (30w max.) \\npreheat temp. \\n100℃ max. (60 sec max.) \\nsoldering time \\n3 sec max. \\nbath temp. & time \\n260 max., 5 sec max \\ndistance \\n3mm min.(from solder \\njoint to epoxy bulb) \\ndistance \\n3mm min. (from solder \\njoint to epoxy bulb) \\n \\nrecommended soldering profile \\n \\n \\n \\n \\n \\n \\n \\n \\n \\n \\n \\n \\n \\n \\navoiding applying any stress to the lead frame while the leds are at high temperature particularly when soldering. \\n \\ndip and hand soldering should not be done more than one time \\n \\n \\nafter soldering the leds, the epoxy bulb should be protected from mechanical shock or vibration until the leds return to \\nroom temperature. \\n　\\nver.:4     release date:10/05/2018      狀態:approved(正式發行)\\ndatasheet \\nlamp \\n1003subd/s400-a6 \\n \\n \\n \\n7  \\ncopyright © 2010, everlight all rights reserved. release date : sep.27. 2018 issue no: dle-0003884_rev.4 \\nwww.everlight.com \\n \\n \\na rapid-rate process is not recommended for cooling the leds down from the peak temperature. \\n \\nalthough the recommended soldering conditions are specified in the above table, dip or hand soldering at the lowest \\npossible temperature is desirable for the leds. \\n \\n \\nwave soldering parameter must be set and maintain according to recommended temperature and dwell time in the solder \\nwave.  \\n4. \\ncleaning \\n \\nwhen necessary, cleaning should occur only with isopropyl alcohol at room temperature for a duration of no more than \\none minute. dry at room temperature before use. \\n \\ndo not clean the leds by the ultrasonic. when it is absolutely necessary, the influence of ultrasonic cleaning on the leds \\ndepends on factors such as ultrasonic power and the assembled condition. ultrasonic cleaning shall be pre-qualified to \\nensure this will not cause damage to the led \\n5. \\nheat management \\n \\nheat management of leds must be taken into consideration during the design stage of led application. the current \\nshould be de-rated appropriately by referring to the de-rating curve found in each product specification. \\n \\nthe temperature surrounding the led in the application should be controlled. please refer to the data sheet de-rating \\ncurve. \\n6. esd (electrostatic discharge) \\n \\nthe products are sensitive to static electricity or surge voltage. esd can damage a die and its reliability. \\nwhen handling the products, the following measures against electrostatic discharge are strongly \\nrecommended: \\neliminating the charge \\ngrounded wrist strap, esd footwear, clothes, and floors \\ngrounded workstation equipment and tools \\nesd table/shelf mat made of conductive materials \\n \\nproper grounding is required for all devices, equipment, and machinery used in product assembly. \\nsurge protection should be considered when designing of commercial products. \\n \\nif tools or equipment contain insulating materials such as glass or plastic, \\nthe following measures against electrostatic discharge are strongly recommended: \\ndissipating static charge with conductive materials \\npreventing charge generation with moisture  \\nneutralizing the charge with ionizers \\n7. \\ndirections for use \\n \\nthe leds should be operated with forward bias. the driving circuit must be designed so that the leds are not subjected \\nto forward or reverse voltage while it is off. if reverse voltage is continuously applied to the leds, it may cause migration \\nresulting in led damage. \\n \\n \\ndisclaimer \\n \\n \\n1. \\neverlight reserves the right(s) on the adjustment of product material mix for the specification. \\n2. \\nthe product meets everlight published specification for a period of twelve (12) months from date of \\nshipment. \\n3. \\nthe graphs shown in this datasheet are representing typical data only and do not show guaranteed values. \\n　\\nver.:4     release date:10/05/2018      狀態:approved(正式發行)\\ndatasheet \\nlamp \\n1003subd/s400-a6 \\n \\n \\n \\n8  \\ncopyright © 2010, everlight all rights reserved. release date : sep.27. 2018 issue no: dle-0003884_rev.4 \\nwww.everlight.com \\n \\n4. \\nwhen using this product, please observe the absolute maximum ratings and the instructions for using outlined \\nin these specification sheets. everlight assumes no responsibility for any damage resulting from the use of \\nthe product which does not comply with the absolute maximum ratings and the instructions included in these \\nspecification sheets. \\n5. \\nthese specification sheets include materials protected under copyright of everlight. reproduction in any \\nform is prohibited without obtaining everlight’s prior consent. \\n6. \\nthis product is not intended to be used for military, aircraft, automotive, medical, life sustaining or life saving \\napplications or any other application which can result in human injury or death. please contact authorized \\neverlight sales agent for special application request. \\n \\n \\n　\\nver.:4     release date:10/05/2018      狀態:approved(正式發行)\\n   \n",
       "14                                                                                                                                                                                                                                                                                                                                                                                                                                                                                                                                                                                                                                                                                                                                                                                                                                                                                                                                                                                                                                                                                                                                                                                                                                                                                                                                                                                                                                                                                                                                                                                                                                                                            \\n1  \\ncopyright © 2010, everlight all rights reserved. release date : dec.19. 2013. issue no: dle-0005238.rev.2 \\nwww.everlight.com \\n \\n \\n \\n lamp \\n1003sugd/s400-a4 \\n \\n \\n \\n \\n \\n \\n \\n \\n \\n \\n \\n \\n \\n \\n \\n \\n \\n \\n \\n \\n \\n \\n \\n \\n \\n \\n \\n \\n \\n \\n \\n \\n \\n \\n \\nfeatures \\n• choice of various viewing angles \\n• available on tape and reel. \\n• reliable and robust \\n• pb free \\n• the product itself will remain within rohs compliant version. \\n \\ndescription \\n•the series is specially designed for applications requiring higher brightness \\n•the led lamps are available with different colors, intensities.. \\n \\napplications \\n• tv set \\n• monitor \\n• telephone \\n• computer \\n \\n \\n \\n \\n \\n \\n \\n \\n \\n \\n \\n \\n \\n \\n \\n \\n \\n \\n \\n \\n \\n \\n \\n \\n \\n \\n \\n　\\nver.:2     release date:12/25/2013      狀態:approved(正式發行)\\ndatasheet \\nlamp \\n1003sugd/s400-a4 \\n \\n \\n2  \\ncopyright © 2010, everlight all rights reserved. release date : dec.19. 2013. issue no: dle-0005238.rev.2 \\nwww.everlight.com \\n \\n \\n device selection guide \\n \\nchip \\nmaterials \\nemitted color \\nresin color \\ningan \\nbrilliant green \\ngreen diffused \\n \\n \\n \\n \\n absolute maximum ratings (ta=25℃) \\n \\nparameter \\nsymbol \\nrating \\nunit \\ncontinuous forward current \\nif \\n25 \\nma \\npeak forward current (duty 1/10 @ 1khz) \\nifp \\n100 \\nma \\nreverse voltage \\nvr \\n5 \\nv \\npower dissipation \\npd \\n90 \\nmw \\noperating temperature \\ntopr \\n-40 ~ +85 \\n℃ \\nstorage temperature \\ntstg \\n-40 ~ +100 \\n℃ \\nsoldering temperature \\ntsol \\n260 ℃ for 5 sec. \\n \\n \\n \\n \\n \\n electro-optical characteristics (ta=25℃) \\n \\nparameter \\nsymbol \\nmin. \\ntyp. \\nmax. \\nunit \\ncondition\\nluminous intensity \\niv \\n16 \\n50 \\n----- \\nmcd \\nif=20ma \\nviewing angle \\n2θ1/2 \\n----- \\n110 \\n----- \\ndeg \\nif=20ma \\npeak wavelength \\nλp \\n----- \\n518 \\n----- \\nnm \\nif=20ma \\ndominant wavelength \\nλd \\n----- \\n525 \\n----- \\nnm \\nif=20ma \\nspectrum radiation bandwidth \\nδλ \\n----- \\n35 \\n----- \\nnm \\nif=20ma \\nforward voltage \\nvf \\n----- \\n3.3 \\n4.0 \\nv \\nif=20ma \\nreverse current \\nir \\n----- \\n----- \\n50 \\nμa \\nvr=5v \\n \\n \\n \\n \\n \\n \\n \\n \\n　\\nver.:2     release date:12/25/2013      狀態:approved(正式發行)\\ndatasheet \\nlamp \\n1003sugd/s400-a4 \\n \\n \\n3  \\ncopyright © 2010, everlight all rights reserved. release date : dec.19. 2013. issue no: dle-0005238.rev.2 \\nwww.everlight.com \\n \\n typical electro-optical characteristics curves\\n \\n \\nrelative intensity vs. wavelength (ta=25℃)\\ndirectivity (ta=25℃) \\n \\nrelative intensity (a.u.) \\nradiation angle \\n \\n \\n \\nwavelength (nm) \\n \\nrelative intensity (a.u.) \\n \\n \\nforward current vs. forward voltage (ta=25℃) \\nrelative intensity vs. forward current (ta=25℃) \\n \\nforward current (ma) \\n1.5\\n2.0\\n2.5\\n3.0\\n3.5\\n4.0\\n4.5\\n0\\n5\\n10\\n15\\n20\\n25\\n \\nrelative intensity(a.u.) \\n0\\n5\\n10\\n15\\n20\\n25\\n0.0\\n0.5\\n1.0\\n1.5\\n  \\nforward voltage (v) \\n \\nforward current (ma) \\n \\n \\nrelative intensity vs. ambient temp. \\nforward current vs. ambient temp. \\n \\nrelative intensity(a.u.) \\n25\\n30\\n35\\n40\\n45\\n50\\n55\\n60\\n65\\n70\\n0.0\\n0.5\\n1.0\\n1.5\\n2.0\\n \\nforward current (ma) \\n0\\n20\\n40\\n60\\n80\\n100\\n0\\n10\\n20\\n30\\n40\\n  \\nambient temperature ta(℃) \\n \\nambient temperature ta(℃) \\n \\n \\n　\\nver.:2     release date:12/25/2013      狀態:approved(正式發行)\\ndatasheet \\nlamp \\n1003sugd/s400-a4 \\n \\n \\n4  \\ncopyright © 2010, everlight all rights reserved. release date : dec.19. 2013. issue no: dle-0005238.rev.2 \\nwww.everlight.com \\n \\n  package dimension \\n \\n \\n \\n \\n \\n \\n \\n \\n \\n \\n \\n \\n \\n \\n \\n \\n \\n \\n \\n \\n \\n \\n \\n \\n \\n \\n \\n \\n \\n \\n \\n \\n \\n \\n \\n \\n \\n \\n \\n \\n \\n \\nnote: note: \\n1. all dimensions are in millimeters \\n2. the height of flange must be less than 1.5mm(0.059\"). \\n3. without special declared, the tolerance is ±0.25mm. \\n \\n \\n \\n　\\nver.:2     release date:12/25/2013      狀態:approved(正式發行)\\ndatasheet \\nlamp \\n1003sugd/s400-a4 \\n \\n \\n5  \\ncopyright © 2010, everlight all rights reserved. release date : dec.19. 2013. issue no: dle-0005238.rev.2 \\nwww.everlight.com \\n \\npb\\nel ectrostatic electronagnetic \\nmagnetic or radioactive relds\\nanti-static for 750\\n \\n moisture resistant packing materials \\nlabel explanation \\n \\n \\ncpn: customer's  production number \\np/n : production number \\nqty: packing quantity \\ncat: ranks \\nhue: dominant wavelength \\nref: reference \\nlot no: lot number \\n \\n \\n \\n \\n packing specification \\n■ anti-electrostatic bag              ■ inner carton                       ■ outside carton \\n \\n \\n \\n \\n \\n \\n \\n \\n \\n \\n \\n \\n \\n \\n \\n \\n \\n \\n \\n \\n \\n \\n \\n \\n \\nrohs\\npb\\nx\\neverlight\\n1003sugd/s400-a4\\n■ packing quantity  \\n1.500 pcs/1 bag, 5 bags/1 inner carton \\n2. 10 inner cartons/1 outside carton \\n　\\nver.:2     release date:12/25/2013      狀態:approved(正式發行)\\ndatasheet \\nlamp \\n1003sugd/s400-a4 \\n \\n \\n6  \\ncopyright © 2010, everlight all rights reserved. release date : dec.19. 2013. issue no: dle-0005238.rev.2 \\nwww.everlight.com \\n \\nprehead\\nlaminar wave\\nfluxing\\n \\n \\nnotes \\n \\n1. \\nlead forming \\n \\nduring lead formation, the leads should be bent at a point at least 3mm from the base of the epoxy bulb. \\n \\nlead forming should be done before soldering. \\n \\navoid stressing the led package during leads forming. the stress to the base may damage the led’s characteristics or it \\nmay break the leds. \\n \\ncut the led lead frames at room temperature. cutting the lead frames at high temperatures may cause failure of the leds. \\n \\nwhen mounting the leds onto a pcb, the pcb holes must be aligned exactly with the lead position of the led. if the leds \\nare mounted with stress at the leads, it causes deterioration of the epoxy resin and this will degrade the leds. \\n2. \\nstorage \\n \\nthe leds should be stored at 30°c or less and 70%rh or less after being shipped from everlight and the storage life limits \\nare 3 months. if the leds are stored for 3 months or more, they can be stored for a year in a sealed container with a \\nnitrogen atmosphere and moisture absorbent material. \\n \\nplease avoid rapid transitions in ambient temperature, especially, in high humidity environments where condensation can \\noccur. \\n3. \\nsoldering \\n \\ncareful attention should be paid during soldering. when soldering, leave more then 3mm from solder joint to epoxy bulb, \\nand soldering beyond the base of the tie bar is recommended. \\n \\nrecommended soldering conditions: \\nhand soldering \\ndip soldering \\ntemp. at tip of iron \\n300℃ max. (30w max.)\\npreheat temp. \\n100℃ max. (60 sec max.) \\nsoldering time \\n3 sec max. \\nbath temp. & time \\n260 max., 5 sec max \\ndistance \\n3mm min.(from solder \\njoint to epoxy bulb) \\ndistance \\n3mm min. (from solder \\njoint to epoxy bulb) \\n \\nrecommended soldering profile \\n \\n \\n \\n \\n \\n \\n \\n \\n \\n \\n \\n \\n \\n \\navoiding applying any stress to the lead frame while the leds are at high temperature particularly when soldering. \\n \\ndip and hand soldering should not be done more than one time \\n \\n \\nafter soldering the leds, the epoxy bulb should be protected from mechanical shock or vibration until the leds return to \\nroom temperature. \\n　\\nver.:2     release date:12/25/2013      狀態:approved(正式發行)\\ndatasheet \\nlamp \\n1003sugd/s400-a4 \\n \\n \\n7  \\ncopyright © 2010, everlight all rights reserved. release date : dec.19. 2013. issue no: dle-0005238.rev.2 \\nwww.everlight.com \\n \\n \\na rapid-rate process is not recommended for cooling the leds down from the peak temperature. \\n \\nalthough the recommended soldering conditions are specified in the above table, dip or hand soldering at the lowest \\npossible temperature is desirable for the leds. \\n \\n \\nwave soldering parameter must be set and maintain according to recommended temperature and dwell time in the solder \\nwave.  \\n4. \\ncleaning \\n \\nwhen necessary, cleaning should occur only with isopropyl alcohol at room temperature for a duration of no more than \\none minute. dry at room temperature before use. \\n \\ndo not clean the leds by the ultrasonic. when it is absolutely necessary, the influence of ultrasonic cleaning on the leds \\ndepends on factors such as ultrasonic power and the assembled condition. ultrasonic cleaning shall be pre-qualified to \\nensure this will not cause damage to the led \\n5. \\nheat management \\n \\nheat management of leds must be taken into consideration during the design stage of led application. the current \\nshould be de-rated appropriately by referring to the de-rating curve found in each product specification. \\n \\nthe temperature surrounding the led in the application should be controlled. please refer to the data sheet de-rating \\ncurve. \\n6. esd (electrostatic discharge) \\n \\nthe products are sensitive to static electricity or surge voltage. esd can damage a die and its reliability. \\nwhen handling the products, the following measures against electrostatic discharge are strongly \\nrecommended: \\neliminating the charge \\ngrounded wrist strap, esd footwear, clothes, and floors \\ngrounded workstation equipment and tools \\nesd table/shelf mat made of conductive materials \\n \\nproper grounding is required for all devices, equipment, and machinery used in product assembly. \\nsurge protection should be considered when designing of commercial products. \\n \\nif tools or equipment contain insulating materials such as glass or plastic, \\nthe following measures against electrostatic discharge are strongly recommended: \\ndissipating static charge with conductive materials \\npreventing charge generation with moisture  \\nneutralizing the charge with ionizers \\n7. \\ndirections for use \\n \\nthe leds should be operated with forward bias. the driving circuit must be designed so that the leds are not subjected \\nto forward or reverse voltage while it is off. if reverse voltage is continuously applied to the leds, it may cause migration \\nresulting in led damage. \\n8. \\nother \\n \\nabove specification may be changed without notice. everlight will reserve authority on material change for above \\nspecification. \\n \\nwhen using this product, please observe the absolute maximum ratings and the instructions for using outlined in these \\nspecification sheets. everlight assumes no responsibility for any damage resulting from use of the product which does \\nnot comply  \\nwith the absolute maximum ratings and the instructions included in these specification sheets. \\n　\\nver.:2     release date:12/25/2013      狀態:approved(正式發行)\\ndatasheet \\nlamp \\n1003sugd/s400-a4 \\n \\n \\n8  \\ncopyright © 2010, everlight all rights reserved. release date : dec.19. 2013. issue no: dle-0005238.rev.2 \\nwww.everlight.com \\n \\n \\nthese specification sheets include materials protected under copyright of everlight corporation. please don’t \\nreproduce or cause anyone to reproduce them without everlight’s consent. \\n \\n　\\nver.:2     release date:12/25/2013      狀態:approved(正式發行)\\n   \n",
       "\n",
       "                                                                                                                                                                                                                                                                                                                                                                                                                                                                                                                                                                                                                                                                                                                                                                                                                                                                                                                                                                                                                                                                                                                                                                                                                                                                                                                                                                                                                                                                                                                                                                                                                                                                                                                                                                                                                                                                                                                                                                                                                                                                                                                                                                                                                                                                                                                                                                                                                                                                                                                                                                                                                                                                                                                                                                                                                                                                                                                                                                                                                                                                                                                                                                                                                                                                                                                                                                                                                                                                                                                                                                                                                                                                                                                              parsed_lines  \\\n",
       "0                                                                                                                                                                                                                                                                                                                                                                                                                                                                                                                                                                                                                                                                                                                                                                                                                                                                                                                                                                                                                                                                                                                                                                                                                                                                                                                                                                                                                                                                                                                                                                                                                                                                                                                                                                                                                                                                                                                                                                                                                                                                                                                                                                                                                                                                                                                                                                                                                                                                                                                                                                                                                                                                                                                                                                                                                                                                                                                                                                                                                                                                                                                                                                                                                                                                                                                                                       [medlux, maxlux, year warranty, easy installation, universal power supply, electrical input  vac, decors led dual light, decors usa llc, photometrics, led dual light, available colors, different color and beam configurations available, hm, aluminum alloy housing, high heat dissipation performance, etl listed, w, blue green amber warm white k cool  white k red  purple]   \n",
       "1                                                                                                                                                                                                                                                                                                                                                                                                                                                                                                                                                                                                                                                                                                                                                                                                                                                                                                                                                                                                                                                                [color, connect the fixture cable to the junction box using the, light data, led, environmental temp range, electrician, / volt single phase wiring appropriate for a watt, install an exterior weatherproof junction box with, decors hallmark led lights, decors usa llc, blue, warm white, junction box drill / holes on the marked location attach, light source, recommended use, lumens, red, w, electrical input  vac, the unit will damage the factory installed water tight seal, led up light, using the mounting bracket as a guide, mark four holes, /l x /w x /h, from ground level, includes duws sconce, lm, k, seal, which will void the warranty of the fixture, projection distance m based on  led lights at  watts total, mounting brackets , wall anchor screws /  not included, led lights, fixture mounting screws / , included, mark the location on the wall or column where the fixture, etl listed, residential, commercial, and, ct wave length, and illumination, cool white, max efficacy, to the junction box, sconce cover du ws, around junction box drill / holes on the marked location, details, lumen output, install an exterior weatherproof junction box with /, mount the fixture using two fixture mounting screws and, attach the mounting brackets with four anchor screws, volt single phase wiring appropriate for a watt exterior, h, using the wall mount as a guide, mark  holes around, v  v ac, led downlight, /l x w x /h, mounting brackets, sconce covers, adjust the angle for desired light effect, decors usa provides the ul listed  led and  led lights in various colors, fixture mounting screws /  / sconce cover mount, all wiring and installation should be done by a licensed, hotels, signs, flags, multiunit, extended life, needs to be installed the location shall not be less than, silver gray painted, which will void the warranty of the fixture, ft from ground level, volt single phase wiring serving this fixture shall be photo, ip rated, input power, beam width, ed, landscaping, weatherproof cable connector attach a weatherproof cover, led number, dusqhw, nm, dusqhw with du ws, ducr/cwxp, one / outlet and weatherproof cable connection not, caution do not attempt to open the unit opening, degree, light fixture, ing screws , installation, hallmark, life, x w cree led lamps, green, needs to be installed the location shall not be less than  ft, government buildings, cree xre, photo sensor controlled for higher energy efficiency and, lbs, measurement, purple, supply voltage, available colors, the wall mounts using six anchor screws, architectural, ...]   \n",
       "12                                                                                                                                                                                                                                                                                                                                                                                                                                                                                                                                                                                                                                                                                                                                                                                                                                                                                                                                                                                                                                                                                                                                                                                                                                                                                                                                                                                                                                                            [c, max, color, fig  transmitter wave form                         dut output pulse, of device, catv set top boxes, pnm,nm also, photodiode is used of pdbvrv, high temperature test, pulses, distance, consumption current, vcc, frequency lamps and must be less then  lux at the module surface, modulated ir signal, tel, everlight electronics, pin diode and preamplifier are assembled on lead frame, the epoxy package is, jvc, packing quantity specification, irmt, chip, output wave form, above specification may be changed without notice everlight will reserve authority on, l l, temperature cycle, sharp, eelux, s, demand as follows, half anglevertical, high humidity, temp  sec, fig the standard transmitter is specified, the irmxxt is miniaturized receivers for infrared remote control systems, less than  seconds, light detecting portion of remote control, pb free, made in taiwan production place, n,c, gnd, oscillator, peak wavelength, data format, tucheng, taipei , taiwan, roc, mitsubishi, the specified electrooptical characteristics is satisfied under the following, ref reference, application circuit, confidence level, fig  measuring method                      fig    measuring system, fig relative spectral sensitivity vs, black, input, sony  bit, part, irmxxt, tsol, deg, oscilloscope, vccv, samplesn, output pulse, demodulator, l transmission distance, designed as ir filter the demodulated output signal can directly be decoded by, block diagram, pn  production number, duty, the notice of application, operating temperature, k, notes  all dimensions are in millimeters, center frequency of each product, msec, out, center carrier frequency  khz, o, standard light  light source temperature k, matsushita, tl, fig, p, irmxxt series code property, typ, a range from cm to the arrival distance  average value of  pulses, temp , solder heat, irm device, decode part, technical data sheet, a microprocessorirmxxt is the standard ir remote control receiver, supply voltage rating vcc v to v, however , the infrared photodiode to be used for the transmitter should be, unitmm, uf, transmission, nec, typical electrooptical characteristics curves, h, between two burst, unit, ...]   \n",
       "13                                                           [power dissipation, max, dissipating static charge with conductive materials, are  months if the leds are stored for  months or more, they can be stored for a year in a sealed container with a, measurement uncertainty of forward voltage v,  for  sec, bath temp  time, distance, heat management of leds must be taken into consideration during the design stage of led application the current, computer, applications or any other application which can result in human injury or death please contact authorized, fluxing, avoiding applying any stress to the lead frame while the leds are at high temperature particularly when soldering, /, peak forward current duty /  khz, specification sheets, chip, everlight reserves the rights on the adjustment of product material mix for the specification, esd table/shelf mat made of conductive materials, lead forming should be done before soldering, one minute dry at room temperature before use, subd/sa, pb free, soldering, blue, room temperature, resulting in led damage, viewing angle, avoid stressing the led package during leads forming the stress to the base may damage the leds characteristics or it,  packing quantity, to forward or reverse voltage while it is off if reverse voltage is continuously applied to the leds, it may cause migration, label explanation, peak wavelength, relative intensity vs forward current ta, ref reference, all dimensions are in millimeters, do not clean the leds by the ultrasonic when it is absolutely necessary, the influence of ultrasonic cleaning on the leds, a, careful attention should be paid during soldering when soldering, leave more then mm from solder joint to epoxy bulb, vf, dip soldering, tsol, deg, monitor, operating temperature, note, the leds should be stored at c or less and rh or less after being shipped from everlight and the storage life limits, materials, reverse voltage, a rapidrate process is not recommended for cooling the leds down from the peak temperature, directivity ta, dip and hand soldering should not be done more than one time, sec max, wave, recommended soldering conditions, the temperature surrounding the led in the application should be controlled please refer to the data sheet derating, forward current vs forward voltage ta, p, preheat temp, typ, soldering time, recommended soldering profile, nitrogen atmosphere and moisture absorbent material, ambient temperature ta, wavelength nm, package dimension, radiation angle, in these specification sheets everlight assumes no responsibility for any damage resulting from the use of, forward current ma, grounded wrist strap, esd footwear, clothes, and floors, moisture resistant packing materials, packing specification, lamp, choice of various viewing angles, typical electrooptical characteristics curves, unit, mcd, d, emitted color, eliminating the charge, min, cat ranks, storage temperature, forward currentma, joint to epoxy bulb, symbol, cut the led lead frames at room temperature cutting the lead frames at high temperatures may cause failure of the leds, tstg, relative intensity vs ambient temp, occur, vr, forward voltage, device selection guide, the series is specially designed for applications requiring higher brightness, cpn customers  production number, depends on factors such as ultrasonic power and the assembled condition ultrasonic cleaning shall be prequalified to, the products are sensitive to static electricity or surge voltage esd can damage a die and its reliability, hue dominant wavelength, directions for use, shipment, ...]   \n",
       "14  [power dissipation, max, dissipating static charge with conductive materials, are  months if the leds are stored for  months or more, they can be stored for a year in a sealed container with a,  for  sec, bath temp  time, distance, heat management of leds must be taken into consideration during the design stage of led application the current, computer, fluxing, avoiding applying any stress to the lead frame while the leds are at high temperature particularly when soldering, /, peak forward current duty /  khz, not comply, chip, esd table/shelf mat made of conductive materials, lead forming should be done before soldering, one minute dry at room temperature before use, pb free, soldering, room temperature, with the absolute maximum ratings and the instructions included in these specification sheets, resulting in led damage, viewing angle, avoid stressing the led package during leads forming the stress to the base may damage the leds characteristics or it,  packing quantity, to forward or reverse voltage while it is off if reverse voltage is continuously applied to the leds, it may cause migration, label explanation, peak wavelength, when using this product, please observe the absolute maximum ratings and the instructions for using outlined in these, relative intensity vs forward current ta, ref reference, all dimensions are in millimeters, do not clean the leds by the ultrasonic when it is absolutely necessary, the influence of ultrasonic cleaning on the leds, a, careful attention should be paid during soldering when soldering, leave more then mm from solder joint to epoxy bulb, vf, above specification may be changed without notice everlight will reserve authority on material change for above, dip soldering, brilliant green, tsol, deg, monitor, operating temperature, the leds should be stored at c or less and rh or less after being shipped from everlight and the storage life limits, materials, reverse voltage, a rapidrate process is not recommended for cooling the leds down from the peak temperature, directivity ta, dip and hand soldering should not be done more than one time, sec max, wave, recommended soldering conditions, the temperature surrounding the led in the application should be controlled please refer to the data sheet derating, forward current vs forward voltage ta, p, reproduce or cause anyone to reproduce them without everlights consent, preheat temp, typ, soldering time, recommended soldering profile, nitrogen atmosphere and moisture absorbent material, ambient temperature ta, wavelength nm, package dimension, radiation angle, forward current ma, grounded wrist strap, esd footwear, clothes, and floors, moisture resistant packing materials, packing specification, lamp, choice of various viewing angles, typical electrooptical characteristics curves, unit, mcd, d, emitted color, eliminating the charge, min, cat ranks, storage temperature, x, rohs, joint to epoxy bulb, symbol, cut the led lead frames at room temperature cutting the lead frames at high temperatures may cause failure of the leds, tstg, relative intensity vs ambient temp, occur, vr, forward voltage, device selection guide, the series is specially designed for applications requiring higher brightness, cpn customers  production number, depends on factors such as ultrasonic power and the assembled condition ultrasonic cleaning shall be prequalified to, the products are sensitive to static electricity or surge voltage esd can damage a die and its reliability, hue dominant wavelength, green diffused, directions for use, el ectrostatic electronagnetic, ...]   \n",
       "\n",
       "    predict_lighting  \\\n",
       "0               True   \n",
       "1               True   \n",
       "12              True   \n",
       "13              True   \n",
       "14              True   \n",
       "\n",
       "                                                                                                          light_phrase  \n",
       "0                                                                                                decors led dual light  \n",
       "1                                                                                                           light data  \n",
       "12                                                    frequency lamps and must be less then  lux at the module surface  \n",
       "13  are  months if the leds are stored for  months or more, they can be stored for a year in a sealed container with a  \n",
       "14  are  months if the leds are stored for  months or more, they can be stored for a year in a sealed container with a  "
      ]
     },
     "execution_count": 204,
     "metadata": {},
     "output_type": "execute_result"
    }
   ],
   "source": [
    "train_data_with_parsed_text_filtered.head()"
   ]
  },
  {
   "cell_type": "code",
   "execution_count": 520,
   "id": "8a940045-cfbe-4c50-b263-65e4b9e686ac",
   "metadata": {},
   "outputs": [
    {
     "data": {
      "text/plain": [
       "(874, 5)"
      ]
     },
     "execution_count": 520,
     "metadata": {},
     "output_type": "execute_result"
    }
   ],
   "source": [
    "train_data_with_parsed_text_filtered.shape"
   ]
  },
  {
   "cell_type": "code",
   "execution_count": 521,
   "id": "41596583-fad4-42a1-bfbc-29471a1827dd",
   "metadata": {},
   "outputs": [],
   "source": [
    "# removing - 'fluorescent', 'fluorescents', 'downlights','downlight',\n",
    "light_stop_words = ['led', 'bulb', 'bulbs', 'xenon', 'filament', 'light', 'lights', 'backlight', 'daylight', 'lumen', 'lamp', 'lamps', 'lumens', 'leds','nightlight',\n",
    "'lamping', 'neon', 'incandescent',  'fluorescent', 'fluorescents', 'downlights','downlight']\n",
    "\n",
    "pattern = \"(\" + light_stop_words[0]\n",
    "# create a substring pattern\n",
    "\n",
    "for l in light_stop_words[1:]:\n",
    "    pattern += \"|\" + l\n",
    "\n",
    "pattern += \")\"\n",
    "\n",
    "light_substr_pattern = re.compile(pattern)\n",
    "\n",
    "    "
   ]
  },
  {
   "cell_type": "code",
   "execution_count": 499,
   "id": "b027fa68-b971-4d71-b80e-fc216606f2f8",
   "metadata": {},
   "outputs": [
    {
     "name": "stderr",
     "output_type": "stream",
     "text": [
      "[nltk_data] Downloading package averaged_perceptron_tagger to\n",
      "[nltk_data]     /Users/varshinibalaji/nltk_data...\n",
      "[nltk_data]   Package averaged_perceptron_tagger is already up-to-\n",
      "[nltk_data]       date!\n"
     ]
    },
    {
     "data": {
      "text/plain": [
       "True"
      ]
     },
     "execution_count": 499,
     "metadata": {},
     "output_type": "execute_result"
    }
   ],
   "source": [
    "# using stop words - for inferring light related words - lamp, led, light, \n",
    "# checking if a word is a noun\n",
    "import nltk\n",
    "nltk.download('averaged_perceptron_tagger')"
   ]
  },
  {
   "cell_type": "code",
   "execution_count": 584,
   "id": "e3361c0d-b480-4715-99bc-f4b2fb80bd82",
   "metadata": {},
   "outputs": [],
   "source": [
    "import time\n",
    "def check_lighting(parsed_lines):\n",
    "    fixture_words = []\n",
    "    for lindex, l in enumerate(parsed_lines):\n",
    "        # print(f\"{parsed_lines=}, {l=}\")\n",
    "        tokens = nltk.word_tokenize(l)\n",
    "        light_words = list(set(light_stop_words) & set(tokens))\n",
    "        fw = list(set(fixture_lookaheads) & set(tokens))\n",
    "        if fw:\n",
    "            fixture_words = fw\n",
    "        if light_words:\n",
    "            pos_tags = nltk.pos_tag(tokens)\n",
    "            # print(f'{pos_tags=}')\n",
    "            for tk, tag in pos_tags:\n",
    "                # print(f\"{tk=}, {tag=}\")\n",
    "                if tk in light_words and tag in ['NN', 'NNS', 'JJ']:\n",
    "                    # if fixture_words == []:\n",
    "                        return lindex, l, True\n",
    "    return None, None, False\n",
    "\n",
    "\n",
    "# train_data_with_parsed_text_filtered['parsed_lines'] = train_data_with_parsed_text_filtered['parsed_lines'].apply(lambda x: list(x))\n",
    "\n",
    "train_data_with_parsed_text_filtered['predict_lighting'] = train_data_with_parsed_text_filtered['parsed_lines'].apply(lambda x: check_lighting(x))"
   ]
  },
  {
   "cell_type": "code",
   "execution_count": 585,
   "id": "9961db6d-fcc0-461a-850e-d513c182fbb1",
   "metadata": {
    "scrolled": true
   },
   "outputs": [],
   "source": [
    "train_data_with_parsed_text_filtered['light_phrase_index'] = train_data_with_parsed_text_filtered['predict_lighting'].apply(lambda x: x[0])\n",
    "train_data_with_parsed_text_filtered['light_phrase'] = train_data_with_parsed_text_filtered['predict_lighting'].apply(lambda x: x[1])\n",
    "train_data_with_parsed_text_filtered['predict_lighting'] = train_data_with_parsed_text_filtered['predict_lighting'].apply(lambda x: x[2])"
   ]
  },
  {
   "cell_type": "code",
   "execution_count": 525,
   "id": "9ef6048f-05bc-4ed1-a9a2-fdde61587143",
   "metadata": {},
   "outputs": [],
   "source": [
    "fixture_lookaheads = ['socket', 'troffer', 'holder', 'fixture', 'sensor', 'controller', 'transformer']\n",
    "fixture_lookaheads_plural = []\n",
    "\n",
    "for f in fixture_lookaheads:\n",
    "    fixture_lookaheads_plural.append(f+'s')\n",
    "\n",
    "fixture_lookaheads = fixture_lookaheads_plural+fixture_lookaheads"
   ]
  },
  {
   "cell_type": "code",
   "execution_count": 526,
   "id": "08eef7b5-7e63-4f31-aae0-3a2ebed71ad9",
   "metadata": {},
   "outputs": [],
   "source": [
    "train_data_with_parsed_text_filtered = train_data_with_parsed_text_filtered.loc[train_data_with_parsed_text_filtered['processed_text'] != '']"
   ]
  },
  {
   "cell_type": "code",
   "execution_count": 527,
   "id": "cd13dd74-c5b7-46c4-bead-2125503c83bb",
   "metadata": {
    "scrolled": true
   },
   "outputs": [
    {
     "data": {
      "text/plain": [
       "predict_lighting  is_lighting\n",
       "False             0              237\n",
       "                  1               26\n",
       "True              0              170\n",
       "                  1              408\n",
       "dtype: int64"
      ]
     },
     "execution_count": 527,
     "metadata": {},
     "output_type": "execute_result"
    }
   ],
   "source": [
    "train_data_with_parsed_text_filtered.groupby(['predict_lighting', 'is_lighting']).size()"
   ]
  },
  {
   "cell_type": "markdown",
   "id": "58e35c66-1d65-477a-b197-edbbeb808508",
   "metadata": {},
   "source": [
    "#### Correct predictions - TPS + TNS"
   ]
  },
  {
   "cell_type": "code",
   "execution_count": 528,
   "id": "b48efc1a-2327-4fa8-9a96-1daa25ce4f05",
   "metadata": {},
   "outputs": [
    {
     "data": {
      "text/plain": [
       "645"
      ]
     },
     "execution_count": 528,
     "metadata": {},
     "output_type": "execute_result"
    }
   ],
   "source": [
    "correct = train_data_with_parsed_text_filtered.loc[(((train_data_with_parsed_text_filtered['predict_lighting'] == False)&(train_data_with_parsed_text_filtered['is_lighting'] == 0))|((train_data_with_parsed_text_filtered['predict_lighting']== True)&(train_data_with_parsed_text_filtered['is_lighting'] == 1)))]\n",
    "len(correct)"
   ]
  },
  {
   "cell_type": "code",
   "execution_count": 529,
   "id": "01d8a415-6ba3-4ada-82c7-3614268e887a",
   "metadata": {},
   "outputs": [
    {
     "data": {
      "text/plain": [
       "841"
      ]
     },
     "execution_count": 529,
     "metadata": {},
     "output_type": "execute_result"
    }
   ],
   "source": [
    "len(train_data_with_parsed_text_filtered)"
   ]
  },
  {
   "cell_type": "markdown",
   "id": "53163dc9-502d-4bd7-ab3d-fb4db6d21947",
   "metadata": {},
   "source": [
    "#### Understanding performance with only rule based validations and preprocessing"
   ]
  },
  {
   "cell_type": "markdown",
   "id": "8c07cfd4-cfbf-4cec-81fc-a7a64261f919",
   "metadata": {},
   "source": [
    "### Accuracy - 77%"
   ]
  },
  {
   "cell_type": "code",
   "execution_count": 530,
   "id": "81c63e52-2fa6-459d-9d14-6ed3691c6c95",
   "metadata": {
    "scrolled": true
   },
   "outputs": [
    {
     "data": {
      "text/plain": [
       "0.7669441141498217"
      ]
     },
     "execution_count": 530,
     "metadata": {},
     "output_type": "execute_result"
    }
   ],
   "source": [
    "len(correct)/len(train_data_with_parsed_text_filtered)"
   ]
  },
  {
   "cell_type": "markdown",
   "id": "e83e36ff-1678-40bd-9a37-711458146704",
   "metadata": {},
   "source": [
    "### Precision - 71%"
   ]
  },
  {
   "cell_type": "code",
   "execution_count": 531,
   "id": "476ac6e3-d2ca-4e31-9939-0c47e1d0bfe1",
   "metadata": {
    "scrolled": true
   },
   "outputs": [
    {
     "data": {
      "text/plain": [
       "0.7058823529411765"
      ]
     },
     "execution_count": 531,
     "metadata": {},
     "output_type": "execute_result"
    }
   ],
   "source": [
    "len(train_data_with_parsed_text_filtered.loc[((train_data_with_parsed_text_filtered['predict_lighting'] == True)&(train_data_with_parsed_text_filtered['is_lighting'] == 1))])/len(train_data_with_parsed_text_filtered.loc[((train_data_with_parsed_text_filtered['predict_lighting'] == True))])"
   ]
  },
  {
   "cell_type": "markdown",
   "id": "bc4fc952-9dfe-44b1-b515-151affb3ceef",
   "metadata": {},
   "source": [
    "### Recall/Coverage - 94%"
   ]
  },
  {
   "cell_type": "code",
   "execution_count": 532,
   "id": "5d316379-9d81-4af0-9342-d7bc66f1dd7b",
   "metadata": {},
   "outputs": [
    {
     "data": {
      "text/plain": [
       "0.9400921658986175"
      ]
     },
     "execution_count": 532,
     "metadata": {},
     "output_type": "execute_result"
    }
   ],
   "source": [
    "len(train_data_with_parsed_text_filtered.loc[((train_data_with_parsed_text_filtered['predict_lighting'] == True)&(train_data_with_parsed_text_filtered['is_lighting'] == 1))])/len(train_data_with_parsed_text_filtered.loc[((train_data_with_parsed_text_filtered['is_lighting'] == 1))])"
   ]
  },
  {
   "cell_type": "code",
   "execution_count": 533,
   "id": "74ebbb73-be5a-4be9-a893-c81df3ead019",
   "metadata": {},
   "outputs": [
    {
     "name": "stdout",
     "output_type": "stream",
     "text": [
      "index=166, is_lighting[index]=1, urls[index]='https://www.oldcalifornia.com/files/1002-3-- Small OCL.PDF'\n"
     ]
    }
   ],
   "source": [
    "def check_substr(substr, text):\n",
    "    if substr in text:\n",
    "        return True, text\n",
    "    return False, text\n",
    "\n",
    "products = list(train_data_with_parsed_text_filtered['processed_text'].to_numpy())\n",
    "is_lighting = list(train_data_with_parsed_text_filtered['is_lighting'].to_numpy())\n",
    "urls = list(train_data_with_parsed_text_filtered['url'].to_numpy())\n",
    "\n",
    "substr = 'lantern'\n",
    "for index, p in enumerate(products):\n",
    "    present, match = check_substr(substr, p)\n",
    "    if present is True:\n",
    "        print(f\"{index=}, {is_lighting[index]=}, {urls[index]=}\")\n",
    "        break"
   ]
  },
  {
   "cell_type": "markdown",
   "id": "7ee9d600-d3fd-46fc-8074-54ce11e483fe",
   "metadata": {},
   "source": [
    "understanding the false positives - i.e. cases where the product is classified as lighting - but it is not"
   ]
  },
  {
   "cell_type": "code",
   "execution_count": 534,
   "id": "365784df-4bad-4743-80aa-24764a454353",
   "metadata": {},
   "outputs": [
    {
     "data": {
      "text/plain": [
       "is_lighting  light_phrase                                                                                                             \n",
       "0            ac/dc smoke unit, exit light, smart hush, silent hush                                                                        5\n",
       "             adjusted for daylight savings time and leap year unless                                                                      1\n",
       "             and more use the duobrite controller inline with any v to v color changing rgb lights to precisely control any color over    1\n",
       "             and will be coming out with a troffer light barrier  we also make custom size enclo                                          1\n",
       "             as the sensor detects an increased light level, the control                                                                  1\n",
       "                                                                                                                                         ..\n",
       "             when the start switch is closed the relay energizes, the pilot light goes on and                                             1\n",
       "             white ivory light almond gray black                                                                                          2\n",
       "             wireless control of color temp adjustable leds                                                                               1\n",
       "             wireless signal that controls lights or other                                                                                1\n",
       "             with v led drivers, t or t electronic fluorescent ballasts, electronic hid and                                               1\n",
       "Length: 100, dtype: int64"
      ]
     },
     "execution_count": 534,
     "metadata": {},
     "output_type": "execute_result"
    }
   ],
   "source": [
    "positives = train_data_with_parsed_text_filtered.loc[train_data_with_parsed_text_filtered['predict_lighting'] == True]\n",
    "\n",
    "positives.groupby(['is_lighting', 'light_phrase'], dropna = False).size()\n",
    "\n",
    "fps = train_data_with_parsed_text_filtered.loc[((train_data_with_parsed_text_filtered['predict_lighting'] == True)&(train_data_with_parsed_text_filtered['is_lighting'] == 0))]\n",
    "\n",
    "pd.set_option('display.max_colwidth', 20)\n",
    "fps.groupby(['is_lighting', 'light_phrase'], dropna = False).size()"
   ]
  },
  {
   "cell_type": "markdown",
   "id": "5c40050e-0936-40c8-92b8-2708e27f7204",
   "metadata": {},
   "source": [
    "#### need clarification - some of the false +ves are not clear to verify"
   ]
  },
  {
   "cell_type": "code",
   "execution_count": 254,
   "id": "c280448d-b4f6-4173-bc30-7d3593ffc160",
   "metadata": {},
   "outputs": [
    {
     "data": {
      "text/plain": [
       "'https://www.exitlightco.com/pdf/COMBOCA.pdf'"
      ]
     },
     "execution_count": 254,
     "metadata": {},
     "output_type": "execute_result"
    }
   ],
   "source": [
    "positives.loc[positives['light_phrase'] == 'white led lamps', 'url'].iloc[0]"
   ]
  },
  {
   "cell_type": "code",
   "execution_count": 277,
   "id": "d82cf48a-8b62-4caa-9c01-bc8c63339afc",
   "metadata": {},
   "outputs": [
    {
     "data": {
      "text/plain": [
       "'https://www.plcmultipoint.com/?wpdmdl=3268'"
      ]
     },
     "execution_count": 277,
     "metadata": {},
     "output_type": "execute_result"
    }
   ],
   "source": [
    "positives.loc[positives['light_phrase'] == 'adjusted for daylight savings time and leap year unless', 'url'].iloc[0]"
   ]
  },
  {
   "cell_type": "code",
   "execution_count": 275,
   "id": "24811ef5-50d4-40a6-835f-713bcbaa95a6",
   "metadata": {},
   "outputs": [
    {
     "data": {
      "text/plain": [
       "'https://cdn.currentlighting.com/site/specsheet/120-277-Transformers.pdf'"
      ]
     },
     "execution_count": 275,
     "metadata": {},
     "output_type": "execute_result"
    }
   ],
   "source": [
    "positives.loc[positives['light_phrase'] == 'with v led drivers, t or t electronic fluorescent ballasts, electronic hid and', 'url'].iloc[0]"
   ]
  },
  {
   "cell_type": "code",
   "execution_count": 274,
   "id": "21b53c8c-e762-4a15-b511-dc820e9a8c21",
   "metadata": {},
   "outputs": [
    {
     "data": {
      "text/plain": [
       "'http://solidapollo.com/PDF/Dynamic-White-GlassTouch-Wall-Controller-120V-AC-Data-Sheet.pdf'"
      ]
     },
     "execution_count": 274,
     "metadata": {},
     "output_type": "execute_result"
    }
   ],
   "source": [
    "positives.loc[positives['light_phrase'] == 'wireless control of color temp adjustable leds', 'url'].iloc[0]"
   ]
  },
  {
   "cell_type": "code",
   "execution_count": 256,
   "id": "73630192-296c-427d-af36-357f9e8a6b61",
   "metadata": {},
   "outputs": [
    {
     "data": {
      "text/plain": [
       "'https://cdn.currentlighting.com/site/specsheet/COL_CCL-LSCS_Spec.pdf'"
      ]
     },
     "execution_count": 256,
     "metadata": {},
     "output_type": "execute_result"
    }
   ],
   "source": [
    "positives.loc[positives['light_phrase'] == 'x center lens led troffer, lumen switchable', 'url'].iloc[0]"
   ]
  },
  {
   "cell_type": "code",
   "execution_count": 258,
   "id": "52ccf638-b7df-44d4-9344-6c31a4dfeedf",
   "metadata": {},
   "outputs": [
    {
     "data": {
      "text/plain": [
       "'https://articolostudios.com/wp-content/uploads/2017/05/Articolo_Studios_Interior_Domi-Wall-Sconce_Spec-Sheet_AU_INT_23-V1.pdf'"
      ]
     },
     "execution_count": 258,
     "metadata": {},
     "output_type": "execute_result"
    }
   ],
   "source": [
    "positives.loc[positives['light_phrase'] == 'with e lamp', 'url'].iloc[0]"
   ]
  },
  {
   "cell_type": "code",
   "execution_count": 535,
   "id": "a1c963c2-2222-42b7-8412-f5fe68eb7a3b",
   "metadata": {},
   "outputs": [
    {
     "data": {
      "text/plain": [
       "'https://www.topbrasslighting.com/wp-content/uploads/TopBrass-138.09-tearsheet-Jun12018.pdf'"
      ]
     },
     "execution_count": 535,
     "metadata": {},
     "output_type": "execute_result"
    }
   ],
   "source": [
    "positives.loc[positives['light_phrase'] == 'x w medium base sockets for led or cfl bulbs', 'url'].iloc[0]"
   ]
  },
  {
   "cell_type": "markdown",
   "id": "924a4112-2784-4d6e-9596-4255045180d5",
   "metadata": {},
   "source": [
    "#### some other kind of products associated with lighting objects but not luminous themselves"
   ]
  },
  {
   "cell_type": "markdown",
   "id": "ad9a0064-7353-4082-a74c-41f9be95539c",
   "metadata": {},
   "source": [
    "- sockets for LED or CFL bulbs.\n",
    "- Troffers\n",
    "- product manufactured LANTERN COMPANY\n",
    "- with a bulb\n",
    "- without a <\\lighting_object>\n",
    "- w <\\lighting_object>\n",
    "- without <\\lighting_object>\n",
    "- Lamp Holder or Socket\n",
    "- Lampshade\n",
    "- lush Mount Fixture\n",
    "- pendant\n",
    "- fixture\n",
    "- SINGLE LEVEL Lighting Controller\n",
    "- DYNAMIC WHITE GLASSTOUCH 120V AC WIRELESS WALL SWITCH/CONTROLLER\n",
    "- Step-Up Autotransformers for Lighting Applications\n",
    "- LIGHTHAWK® PASSIVE INFRARED WALL SWITCH SENSOR\n",
    "- LCM-IE Interior/Exterior Lighting Control System"
   ]
  },
  {
   "cell_type": "code",
   "execution_count": 586,
   "id": "a2f30bb0-d7f8-4f4f-9fd8-580576adf468",
   "metadata": {},
   "outputs": [],
   "source": [
    "train_data_with_parsed_text_filtered = train_data_with_parsed_text_filtered.loc[train_data_with_parsed_text_filtered['processed_text'] != '']\n",
    "def check_for_negative_lookaheads(x):\n",
    "    try:\n",
    "        light_phrase_index = int(x['light_phrase_index'] + 1)\n",
    "        for lindex, l in enumerate(x['parsed_lines'][:light_phrase_index]):\n",
    "                tokens = nltk.word_tokenize(l)\n",
    "                fixture_words = list(set(fixture_lookaheads) & set(tokens))\n",
    "                if fixture_words:\n",
    "                    return lindex, l, False\n",
    "    except Exception as e:\n",
    "        print(f\"{x['parsed_lines']=}, {x['is_lighting']=}, {x['predict_lighting']=}, {x['processed_text']=}, {x['light_phrase']=}\")\n",
    "        print(f\"{e=}\")\n",
    "        \n",
    "    return x['light_phrase_index'], x['light_phrase'], x['predict_lighting']\n",
    "            \n",
    "\n",
    "train_data_with_parsed_text_filtered.loc[train_data_with_parsed_text_filtered['predict_lighting'] == True, 'updated_predict_lighting'] = train_data_with_parsed_text_filtered.loc[train_data_with_parsed_text_filtered['predict_lighting'] == True].apply(lambda x: check_for_negative_lookaheads(x), axis = 1)\n",
    "\n",
    "# train_data_with_parsed_text_filtered['updated_predict_lighting'] = train_data_with_parsed_text_filtered.apply(lambda x: check_for_negative_lookaheads(x), axis = 1)\n",
    "train_data_with_parsed_text_filtered.loc[train_data_with_parsed_text_filtered['predict_lighting'] == True,'light_phrase_index'] = train_data_with_parsed_text_filtered.loc[train_data_with_parsed_text_filtered['predict_lighting'] == True,'updated_predict_lighting'].apply(lambda x: x[0])\n",
    "train_data_with_parsed_text_filtered.loc[train_data_with_parsed_text_filtered['predict_lighting'] == True,'light_phrase'] = train_data_with_parsed_text_filtered.loc[train_data_with_parsed_text_filtered['predict_lighting'] == True,'updated_predict_lighting'].apply(lambda x: x[1])\n",
    "train_data_with_parsed_text_filtered.loc[train_data_with_parsed_text_filtered['predict_lighting'] == True,'updated_predict_lighting'] = train_data_with_parsed_text_filtered.loc[train_data_with_parsed_text_filtered['predict_lighting'] == True,'updated_predict_lighting'].apply(lambda x: x[2])\n",
    "\n",
    "train_data_with_parsed_text_filtered.loc[train_data_with_parsed_text_filtered['predict_lighting'] == False, 'updated_predict_lighting'] = False"
   ]
  },
  {
   "cell_type": "code",
   "execution_count": 537,
   "id": "15e36059-d094-49b2-a11c-a59576604047",
   "metadata": {
    "scrolled": true
   },
   "outputs": [
    {
     "data": {
      "text/plain": [
       "updated_predict_lighting  is_lighting\n",
       "False                     0              313\n",
       "                          1              138\n",
       "True                      0               94\n",
       "                          1              296\n",
       "dtype: int64"
      ]
     },
     "execution_count": 537,
     "metadata": {},
     "output_type": "execute_result"
    }
   ],
   "source": [
    "train_data_with_parsed_text_filtered.groupby(['updated_predict_lighting', 'is_lighting'], dropna = False).size()"
   ]
  },
  {
   "cell_type": "code",
   "execution_count": 539,
   "id": "d233a2ed-1a0f-47a3-993b-07fe013e3aad",
   "metadata": {
    "scrolled": true
   },
   "outputs": [
    {
     "data": {
      "text/plain": [
       "is_lighting  light_phrase                                                                                                               \n",
       "0            ac/dc smoke unit, exit light, smart hush, silent hush                                                                           5\n",
       "             auto on/ff led work light for dark conditions                                                                                   1\n",
       "             b  pilot light amber, l  pilot light red, g  pilot light green, u  pilot light blue                                             1\n",
       "             below the red warning light to access the button, gently pull out                                                               1\n",
       "             blind to artificial light                                                                                                       1\n",
       "             bulb included no                                                                                                                4\n",
       "             bulb type                                                                                                                      14\n",
       "             bulbs are available for pilot lights                                                                                            2\n",
       "             by managing audio, visual and light from a single power automation system, npac brings                                          1\n",
       "             c k similar to warm incandescent light                                                                                          1\n",
       "             can be used to suspend lights and signs from a                                                                                  1\n",
       "             ceiling, the eyelet hooks to attach it to the light, and the side exit kwik grip cable gripper the kwik grip cable              1\n",
       "             compatible with all lamp types                                                                                                  1\n",
       "             compatible with selfballast fluorescent, incandescent                                                                           1\n",
       "             cycle progress indication the g has a pilot light that is on                                                                    1\n",
       "             cycle progress indication the gx has a pilot light that is on                                                                   1\n",
       "             dc led safety light smoke unit, sealed lithium                                                                                  1\n",
       "             designed to house adalets standard line of increased safety pushbuttons, pilot lights, and selector switches                    1\n",
       "             fluorescent, incandescent, halogen                                                                                              2\n",
       "             frequency lamps and must be less then  lux at the module surface                                                                1\n",
       "             heater overheats  should this occur, the red warning light will                                                                 1\n",
       "             heating indicator light                                                                                                         9\n",
       "             heavyduty pilot lights, pushbuttons and selector switches made to withstand even the harshest environments                      1\n",
       "             installation is easy, simply power the unit with a  to v dc power source and connect your led strip to the output terminals     1\n",
       "             it latches down and lights red the ac power se                                                                                  1\n",
       "             light almond                                                                                                                    1\n",
       "             light maisonette dinette chandelier                                                                                             1\n",
       "             light module                                                                                                                   10\n",
       "             light modules can be parallel connected up to  linear feet                                                                      1\n",
       "             light modules can be parallel connected up to  linear feet max per                                                              1\n",
       "             lumen data continued onto next page                                                                                             1\n",
       "             lumens                                                                                                                          1\n",
       "             luminaires and daylight                                                                                                         1\n",
       "             microstrike  delivered lumens                                                                                                   1\n",
       "             movement after which the lights switch off                                                                                      2\n",
       "             natural light override range                                                                                                    3\n",
       "             night light operation  pg                                                                                                       1\n",
       "             number of lights                                                                                                                1\n",
       "             photosensor light pipe/photosensor array                                                                                        1\n",
       "             pilot light  glows when heater is plugged in                                                                                    2\n",
       "             pilot light a builtin pilot light indicates that the timer is running                                                           1\n",
       "             pilot lights                                                                                                                    1\n",
       "             pushbutton installed in cover, red  volt pilot light installed in cover                                                         1\n",
       "             pushbuttons, led pilot lights                                                                                                   1\n",
       "             switch lights off when anyone is present  it will, however                                                                      1\n",
       "             table c  pilot lights  lighted pushbutton surface mount                                                                         1\n",
       "             threaded male foot, ideal for direct attachment to light fittings                                                               1\n",
       "             touch both buttons again and the night light indicator and                                                                      1\n",
       "             wireless control of color temp adjustable leds                                                                                  1\n",
       "             wireless signal that controls lights or other                                                                                   1\n",
       "             with v led drivers, t or t electronic fluorescent ballasts, electronic hid and                                                  1\n",
       "dtype: int64"
      ]
     },
     "execution_count": 539,
     "metadata": {},
     "output_type": "execute_result"
    }
   ],
   "source": [
    "positives = train_data_with_parsed_text_filtered.loc[train_data_with_parsed_text_filtered['predict_lighting'] == True]\n",
    "\n",
    "positives.groupby(['is_lighting', 'light_phrase'], dropna = False).size()\n",
    "\n",
    "fps = train_data_with_parsed_text_filtered.loc[((train_data_with_parsed_text_filtered['updated_predict_lighting'] == True)&(train_data_with_parsed_text_filtered['is_lighting'] == 0))]\n",
    "\n",
    "pd.set_option('display.max_colwidth', 20)\n",
    "fps.groupby(['is_lighting', 'light_phrase'], dropna = False).size()"
   ]
  },
  {
   "cell_type": "markdown",
   "id": "1bec139d-2fa7-40e4-8fab-c666d971b517",
   "metadata": {},
   "source": [
    "#### updated performance for rule based predictions after additional correction step based on fixture item checks"
   ]
  },
  {
   "cell_type": "code",
   "execution_count": 541,
   "id": "76b8c374-c505-4c1d-b449-be86d3f66358",
   "metadata": {},
   "outputs": [
    {
     "name": "stdout",
     "output_type": "stream",
     "text": [
      "correct predictions: 609\n",
      "total: 841\n",
      "accuracy: 0.7241379310344828\n",
      "precision: 0.7589743589743589\n",
      "recall: 0.6820276497695853\n"
     ]
    }
   ],
   "source": [
    "correct = train_data_with_parsed_text_filtered.loc[(((train_data_with_parsed_text_filtered['updated_predict_lighting'] == False)&(train_data_with_parsed_text_filtered['is_lighting'] == 0))|((train_data_with_parsed_text_filtered['updated_predict_lighting']== True)&(train_data_with_parsed_text_filtered['is_lighting'] == 1)))]\n",
    "\n",
    "print(f\"correct predictions: {len(correct)}\")\n",
    "\n",
    "print(f\"total: {len(train_data_with_parsed_text_filtered)}\")\n",
    "\n",
    "print(f\"accuracy: {len(correct)/len(train_data_with_parsed_text_filtered)}\")\n",
    "\n",
    "print(f\"precision: {len(train_data_with_parsed_text_filtered.loc[((train_data_with_parsed_text_filtered['updated_predict_lighting'] == True)&(train_data_with_parsed_text_filtered['is_lighting'] == 1))])/len(train_data_with_parsed_text_filtered.loc[((train_data_with_parsed_text_filtered['updated_predict_lighting'] == True))])}\")\n",
    "\n",
    "print(f\"recall: {len(train_data_with_parsed_text_filtered.loc[((train_data_with_parsed_text_filtered['updated_predict_lighting'] == True)&(train_data_with_parsed_text_filtered['is_lighting'] == 1))])/len(train_data_with_parsed_text_filtered.loc[((train_data_with_parsed_text_filtered['is_lighting'] == 1))])}\")"
   ]
  },
  {
   "cell_type": "code",
   "execution_count": 424,
   "id": "da933ddc-4012-4f5f-8c8d-f37c399fd233",
   "metadata": {},
   "outputs": [],
   "source": [
    "test_data_final.columns = ['id', 'url', 'is_lighting', 'parsed_text']\n",
    "test_data_final.to_pickle(\"data/test_data_final.pkl\")"
   ]
  },
  {
   "cell_type": "code",
   "execution_count": 429,
   "id": "6843b067-0362-4261-ae27-02a2cfc4f72b",
   "metadata": {},
   "outputs": [],
   "source": [
    "test_data_final = pd.read_pickle(\"data/test_data_final.pkl\")\n",
    "# test_data_final.shape\n",
    "test_data_final['processed_text'] = test_data_final['parsed_text'].apply(lambda x: lowercase(x))\n",
    "test_data_final['parsed_lines'] = test_data_final['processed_text'].apply(lambda x: x.split('\\n'))\n",
    "\n",
    "test_data_final['parsed_lines'] = test_data_final['parsed_lines'].apply(lambda x: preprocess_text(x))\n",
    "test_data_final['parsed_lines'] = test_data_final['parsed_lines'].apply(lambda x: remove_empty(x))\n",
    "\n",
    "test_data_final['parsed_lines'] = test_data_final['parsed_lines'].apply(lambda x: list(x))\n",
    "\n",
    "test_data_final['predict_lighting'] = test_data_final['parsed_lines'].apply(lambda x: check_lighting(x))\n",
    "test_data_final['light_phrase_index'] = test_data_final['predict_lighting'].apply(lambda x: x[0])\n",
    "test_data_final['light_phrase'] = test_data_final['predict_lighting'].apply(lambda x: x[1])\n",
    "test_data_final['predict_lighting'] = test_data_final['predict_lighting'].apply(lambda x: x[2])\n",
    "\n",
    "\n",
    "test_data_final.loc[test_data_final['predict_lighting'] == True, 'updated_predict_lighting'] = test_data_final.loc[test_data_final['predict_lighting'] == True].apply(lambda x: check_for_negative_lookaheads(x), axis = 1)\n",
    "\n",
    "# train_data_with_parsed_text_filtered['updated_predict_lighting'] = train_data_with_parsed_text_filtered.apply(lambda x: check_for_negative_lookaheads(x), axis = 1)\n",
    "test_data_final.loc[test_data_final['predict_lighting'] == True,'light_phrase_index'] = test_data_final.loc[test_data_final['predict_lighting'] == True,'updated_predict_lighting'].apply(lambda x: x[0])\n",
    "test_data_final.loc[test_data_final['predict_lighting'] == True,'light_phrase'] = test_data_final.loc[test_data_final['predict_lighting'] == True,'updated_predict_lighting'].apply(lambda x: x[1])\n",
    "test_data_final.loc[test_data_final['predict_lighting'] == True,'updated_predict_lighting'] = test_data_final.loc[test_data_final['predict_lighting'] == True,'updated_predict_lighting'].apply(lambda x: x[2])\n",
    "\n",
    "test_data_final.loc[test_data_final['predict_lighting'] == False, 'updated_predict_lighting'] = False"
   ]
  },
  {
   "cell_type": "code",
   "execution_count": 543,
   "id": "96ee4df7-aff8-425c-b33b-9043184ae885",
   "metadata": {},
   "outputs": [
    {
     "name": "stdout",
     "output_type": "stream",
     "text": [
      "correct predictions: 28\n",
      "total: 80\n",
      "accuracy: 0.35\n",
      "precision: 0.2714285714285714\n",
      "recall: 0.95\n"
     ]
    }
   ],
   "source": [
    "correct = test_data_final.loc[(((test_data_final['predict_lighting'] == False)&(test_data_final['is_lighting'] == 0))|((test_data_final['predict_lighting']== True)&(test_data_final['is_lighting'] == 1)))]\n",
    "\n",
    "print(f\"correct predictions: {len(correct)}\")\n",
    "\n",
    "print(f\"total: {len(test_data_final)}\")\n",
    "\n",
    "print(f\"accuracy: {len(correct)/len(test_data_final)}\")\n",
    "\n",
    "print(f\"precision: {len(test_data_final.loc[((test_data_final['predict_lighting'] == True)&(test_data_final['is_lighting'] == 1))])/len(test_data_final.loc[((test_data_final['predict_lighting'] == True))])}\")\n",
    "\n",
    "print(f\"recall: {len(test_data_final.loc[((test_data_final['predict_lighting'] == True)&(test_data_final['is_lighting'] == 1))])/len(test_data_final.loc[((test_data_final['is_lighting'] == 1))])}\")"
   ]
  },
  {
   "cell_type": "markdown",
   "id": "6906e3b2-ed5e-4592-a64f-254a496c0e1e",
   "metadata": {},
   "source": [
    "### precision increases - when we include fixture checks in the rule based prediction, but recall drops"
   ]
  },
  {
   "cell_type": "code",
   "execution_count": 542,
   "id": "842da2eb-d5ee-41a3-9145-436a043a9a16",
   "metadata": {},
   "outputs": [
    {
     "name": "stdout",
     "output_type": "stream",
     "text": [
      "correct predictions: 54\n",
      "total: 80\n",
      "accuracy: 0.675\n",
      "precision: 0.4117647058823529\n",
      "recall: 0.7\n"
     ]
    }
   ],
   "source": [
    "correct = test_data_final.loc[(((test_data_final['updated_predict_lighting'] == False)&(test_data_final['is_lighting'] == 0))|((test_data_final['updated_predict_lighting']== True)&(test_data_final['is_lighting'] == 1)))]\n",
    "\n",
    "print(f\"correct predictions: {len(correct)}\")\n",
    "\n",
    "print(f\"total: {len(test_data_final)}\")\n",
    "\n",
    "print(f\"accuracy: {len(correct)/len(test_data_final)}\")\n",
    "\n",
    "print(f\"precision: {len(test_data_final.loc[((test_data_final['updated_predict_lighting'] == True)&(test_data_final['is_lighting'] == 1))])/len(test_data_final.loc[((test_data_final['updated_predict_lighting'] == True))])}\")\n",
    "\n",
    "print(f\"recall: {len(test_data_final.loc[((test_data_final['updated_predict_lighting'] == True)&(test_data_final['is_lighting'] == 1))])/len(test_data_final.loc[((test_data_final['is_lighting'] == 1))])}\")"
   ]
  },
  {
   "cell_type": "code",
   "execution_count": 432,
   "id": "a33ce2cd-5642-4f84-85d3-4d3a3168ad37",
   "metadata": {},
   "outputs": [
    {
     "data": {
      "text/plain": [
       "updated_predict_lighting  is_lighting\n",
       "False                     No             307\n",
       "                          Yes            123\n",
       "True                      No             100\n",
       "                          Yes            311\n",
       "dtype: int64"
      ]
     },
     "execution_count": 432,
     "metadata": {},
     "output_type": "execute_result"
    }
   ],
   "source": [
    "train_data_with_parsed_text_filtered.groupby(['updated_predict_lighting', 'is_lighting'], dropna = False).size()"
   ]
  },
  {
   "cell_type": "code",
   "execution_count": 433,
   "id": "13aad225-4715-46ac-bc49-ad0a576356ed",
   "metadata": {},
   "outputs": [],
   "source": [
    "train_data_with_parsed_text_filtered.loc[train_data_with_parsed_text_filtered['is_lighting'] == 1, 'is_lighting'] = 1\n",
    "train_data_with_parsed_text_filtered.loc[train_data_with_parsed_text_filtered['is_lighting'] == 0, 'is_lighting'] = 0"
   ]
  },
  {
   "cell_type": "code",
   "execution_count": 435,
   "id": "e186bd81-1d14-4a23-998a-b03e3b934510",
   "metadata": {},
   "outputs": [
    {
     "data": {
      "text/plain": [
       "Index(['id', 'url', 'is_lighting', 'parsed_text', 'processed_text',\n",
       "       'parsed_lines', 'predict_lighting', 'light_phrase',\n",
       "       'light_phrase_index', 'updated_predict_lighting'],\n",
       "      dtype='object')"
      ]
     },
     "execution_count": 435,
     "metadata": {},
     "output_type": "execute_result"
    }
   ],
   "source": [
    "train_data_with_parsed_text_filtered.columns"
   ]
  },
  {
   "cell_type": "code",
   "execution_count": 436,
   "id": "8dbbd4f0-aaef-4614-9b86-0fd7653aed3e",
   "metadata": {},
   "outputs": [
    {
     "data": {
      "text/plain": [
       "Index(['id', 'url', 'is_lighting', 'parsed_text', 'processed_text',\n",
       "       'parsed_lines', 'predict_lighting', 'light_phrase_index',\n",
       "       'light_phrase', 'updated_predict_lighting'],\n",
       "      dtype='object')"
      ]
     },
     "execution_count": 436,
     "metadata": {},
     "output_type": "execute_result"
    }
   ],
   "source": [
    "test_df.columns"
   ]
  },
  {
   "cell_type": "code",
   "execution_count": 544,
   "id": "90080d45-9d95-4c6c-9350-e95f9a271c92",
   "metadata": {},
   "outputs": [],
   "source": [
    "from gensim.models import KeyedVectors\n",
    "from gensim.downloader import load\n",
    "\n",
    "# model = load(\"word2vec-google-news-300\")\n",
    "# word2vec_model.save_word2vec_format(\"models/word2vec.bin\", binary=True)\n",
    "\n",
    "from gensim.models.keyedvectors import KeyedVectors\n",
    "word2vec_model = KeyedVectors.load_word2vec_format(\"models/word2vec.bin\", binary=True)"
   ]
  },
  {
   "cell_type": "markdown",
   "id": "da48f25c-0012-4872-91c0-529c1293ff3d",
   "metadata": {},
   "source": [
    "Text Inference using GPT/LLAMA\n",
    "\n",
    "below method is used to infer a product description extracted from pdf after processing can be inferred as \n",
    "\n",
    "luminous or not, with zero and few-shot prompting"
   ]
  },
  {
   "cell_type": "code",
   "execution_count": 361,
   "id": "ab77e727-11d6-41b5-a2f4-b15ca16e9d9d",
   "metadata": {
    "collapsed": true,
    "jupyter": {
     "outputs_hidden": true
    },
    "scrolled": true
   },
   "outputs": [
    {
     "name": "stderr",
     "output_type": "stream",
     "text": [
      "llama_model_loader: loaded meta data with 21 key-value pairs and 291 tensors from models/zephyr-7b-alpha.Q4_K_S.gguf (version GGUF V2)\n",
      "llama_model_loader: - tensor    0:                token_embd.weight q4_K     [  4096, 32000,     1,     1 ]\n",
      "llama_model_loader: - tensor    1:           blk.0.attn_norm.weight f32      [  4096,     1,     1,     1 ]\n",
      "llama_model_loader: - tensor    2:            blk.0.ffn_down.weight q5_K     [ 14336,  4096,     1,     1 ]\n",
      "llama_model_loader: - tensor    3:            blk.0.ffn_gate.weight q4_K     [  4096, 14336,     1,     1 ]\n",
      "llama_model_loader: - tensor    4:              blk.0.ffn_up.weight q4_K     [  4096, 14336,     1,     1 ]\n",
      "llama_model_loader: - tensor    5:            blk.0.ffn_norm.weight f32      [  4096,     1,     1,     1 ]\n",
      "llama_model_loader: - tensor    6:              blk.0.attn_k.weight q4_K     [  4096,  1024,     1,     1 ]\n",
      "llama_model_loader: - tensor    7:         blk.0.attn_output.weight q4_K     [  4096,  4096,     1,     1 ]\n",
      "llama_model_loader: - tensor    8:              blk.0.attn_q.weight q4_K     [  4096,  4096,     1,     1 ]\n",
      "llama_model_loader: - tensor    9:              blk.0.attn_v.weight q5_K     [  4096,  1024,     1,     1 ]\n",
      "llama_model_loader: - tensor   10:           blk.1.attn_norm.weight f32      [  4096,     1,     1,     1 ]\n",
      "llama_model_loader: - tensor   11:            blk.1.ffn_down.weight q5_K     [ 14336,  4096,     1,     1 ]\n",
      "llama_model_loader: - tensor   12:            blk.1.ffn_gate.weight q4_K     [  4096, 14336,     1,     1 ]\n",
      "llama_model_loader: - tensor   13:              blk.1.ffn_up.weight q4_K     [  4096, 14336,     1,     1 ]\n",
      "llama_model_loader: - tensor   14:            blk.1.ffn_norm.weight f32      [  4096,     1,     1,     1 ]\n",
      "llama_model_loader: - tensor   15:              blk.1.attn_k.weight q4_K     [  4096,  1024,     1,     1 ]\n",
      "llama_model_loader: - tensor   16:         blk.1.attn_output.weight q4_K     [  4096,  4096,     1,     1 ]\n",
      "llama_model_loader: - tensor   17:              blk.1.attn_q.weight q4_K     [  4096,  4096,     1,     1 ]\n",
      "llama_model_loader: - tensor   18:              blk.1.attn_v.weight q5_K     [  4096,  1024,     1,     1 ]\n",
      "llama_model_loader: - tensor   19:          blk.10.attn_norm.weight f32      [  4096,     1,     1,     1 ]\n",
      "llama_model_loader: - tensor   20:           blk.10.ffn_down.weight q5_K     [ 14336,  4096,     1,     1 ]\n",
      "llama_model_loader: - tensor   21:           blk.10.ffn_gate.weight q4_K     [  4096, 14336,     1,     1 ]\n",
      "llama_model_loader: - tensor   22:             blk.10.ffn_up.weight q4_K     [  4096, 14336,     1,     1 ]\n",
      "llama_model_loader: - tensor   23:           blk.10.ffn_norm.weight f32      [  4096,     1,     1,     1 ]\n",
      "llama_model_loader: - tensor   24:             blk.10.attn_k.weight q4_K     [  4096,  1024,     1,     1 ]\n",
      "llama_model_loader: - tensor   25:        blk.10.attn_output.weight q4_K     [  4096,  4096,     1,     1 ]\n",
      "llama_model_loader: - tensor   26:             blk.10.attn_q.weight q4_K     [  4096,  4096,     1,     1 ]\n",
      "llama_model_loader: - tensor   27:             blk.10.attn_v.weight q5_K     [  4096,  1024,     1,     1 ]\n",
      "llama_model_loader: - tensor   28:          blk.11.attn_norm.weight f32      [  4096,     1,     1,     1 ]\n",
      "llama_model_loader: - tensor   29:           blk.11.ffn_down.weight q5_K     [ 14336,  4096,     1,     1 ]\n",
      "llama_model_loader: - tensor   30:           blk.11.ffn_gate.weight q4_K     [  4096, 14336,     1,     1 ]\n",
      "llama_model_loader: - tensor   31:             blk.11.ffn_up.weight q4_K     [  4096, 14336,     1,     1 ]\n",
      "llama_model_loader: - tensor   32:           blk.11.ffn_norm.weight f32      [  4096,     1,     1,     1 ]\n",
      "llama_model_loader: - tensor   33:             blk.11.attn_k.weight q4_K     [  4096,  1024,     1,     1 ]\n",
      "llama_model_loader: - tensor   34:        blk.11.attn_output.weight q4_K     [  4096,  4096,     1,     1 ]\n",
      "llama_model_loader: - tensor   35:             blk.11.attn_q.weight q4_K     [  4096,  4096,     1,     1 ]\n",
      "llama_model_loader: - tensor   36:             blk.11.attn_v.weight q5_K     [  4096,  1024,     1,     1 ]\n",
      "llama_model_loader: - tensor   37:          blk.12.attn_norm.weight f32      [  4096,     1,     1,     1 ]\n",
      "llama_model_loader: - tensor   38:           blk.12.ffn_down.weight q4_K     [ 14336,  4096,     1,     1 ]\n",
      "llama_model_loader: - tensor   39:           blk.12.ffn_gate.weight q4_K     [  4096, 14336,     1,     1 ]\n",
      "llama_model_loader: - tensor   40:             blk.12.ffn_up.weight q4_K     [  4096, 14336,     1,     1 ]\n",
      "llama_model_loader: - tensor   41:           blk.12.ffn_norm.weight f32      [  4096,     1,     1,     1 ]\n",
      "llama_model_loader: - tensor   42:             blk.12.attn_k.weight q4_K     [  4096,  1024,     1,     1 ]\n",
      "llama_model_loader: - tensor   43:        blk.12.attn_output.weight q4_K     [  4096,  4096,     1,     1 ]\n",
      "llama_model_loader: - tensor   44:             blk.12.attn_q.weight q4_K     [  4096,  4096,     1,     1 ]\n",
      "llama_model_loader: - tensor   45:             blk.12.attn_v.weight q4_K     [  4096,  1024,     1,     1 ]\n",
      "llama_model_loader: - tensor   46:          blk.13.attn_norm.weight f32      [  4096,     1,     1,     1 ]\n",
      "llama_model_loader: - tensor   47:           blk.13.ffn_down.weight q4_K     [ 14336,  4096,     1,     1 ]\n",
      "llama_model_loader: - tensor   48:           blk.13.ffn_gate.weight q4_K     [  4096, 14336,     1,     1 ]\n",
      "llama_model_loader: - tensor   49:             blk.13.ffn_up.weight q4_K     [  4096, 14336,     1,     1 ]\n",
      "llama_model_loader: - tensor   50:           blk.13.ffn_norm.weight f32      [  4096,     1,     1,     1 ]\n",
      "llama_model_loader: - tensor   51:             blk.13.attn_k.weight q4_K     [  4096,  1024,     1,     1 ]\n",
      "llama_model_loader: - tensor   52:        blk.13.attn_output.weight q4_K     [  4096,  4096,     1,     1 ]\n",
      "llama_model_loader: - tensor   53:             blk.13.attn_q.weight q4_K     [  4096,  4096,     1,     1 ]\n",
      "llama_model_loader: - tensor   54:             blk.13.attn_v.weight q4_K     [  4096,  1024,     1,     1 ]\n",
      "llama_model_loader: - tensor   55:          blk.14.attn_norm.weight f32      [  4096,     1,     1,     1 ]\n",
      "llama_model_loader: - tensor   56:           blk.14.ffn_down.weight q4_K     [ 14336,  4096,     1,     1 ]\n",
      "llama_model_loader: - tensor   57:           blk.14.ffn_gate.weight q4_K     [  4096, 14336,     1,     1 ]\n",
      "llama_model_loader: - tensor   58:             blk.14.ffn_up.weight q4_K     [  4096, 14336,     1,     1 ]\n",
      "llama_model_loader: - tensor   59:           blk.14.ffn_norm.weight f32      [  4096,     1,     1,     1 ]\n",
      "llama_model_loader: - tensor   60:             blk.14.attn_k.weight q4_K     [  4096,  1024,     1,     1 ]\n",
      "llama_model_loader: - tensor   61:        blk.14.attn_output.weight q4_K     [  4096,  4096,     1,     1 ]\n",
      "llama_model_loader: - tensor   62:             blk.14.attn_q.weight q4_K     [  4096,  4096,     1,     1 ]\n",
      "llama_model_loader: - tensor   63:             blk.14.attn_v.weight q4_K     [  4096,  1024,     1,     1 ]\n",
      "llama_model_loader: - tensor   64:          blk.15.attn_norm.weight f32      [  4096,     1,     1,     1 ]\n",
      "llama_model_loader: - tensor   65:           blk.15.ffn_down.weight q4_K     [ 14336,  4096,     1,     1 ]\n",
      "llama_model_loader: - tensor   66:           blk.15.ffn_gate.weight q4_K     [  4096, 14336,     1,     1 ]\n",
      "llama_model_loader: - tensor   67:             blk.15.ffn_up.weight q4_K     [  4096, 14336,     1,     1 ]\n",
      "llama_model_loader: - tensor   68:           blk.15.ffn_norm.weight f32      [  4096,     1,     1,     1 ]\n",
      "llama_model_loader: - tensor   69:             blk.15.attn_k.weight q4_K     [  4096,  1024,     1,     1 ]\n",
      "llama_model_loader: - tensor   70:        blk.15.attn_output.weight q4_K     [  4096,  4096,     1,     1 ]\n",
      "llama_model_loader: - tensor   71:             blk.15.attn_q.weight q4_K     [  4096,  4096,     1,     1 ]\n",
      "llama_model_loader: - tensor   72:             blk.15.attn_v.weight q4_K     [  4096,  1024,     1,     1 ]\n",
      "llama_model_loader: - tensor   73:          blk.16.attn_norm.weight f32      [  4096,     1,     1,     1 ]\n",
      "llama_model_loader: - tensor   74:           blk.16.ffn_down.weight q4_K     [ 14336,  4096,     1,     1 ]\n",
      "llama_model_loader: - tensor   75:           blk.16.ffn_gate.weight q4_K     [  4096, 14336,     1,     1 ]\n",
      "llama_model_loader: - tensor   76:             blk.16.ffn_up.weight q4_K     [  4096, 14336,     1,     1 ]\n",
      "llama_model_loader: - tensor   77:           blk.16.ffn_norm.weight f32      [  4096,     1,     1,     1 ]\n",
      "llama_model_loader: - tensor   78:             blk.16.attn_k.weight q4_K     [  4096,  1024,     1,     1 ]\n",
      "llama_model_loader: - tensor   79:        blk.16.attn_output.weight q4_K     [  4096,  4096,     1,     1 ]\n",
      "llama_model_loader: - tensor   80:             blk.16.attn_q.weight q4_K     [  4096,  4096,     1,     1 ]\n",
      "llama_model_loader: - tensor   81:             blk.16.attn_v.weight q4_K     [  4096,  1024,     1,     1 ]\n",
      "llama_model_loader: - tensor   82:          blk.17.attn_norm.weight f32      [  4096,     1,     1,     1 ]\n",
      "llama_model_loader: - tensor   83:           blk.17.ffn_down.weight q4_K     [ 14336,  4096,     1,     1 ]\n",
      "llama_model_loader: - tensor   84:           blk.17.ffn_gate.weight q4_K     [  4096, 14336,     1,     1 ]\n",
      "llama_model_loader: - tensor   85:             blk.17.ffn_up.weight q4_K     [  4096, 14336,     1,     1 ]\n",
      "llama_model_loader: - tensor   86:           blk.17.ffn_norm.weight f32      [  4096,     1,     1,     1 ]\n",
      "llama_model_loader: - tensor   87:             blk.17.attn_k.weight q4_K     [  4096,  1024,     1,     1 ]\n",
      "llama_model_loader: - tensor   88:        blk.17.attn_output.weight q4_K     [  4096,  4096,     1,     1 ]\n",
      "llama_model_loader: - tensor   89:             blk.17.attn_q.weight q4_K     [  4096,  4096,     1,     1 ]\n",
      "llama_model_loader: - tensor   90:             blk.17.attn_v.weight q4_K     [  4096,  1024,     1,     1 ]\n",
      "llama_model_loader: - tensor   91:          blk.18.attn_norm.weight f32      [  4096,     1,     1,     1 ]\n",
      "llama_model_loader: - tensor   92:           blk.18.ffn_down.weight q4_K     [ 14336,  4096,     1,     1 ]\n",
      "llama_model_loader: - tensor   93:           blk.18.ffn_gate.weight q4_K     [  4096, 14336,     1,     1 ]\n",
      "llama_model_loader: - tensor   94:             blk.18.ffn_up.weight q4_K     [  4096, 14336,     1,     1 ]\n",
      "llama_model_loader: - tensor   95:           blk.18.ffn_norm.weight f32      [  4096,     1,     1,     1 ]\n",
      "llama_model_loader: - tensor   96:             blk.18.attn_k.weight q4_K     [  4096,  1024,     1,     1 ]\n",
      "llama_model_loader: - tensor   97:        blk.18.attn_output.weight q4_K     [  4096,  4096,     1,     1 ]\n",
      "llama_model_loader: - tensor   98:             blk.18.attn_q.weight q4_K     [  4096,  4096,     1,     1 ]\n",
      "llama_model_loader: - tensor   99:             blk.18.attn_v.weight q4_K     [  4096,  1024,     1,     1 ]\n",
      "llama_model_loader: - tensor  100:          blk.19.attn_norm.weight f32      [  4096,     1,     1,     1 ]\n",
      "llama_model_loader: - tensor  101:           blk.19.ffn_down.weight q4_K     [ 14336,  4096,     1,     1 ]\n",
      "llama_model_loader: - tensor  102:           blk.19.ffn_gate.weight q4_K     [  4096, 14336,     1,     1 ]\n",
      "llama_model_loader: - tensor  103:             blk.19.ffn_up.weight q4_K     [  4096, 14336,     1,     1 ]\n",
      "llama_model_loader: - tensor  104:           blk.19.ffn_norm.weight f32      [  4096,     1,     1,     1 ]\n",
      "llama_model_loader: - tensor  105:             blk.19.attn_k.weight q4_K     [  4096,  1024,     1,     1 ]\n",
      "llama_model_loader: - tensor  106:        blk.19.attn_output.weight q4_K     [  4096,  4096,     1,     1 ]\n",
      "llama_model_loader: - tensor  107:             blk.19.attn_q.weight q4_K     [  4096,  4096,     1,     1 ]\n",
      "llama_model_loader: - tensor  108:             blk.19.attn_v.weight q4_K     [  4096,  1024,     1,     1 ]\n",
      "llama_model_loader: - tensor  109:           blk.2.attn_norm.weight f32      [  4096,     1,     1,     1 ]\n",
      "llama_model_loader: - tensor  110:            blk.2.ffn_down.weight q4_K     [ 14336,  4096,     1,     1 ]\n",
      "llama_model_loader: - tensor  111:            blk.2.ffn_gate.weight q4_K     [  4096, 14336,     1,     1 ]\n",
      "llama_model_loader: - tensor  112:              blk.2.ffn_up.weight q4_K     [  4096, 14336,     1,     1 ]\n",
      "llama_model_loader: - tensor  113:            blk.2.ffn_norm.weight f32      [  4096,     1,     1,     1 ]\n",
      "llama_model_loader: - tensor  114:              blk.2.attn_k.weight q4_K     [  4096,  1024,     1,     1 ]\n",
      "llama_model_loader: - tensor  115:         blk.2.attn_output.weight q4_K     [  4096,  4096,     1,     1 ]\n",
      "llama_model_loader: - tensor  116:              blk.2.attn_q.weight q4_K     [  4096,  4096,     1,     1 ]\n",
      "llama_model_loader: - tensor  117:              blk.2.attn_v.weight q4_K     [  4096,  1024,     1,     1 ]\n",
      "llama_model_loader: - tensor  118:          blk.20.attn_norm.weight f32      [  4096,     1,     1,     1 ]\n",
      "llama_model_loader: - tensor  119:           blk.20.ffn_down.weight q4_K     [ 14336,  4096,     1,     1 ]\n",
      "llama_model_loader: - tensor  120:           blk.20.ffn_gate.weight q4_K     [  4096, 14336,     1,     1 ]\n",
      "llama_model_loader: - tensor  121:             blk.20.ffn_up.weight q4_K     [  4096, 14336,     1,     1 ]\n",
      "llama_model_loader: - tensor  122:           blk.20.ffn_norm.weight f32      [  4096,     1,     1,     1 ]\n",
      "llama_model_loader: - tensor  123:             blk.20.attn_k.weight q4_K     [  4096,  1024,     1,     1 ]\n",
      "llama_model_loader: - tensor  124:        blk.20.attn_output.weight q4_K     [  4096,  4096,     1,     1 ]\n",
      "llama_model_loader: - tensor  125:             blk.20.attn_q.weight q4_K     [  4096,  4096,     1,     1 ]\n",
      "llama_model_loader: - tensor  126:             blk.20.attn_v.weight q4_K     [  4096,  1024,     1,     1 ]\n",
      "llama_model_loader: - tensor  127:          blk.21.attn_norm.weight f32      [  4096,     1,     1,     1 ]\n",
      "llama_model_loader: - tensor  128:           blk.21.ffn_down.weight q4_K     [ 14336,  4096,     1,     1 ]\n",
      "llama_model_loader: - tensor  129:           blk.21.ffn_gate.weight q4_K     [  4096, 14336,     1,     1 ]\n",
      "llama_model_loader: - tensor  130:             blk.21.ffn_up.weight q4_K     [  4096, 14336,     1,     1 ]\n",
      "llama_model_loader: - tensor  131:           blk.21.ffn_norm.weight f32      [  4096,     1,     1,     1 ]\n",
      "llama_model_loader: - tensor  132:             blk.21.attn_k.weight q4_K     [  4096,  1024,     1,     1 ]\n",
      "llama_model_loader: - tensor  133:        blk.21.attn_output.weight q4_K     [  4096,  4096,     1,     1 ]\n",
      "llama_model_loader: - tensor  134:             blk.21.attn_q.weight q4_K     [  4096,  4096,     1,     1 ]\n",
      "llama_model_loader: - tensor  135:             blk.21.attn_v.weight q4_K     [  4096,  1024,     1,     1 ]\n",
      "llama_model_loader: - tensor  136:             blk.22.attn_k.weight q4_K     [  4096,  1024,     1,     1 ]\n",
      "llama_model_loader: - tensor  137:        blk.22.attn_output.weight q4_K     [  4096,  4096,     1,     1 ]\n",
      "llama_model_loader: - tensor  138:             blk.22.attn_q.weight q4_K     [  4096,  4096,     1,     1 ]\n",
      "llama_model_loader: - tensor  139:             blk.22.attn_v.weight q4_K     [  4096,  1024,     1,     1 ]\n",
      "llama_model_loader: - tensor  140:           blk.3.attn_norm.weight f32      [  4096,     1,     1,     1 ]\n",
      "llama_model_loader: - tensor  141:            blk.3.ffn_down.weight q4_K     [ 14336,  4096,     1,     1 ]\n",
      "llama_model_loader: - tensor  142:            blk.3.ffn_gate.weight q4_K     [  4096, 14336,     1,     1 ]\n",
      "llama_model_loader: - tensor  143:              blk.3.ffn_up.weight q4_K     [  4096, 14336,     1,     1 ]\n",
      "llama_model_loader: - tensor  144:            blk.3.ffn_norm.weight f32      [  4096,     1,     1,     1 ]\n",
      "llama_model_loader: - tensor  145:              blk.3.attn_k.weight q4_K     [  4096,  1024,     1,     1 ]\n",
      "llama_model_loader: - tensor  146:         blk.3.attn_output.weight q4_K     [  4096,  4096,     1,     1 ]\n",
      "llama_model_loader: - tensor  147:              blk.3.attn_q.weight q4_K     [  4096,  4096,     1,     1 ]\n",
      "llama_model_loader: - tensor  148:              blk.3.attn_v.weight q4_K     [  4096,  1024,     1,     1 ]\n",
      "llama_model_loader: - tensor  149:           blk.4.attn_norm.weight f32      [  4096,     1,     1,     1 ]\n",
      "llama_model_loader: - tensor  150:            blk.4.ffn_down.weight q4_K     [ 14336,  4096,     1,     1 ]\n",
      "llama_model_loader: - tensor  151:            blk.4.ffn_gate.weight q4_K     [  4096, 14336,     1,     1 ]\n",
      "llama_model_loader: - tensor  152:              blk.4.ffn_up.weight q4_K     [  4096, 14336,     1,     1 ]\n",
      "llama_model_loader: - tensor  153:            blk.4.ffn_norm.weight f32      [  4096,     1,     1,     1 ]\n",
      "llama_model_loader: - tensor  154:              blk.4.attn_k.weight q4_K     [  4096,  1024,     1,     1 ]\n",
      "llama_model_loader: - tensor  155:         blk.4.attn_output.weight q4_K     [  4096,  4096,     1,     1 ]\n",
      "llama_model_loader: - tensor  156:              blk.4.attn_q.weight q4_K     [  4096,  4096,     1,     1 ]\n",
      "llama_model_loader: - tensor  157:              blk.4.attn_v.weight q4_K     [  4096,  1024,     1,     1 ]\n",
      "llama_model_loader: - tensor  158:           blk.5.attn_norm.weight f32      [  4096,     1,     1,     1 ]\n",
      "llama_model_loader: - tensor  159:            blk.5.ffn_down.weight q4_K     [ 14336,  4096,     1,     1 ]\n",
      "llama_model_loader: - tensor  160:            blk.5.ffn_gate.weight q4_K     [  4096, 14336,     1,     1 ]\n",
      "llama_model_loader: - tensor  161:              blk.5.ffn_up.weight q4_K     [  4096, 14336,     1,     1 ]\n",
      "llama_model_loader: - tensor  162:            blk.5.ffn_norm.weight f32      [  4096,     1,     1,     1 ]\n",
      "llama_model_loader: - tensor  163:              blk.5.attn_k.weight q4_K     [  4096,  1024,     1,     1 ]\n",
      "llama_model_loader: - tensor  164:         blk.5.attn_output.weight q4_K     [  4096,  4096,     1,     1 ]\n",
      "llama_model_loader: - tensor  165:              blk.5.attn_q.weight q4_K     [  4096,  4096,     1,     1 ]\n",
      "llama_model_loader: - tensor  166:              blk.5.attn_v.weight q4_K     [  4096,  1024,     1,     1 ]\n",
      "llama_model_loader: - tensor  167:           blk.6.attn_norm.weight f32      [  4096,     1,     1,     1 ]\n",
      "llama_model_loader: - tensor  168:            blk.6.ffn_down.weight q4_K     [ 14336,  4096,     1,     1 ]\n",
      "llama_model_loader: - tensor  169:            blk.6.ffn_gate.weight q4_K     [  4096, 14336,     1,     1 ]\n",
      "llama_model_loader: - tensor  170:              blk.6.ffn_up.weight q4_K     [  4096, 14336,     1,     1 ]\n",
      "llama_model_loader: - tensor  171:            blk.6.ffn_norm.weight f32      [  4096,     1,     1,     1 ]\n",
      "llama_model_loader: - tensor  172:              blk.6.attn_k.weight q4_K     [  4096,  1024,     1,     1 ]\n",
      "llama_model_loader: - tensor  173:         blk.6.attn_output.weight q4_K     [  4096,  4096,     1,     1 ]\n",
      "llama_model_loader: - tensor  174:              blk.6.attn_q.weight q4_K     [  4096,  4096,     1,     1 ]\n",
      "llama_model_loader: - tensor  175:              blk.6.attn_v.weight q4_K     [  4096,  1024,     1,     1 ]\n",
      "llama_model_loader: - tensor  176:           blk.7.attn_norm.weight f32      [  4096,     1,     1,     1 ]\n",
      "llama_model_loader: - tensor  177:            blk.7.ffn_down.weight q4_K     [ 14336,  4096,     1,     1 ]\n",
      "llama_model_loader: - tensor  178:            blk.7.ffn_gate.weight q4_K     [  4096, 14336,     1,     1 ]\n",
      "llama_model_loader: - tensor  179:              blk.7.ffn_up.weight q4_K     [  4096, 14336,     1,     1 ]\n",
      "llama_model_loader: - tensor  180:            blk.7.ffn_norm.weight f32      [  4096,     1,     1,     1 ]\n",
      "llama_model_loader: - tensor  181:              blk.7.attn_k.weight q4_K     [  4096,  1024,     1,     1 ]\n",
      "llama_model_loader: - tensor  182:         blk.7.attn_output.weight q4_K     [  4096,  4096,     1,     1 ]\n",
      "llama_model_loader: - tensor  183:              blk.7.attn_q.weight q4_K     [  4096,  4096,     1,     1 ]\n",
      "llama_model_loader: - tensor  184:              blk.7.attn_v.weight q4_K     [  4096,  1024,     1,     1 ]\n",
      "llama_model_loader: - tensor  185:           blk.8.attn_norm.weight f32      [  4096,     1,     1,     1 ]\n",
      "llama_model_loader: - tensor  186:            blk.8.ffn_down.weight q4_K     [ 14336,  4096,     1,     1 ]\n",
      "llama_model_loader: - tensor  187:            blk.8.ffn_gate.weight q4_K     [  4096, 14336,     1,     1 ]\n",
      "llama_model_loader: - tensor  188:              blk.8.ffn_up.weight q4_K     [  4096, 14336,     1,     1 ]\n",
      "llama_model_loader: - tensor  189:            blk.8.ffn_norm.weight f32      [  4096,     1,     1,     1 ]\n",
      "llama_model_loader: - tensor  190:              blk.8.attn_k.weight q4_K     [  4096,  1024,     1,     1 ]\n",
      "llama_model_loader: - tensor  191:         blk.8.attn_output.weight q4_K     [  4096,  4096,     1,     1 ]\n",
      "llama_model_loader: - tensor  192:              blk.8.attn_q.weight q4_K     [  4096,  4096,     1,     1 ]\n",
      "llama_model_loader: - tensor  193:              blk.8.attn_v.weight q4_K     [  4096,  1024,     1,     1 ]\n",
      "llama_model_loader: - tensor  194:           blk.9.attn_norm.weight f32      [  4096,     1,     1,     1 ]\n",
      "llama_model_loader: - tensor  195:            blk.9.ffn_down.weight q4_K     [ 14336,  4096,     1,     1 ]\n",
      "llama_model_loader: - tensor  196:            blk.9.ffn_gate.weight q4_K     [  4096, 14336,     1,     1 ]\n",
      "llama_model_loader: - tensor  197:              blk.9.ffn_up.weight q4_K     [  4096, 14336,     1,     1 ]\n",
      "llama_model_loader: - tensor  198:            blk.9.ffn_norm.weight f32      [  4096,     1,     1,     1 ]\n",
      "llama_model_loader: - tensor  199:              blk.9.attn_k.weight q4_K     [  4096,  1024,     1,     1 ]\n",
      "llama_model_loader: - tensor  200:         blk.9.attn_output.weight q4_K     [  4096,  4096,     1,     1 ]\n",
      "llama_model_loader: - tensor  201:              blk.9.attn_q.weight q4_K     [  4096,  4096,     1,     1 ]\n",
      "llama_model_loader: - tensor  202:              blk.9.attn_v.weight q4_K     [  4096,  1024,     1,     1 ]\n",
      "llama_model_loader: - tensor  203:                    output.weight q6_K     [  4096, 32000,     1,     1 ]\n",
      "llama_model_loader: - tensor  204:          blk.22.attn_norm.weight f32      [  4096,     1,     1,     1 ]\n",
      "llama_model_loader: - tensor  205:           blk.22.ffn_down.weight q4_K     [ 14336,  4096,     1,     1 ]\n",
      "llama_model_loader: - tensor  206:           blk.22.ffn_gate.weight q4_K     [  4096, 14336,     1,     1 ]\n",
      "llama_model_loader: - tensor  207:             blk.22.ffn_up.weight q4_K     [  4096, 14336,     1,     1 ]\n",
      "llama_model_loader: - tensor  208:           blk.22.ffn_norm.weight f32      [  4096,     1,     1,     1 ]\n",
      "llama_model_loader: - tensor  209:          blk.23.attn_norm.weight f32      [  4096,     1,     1,     1 ]\n",
      "llama_model_loader: - tensor  210:           blk.23.ffn_down.weight q4_K     [ 14336,  4096,     1,     1 ]\n",
      "llama_model_loader: - tensor  211:           blk.23.ffn_gate.weight q4_K     [  4096, 14336,     1,     1 ]\n",
      "llama_model_loader: - tensor  212:             blk.23.ffn_up.weight q4_K     [  4096, 14336,     1,     1 ]\n",
      "llama_model_loader: - tensor  213:           blk.23.ffn_norm.weight f32      [  4096,     1,     1,     1 ]\n",
      "llama_model_loader: - tensor  214:             blk.23.attn_k.weight q4_K     [  4096,  1024,     1,     1 ]\n",
      "llama_model_loader: - tensor  215:        blk.23.attn_output.weight q4_K     [  4096,  4096,     1,     1 ]\n",
      "llama_model_loader: - tensor  216:             blk.23.attn_q.weight q4_K     [  4096,  4096,     1,     1 ]\n",
      "llama_model_loader: - tensor  217:             blk.23.attn_v.weight q4_K     [  4096,  1024,     1,     1 ]\n",
      "llama_model_loader: - tensor  218:          blk.24.attn_norm.weight f32      [  4096,     1,     1,     1 ]\n",
      "llama_model_loader: - tensor  219:           blk.24.ffn_down.weight q4_K     [ 14336,  4096,     1,     1 ]\n",
      "llama_model_loader: - tensor  220:           blk.24.ffn_gate.weight q4_K     [  4096, 14336,     1,     1 ]\n",
      "llama_model_loader: - tensor  221:             blk.24.ffn_up.weight q4_K     [  4096, 14336,     1,     1 ]\n",
      "llama_model_loader: - tensor  222:           blk.24.ffn_norm.weight f32      [  4096,     1,     1,     1 ]\n",
      "llama_model_loader: - tensor  223:             blk.24.attn_k.weight q4_K     [  4096,  1024,     1,     1 ]\n",
      "llama_model_loader: - tensor  224:        blk.24.attn_output.weight q4_K     [  4096,  4096,     1,     1 ]\n",
      "llama_model_loader: - tensor  225:             blk.24.attn_q.weight q4_K     [  4096,  4096,     1,     1 ]\n",
      "llama_model_loader: - tensor  226:             blk.24.attn_v.weight q4_K     [  4096,  1024,     1,     1 ]\n",
      "llama_model_loader: - tensor  227:          blk.25.attn_norm.weight f32      [  4096,     1,     1,     1 ]\n",
      "llama_model_loader: - tensor  228:           blk.25.ffn_down.weight q4_K     [ 14336,  4096,     1,     1 ]\n",
      "llama_model_loader: - tensor  229:           blk.25.ffn_gate.weight q4_K     [  4096, 14336,     1,     1 ]\n",
      "llama_model_loader: - tensor  230:             blk.25.ffn_up.weight q4_K     [  4096, 14336,     1,     1 ]\n",
      "llama_model_loader: - tensor  231:           blk.25.ffn_norm.weight f32      [  4096,     1,     1,     1 ]\n",
      "llama_model_loader: - tensor  232:             blk.25.attn_k.weight q4_K     [  4096,  1024,     1,     1 ]\n",
      "llama_model_loader: - tensor  233:        blk.25.attn_output.weight q4_K     [  4096,  4096,     1,     1 ]\n",
      "llama_model_loader: - tensor  234:             blk.25.attn_q.weight q4_K     [  4096,  4096,     1,     1 ]\n",
      "llama_model_loader: - tensor  235:             blk.25.attn_v.weight q4_K     [  4096,  1024,     1,     1 ]\n",
      "llama_model_loader: - tensor  236:          blk.26.attn_norm.weight f32      [  4096,     1,     1,     1 ]\n",
      "llama_model_loader: - tensor  237:           blk.26.ffn_down.weight q4_K     [ 14336,  4096,     1,     1 ]\n",
      "llama_model_loader: - tensor  238:           blk.26.ffn_gate.weight q4_K     [  4096, 14336,     1,     1 ]\n",
      "llama_model_loader: - tensor  239:             blk.26.ffn_up.weight q4_K     [  4096, 14336,     1,     1 ]\n",
      "llama_model_loader: - tensor  240:           blk.26.ffn_norm.weight f32      [  4096,     1,     1,     1 ]\n",
      "llama_model_loader: - tensor  241:             blk.26.attn_k.weight q4_K     [  4096,  1024,     1,     1 ]\n",
      "llama_model_loader: - tensor  242:        blk.26.attn_output.weight q4_K     [  4096,  4096,     1,     1 ]\n",
      "llama_model_loader: - tensor  243:             blk.26.attn_q.weight q4_K     [  4096,  4096,     1,     1 ]\n",
      "llama_model_loader: - tensor  244:             blk.26.attn_v.weight q4_K     [  4096,  1024,     1,     1 ]\n",
      "llama_model_loader: - tensor  245:          blk.27.attn_norm.weight f32      [  4096,     1,     1,     1 ]\n",
      "llama_model_loader: - tensor  246:           blk.27.ffn_down.weight q4_K     [ 14336,  4096,     1,     1 ]\n",
      "llama_model_loader: - tensor  247:           blk.27.ffn_gate.weight q4_K     [  4096, 14336,     1,     1 ]\n",
      "llama_model_loader: - tensor  248:             blk.27.ffn_up.weight q4_K     [  4096, 14336,     1,     1 ]\n",
      "llama_model_loader: - tensor  249:           blk.27.ffn_norm.weight f32      [  4096,     1,     1,     1 ]\n",
      "llama_model_loader: - tensor  250:             blk.27.attn_k.weight q4_K     [  4096,  1024,     1,     1 ]\n",
      "llama_model_loader: - tensor  251:        blk.27.attn_output.weight q4_K     [  4096,  4096,     1,     1 ]\n",
      "llama_model_loader: - tensor  252:             blk.27.attn_q.weight q4_K     [  4096,  4096,     1,     1 ]\n",
      "llama_model_loader: - tensor  253:             blk.27.attn_v.weight q4_K     [  4096,  1024,     1,     1 ]\n",
      "llama_model_loader: - tensor  254:          blk.28.attn_norm.weight f32      [  4096,     1,     1,     1 ]\n",
      "llama_model_loader: - tensor  255:           blk.28.ffn_down.weight q4_K     [ 14336,  4096,     1,     1 ]\n",
      "llama_model_loader: - tensor  256:           blk.28.ffn_gate.weight q4_K     [  4096, 14336,     1,     1 ]\n",
      "llama_model_loader: - tensor  257:             blk.28.ffn_up.weight q4_K     [  4096, 14336,     1,     1 ]\n",
      "llama_model_loader: - tensor  258:           blk.28.ffn_norm.weight f32      [  4096,     1,     1,     1 ]\n",
      "llama_model_loader: - tensor  259:             blk.28.attn_k.weight q4_K     [  4096,  1024,     1,     1 ]\n",
      "llama_model_loader: - tensor  260:        blk.28.attn_output.weight q4_K     [  4096,  4096,     1,     1 ]\n",
      "llama_model_loader: - tensor  261:             blk.28.attn_q.weight q4_K     [  4096,  4096,     1,     1 ]\n",
      "llama_model_loader: - tensor  262:             blk.28.attn_v.weight q4_K     [  4096,  1024,     1,     1 ]\n",
      "llama_model_loader: - tensor  263:          blk.29.attn_norm.weight f32      [  4096,     1,     1,     1 ]\n",
      "llama_model_loader: - tensor  264:           blk.29.ffn_down.weight q4_K     [ 14336,  4096,     1,     1 ]\n",
      "llama_model_loader: - tensor  265:           blk.29.ffn_gate.weight q4_K     [  4096, 14336,     1,     1 ]\n",
      "llama_model_loader: - tensor  266:             blk.29.ffn_up.weight q4_K     [  4096, 14336,     1,     1 ]\n",
      "llama_model_loader: - tensor  267:           blk.29.ffn_norm.weight f32      [  4096,     1,     1,     1 ]\n",
      "llama_model_loader: - tensor  268:             blk.29.attn_k.weight q4_K     [  4096,  1024,     1,     1 ]\n",
      "llama_model_loader: - tensor  269:        blk.29.attn_output.weight q4_K     [  4096,  4096,     1,     1 ]\n",
      "llama_model_loader: - tensor  270:             blk.29.attn_q.weight q4_K     [  4096,  4096,     1,     1 ]\n",
      "llama_model_loader: - tensor  271:             blk.29.attn_v.weight q4_K     [  4096,  1024,     1,     1 ]\n",
      "llama_model_loader: - tensor  272:          blk.30.attn_norm.weight f32      [  4096,     1,     1,     1 ]\n",
      "llama_model_loader: - tensor  273:           blk.30.ffn_down.weight q4_K     [ 14336,  4096,     1,     1 ]\n",
      "llama_model_loader: - tensor  274:           blk.30.ffn_gate.weight q4_K     [  4096, 14336,     1,     1 ]\n",
      "llama_model_loader: - tensor  275:             blk.30.ffn_up.weight q4_K     [  4096, 14336,     1,     1 ]\n",
      "llama_model_loader: - tensor  276:           blk.30.ffn_norm.weight f32      [  4096,     1,     1,     1 ]\n",
      "llama_model_loader: - tensor  277:             blk.30.attn_k.weight q4_K     [  4096,  1024,     1,     1 ]\n",
      "llama_model_loader: - tensor  278:        blk.30.attn_output.weight q4_K     [  4096,  4096,     1,     1 ]\n",
      "llama_model_loader: - tensor  279:             blk.30.attn_q.weight q4_K     [  4096,  4096,     1,     1 ]\n",
      "llama_model_loader: - tensor  280:             blk.30.attn_v.weight q4_K     [  4096,  1024,     1,     1 ]\n",
      "llama_model_loader: - tensor  281:          blk.31.attn_norm.weight f32      [  4096,     1,     1,     1 ]\n",
      "llama_model_loader: - tensor  282:           blk.31.ffn_down.weight q4_K     [ 14336,  4096,     1,     1 ]\n",
      "llama_model_loader: - tensor  283:           blk.31.ffn_gate.weight q4_K     [  4096, 14336,     1,     1 ]\n",
      "llama_model_loader: - tensor  284:             blk.31.ffn_up.weight q4_K     [  4096, 14336,     1,     1 ]\n",
      "llama_model_loader: - tensor  285:           blk.31.ffn_norm.weight f32      [  4096,     1,     1,     1 ]\n",
      "llama_model_loader: - tensor  286:             blk.31.attn_k.weight q4_K     [  4096,  1024,     1,     1 ]\n",
      "llama_model_loader: - tensor  287:        blk.31.attn_output.weight q4_K     [  4096,  4096,     1,     1 ]\n",
      "llama_model_loader: - tensor  288:             blk.31.attn_q.weight q4_K     [  4096,  4096,     1,     1 ]\n",
      "llama_model_loader: - tensor  289:             blk.31.attn_v.weight q4_K     [  4096,  1024,     1,     1 ]\n",
      "llama_model_loader: - tensor  290:               output_norm.weight f32      [  4096,     1,     1,     1 ]\n",
      "llama_model_loader: - kv   0:                       general.architecture str              = llama\n",
      "llama_model_loader: - kv   1:                               general.name str              = huggingfaceh4_zephyr-7b-alpha\n",
      "llama_model_loader: - kv   2:                       llama.context_length u32              = 32768\n",
      "llama_model_loader: - kv   3:                     llama.embedding_length u32              = 4096\n",
      "llama_model_loader: - kv   4:                          llama.block_count u32              = 32\n",
      "llama_model_loader: - kv   5:                  llama.feed_forward_length u32              = 14336\n",
      "llama_model_loader: - kv   6:                 llama.rope.dimension_count u32              = 128\n",
      "llama_model_loader: - kv   7:                 llama.attention.head_count u32              = 32\n",
      "llama_model_loader: - kv   8:              llama.attention.head_count_kv u32              = 8\n",
      "llama_model_loader: - kv   9:     llama.attention.layer_norm_rms_epsilon f32              = 0.000010\n",
      "llama_model_loader: - kv  10:                       llama.rope.freq_base f32              = 10000.000000\n",
      "llama_model_loader: - kv  11:                          general.file_type u32              = 14\n",
      "llama_model_loader: - kv  12:                       tokenizer.ggml.model str              = llama\n",
      "llama_model_loader: - kv  13:                      tokenizer.ggml.tokens arr[str,32000]   = [\"<unk>\", \"<s>\", \"</s>\", \"<0x00>\", \"<...\n",
      "llama_model_loader: - kv  14:                      tokenizer.ggml.scores arr[f32,32000]   = [0.000000, 0.000000, 0.000000, 0.0000...\n",
      "llama_model_loader: - kv  15:                  tokenizer.ggml.token_type arr[i32,32000]   = [2, 3, 3, 6, 6, 6, 6, 6, 6, 6, 6, 6, ...\n",
      "llama_model_loader: - kv  16:                tokenizer.ggml.bos_token_id u32              = 1\n",
      "llama_model_loader: - kv  17:                tokenizer.ggml.eos_token_id u32              = 2\n",
      "llama_model_loader: - kv  18:            tokenizer.ggml.unknown_token_id u32              = 0\n",
      "llama_model_loader: - kv  19:            tokenizer.ggml.padding_token_id u32              = 2\n",
      "llama_model_loader: - kv  20:               general.quantization_version u32              = 2\n",
      "llama_model_loader: - type  f32:   65 tensors\n",
      "llama_model_loader: - type q4_K:  217 tensors\n",
      "llama_model_loader: - type q5_K:    8 tensors\n",
      "llama_model_loader: - type q6_K:    1 tensors\n",
      "llm_load_vocab: special tokens definition check successful ( 259/32000 ).\n",
      "llm_load_print_meta: format           = GGUF V2\n",
      "llm_load_print_meta: arch             = llama\n",
      "llm_load_print_meta: vocab type       = SPM\n",
      "llm_load_print_meta: n_vocab          = 32000\n",
      "llm_load_print_meta: n_merges         = 0\n",
      "llm_load_print_meta: n_ctx_train      = 32768\n",
      "llm_load_print_meta: n_embd           = 4096\n",
      "llm_load_print_meta: n_head           = 32\n",
      "llm_load_print_meta: n_head_kv        = 8\n",
      "llm_load_print_meta: n_layer          = 32\n",
      "llm_load_print_meta: n_rot            = 128\n",
      "llm_load_print_meta: n_gqa            = 4\n",
      "llm_load_print_meta: f_norm_eps       = 0.0e+00\n",
      "llm_load_print_meta: f_norm_rms_eps   = 1.0e-05\n",
      "llm_load_print_meta: f_clamp_kqv      = 0.0e+00\n",
      "llm_load_print_meta: f_max_alibi_bias = 0.0e+00\n",
      "llm_load_print_meta: n_ff             = 14336\n",
      "llm_load_print_meta: rope scaling     = linear\n",
      "llm_load_print_meta: freq_base_train  = 10000.0\n",
      "llm_load_print_meta: freq_scale_train = 1\n",
      "llm_load_print_meta: n_yarn_orig_ctx  = 32768\n",
      "llm_load_print_meta: rope_finetuned   = unknown\n",
      "llm_load_print_meta: model type       = 7B\n",
      "llm_load_print_meta: model ftype      = mostly Q4_K - Small\n",
      "llm_load_print_meta: model params     = 7.24 B\n",
      "llm_load_print_meta: model size       = 3.86 GiB (4.57 BPW) \n",
      "llm_load_print_meta: general.name   = huggingfaceh4_zephyr-7b-alpha\n",
      "llm_load_print_meta: BOS token = 1 '<s>'\n",
      "llm_load_print_meta: EOS token = 2 '</s>'\n",
      "llm_load_print_meta: UNK token = 0 '<unk>'\n",
      "llm_load_print_meta: PAD token = 2 '</s>'\n",
      "llm_load_print_meta: LF token  = 13 '<0x0A>'\n",
      "llm_load_tensors: ggml ctx size =    0.11 MiB\n",
      "llm_load_tensors: mem required  = 3947.97 MiB\n",
      "...................................................................................................\n",
      "llama_new_context_with_model: n_ctx      = 512\n",
      "llama_new_context_with_model: freq_base  = 10000.0\n",
      "llama_new_context_with_model: freq_scale = 1\n",
      "llama_new_context_with_model: kv self size  =   64.00 MiB\n",
      "llama_build_graph: non-view tensors processed: 740/740\n",
      "llama_new_context_with_model: compute buffer total size = 76.07 MiB\n",
      "AVX = 0 | AVX2 = 0 | AVX512 = 0 | AVX512_VBMI = 0 | AVX512_VNNI = 0 | FMA = 0 | NEON = 1 | ARM_FMA = 1 | F16C = 0 | FP16_VA = 1 | WASM_SIMD = 0 | BLAS = 1 | SSE3 = 0 | SSSE3 = 0 | VSX = 0 | \n"
     ]
    }
   ],
   "source": [
    "import os\n",
    "from llama_cpp import Llama\n",
    "from functools import lru_cache\n",
    "from dotenv import load_dotenv, find_dotenv\n",
    "import openai\n",
    "\n",
    "_ = load_dotenv(find_dotenv())  # read local .env file\n",
    "_ = load_dotenv('/Users/varshinibalaji/Documents/DSProjects/chatgpt_prompting/config.env')\n",
    "\n",
    "openai.api_key = os.getenv('OPENAI_API_KEY')\n",
    "\n",
    "current_path = os.getcwd()\n",
    "\n",
    "@lru_cache\n",
    "def load_model(model_name: str = 'llama-2-7b.Q5_K_S.gguf'):  # zephyr-7b-alpha.Q4_K_S\n",
    "    root = '/Users/varshinibalaji/Documents/DSProjects/' \n",
    "    os.chdir(root)\n",
    "\n",
    "    modelpath = 'models/'+model_name\n",
    "    llm = Llama(model_path=modelpath)\n",
    "\n",
    "    os.chdir(current_path)\n",
    "    return llm\n",
    "\n",
    "\n",
    "llm = load_model('zephyr-7b-alpha.Q4_K_S.gguf')\n",
    "\n",
    "@lru_cache\n",
    "def llama_predict(prompt: str = None):\n",
    "    output = llm(prompt)\n",
    "    try:\n",
    "        return output['choices'][0]['text']\n",
    "    except Exception:\n",
    "        return None\n",
    "\n",
    "parsed_line = \"emergency lighting inverters\"\n",
    "\n",
    "prompt = f\"\"\"Predict if the given line represents a luminous product: True/False\n",
    "{parsed_line}\n",
    "True or False?\n",
    "\"\"\"\n",
    "# output = llama_predict(prompt)\n",
    "\n",
    "gpt_prompt = f\"\"\"Predict if the given line represents a lighting product: True/False or some irrelevant detail\n",
    "Examples:\n",
    "1. Improved immunity against ambient light  - False, reason - it talks about a property of the product and not the product itself,\n",
    "2. led dual light - True, reason - this clearly represents a lighting product,\n",
    "3. fully self-contained for plug and go set up - irrelevant, reason - this line describes about the product, but does not hint at what the product is.\n",
    "Predict if the line below talks about a lighting product:\n",
    "{parsed_line}\n",
    "response to return - tuple (True or False, reason)\n",
    "\"\"\"\n",
    "\n",
    "@lru_cache(maxsize=None)  # Set maxsize to None for an unbounded cache\n",
    "def get_completion(prompt, model=\"gpt-3.5-turbo\"):\n",
    "    messages = [{\"role\": \"user\", \"content\": prompt}]\n",
    "    response = openai.ChatCompletion.create(\n",
    "        model=model,\n",
    "        messages=messages,\n",
    "        temperature=0,  # this is the degree of randomness of the model's output\n",
    "    )\n",
    "    return response.choices[0].message[\"content\"]\n",
    "\n",
    "# get_completion(gpt_prompt)"
   ]
  },
  {
   "cell_type": "code",
   "execution_count": 121,
   "id": "97aa128d-9427-4ae4-bfac-0b737fb2881e",
   "metadata": {
    "scrolled": true
   },
   "outputs": [],
   "source": [
    "output = get_completion(gpt_prompt)"
   ]
  },
  {
   "cell_type": "code",
   "execution_count": 122,
   "id": "47a4974a-9c62-47fc-86f2-03e537ff454c",
   "metadata": {},
   "outputs": [
    {
     "data": {
      "text/plain": [
       "'True, reason - The line specifically mentions \"emergency lighting inverters,\" which indicates that it is talking about a lighting product.'"
      ]
     },
     "execution_count": 122,
     "metadata": {},
     "output_type": "execute_result"
    }
   ],
   "source": [
    "output"
   ]
  },
  {
   "cell_type": "code",
   "execution_count": 588,
   "id": "b3b23e22-9a47-4159-b5ee-478b084d57fc",
   "metadata": {},
   "outputs": [],
   "source": [
    "pd.set_option('display.max_colwidth', 10)"
   ]
  },
  {
   "cell_type": "code",
   "execution_count": 590,
   "id": "d0f17edd-7029-4b0e-92a8-aea9a4551983",
   "metadata": {},
   "outputs": [
    {
     "data": {
      "text/plain": [
       "light_phrase\n",
       ",  wire, y/vac, a main, holds  controlled circuits plus  uncontrolled circuits controls up to  breakers  includes lcp controller in      1\n",
       "a drum shade ceiing pendant fixture made                                                                                                 1\n",
       "a light that is both minimalist and playful thanks to the                                                                                1\n",
       "ac/dc smoke unit, exit light, smart hush, silent hush                                                                                    5\n",
       "actual transformer is enclosed inside the black plastic casing                                                                           5\n",
       "                                                                                                                                      ... \n",
       "x center lens led troffer, lumen switchable                                                                                              1\n",
       "x e type a  w bulb not included                                                                                                          1\n",
       "x medium base socket, ul for                                                                                                             1\n",
       "x w medium base sockets for led or cfl bulbs                                                                                             1\n",
       "NaN                                                                                                                                    263\n",
       "Length: 332, dtype: int64"
      ]
     },
     "execution_count": 590,
     "metadata": {},
     "output_type": "execute_result"
    }
   ],
   "source": [
    "train_data_with_parsed_text_filtered.groupby('light_phrase', dropna = False).size()"
   ]
  },
  {
   "cell_type": "code",
   "execution_count": 587,
   "id": "678d6f57-f81f-4f63-b5ba-f14f90f16f20",
   "metadata": {},
   "outputs": [],
   "source": [
    "# positives.groupby('is_lighting', dropna = False).size()\n",
    "\n",
    "train_df = train_data_with_parsed_text_filtered.copy()\n",
    "\n",
    "train_df['parsed_line_0'] = train_df['parsed_lines'].apply(lambda x: x[0])\n",
    "\n",
    "train_df.loc[train_df['light_phrase'].isnull()==True, 'light_phrase'] = train_df['parsed_line_0']"
   ]
  },
  {
   "cell_type": "code",
   "execution_count": 589,
   "id": "75ea8abd-8bca-49da-ad14-f4a089276d24",
   "metadata": {
    "scrolled": true
   },
   "outputs": [
    {
     "data": {
      "text/plain": [
       "light_phrase\n",
       ",  wire, y/vac, a main, holds  controlled circuits plus  uncontrolled circuits controls up to  breakers  includes lcp controller in    1\n",
       "/ volts dc                                                                                                                             1\n",
       "a drum shade ceiing pendant fixture made                                                                                               1\n",
       "a light that is both minimalist and playful thanks to the                                                                              1\n",
       "a, ah                                                                                                                                  1\n",
       "                                                                                                                                      ..\n",
       "x w medium base sockets for led or cfl bulbs                                                                                           1\n",
       "yes, aluminum is one of the most recyclable materials on earth penn aluminum emt is produced                                           1\n",
       "zones                                                                                                                                  1\n",
       "zu lautsprecher                                                                                                                        2\n",
       "zx series thermostat wallplate                                                                                                         1\n",
       "Length: 481, dtype: int64"
      ]
     },
     "execution_count": 589,
     "metadata": {},
     "output_type": "execute_result"
    }
   ],
   "source": [
    "train_df.groupby('light_phrase', dropna = False).size()"
   ]
  },
  {
   "cell_type": "markdown",
   "id": "c6d12378-a4b5-488e-ab8b-8b8047be019e",
   "metadata": {},
   "source": [
    "### word2vec embedding can be generated for light_phrase as training_feature vector, and used to train a LR model"
   ]
  },
  {
   "cell_type": "code",
   "execution_count": 591,
   "id": "14d8e340-dedc-4031-8210-09236534d494",
   "metadata": {},
   "outputs": [],
   "source": [
    "import spacy\n",
    "import gensim\n",
    "import numpy as np\n",
    "from sklearn.feature_extraction.text import TfidfVectorizer\n",
    "from sklearn.linear_model import LogisticRegression\n",
    "from sklearn.metrics import accuracy_score\n",
    "\n",
    "# Load spaCy and Gensim models\n",
    "nlp = spacy.load(\"en_core_web_sm\")\n",
    "# word2vec_model = gensim.models.KeyedVectors.load_word2vec_format(\"path/to/word2vec.model\")\n",
    "word2vec_model = KeyedVectors.load_word2vec_format(\"models/word2vec.bin\", binary=True)\n",
    "\n",
    "# Define NER function\n",
    "def extract_lighting_entities(text):\n",
    "    doc = nlp(text)\n",
    "    entities = [ent.text for ent in doc.ents if ent.label_ == \"ORG\" or ent.label_ == \"PRODUCT\"]\n",
    "    return entities\n",
    "\n",
    "# Define function to create word embedding vectors\n",
    "def text_to_embedding(text):\n",
    "    words = text.lower().split()\n",
    "    word_vectors = [word2vec_model.get_vector(word) for word in words if word in word2vec_model]\n",
    "    return np.mean(word_vectors, axis=0)"
   ]
  },
  {
   "cell_type": "markdown",
   "id": "92ab0e75-8241-44d2-80cb-5cb1226aefd7",
   "metadata": {},
   "source": [
    "#### Training Logistic Regression Model"
   ]
  },
  {
   "cell_type": "code",
   "execution_count": 593,
   "id": "578a284b-b56e-4266-aaa7-7b12bc4fbda5",
   "metadata": {
    "collapsed": true,
    "jupyter": {
     "outputs_hidden": true
    }
   },
   "outputs": [
    {
     "data": {
      "text/plain": [
       "['decors led dual light',\n",
       " 'connect the fixture cable to the junction box using the',\n",
       " 'frequency lamps and must be less then  lux at the module surface',\n",
       " 'are  months if the leds are stored for  months or more, they can be stored for a year in a sealed container with a',\n",
       " 'are  months if the leds are stored for  months or more, they can be stored for a year in a sealed container with a',\n",
       " 'are  months if the leds are stored for  months or more, they can be stored for a year in a sealed container with a',\n",
       " 'are  months if the leds are stored for  months or more, they can be stored for a year in a sealed container with a',\n",
       " 'are  months if the leds are stored for  months or more, they can be stored for a year in a sealed container with a',\n",
       " 'if the moisture absorbent material silica gel has faded away or the leds have exceeded the',\n",
       " 'if the moisture absorbent material silica gel has faded away or the leds have exceeded the',\n",
       " 'if the moisture absorbent material silica gel has faded away or the leds have exceeded the',\n",
       " 'if the moisture absorbent material silica gel has faded away or the leds have exceeded the',\n",
       " 'max w led bulbs',\n",
       " 'ul for  candelabrea sockets, for cfl or led bulbs',\n",
       " 'in medium base sockets',\n",
       " 'bulbs',\n",
       " 'x w medium base sockets for led or cfl bulbs',\n",
       " 'cubic vanity fixture   t',\n",
       " 'x medium base socket, ul for',\n",
       " 'light source led lamp, socket',\n",
       " 'light source led lamp, socket',\n",
       " 'light source integrated led',\n",
       " 'light source integrated led',\n",
       " 'light source integrated led',\n",
       " 'light source integrated led',\n",
       " 'light source led lamp',\n",
       " 'light source led lamp, socket',\n",
       " 'light source led lamp',\n",
       " 'light source led lamp',\n",
       " 'circuit selectable autoon egress',\n",
       " 'interface with any control system that communicates individual circuit',\n",
       " 'electronic ballast',\n",
       " 'circuit selectable autoon egress',\n",
       " 'ated with a discrete control protocol',\n",
       " 'breaker hardware platform as the standard rpc and lcp  panels but requires signicantly',\n",
       " 'by managing audio, visual and light from a single power automation system, npac brings',\n",
       " 'integrate remote components and control them through webenabled devices',\n",
       " ',  wire, y/vac, a main, holds  controlled circuits plus  uncontrolled circuits controls up to  breakers  includes lcp controller in',\n",
       " 'it latches down and lights red the ac power se',\n",
       " 'c k similar to warm incandescent light',\n",
       " 'to bottom of warmer lamp shade  in drawing',\n",
       " 'bulbs',\n",
       " 'form no cdw spec sheet',\n",
       " 'high watt with infinite control or indicator light    mm',\n",
       " 'c indicator light remote only',\n",
       " 'caution strip heaters equipped with incandescent lights that require a circuit breaker',\n",
       " 'caution strip heaters equipped with incandescent lights that require a circuit',\n",
       " 'models with attached control box toggle and indicator light',\n",
       " 'infinites with pilot light',\n",
       " 'fully certified by intertek group plc',\n",
       " 'electrical instructions fixture only',\n",
       " 'depending on extent of fixture preassembly before installation in grid',\n",
       " 'depending on extent of fixture preassembly before installation in grid',\n",
       " 'lighting ecoslim led edge lit light box',\n",
       " 'lighting ecoslim led edge lit light box',\n",
       " 'each fixture has a four knockout junction box',\n",
       " 'fixtures, precut ceiling grid and perimeter',\n",
       " 'fixtures, precut ceiling grid and perimeter',\n",
       " 'internal power supply hardwired inside fixture',\n",
       " 'for use with flex gold vivid led lamps only',\n",
       " 'islands, hardscape areas and compact lighting scenes',\n",
       " 'one of our most unique fixtures in the odyssey series, the illumicup offers nighttime golf for any putting green the',\n",
       " 'higher lumen output',\n",
       " 'well light',\n",
       " 'unique lighting systems reserves the right to modify the design and/or construction of the fixture shown without notification',\n",
       " 'unique lighting systems reserves the right to modify the design and/or construction of the fixture shown without notification',\n",
       " 'inground well light, the zenith is driveover rated  its commercial brass grate gives',\n",
       " 'auto on/ff led work light for dark conditions',\n",
       " 'use smrtscape to adjust inspira fixture beam angles, beam spread',\n",
       " 'materials',\n",
       " 'fold table lamp',\n",
       " 'aluminium profiles the light source is highpowered',\n",
       " 'extruded aluminium profiles the light source is a',\n",
       " 'extruded aluminium profiles the light source is a',\n",
       " 'soft glow of reflected light onto the wall',\n",
       " 'materials',\n",
       " 'materials',\n",
       " 'materials',\n",
       " 'utilising a low energy led bulb, perf double sconce is available',\n",
       " 'light source',\n",
       " 'light source',\n",
       " 'all work   currey  company',\n",
       " 'screw',\n",
       " 'all work   currey  company',\n",
       " 'all work   currey  company',\n",
       " 'all work   currey  company',\n",
       " 'all work   currey  company',\n",
       " 'all work   currey  company',\n",
       " 'all work   currey  company',\n",
       " 'all work   currey  company',\n",
       " 'all work   currey  company',\n",
       " 'gn',\n",
       " 'gn',\n",
       " 'gn',\n",
       " 'gn',\n",
       " 'gn',\n",
       " 'gn',\n",
       " 'gn',\n",
       " 'bb',\n",
       " 'bb',\n",
       " 'number of lights',\n",
       " 'lumen',\n",
       " 'lumen',\n",
       " 'lumen',\n",
       " 'lumen',\n",
       " 'lumen',\n",
       " 'lumen',\n",
       " 'lumen',\n",
       " 'lumen',\n",
       " 'lumen',\n",
       " 'gy gray',\n",
       " 'expanded wire',\n",
       " 'wire connector rated for kv max',\n",
       " 'ul listed',\n",
       " 'expanded wire',\n",
       " 'str',\n",
       " 'expanded wire',\n",
       " 'expanded wire',\n",
       " 'polaris sales  inc  any',\n",
       " 't/r pouch',\n",
       " 'bulb type',\n",
       " 'bulb type',\n",
       " 'bulb type',\n",
       " 'bulb type',\n",
       " 'bulb type',\n",
       " 'bulb type',\n",
       " 'bulb type',\n",
       " 'bulb type',\n",
       " 'bulb type',\n",
       " 'bulb type',\n",
       " 'bulb included no',\n",
       " 'bulb included no',\n",
       " 'bulb included no',\n",
       " 'bulb included no',\n",
       " 'light maisonette dinette chandelier',\n",
       " 'bulb included no',\n",
       " 'bulb included no',\n",
       " 'bulb included no',\n",
       " 'light hannover flush mount /semi flush mount',\n",
       " 'light hannover mini chandelier',\n",
       " 'gripper for mm  /',\n",
       " 'rdk',\n",
       " 'duncan reidville rd duncan, sc',\n",
       " 'duncan reidville rd duncan, sc',\n",
       " 'mkftt',\n",
       " 'rdk',\n",
       " 'duncan reidville rd duncan, sc',\n",
       " 'fork gripper for / or',\n",
       " 'k c',\n",
       " 'gripper for mm  /',\n",
       " 'operational lumens output',\n",
       " 'operational lumens output',\n",
       " 'when replacing halogen flush mount work lights',\n",
       " 'operational lumens output',\n",
       " 'operational lumens output',\n",
       " 'longer the bumblebees exceptional light output in',\n",
       " 'unauthorized use',\n",
       " 'unauthorized use',\n",
       " 'unauthorized use',\n",
       " 'unauthorized use',\n",
       " 'unauthorized use',\n",
       " 'unauthorized use',\n",
       " 'unauthorized use',\n",
       " 'unauthorized use',\n",
       " 'unauthorized use',\n",
       " 'unauthorized use',\n",
       " 'incandescent',\n",
       " 'fixture',\n",
       " 'fixture',\n",
       " 'incandescent',\n",
       " 'fixture',\n",
       " 'incandescent',\n",
       " 'fixture',\n",
       " 'fixture',\n",
       " 'fixture',\n",
       " 'fixture',\n",
       " 'led t dimmable tubular bulb',\n",
       " 'from hid lamps',\n",
       " 'and generaluse spot lamps',\n",
       " 'edison screwin fixtures',\n",
       " 'replaces incandescent  /v mb, , , , /v mb, , v mb',\n",
       " 'pilot light for machines  instruments',\n",
       " 'pilot light for machines  instruments',\n",
       " 'led exit sign t bulbs',\n",
       " 'light source',\n",
       " 'lamp gu fluorescent',\n",
       " 'light source',\n",
       " 'light source',\n",
       " 'watts led  lumens',\n",
       " 'light source',\n",
       " 'led flood light',\n",
       " 'watts led  lumens',\n",
       " 'watts led  lumens',\n",
       " 'light source',\n",
       " 'any pharos designer controller',\n",
       " 'any pharos designer controller',\n",
       " 'rj socket for /basetx ethernet with link/data leds',\n",
       " 'synchronises with up to  pharos designer controllers over',\n",
       " 'is attached',\n",
       " 'repeats a dmx signal to  outputs, each allowing for  dmx',\n",
       " 'any pharos designer controller',\n",
       " 'any pharos designer controller',\n",
       " 'any pharos designer controller',\n",
       " 'applications due to its uniform soft white light k and replace conventional  watt',\n",
       " 'applications due to its uniform soft white light k and replace conventional  watt',\n",
       " 'applications due to its uniform soft white light k and replace conventional  watt',\n",
       " 'energy saving lamps enjoy  such as instant on, shatter resistance and mercury free',\n",
       " 'energy saving lamps enjoy  such as instant on, shatter resistance and mercury free',\n",
       " 'energy saving lamps enjoy  such as instant on, shatter resistance and mercury free',\n",
       " 'part  eba/b/w//d/k/e/e      bulb class a',\n",
       " 'part  eba/b/w//d/k/e/e      bulb class a',\n",
       " 'due to its uniform soft white light k and replace conventional  watt incandescent light',\n",
       " 'due to its uniform cool white light k and replace conventional  watt incandescent light',\n",
       " 'lamp  /e/w',\n",
       " 'lamp included',\n",
       " 'lamp included',\n",
       " 'number of lights',\n",
       " 'lamp  /e/w',\n",
       " 'lamp  /e/w',\n",
       " 'lamp  /w/gled',\n",
       " 'lamp included',\n",
       " 'lamp  /w/e',\n",
       " 'light source',\n",
       " 'light source',\n",
       " 'light source',\n",
       " 'light source',\n",
       " 'light source',\n",
       " 'light source',\n",
       " 'bulbs included',\n",
       " 'bulbs included',\n",
       " 'bulbs included',\n",
       " 'bulbs included',\n",
       " 'creates an organic interplay of light and wood grain ul listed and ada',\n",
       " 'amboy accent lamp',\n",
       " 'ul listed w led bulb included',\n",
       " 'amboy desk lamp',\n",
       " 'fixture dimensions',\n",
       " 'fixture dimensions',\n",
       " 'fixture dimensions',\n",
       " 'amboy sofa lamp',\n",
       " 'method of  sandcasting each fixture is cast at an  year old family foundry and hand',\n",
       " 'method of  sandcasting each fixture is cast at an  year old family foundry and hand',\n",
       " 'lamps not included with light fixture  all products are individually hand crafted, therefore may differ',\n",
       " 'lamps not included with light fixture  all products are individually hand crafted, therefore may differ',\n",
       " 'lamps not included with light fixture  all products are individually hand crafted, therefore may differ',\n",
       " 'lamps not included with light fixture  all products are individually hand crafted, therefore may differ',\n",
       " 'lamps not included with light fixture  all products are individually hand crafted, therefore may differ',\n",
       " 'lamps not included with light fixture  all products are individually hand crafted, therefore may differ',\n",
       " 'lamps not included with light fixture  all products are individually hand crafted, therefore may differ',\n",
       " 'lamps not included with light fixture  all products are individually hand crafted, therefore may differ',\n",
       " 'lamps not included with light fixture  all products are individually hand crafted, therefore may differ',\n",
       " 'lamps not included with light fixture  all products are individually hand crafted, therefore may differ',\n",
       " 'light source g led bulbs',\n",
       " 'power to fixtures via suspension cables',\n",
       " 'power to fixtures via suspension cables',\n",
       " 'light source glass diffusers integral decorative lighting',\n",
       " 'light source glass diffusers integrated led',\n",
       " 'power to fixtures via suspension cables',\n",
       " 'light source handblown glass diffusers',\n",
       " 'light is turned off',\n",
       " 'light source external and internal multifaceted clear diffusers',\n",
       " 'light source opal silicon light diffusers',\n",
       " 'strip light connectors installation',\n",
       " 'move on to installing the sensor where it needs to be keep in mind you can pair this system with thirdparty smart',\n",
       " 'actual transformer is enclosed inside the black plastic casing',\n",
       " 'actual transformer is enclosed inside the black plastic casing',\n",
       " 'input voltage',\n",
       " 'actual transformer is enclosed inside the black plastic casing',\n",
       " 'actual transformer is enclosed inside the black plastic casing',\n",
       " 'actual transformer is enclosed inside the black plastic casing',\n",
       " 'input voltage',\n",
       " 'input voltage',\n",
       " 'candelabra base incandescent',\n",
       " 'a, ah',\n",
       " 'repair/replacements of the battery only, buyer is responsible for all',\n",
       " 'providing optimal light output',\n",
       " 'voltage, emergency lamp condition and charging circuit if',\n",
       " 'now uses leds for improved energy efciency',\n",
       " 'now uses leds for improved energy efciency',\n",
       " 'bright white leds heads are made with highperformance',\n",
       " 'fully adjustable swivelmount led lamp heads each',\n",
       " 'white led lamps',\n",
       " 'controller vdc',\n",
       " 'wireless control of color temp adjustable leds',\n",
       " 'led controller is the perfect solution for rgb led strips or rgb lights the  buttons on the rgb controller consist of different',\n",
       " 'controls unlimited number of controllers simultaneously',\n",
       " 'ul listed',\n",
       " 'all zones or in a group this set includes one wireless remote and one controller that will let you manage one zone if you wish',\n",
       " 'v ac waterproof rgb led controller for rgb driverless led',\n",
       " 'control and power to our waterproof driverless rgb neon led light strips one controller can power  continuous feet of',\n",
       " 'installation is easy, simply power the unit with a  to v dc power source and connect your led strip to the output terminals',\n",
       " 'where led strip lights will be placed',\n",
       " 'bulb diameter',\n",
       " 'bulb diameter',\n",
       " 'globe w k e nontinted us led bulb',\n",
       " 'bulb diameter',\n",
       " 'bulb diameter',\n",
       " 'bulb diameter',\n",
       " 'functionality the elva bulb is fitted with an e base and comes complete with an irontinted glass finish',\n",
       " 'bulb diameter',\n",
       " 'bulb diameter',\n",
       " 'bulb diameter',\n",
       " 'socket type e',\n",
       " 'e european socket available upon',\n",
       " 'e european socket available upon',\n",
       " 'socket type e standard base',\n",
       " 'socket type e',\n",
       " 'socket type e',\n",
       " 'brookshire ceiling fixture',\n",
       " 'e european socket available upon',\n",
       " 'socket type  e standard base',\n",
       " 'e european socket available upon',\n",
       " 'with e lamp',\n",
       " 'with e lamp',\n",
       " 'lumens',\n",
       " 'lamp included',\n",
       " 'lumens',\n",
       " 'lumens',\n",
       " 'lamp included',\n",
       " 'lamp included',\n",
       " 'lamp included',\n",
       " 'lamp included',\n",
       " 'lights are hand crafted',\n",
       " 'lights are hand crafted',\n",
       " 'lights are hand crafted',\n",
       " 'lights are hand crafted',\n",
       " 'lights are hand crafted',\n",
       " 'lights are hand crafted',\n",
       " 'lights are hand crafted',\n",
       " 'lights are hand crafted',\n",
       " 'front view',\n",
       " 'lights are hand crafted',\n",
       " 'reeded floor lamp',\n",
       " 'chinese ceramic jar lamp grey',\n",
       " 'rectangulaire lamp vert',\n",
       " 'led light bulb required',\n",
       " 'chinese ceramic jar lamp ivory',\n",
       " 'pallas table lamp',\n",
       " 'chinese ceramic jar lamp ivory',\n",
       " 'pallas table lamp',\n",
       " 'latte lamp',\n",
       " 'fleur side table lamp',\n",
       " 'companys continuing product improvement program',\n",
       " 'light weight polymeric components',\n",
       " 'heat sinks',\n",
       " 'components, such as led boards and lenses, can be easily replaced if necessary for increased product sustainability',\n",
       " 'with fixture installed',\n",
       " 'components, such as led boards and lenses, can be easily replaced if necessary for increased product sustainability',\n",
       " 'leds are selected and placed on the printed circuit',\n",
       " 'interior led linear lighting, high lumen',\n",
       " 'cr snap on  ft plastic glare shield, light gray only for use on cr  foot caboose',\n",
       " 'for precise fixture alignment',\n",
       " 'materials',\n",
       " 'dawn',\n",
       " 'materials',\n",
       " 'dawn',\n",
       " 'materials',\n",
       " 'materials',\n",
       " 'materials',\n",
       " 'materials',\n",
       " 'crystalino rustica',\n",
       " 'sources and a prismatic opal or ugr diffuser that can effectively light environments',\n",
       " 'fixture weight',\n",
       " 'c',\n",
       " 'fixture data',\n",
       " 'fixture data',\n",
       " 'fixture data',\n",
       " 'fixture data',\n",
       " 'fixture data',\n",
       " 'fixture data',\n",
       " 'fixture data',\n",
       " 'fixture data',\n",
       " 'fixture data',\n",
       " 'below the red warning light to access the button, gently pull out',\n",
       " 'night light operation  pg',\n",
       " 'touch both buttons again and the night light indicator and',\n",
       " 'adaptabilidad a un propsito particular, que excedan las',\n",
       " 'instructions on some common accessories',\n",
       " 'pilot light  glows when heater is plugged in',\n",
       " 'verify the power supply voltage coming to heater match',\n",
       " 'heater overheats  should this occur, the red warning light will',\n",
       " 'pilot light  glows when heater is plugged in',\n",
       " 'c',\n",
       " 'fixture sold separately',\n",
       " 'tbar led xseries is a vac input, high efficiency led fixture designed',\n",
       " 'fixture sold separately',\n",
       " 'teralyte  is a high efficiency led fixture designed specifically for integration',\n",
       " 'fixture sold separately',\n",
       " 'kit',\n",
       " 'fixture sold separately',\n",
       " 'for designflex square and rectangle patterns please refer to tbar led product line at',\n",
       " 'fixture sold separately',\n",
       " 'gemini  is designed to provide a  linear slot light oncenter to the grid with',\n",
       " 'kit',\n",
       " 'light modules can be parallel connected up to  linear feet max per',\n",
       " 'light modules can be parallel connected up to  linear feet',\n",
       " 'max  a total',\n",
       " 'fixtures is  feet with  awg wire longer distance achievable if using higher',\n",
       " 'fixtures consume w per kit power supply consumption not included class',\n",
       " 'max  a total',\n",
       " 'not included input voltage vdc junction box installed on fixture with',\n",
       " 'v dc',\n",
       " 'fixtures is  feet with  awg wire longer distance achievable if using higher',\n",
       " 'light module',\n",
       " 'light module',\n",
       " 'light module',\n",
       " 'light module',\n",
       " 'light module',\n",
       " 'light module',\n",
       " 'light module',\n",
       " 'light module',\n",
       " 'light module',\n",
       " 'light module',\n",
       " 'compatible with the wallmount controller awc',\n",
       " 'heating indicator light',\n",
       " 'heating indicator light',\n",
       " 'heating indicator light',\n",
       " 'heating indicator light',\n",
       " 'heating indicator light',\n",
       " 'heating indicator light',\n",
       " 'heating indicator light',\n",
       " 'heating indicator light',\n",
       " 'heating indicator light',\n",
       " 'designed so that prisms face the lamp cavity and still supply superior photometrics  for specic electronic ballast, specify',\n",
       " 'sensor, / hub, v',\n",
       " 'lamps',\n",
       " 'eb ballast  std lamps',\n",
       " 'normal light output, average ballast',\n",
       " 'that prisms face the lamp cavity and still supply superior photometrics highly recommended for all hightech manufacturing en vironments',\n",
       " 'lamps',\n",
       " 't fluorescent',\n",
       " 'u  / w  t lamps',\n",
       " 'use with biax lamp',\n",
       " 'with hids origo  mobile access',\n",
       " 'power dissipation',\n",
       " 'enterprise',\n",
       " 'oh sensor  red vad',\n",
       " 'allows the sensor to be mounted either horizontally or vertically, for ceiling or wall mounting, and to be rotated within different planes',\n",
       " 'switch lights off when anyone is present  it will, however',\n",
       " 'luminaires and daylight',\n",
       " 'movement after which the lights switch off',\n",
       " 'movement after which lights switch off  adjustable via',\n",
       " 'movement after which the lights switch off',\n",
       " 'eco led general household lamps',\n",
       " 'light string must be securely attached to a support structure',\n",
       " 'x e type a  w bulb not included',\n",
       " 'louis                   suspensions  pendant lights                     milie cathelineau',\n",
       " 'lampadaires, lampes de table  table and floor lamps',\n",
       " 'like a mobile this luminaire creates a light in motion',\n",
       " 'fixture, you can position the light any way you desire to',\n",
       " 'a light that is both minimalist and playful thanks to the',\n",
       " 'lampe de table  table lamp   couture   sg',\n",
       " 'earth                   applique, plafonnier  wall/ceiling mounted light                     milie cathelineau',\n",
       " 'eclipse                   applique  wall light                     herv langlais',\n",
       " 'applique  wall light',\n",
       " 'venus table lamp',\n",
       " 'geo rectangle table lamp natural brass',\n",
       " 'bulb type',\n",
       " 'bulb type',\n",
       " 'riviera table lamp',\n",
       " 'bulb type',\n",
       " 'bulb type',\n",
       " 'bulb type',\n",
       " 'bulb type',\n",
       " 'silver dipped globe bulb',\n",
       " 'technology  pars led bulb included',\n",
       " 'created by the light they sift complete with abridged',\n",
       " 'in each of darmes creations by dimming the light, the',\n",
       " 'module / light engine',\n",
       " 'alliance of two domains the mastery of glass and of light',\n",
       " 'alliance of two domains the mastery of glass and of light',\n",
       " 'light to the wall or the ceiling each metal part of the',\n",
       " 'light to the wall or the ceiling each metal part of the',\n",
       " 'light each metal part of the hartau collection is precision',\n",
       " 'light to the wall or the ceiling each metal part of the',\n",
       " 'because it involves a significant portion of the erection labor, but also',\n",
       " 'because it involves a significant portion of the erection labor, but also',\n",
       " 'kit',\n",
       " 'can be used to suspend lights and signs from a',\n",
       " 'rwcccyp',\n",
       " 'item',\n",
       " 'preassembled drive pin it quickly and easily attaches to',\n",
       " 'ceiling, the eyelet hooks to attach it to the light, and the side exit kwik grip cable gripper the kwik grip cable',\n",
       " 'pipe diameter',\n",
       " 'as outlined in smacna duct construction standards',\n",
       " 'g bulb not included',\n",
       " 'bulb',\n",
       " 'vergokanexportatkorecom',\n",
       " 'vergokanexportatkorecom',\n",
       " 'vergokanexportatkorecom',\n",
       " 'vergokanexportatkorecom',\n",
       " 'vergokanexportatkorecom',\n",
       " 'max',\n",
       " 'fixing of the cable tray by ivm use the ivomega to avoid',\n",
       " 'vergokanexportatkorecom',\n",
       " 'interlocking ends',\n",
       " 'manufactured with protective film',\n",
       " 'die cast aluminum',\n",
       " 'c',\n",
       " 'miscellaneous',\n",
       " 'c',\n",
       " 'steel screws',\n",
       " 'c',\n",
       " 'c',\n",
       " 'ko',\n",
       " 'ko',\n",
       " 'c',\n",
       " 'c',\n",
       " 'c',\n",
       " 'mudanas na economia e o aumento da extrao de gs de xisto esta tendncia',\n",
       " 'oder en  und tv merkblatt / oder asme bpvc',\n",
       " 'certifications, planning, responsibilities, training and the task risk analysis',\n",
       " 'identificarn los defectos',\n",
       " 'les certifications asme et en pour nos',\n",
       " 'combustione nelle caldaie e dal flusso dei gas di scarico',\n",
       " 'c',\n",
       " 'c',\n",
       " 'c',\n",
       " 'c',\n",
       " 'table lamp giving indirect and diffused light, lacquered',\n",
       " 'note lamp compatible with led bulbs according to the market',\n",
       " 'note lamp compatible with led bulbs according to the market',\n",
       " 'note lamp compatible with led bulbs according to the market',\n",
       " 'note lamp compatible with led bulbs according to the market',\n",
       " 'halogen lamp',\n",
       " 'lampade led/led lamps',\n",
       " 'halogen lamp',\n",
       " 'note lamp compatible with led bulbs according to the market',\n",
       " 'note lamp compatible with led bulbs according to the market',\n",
       " 'series  wall and ceiling  table light',\n",
       " 'series  table light',\n",
       " 'houses a light source',\n",
       " 'attached to house an internal light source',\n",
       " 'w led or w xenon',\n",
       " 'houses either a lowvoltage xenon or led',\n",
       " 'pendant,  of which house light sources',\n",
       " 'v series  cluster  table light',\n",
       " 'light source to be suspended between them',\n",
       " 'light mirrored',\n",
       " 'threaded male foot, ideal for direct attachment to light fittings',\n",
       " 'gripple strut support system are accurately and carefully cold',\n",
       " 'with isolation transformer and fully automatic constant current solid',\n",
       " 'lamp color  neutral white, k',\n",
       " 'ac/dc smoke unit, exit light, smart hush, silent hush',\n",
       " 'ac/dc smoke unit, exit light, smart hush, silent hush',\n",
       " 'ac/dc smoke unit, exit light, smart hush, silent hush',\n",
       " 'ac/dc smoke unit, exit light, smart hush, silent hush',\n",
       " 'dc led safety light smoke unit, sealed lithium',\n",
       " 'ac/dc smoke unit, exit light, smart hush, silent hush',\n",
       " 'fixture types',\n",
       " 'steel combo led exit and emergency lights',\n",
       " 'lamping options',\n",
       " 'a drum shade ceiing pendant fixture made',\n",
       " 'natural light override range',\n",
       " 'lighthawk ultrasonic wall switch sensor',\n",
       " 'digital passive infrared pir sensor',\n",
       " 'lighthawk lhl series wall switch sensor',\n",
       " 'natural light override range',\n",
       " 'digital passive infrared pir sensor',\n",
       " 'natural light override range',\n",
       " 'with v led drivers, t or t electronic fluorescent ballasts, electronic hid and',\n",
       " 'do not attempt to power more than  devices, be it sensors or',\n",
       " 'with rp option',\n",
       " 'materialsthe light is diffused and valorized by the geometrical',\n",
       " 'wall lamp with diffused phasecut dimmable light diffuser in etched opaline blown glass central button available in gold or',\n",
       " 'wall lamp with diffused phasecut dimmable light diffuser in etched opaline blown glass central button available in gold or',\n",
       " 'wall lamp with diffused phasecut dimmable light diffuser in etched opaline blown glass central button available in gold or',\n",
       " 'wall lamp with diffused phasecut dimmable light diffuser in etched opaline blown glass central button available in gold or',\n",
       " 'wall lamp with diffused phasecut dimmable light diffuser in etched opaline blown glass central button available in gold or',\n",
       " 'wall lamp with diffused phasecut dimmable light diffuser in etched opaline blown glass central button available in gold or',\n",
       " 'the refined curves and the magic of blown glass, the light is free to',\n",
       " 'dimmable diffusedlight table lamp frame in grey bardiglio marble diffuser in etched opaline blown glass black nickel',\n",
       " 'the refined curves and the magic of blown glass, the light is free to',\n",
       " 'c',\n",
       " 'ultra bright red or green leds',\n",
       " 'light almond',\n",
       " 'occupancy/vacancy sensors and controllers',\n",
       " 'occupancy sensor sensitivity',\n",
       " 'bluetooth low mount outdoor passive infrared fixture sensor',\n",
       " 'occupancy sensor sensitivity',\n",
       " 'occupancy sensor sensitivity',\n",
       " 'occupancy sensors and controllers',\n",
       " 'occupancy sensors and controllers',\n",
       " 'high impact, injection molded plastic',\n",
       " '/ volts dc',\n",
       " 'aci  type   specified yield aci  type  specified tensile as bs en  din',\n",
       " 'tzus, kontrollrdet',\n",
       " 'additional product details',\n",
       " 'repair work nvent lenton couplers and mechanical anchors',\n",
       " 'additional product details',\n",
       " 'loadbearing strength nvent lenton stainless steel couplers',\n",
       " 'bar depth',\n",
       " 'eltad',\n",
       " 'additional product details',\n",
       " 'additional product details',\n",
       " 'additional product details',\n",
       " 'busbars per',\n",
       " 'absap',\n",
       " 'abs adjustable busbar support profile',\n",
       " 'additional product details',\n",
       " 'reinforced',\n",
       " 'reinforced',\n",
       " 'adjustable flat busbar support rail',\n",
       " 'busbar',\n",
       " 'number',\n",
       " 'delivered lumens',\n",
       " 'delivered lumens',\n",
       " 'delivered lumens',\n",
       " 'delivered lumens',\n",
       " 'lumen multiplier',\n",
       " 'lumen multiplier',\n",
       " 'delivered lumens',\n",
       " 'delivered lumens',\n",
       " 'liteframe fixture module, trim, optional frame, and sca adapter ordered separately',\n",
       " 'custom length cl  mounting height  fixture height  a  b  c',\n",
       " 'softstart  dimming range fixture will be wired for low',\n",
       " 'specify in  lumens increments/ft within the below range',\n",
       " 'nxbtc needs to be plugged into an available nx smartport on the fixture network',\n",
       " 'to any qualified v controller for tunable white cct control',\n",
       " 'to any qualified v controller for tunable white cct control',\n",
       " 'to any qualified v controller for tunable white cct control',\n",
       " 'to any qualified v controller for tunable white cct control',\n",
       " 'to any qualified v controller for tunable white cct control',\n",
       " 'to any qualified v controller for tunable white cct control',\n",
       " 'to any qualified v controller for tunable white cct control',\n",
       " 'lumens\\xa0',\n",
       " 'to any qualified v controller for tunable white cct control',\n",
       " 'to any qualified v controller for tunable white cct control',\n",
       " 'to any qualified v controller for tunable white cct control',\n",
       " 'current nx lighting controls room controllers nxrc and infixture',\n",
       " 'switchable lumen fixtures ship at the highest',\n",
       " 'to any qualified v controller for tunable white cct control',\n",
       " 'delivered lumens',\n",
       " 'nxbtc needs to be plugged into an available nx smartport on the fixture network',\n",
       " 'light engine connections use plenum rated',\n",
       " 'downlight dl',\n",
       " 'without sensor',\n",
       " 'downlight dl',\n",
       " 'without sensor',\n",
       " 'downlight dl',\n",
       " 'without sensor',\n",
       " 'downlight dl',\n",
       " 'without sensor',\n",
       " 'downlight dl',\n",
       " 'downlight',\n",
       " 'rdm compatible system rdm can allow for a dmx controller to discover dmx devices, identify',\n",
       " 'lumen multiplier',\n",
       " 'three fixtures at',\n",
       " 'three fixtures at',\n",
       " 'equal to or greater than fixture epa responsibility lies with',\n",
       " 'two fixtures',\n",
       " 'three fixtures at',\n",
       " 'three fixtures at',\n",
       " 'equal to or greater than fixture epa responsibility lies with',\n",
       " 'watt transformer',\n",
       " 'technical support',\n",
       " 'technical support',\n",
       " 'technical support',\n",
       " 'technical support',\n",
       " 'catalog number xx',\n",
       " 'technical support',\n",
       " 'technical support',\n",
       " 'technical support',\n",
       " 'red or green leds with a  year lifecycle',\n",
       " 'the use of an led message panel that is',\n",
       " 'compatible with all lamp types',\n",
       " 'clsc series  combination exit/emergency light',\n",
       " 'illuminance of  fc and average illuminance of  fc assumes that the fixtures are wall mounted',\n",
       " 'for , hours which provide  lumens',\n",
       " 'clsc series  combination exit/emergency light',\n",
       " 'lumens',\n",
       " 'minimum of  minutes after all light has',\n",
       " 'number of lamps',\n",
       " 'nfpa  and nfpa',\n",
       " 'the cc sq series includes a high lumen',\n",
       " 'white finish, combination exit/emergency light, universal face, red letters, nicad battery, cec t compliant',\n",
       " 'highpower led with   lumens per lamp',\n",
       " 'highpower led with   lumens per lamp',\n",
       " 'the acrylic panels are ultrasonically welded',\n",
       " 'red or green ultra bright leds',\n",
       " 'disconnect and lamp failure',\n",
       " 'the white or black baseplate and lamp',\n",
       " 'the white or black baseplate and lamp',\n",
       " 'fixtures per box',\n",
       " 'switchable lumen fixtures ship at the highest',\n",
       " 'x center lens led troffer, lumen switchable',\n",
       " 'switchable lumen fixtures ship at the highest',\n",
       " 'switchable lumen fixtures ship at the highest',\n",
       " 'efficient led light engine up to  lpw',\n",
       " 'delivered lumens',\n",
       " 'longlife ,hr leds at l',\n",
       " 'lumen output  cct',\n",
       " 'luminaires are equipped with led drivers',\n",
       " 'onfixture module pin, on / off / dim, daylight sensor with nx radio and',\n",
       " 'are expected to be high additionally, high floor level temperature may require larger movement for detection in some cases, sensors',\n",
       " 'are expected to be high additionally, high floor level temperature may require larger movement for detection in some cases, sensors',\n",
       " 'wiscape  occupancy sensor',\n",
       " 'nxbtc needs to be plugged into an available nx smartport on the fixture network',\n",
       " 'are expected to be high additionally, high floor level temperature may require larger movement for detection in some cases, sensors',\n",
       " 'microstrike  delivered lumens',\n",
       " 'new customizable lumen output feature allows for the wattage and lumen output to be',\n",
       " 'lumen data continued onto next page',\n",
       " 'fully nonmetallic hinge does not penetrate inside enclosure',\n",
       " 'mounting solutions',\n",
       " 'the smart choice',\n",
       " 'yes, aluminum is one of the most recyclable materials on earth penn aluminum emt is produced',\n",
       " 'damp location  enclosed fixture',\n",
       " 'damp location  enclosed fixture',\n",
       " 'v bulb  lamp',\n",
       " 'v bulb  lamp',\n",
       " 'v bulb  lamp',\n",
       " 'sensors',\n",
       " 'zones',\n",
       " 'indoor sensors interior spaces such as offices and classrooms',\n",
       " 'low voltage source the sensor can control up to  electronic',\n",
       " 'quality and accuracy  once mounted, the sensor, power, and',\n",
       " 'note lodestar twistlock controllers have three selectable dimming levels , ,  with three different start times',\n",
       " 'blind to artificial light',\n",
       " 'indoor sensors interior spaces such as offices and classrooms',\n",
       " 'pole solution includes a single pole occupancy sensor and a connected sidecar switch unit for second pole',\n",
       " 'normal/',\n",
       " 'transformer                         phase computer grade, dualshielded, isola',\n",
       " 'transformer                         single phase computer grade, dualshielded',\n",
       " 'standard on all models with output transformer',\n",
       " 'compatible with selfballast fluorescent, incandescent',\n",
       " 'tery test circuitry available today',\n",
       " 'grade, isolation transformer',\n",
       " 'c  i transformers',\n",
       " 'fluorescent, incandescent, halogen',\n",
       " 'fluorescent, incandescent, halogen',\n",
       " 'and will be coming out with a troffer light barrier  we also make custom size enclo',\n",
       " 'this is an approved installation in a nonrated floor/ceiling assembly however, heat buildup around the fixture has shown to',\n",
       " 'suitable for use in environmental air handling spaces plenums per nec  and cec part',\n",
       " 'provides connection to devices such as receptacles, switches, floor boxes, furniture and light fixtures',\n",
       " 'approved ballast disconnect means per nec g and',\n",
       " 'ezwiring hseries fixture tap information sheet                                                                                                                      electec building wiring systems',\n",
       " 'fixture whip',\n",
       " 'way w/ neutral           circuit  control l,n,g,c/p,n,g,c',\n",
       " 'b  pilot light amber, l  pilot light red, g  pilot light green, u  pilot light blue',\n",
       " 'provides connection to equipment such as light fixtures, furniture systems, raised floor devices and wall outlets',\n",
       " 'index   , rohscompliant polymers for superior strength, reliability and',\n",
       " 'index   , rohscompliant polymers for superior strength, reliability and',\n",
       " 'sensors',\n",
       " 'wifi n, ,\\xa0ghz, chiffrement wpa',\n",
       " 'bp  bomba de calentador',\n",
       " 'contractors po no',\n",
       " 'previously or subsequently sold refer to the owners manual for warranty information',\n",
       " 'jusqu \\xa0\\xa0pi ou des systmes de \\xa0v\\xa0ca jusqu \\xa0\\xa0pi',\n",
       " 'completa sobre la seguridad y las instrucciones de instalacin para',\n",
       " 'conditions ambiantes',\n",
       " 'las especificaciones de los productos de suntouch expresadas en unidades utilizadas en ee\\xa0uu y en el sistema mtrico son aproximadas y se proporcionan solo como referencia si desea dimensiones precisas',\n",
       " 'to additional',\n",
       " 'latin america',\n",
       " 't  om /m laser optimised',\n",
       " 'nmeros de parte amrica del norte',\n",
       " 'herramienta de terminacin de fibra lightbow',\n",
       " 'awg to  awg',\n",
       " 'cycles min',\n",
       " 'via quick release latches',\n",
       " 'color',\n",
       " 'lc',\n",
       " 'lc',\n",
       " 'blade finish',\n",
       " 'uppor',\n",
       " 'photosensor light pipe/photosensor array',\n",
       " 'that only valid tags are received by the enlighted sensor network and location intelligence',\n",
       " 'wireless signal that controls lights or other',\n",
       " 'switches and occupancy sensors or by',\n",
       " 'atcardmt',\n",
       " 'transmission and remote configuration as well as autonomous fixturelevel control, this sensor brings',\n",
       " 'atbuttonwband       enlighted button wristband tag',\n",
       " 'atcardmt',\n",
       " 'bluetooth low energy an embedded ble radio allows the sensor to receive, transmit',\n",
       " 'the high bay sensor comes with a nylon threaded screw for mounting in acoustical tile or',\n",
       " 'max',\n",
       " 'max',\n",
       " 'max',\n",
       " 'max',\n",
       " 'max',\n",
       " 'water blocking aramid yarn',\n",
       " 'water blocking aramid yarn',\n",
       " 'bill of materials',\n",
       " 'bill of materials',\n",
       " 'bill of materials',\n",
       " 'interval with totalise u',\n",
       " 'functional specifications',\n",
       " 'new products',\n",
       " 'rh',\n",
       " 'cycle progress indication the gx has a pilot light that is on',\n",
       " 'cycle progress indication the g has a pilot light that is on',\n",
       " 'c',\n",
       " 'pilot light a builtin pilot light indicates that the timer is running',\n",
       " 'plugin optional surfacemounting socket with',\n",
       " 'retaining clip for use with socket',\n",
       " 'heavyduty pilot lights, pushbuttons and selector switches made to withstand even the harshest environments',\n",
       " 'bulbs are available for pilot lights',\n",
       " 'oring',\n",
       " 'pilot lights',\n",
       " 'pushbuttons, led pilot lights',\n",
       " 'bulbs are available for pilot lights',\n",
       " 'designed to house adalets standard line of increased safety pushbuttons, pilot lights, and selector switches',\n",
       " 'pushbutton installed in cover, red  volt pilot light installed in cover',\n",
       " 'table c  pilot lights  lighted pushbutton surface mount',\n",
       " 'ehpbr',\n",
       " 'routine annual checkup and bearing change every fourth year',\n",
       " 'source input',\n",
       " 'austria  brazil  canada  hong kong  netherlands  mexico  russia  south korea  sweden  taiwan  usa',\n",
       " 'parallel capability',\n",
       " 'parallel capability',\n",
       " 'routine annual checkup and bearing change every fourth year',\n",
       " 'source input',\n",
       " 'high tipspeed',\n",
       " 'source input',\n",
       " 'source input',\n",
       " 'and very long cable runs',\n",
       " 'zu lautsprecher',\n",
       " 'max',\n",
       " 'zu lautsprecher',\n",
       " 'max',\n",
       " 'mm / mm',\n",
       " 'mm / mm',\n",
       " 'mm / mm',\n",
       " 'mm / mm',\n",
       " 'max',\n",
       " 'suitable for rooms  to  m /  to  ft',\n",
       " 'exceptional nish,  decorative safety glass panels  mm/  thick and solid carved aluminum parts',\n",
       " 'all drivers are developed and manufactured by atohm france',\n",
       " 'max',\n",
       " 'max',\n",
       " 'passive driver',\n",
       " 'low distortion',\n",
       " 'low distortion',\n",
       " 'suitable for rooms  to  m /  to  ft',\n",
       " 'low distortion',\n",
       " 'verdant environmental technologies, inc reserves the right to make changes, without notice, in design or components as progress in engineering and manufacturing methods may warrant product appearance may vary',\n",
       " 'x  x',\n",
       " 'verdant environmental technologies, inc reserves the right to make changes, without notice, in design or components as progress in engineering and manufacturing methods may warrant product appearance may vary',\n",
       " 'c',\n",
       " 'c',\n",
       " 'compressor y',\n",
       " 'zx series thermostat wallplate']"
      ]
     },
     "execution_count": 593,
     "metadata": {},
     "output_type": "execute_result"
    }
   ],
   "source": [
    "texts = list(train_df['light_phrase'].to_numpy())\n",
    "\n",
    "texts"
   ]
  },
  {
   "cell_type": "code",
   "execution_count": 609,
   "id": "7588817b-017e-4489-86cf-533fc3088a28",
   "metadata": {},
   "outputs": [
    {
     "data": {
      "text/plain": [
       "is_lighting\n",
       "0     94\n",
       "1    296\n",
       "dtype: int64"
      ]
     },
     "execution_count": 609,
     "metadata": {},
     "output_type": "execute_result"
    }
   ],
   "source": [
    "train_df  = train_data_with_parsed_text_filtered.loc[train_data_with_parsed_text_filtered['updated_predict_lighting'] == True]\n",
    "train_df.groupby('is_lighting', dropna = False).size()"
   ]
  },
  {
   "cell_type": "code",
   "execution_count": 610,
   "id": "94de538a-9760-4141-a706-62293b4e4726",
   "metadata": {},
   "outputs": [
    {
     "data": {
      "text/plain": [
       "0.24102564102564103"
      ]
     },
     "execution_count": 610,
     "metadata": {},
     "output_type": "execute_result"
    }
   ],
   "source": [
    "94/(296+94)"
   ]
  },
  {
   "cell_type": "code",
   "execution_count": 611,
   "id": "f3f11bb0-f8d4-49bd-8ae6-3d072bfa7139",
   "metadata": {},
   "outputs": [
    {
     "data": {
      "text/plain": [
       "0.7589743589743589"
      ]
     },
     "execution_count": 611,
     "metadata": {},
     "output_type": "execute_result"
    }
   ],
   "source": [
    "296/(296+94)"
   ]
  },
  {
   "cell_type": "code",
   "execution_count": 619,
   "id": "1b1afb6f-3d45-44c1-aad8-ed39ce455601",
   "metadata": {},
   "outputs": [
    {
     "data": {
      "text/html": [
       "<style>#sk-container-id-7 {color: black;}#sk-container-id-7 pre{padding: 0;}#sk-container-id-7 div.sk-toggleable {background-color: white;}#sk-container-id-7 label.sk-toggleable__label {cursor: pointer;display: block;width: 100%;margin-bottom: 0;padding: 0.3em;box-sizing: border-box;text-align: center;}#sk-container-id-7 label.sk-toggleable__label-arrow:before {content: \"▸\";float: left;margin-right: 0.25em;color: #696969;}#sk-container-id-7 label.sk-toggleable__label-arrow:hover:before {color: black;}#sk-container-id-7 div.sk-estimator:hover label.sk-toggleable__label-arrow:before {color: black;}#sk-container-id-7 div.sk-toggleable__content {max-height: 0;max-width: 0;overflow: hidden;text-align: left;background-color: #f0f8ff;}#sk-container-id-7 div.sk-toggleable__content pre {margin: 0.2em;color: black;border-radius: 0.25em;background-color: #f0f8ff;}#sk-container-id-7 input.sk-toggleable__control:checked~div.sk-toggleable__content {max-height: 200px;max-width: 100%;overflow: auto;}#sk-container-id-7 input.sk-toggleable__control:checked~label.sk-toggleable__label-arrow:before {content: \"▾\";}#sk-container-id-7 div.sk-estimator input.sk-toggleable__control:checked~label.sk-toggleable__label {background-color: #d4ebff;}#sk-container-id-7 div.sk-label input.sk-toggleable__control:checked~label.sk-toggleable__label {background-color: #d4ebff;}#sk-container-id-7 input.sk-hidden--visually {border: 0;clip: rect(1px 1px 1px 1px);clip: rect(1px, 1px, 1px, 1px);height: 1px;margin: -1px;overflow: hidden;padding: 0;position: absolute;width: 1px;}#sk-container-id-7 div.sk-estimator {font-family: monospace;background-color: #f0f8ff;border: 1px dotted black;border-radius: 0.25em;box-sizing: border-box;margin-bottom: 0.5em;}#sk-container-id-7 div.sk-estimator:hover {background-color: #d4ebff;}#sk-container-id-7 div.sk-parallel-item::after {content: \"\";width: 100%;border-bottom: 1px solid gray;flex-grow: 1;}#sk-container-id-7 div.sk-label:hover label.sk-toggleable__label {background-color: #d4ebff;}#sk-container-id-7 div.sk-serial::before {content: \"\";position: absolute;border-left: 1px solid gray;box-sizing: border-box;top: 0;bottom: 0;left: 50%;z-index: 0;}#sk-container-id-7 div.sk-serial {display: flex;flex-direction: column;align-items: center;background-color: white;padding-right: 0.2em;padding-left: 0.2em;position: relative;}#sk-container-id-7 div.sk-item {position: relative;z-index: 1;}#sk-container-id-7 div.sk-parallel {display: flex;align-items: stretch;justify-content: center;background-color: white;position: relative;}#sk-container-id-7 div.sk-item::before, #sk-container-id-7 div.sk-parallel-item::before {content: \"\";position: absolute;border-left: 1px solid gray;box-sizing: border-box;top: 0;bottom: 0;left: 50%;z-index: -1;}#sk-container-id-7 div.sk-parallel-item {display: flex;flex-direction: column;z-index: 1;position: relative;background-color: white;}#sk-container-id-7 div.sk-parallel-item:first-child::after {align-self: flex-end;width: 50%;}#sk-container-id-7 div.sk-parallel-item:last-child::after {align-self: flex-start;width: 50%;}#sk-container-id-7 div.sk-parallel-item:only-child::after {width: 0;}#sk-container-id-7 div.sk-dashed-wrapped {border: 1px dashed gray;margin: 0 0.4em 0.5em 0.4em;box-sizing: border-box;padding-bottom: 0.4em;background-color: white;}#sk-container-id-7 div.sk-label label {font-family: monospace;font-weight: bold;display: inline-block;line-height: 1.2em;}#sk-container-id-7 div.sk-label-container {text-align: center;}#sk-container-id-7 div.sk-container {/* jupyter's `normalize.less` sets `[hidden] { display: none; }` but bootstrap.min.css set `[hidden] { display: none !important; }` so we also need the `!important` here to be able to override the default hidden behavior on the sphinx rendered scikit-learn.org. See: https://github.com/scikit-learn/scikit-learn/issues/21755 */display: inline-block !important;position: relative;}#sk-container-id-7 div.sk-text-repr-fallback {display: none;}</style><div id=\"sk-container-id-7\" class=\"sk-top-container\"><div class=\"sk-text-repr-fallback\"><pre>LogisticRegression(class_weight={0: 0.75, 1: 0.25})</pre><b>In a Jupyter environment, please rerun this cell to show the HTML representation or trust the notebook. <br />On GitHub, the HTML representation is unable to render, please try loading this page with nbviewer.org.</b></div><div class=\"sk-container\" hidden><div class=\"sk-item\"><div class=\"sk-estimator sk-toggleable\"><input class=\"sk-toggleable__control sk-hidden--visually\" id=\"sk-estimator-id-7\" type=\"checkbox\" checked><label for=\"sk-estimator-id-7\" class=\"sk-toggleable__label sk-toggleable__label-arrow\">LogisticRegression</label><div class=\"sk-toggleable__content\"><pre>LogisticRegression(class_weight={0: 0.75, 1: 0.25})</pre></div></div></div></div></div>"
      ],
      "text/plain": [
       "LogisticRegression(class_weight={0: 0.75, 1: 0.25})"
      ]
     },
     "execution_count": 619,
     "metadata": {},
     "output_type": "execute_result"
    }
   ],
   "source": [
    "# Load training data\n",
    "train_df  = train_data_with_parsed_text_filtered.loc[train_data_with_parsed_text_filtered['updated_predict_lighting'] == True]\n",
    "\n",
    "texts = list(train_df['light_phrase'].to_numpy())\n",
    "labels = list(train_df['is_lighting'].to_numpy())\n",
    "\n",
    "# Feature extraction\n",
    "ner_features = [extract_lighting_entities(text) for text in texts]\n",
    "ner_features = [\",\".join(entities) for entities in ner_features]  # Join entities into a single string for simplicity\n",
    "\n",
    "tfidf_vectorizer = TfidfVectorizer()\n",
    "tfidf_features = tfidf_vectorizer.fit_transform(texts)\n",
    "embedding_features = [text_to_embedding(text) for text in texts]\n",
    "\n",
    "# Combine features\n",
    "features = np.hstack((tfidf_features.toarray(), embedding_features))\n",
    "class_weight = {0: 0.75, 1: 0.25}  # Assuming 0 is the minority class and 1 is the majority class\n",
    "\n",
    "# Train the Logistic Regression model\n",
    "model = LogisticRegression(class_weight=class_weight)\n",
    "model.fit(features, labels)\n"
   ]
  },
  {
   "cell_type": "code",
   "execution_count": 613,
   "id": "b6988b36-4d26-4d8a-b152-56c12708904b",
   "metadata": {
    "scrolled": true
   },
   "outputs": [
    {
     "data": {
      "text/plain": [
       "is_lighting\n",
       "0    20\n",
       "1    14\n",
       "dtype: int64"
      ]
     },
     "execution_count": 613,
     "metadata": {},
     "output_type": "execute_result"
    }
   ],
   "source": [
    "test_false = test_df.loc[test_df['updated_predict_lighting'] == True]\n",
    "\n",
    "test_false.groupby('is_lighting', dropna = False).size()"
   ]
  },
  {
   "cell_type": "markdown",
   "id": "44b91133-00df-4705-bab8-5c5a70782c3d",
   "metadata": {},
   "source": [
    "#### testing the accuracy of light classification using word2vec embedding for encoding parsed_text - 44%"
   ]
  },
  {
   "cell_type": "code",
   "execution_count": 620,
   "id": "1942a7a9-bc21-4ea1-99b8-d355bb711399",
   "metadata": {},
   "outputs": [
    {
     "name": "stdout",
     "output_type": "stream",
     "text": [
      "Test Accuracy: 0.4411764705882353\n"
     ]
    }
   ],
   "source": [
    "# Load test data\n",
    "test_texts = list(test_false['light_phrase'].to_numpy())\n",
    "\n",
    "# Feature extraction for test data\n",
    "test_ner_features = [extract_lighting_entities(text) for text in test_texts]\n",
    "test_tfidf_features = tfidf_vectorizer.transform(test_texts)\n",
    "test_embedding_features = [text_to_embedding(text) for text in test_texts]\n",
    "\n",
    "# Combine features for test data\n",
    "test_features = np.hstack((test_tfidf_features.toarray(), test_embedding_features))\n",
    "\n",
    "# Make predictions on the test data\n",
    "test_predictions = model.predict(test_features)\n",
    "\n",
    "# Evaluate the accuracy\n",
    "test_labels = list(test_false['is_lighting'].to_numpy())\n",
    "test_accuracy = accuracy_score(test_labels, test_predictions)\n",
    "print(f\"Test Accuracy: {test_accuracy}\")"
   ]
  },
  {
   "cell_type": "code",
   "execution_count": 461,
   "id": "4646ffd4-0b99-4020-b461-5c22b3412570",
   "metadata": {
    "scrolled": true
   },
   "outputs": [
    {
     "name": "stderr",
     "output_type": "stream",
     "text": [
      "/var/folders/5p/k025km096tndpdfzbd0mhr8c0000gn/T/ipykernel_8019/2685872303.py:1: SettingWithCopyWarning: \n",
      "A value is trying to be set on a copy of a slice from a DataFrame.\n",
      "Try using .loc[row_indexer,col_indexer] = value instead\n",
      "\n",
      "See the caveats in the documentation: https://pandas.pydata.org/pandas-docs/stable/user_guide/indexing.html#returning-a-view-versus-a-copy\n",
      "  test_positives['test_predictions'] = test_predictions\n"
     ]
    }
   ],
   "source": [
    "test_positives['test_predictions'] = test_predictions"
   ]
  },
  {
   "cell_type": "code",
   "execution_count": 466,
   "id": "894085f9-df66-4c36-ab23-f39c56a6b152",
   "metadata": {},
   "outputs": [],
   "source": [
    "pd.set_option('display.max_colwidth', None)"
   ]
  },
  {
   "cell_type": "code",
   "execution_count": 467,
   "id": "6bccd6af-8121-47f1-b4ed-d80cf6f08c0b",
   "metadata": {},
   "outputs": [
    {
     "data": {
      "text/html": [
       "<div>\n",
       "<style scoped>\n",
       "    .dataframe tbody tr th:only-of-type {\n",
       "        vertical-align: middle;\n",
       "    }\n",
       "\n",
       "    .dataframe tbody tr th {\n",
       "        vertical-align: top;\n",
       "    }\n",
       "\n",
       "    .dataframe thead th {\n",
       "        text-align: right;\n",
       "    }\n",
       "</style>\n",
       "<table border=\"1\" class=\"dataframe\">\n",
       "  <thead>\n",
       "    <tr style=\"text-align: right;\">\n",
       "      <th></th>\n",
       "      <th>light_phrase</th>\n",
       "      <th>is_lighting</th>\n",
       "      <th>test_predictions</th>\n",
       "    </tr>\n",
       "  </thead>\n",
       "  <tbody>\n",
       "    <tr>\n",
       "      <th>0</th>\n",
       "      <td>output the system shall be capable of powering any combination of electronic, power factor corrected, fluorescent</td>\n",
       "      <td>0</td>\n",
       "      <td>Yes</td>\n",
       "    </tr>\n",
       "    <tr>\n",
       "      <th>1</th>\n",
       "      <td>output the system shall be capable of powering any combination of electronic, power factor corrected, fluorescent</td>\n",
       "      <td>0</td>\n",
       "      <td>Yes</td>\n",
       "    </tr>\n",
       "    <tr>\n",
       "      <th>2</th>\n",
       "      <td>output the system shall be capable of powering any combination of electronic, power factor corrected, fluorescent</td>\n",
       "      <td>0</td>\n",
       "      <td>Yes</td>\n",
       "    </tr>\n",
       "    <tr>\n",
       "      <th>3</th>\n",
       "      <td>lxf / lxt lexington lumen tables</td>\n",
       "      <td>0</td>\n",
       "      <td>Yes</td>\n",
       "    </tr>\n",
       "    <tr>\n",
       "      <th>4</th>\n",
       "      <td>lxf / lxt lexington lumen tables</td>\n",
       "      <td>0</td>\n",
       "      <td>Yes</td>\n",
       "    </tr>\n",
       "    <tr>\n",
       "      <th>...</th>\n",
       "      <td>...</td>\n",
       "      <td>...</td>\n",
       "      <td>...</td>\n",
       "    </tr>\n",
       "    <tr>\n",
       "      <th>75</th>\n",
       "      <td>downlight</td>\n",
       "      <td>0</td>\n",
       "      <td>Yes</td>\n",
       "    </tr>\n",
       "    <tr>\n",
       "      <th>76</th>\n",
       "      <td>fixture</td>\n",
       "      <td>0</td>\n",
       "      <td>Yes</td>\n",
       "    </tr>\n",
       "    <tr>\n",
       "      <th>77</th>\n",
       "      <td>fixture</td>\n",
       "      <td>0</td>\n",
       "      <td>Yes</td>\n",
       "    </tr>\n",
       "    <tr>\n",
       "      <th>78</th>\n",
       "      <td>fixture</td>\n",
       "      <td>0</td>\n",
       "      <td>Yes</td>\n",
       "    </tr>\n",
       "    <tr>\n",
       "      <th>79</th>\n",
       "      <td>downlight</td>\n",
       "      <td>0</td>\n",
       "      <td>Yes</td>\n",
       "    </tr>\n",
       "  </tbody>\n",
       "</table>\n",
       "<p>70 rows × 3 columns</p>\n",
       "</div>"
      ],
      "text/plain": [
       "                                                                                                         light_phrase  \\\n",
       "0   output the system shall be capable of powering any combination of electronic, power factor corrected, fluorescent   \n",
       "1   output the system shall be capable of powering any combination of electronic, power factor corrected, fluorescent   \n",
       "2   output the system shall be capable of powering any combination of electronic, power factor corrected, fluorescent   \n",
       "3                                                                                    lxf / lxt lexington lumen tables   \n",
       "4                                                                                    lxf / lxt lexington lumen tables   \n",
       "..                                                                                                                ...   \n",
       "75                                                                                                          downlight   \n",
       "76                                                                                                            fixture   \n",
       "77                                                                                                            fixture   \n",
       "78                                                                                                            fixture   \n",
       "79                                                                                                          downlight   \n",
       "\n",
       "    is_lighting test_predictions  \n",
       "0             0              Yes  \n",
       "1             0              Yes  \n",
       "2             0              Yes  \n",
       "3             0              Yes  \n",
       "4             0              Yes  \n",
       "..          ...              ...  \n",
       "75            0              Yes  \n",
       "76            0              Yes  \n",
       "77            0              Yes  \n",
       "78            0              Yes  \n",
       "79            0              Yes  \n",
       "\n",
       "[70 rows x 3 columns]"
      ]
     },
     "execution_count": 467,
     "metadata": {},
     "output_type": "execute_result"
    }
   ],
   "source": [
    "test_positives[['light_phrase', 'is_lighting', 'test_predictions']]"
   ]
  },
  {
   "cell_type": "code",
   "execution_count": 451,
   "id": "44c38a58-22ec-47f8-9a36-34d112429f00",
   "metadata": {},
   "outputs": [
    {
     "name": "stdout",
     "output_type": "stream",
     "text": [
      "The text 'white troffers' is classified as 'Yes'\n"
     ]
    }
   ],
   "source": [
    "# Predict label for a new text\n",
    "new_text = \"white troffers\"\n",
    "new_features = np.hstack((\n",
    "    tfidf_vectorizer.transform([new_text]).toarray(),\n",
    "    text_to_embedding(new_text).reshape(1, -1)\n",
    "))\n",
    "predicted_label = model.predict(new_features)[0]\n",
    "\n",
    "# Print the result\n",
    "print(f\"The text '{new_text}' is classified as '{predicted_label}'\")"
   ]
  },
  {
   "cell_type": "code",
   "execution_count": 5,
   "id": "0d2ed09a-fb3a-4520-bc83-f540577fbfc2",
   "metadata": {},
   "outputs": [],
   "source": [
    "# train_data_with_parsed_text_filtered.to_pickle(\"data/train_data_with_parsed_text_filtered.pkl\")\n",
    "# test_data_final.to_pickle(\"data/test_data_final.pkl\")\n",
    "import pandas as pd\n",
    "\n",
    "train_data_with_parsed_text_filtered = pd.read_pickle(\"data/train_data_with_parsed_text_filtered.pkl\")\n",
    "test_data_final = pd.read_pickle(\"data/test_data_final.pkl\")\n",
    "\n",
    "\n",
    "train_df = train_data_with_parsed_text_filtered.copy()\n",
    "test_df = test_data_final.copy()"
   ]
  },
  {
   "cell_type": "markdown",
   "id": "aa70af9e-cf85-441d-bcbd-00094215b0c6",
   "metadata": {},
   "source": [
    "#### retraining the LR model using bert"
   ]
  },
  {
   "cell_type": "code",
   "execution_count": 78,
   "id": "c6241275-13af-46a7-b187-574efbeaf0a7",
   "metadata": {},
   "outputs": [],
   "source": [
    "from transformers import AutoTokenizer, AutoModel\n",
    "\n",
    "# Download and load the pre-trained BERT model\n",
    "bert_tokenizer = AutoTokenizer.from_pretrained(\"bert-base-uncased\")\n",
    "bert_model = AutoModel.from_pretrained(\"bert-base-uncased\")\n"
   ]
  },
  {
   "cell_type": "code",
   "execution_count": 79,
   "id": "6b90fb35-87bf-4de2-ae0f-8e743a9bfd99",
   "metadata": {},
   "outputs": [],
   "source": [
    "import torch"
   ]
  },
  {
   "cell_type": "code",
   "execution_count": 10,
   "id": "a0bed5cd-12dc-4457-8faf-9639c8c8498d",
   "metadata": {},
   "outputs": [],
   "source": [
    "from sklearn.feature_extraction.text import TfidfVectorizer\n",
    "import numpy as np\n",
    "\n",
    "# Flatten the parsed_lines list into a single string\n",
    "train_texts = train_df[\"parsed_lines\"].apply(lambda x: \" \".join(x))\n",
    "test_texts = test_df[\"parsed_lines\"].apply(lambda x: \" \".join(x))\n",
    "\n",
    "# Feature extraction using TF-IDF vectorizer\n",
    "vectorizer = TfidfVectorizer(max_features=1000)\n",
    "train_features = vectorizer.fit_transform(train_texts)\n",
    "test_features = vectorizer.transform(test_texts)"
   ]
  },
  {
   "cell_type": "code",
   "execution_count": 128,
   "id": "22377103-a82d-413d-b290-7c37512ddaa0",
   "metadata": {},
   "outputs": [
    {
     "data": {
      "text/plain": [
       "transformers.models.bert.modeling_bert.BertModel"
      ]
     },
     "execution_count": 128,
     "metadata": {},
     "output_type": "execute_result"
    }
   ],
   "source": [
    "type(bert_model)"
   ]
  },
  {
   "cell_type": "code",
   "execution_count": 132,
   "id": "31d119af-3d84-42d3-9b30-d79c446f3478",
   "metadata": {},
   "outputs": [
    {
     "data": {
      "text/plain": [
       "sklearn.preprocessing._data.StandardScaler"
      ]
     },
     "execution_count": 132,
     "metadata": {},
     "output_type": "execute_result"
    }
   ],
   "source": [
    "type(scaler)"
   ]
  },
  {
   "cell_type": "code",
   "execution_count": 125,
   "id": "fd2bc11b-d076-40dc-a3e2-3992a375782e",
   "metadata": {},
   "outputs": [
    {
     "data": {
      "text/plain": [
       "transformers.models.bert.tokenization_bert_fast.BertTokenizerFast"
      ]
     },
     "execution_count": 125,
     "metadata": {},
     "output_type": "execute_result"
    }
   ],
   "source": [
    "type(bert_tokenizer)"
   ]
  },
  {
   "cell_type": "code",
   "execution_count": 11,
   "id": "e1c93db5-ec48-436e-b873-5be380bb70d8",
   "metadata": {},
   "outputs": [],
   "source": [
    "# Tokenize each sentence in the parsed lines list\n",
    "def tokenize_lines(parsed_lines):\n",
    "    tokenized_lines = []\n",
    "    for line in parsed_lines:\n",
    "        tokens = tokenizer(line, truncation=True, padding=\"max_length\", return_tensors=\"pt\")\n",
    "        tokenized_lines.append(tokens)\n",
    "    return tokenized_lines\n",
    "\n",
    "# Apply tokenization\n",
    "train_bert_features = tokenize_lines(train_texts)\n",
    "test_bert_features = tokenize_lines(test_texts)"
   ]
  },
  {
   "cell_type": "code",
   "execution_count": 81,
   "id": "52c556ab-1cd1-485e-b66c-b3a356a0e6b4",
   "metadata": {},
   "outputs": [],
   "source": [
    "# Extract contextualized word embeddings from BERT\n",
    "def extract_bert_embeddings(tokenized_lines):\n",
    "    bert_embeddings = []\n",
    "    for tokens in tokenized_lines:\n",
    "        outputs = bert_model(**tokens)\n",
    "        last_hidden_state = outputs.last_hidden_state\n",
    "        mean_embedding = torch.mean(last_hidden_state, dim=1)\n",
    "        bert_embeddings.append(mean_embedding.detach().numpy())\n",
    "    return bert_embeddings\n",
    "\n",
    "# # Apply BERT embedding extraction\n",
    "# train_bert_embeddings = extract_bert_embeddings(train_bert_features)\n",
    "# test_bert_embeddings = extract_bert_embeddings(test_bert_features)\n"
   ]
  },
  {
   "cell_type": "code",
   "execution_count": null,
   "id": "ffb632c8-4a05-4b17-a77a-a32df438fb1a",
   "metadata": {},
   "outputs": [],
   "source": [
    "# Apply BERT embedding extraction\n",
    "train_bert_embeddings = extract_bert_embeddings(train_bert_features)\n",
    "test_bert_embeddings = extract_bert_embeddings(test_bert_features)"
   ]
  },
  {
   "cell_type": "code",
   "execution_count": 26,
   "id": "57fbd790-b614-4ace-bbad-88c351709315",
   "metadata": {},
   "outputs": [],
   "source": [
    "# Option 1: Flatten the last two dimensions (words and embedding dimensions)\n",
    "train_bert_embeddings_flat = [embedding.flatten() for embedding in train_bert_embeddings]\n",
    "test_bert_embeddings_flat = [embedding.flatten() for embedding in test_bert_embeddings]\n",
    "\n",
    "train_combined_features = np.concatenate((train_features.toarray(), train_bert_embeddings_flat), axis=1)\n",
    "test_combined_features = np.concatenate((test_features.toarray(), test_bert_embeddings_flat), axis=1)"
   ]
  },
  {
   "cell_type": "code",
   "execution_count": 52,
   "id": "a97aa681-3c06-4165-8575-35f53398d202",
   "metadata": {
    "scrolled": true
   },
   "outputs": [],
   "source": [
    "from sklearn.linear_model import LogisticRegression\n",
    "train_labels = train_df['is_lighting']\n",
    "test_labels = test_df['is_lighting']"
   ]
  },
  {
   "cell_type": "code",
   "execution_count": 39,
   "id": "43fdd344-98dc-4e9c-82d9-d330c4a27b1b",
   "metadata": {},
   "outputs": [
    {
     "data": {
      "text/html": [
       "<style>#sk-container-id-4 {color: black;}#sk-container-id-4 pre{padding: 0;}#sk-container-id-4 div.sk-toggleable {background-color: white;}#sk-container-id-4 label.sk-toggleable__label {cursor: pointer;display: block;width: 100%;margin-bottom: 0;padding: 0.3em;box-sizing: border-box;text-align: center;}#sk-container-id-4 label.sk-toggleable__label-arrow:before {content: \"▸\";float: left;margin-right: 0.25em;color: #696969;}#sk-container-id-4 label.sk-toggleable__label-arrow:hover:before {color: black;}#sk-container-id-4 div.sk-estimator:hover label.sk-toggleable__label-arrow:before {color: black;}#sk-container-id-4 div.sk-toggleable__content {max-height: 0;max-width: 0;overflow: hidden;text-align: left;background-color: #f0f8ff;}#sk-container-id-4 div.sk-toggleable__content pre {margin: 0.2em;color: black;border-radius: 0.25em;background-color: #f0f8ff;}#sk-container-id-4 input.sk-toggleable__control:checked~div.sk-toggleable__content {max-height: 200px;max-width: 100%;overflow: auto;}#sk-container-id-4 input.sk-toggleable__control:checked~label.sk-toggleable__label-arrow:before {content: \"▾\";}#sk-container-id-4 div.sk-estimator input.sk-toggleable__control:checked~label.sk-toggleable__label {background-color: #d4ebff;}#sk-container-id-4 div.sk-label input.sk-toggleable__control:checked~label.sk-toggleable__label {background-color: #d4ebff;}#sk-container-id-4 input.sk-hidden--visually {border: 0;clip: rect(1px 1px 1px 1px);clip: rect(1px, 1px, 1px, 1px);height: 1px;margin: -1px;overflow: hidden;padding: 0;position: absolute;width: 1px;}#sk-container-id-4 div.sk-estimator {font-family: monospace;background-color: #f0f8ff;border: 1px dotted black;border-radius: 0.25em;box-sizing: border-box;margin-bottom: 0.5em;}#sk-container-id-4 div.sk-estimator:hover {background-color: #d4ebff;}#sk-container-id-4 div.sk-parallel-item::after {content: \"\";width: 100%;border-bottom: 1px solid gray;flex-grow: 1;}#sk-container-id-4 div.sk-label:hover label.sk-toggleable__label {background-color: #d4ebff;}#sk-container-id-4 div.sk-serial::before {content: \"\";position: absolute;border-left: 1px solid gray;box-sizing: border-box;top: 0;bottom: 0;left: 50%;z-index: 0;}#sk-container-id-4 div.sk-serial {display: flex;flex-direction: column;align-items: center;background-color: white;padding-right: 0.2em;padding-left: 0.2em;position: relative;}#sk-container-id-4 div.sk-item {position: relative;z-index: 1;}#sk-container-id-4 div.sk-parallel {display: flex;align-items: stretch;justify-content: center;background-color: white;position: relative;}#sk-container-id-4 div.sk-item::before, #sk-container-id-4 div.sk-parallel-item::before {content: \"\";position: absolute;border-left: 1px solid gray;box-sizing: border-box;top: 0;bottom: 0;left: 50%;z-index: -1;}#sk-container-id-4 div.sk-parallel-item {display: flex;flex-direction: column;z-index: 1;position: relative;background-color: white;}#sk-container-id-4 div.sk-parallel-item:first-child::after {align-self: flex-end;width: 50%;}#sk-container-id-4 div.sk-parallel-item:last-child::after {align-self: flex-start;width: 50%;}#sk-container-id-4 div.sk-parallel-item:only-child::after {width: 0;}#sk-container-id-4 div.sk-dashed-wrapped {border: 1px dashed gray;margin: 0 0.4em 0.5em 0.4em;box-sizing: border-box;padding-bottom: 0.4em;background-color: white;}#sk-container-id-4 div.sk-label label {font-family: monospace;font-weight: bold;display: inline-block;line-height: 1.2em;}#sk-container-id-4 div.sk-label-container {text-align: center;}#sk-container-id-4 div.sk-container {/* jupyter's `normalize.less` sets `[hidden] { display: none; }` but bootstrap.min.css set `[hidden] { display: none !important; }` so we also need the `!important` here to be able to override the default hidden behavior on the sphinx rendered scikit-learn.org. See: https://github.com/scikit-learn/scikit-learn/issues/21755 */display: inline-block !important;position: relative;}#sk-container-id-4 div.sk-text-repr-fallback {display: none;}</style><div id=\"sk-container-id-4\" class=\"sk-top-container\"><div class=\"sk-text-repr-fallback\"><pre>LogisticRegression()</pre><b>In a Jupyter environment, please rerun this cell to show the HTML representation or trust the notebook. <br />On GitHub, the HTML representation is unable to render, please try loading this page with nbviewer.org.</b></div><div class=\"sk-container\" hidden><div class=\"sk-item\"><div class=\"sk-estimator sk-toggleable\"><input class=\"sk-toggleable__control sk-hidden--visually\" id=\"sk-estimator-id-4\" type=\"checkbox\" checked><label for=\"sk-estimator-id-4\" class=\"sk-toggleable__label sk-toggleable__label-arrow\">LogisticRegression</label><div class=\"sk-toggleable__content\"><pre>LogisticRegression()</pre></div></div></div></div></div>"
      ],
      "text/plain": [
       "LogisticRegression()"
      ]
     },
     "execution_count": 39,
     "metadata": {},
     "output_type": "execute_result"
    }
   ],
   "source": [
    "from sklearn.preprocessing import LabelEncoder\n",
    "\n",
    "# Encode labels\n",
    "le = LabelEncoder()\n",
    "train_labels_encoded = le.fit_transform(train_df['is_lighting'])\n",
    "test_labels_encoded = le.transform(test_df['is_lighting'])\n",
    "\n",
    "# Train the model with encoded labels\n",
    "model = LogisticRegression()\n",
    "model.fit(train_features, train_labels_encoded)"
   ]
  },
  {
   "cell_type": "code",
   "execution_count": 53,
   "id": "c1ab03ac-2e2c-48e8-9a50-38811379d339",
   "metadata": {},
   "outputs": [
    {
     "data": {
      "text/html": [
       "<style>#sk-container-id-6 {color: black;}#sk-container-id-6 pre{padding: 0;}#sk-container-id-6 div.sk-toggleable {background-color: white;}#sk-container-id-6 label.sk-toggleable__label {cursor: pointer;display: block;width: 100%;margin-bottom: 0;padding: 0.3em;box-sizing: border-box;text-align: center;}#sk-container-id-6 label.sk-toggleable__label-arrow:before {content: \"▸\";float: left;margin-right: 0.25em;color: #696969;}#sk-container-id-6 label.sk-toggleable__label-arrow:hover:before {color: black;}#sk-container-id-6 div.sk-estimator:hover label.sk-toggleable__label-arrow:before {color: black;}#sk-container-id-6 div.sk-toggleable__content {max-height: 0;max-width: 0;overflow: hidden;text-align: left;background-color: #f0f8ff;}#sk-container-id-6 div.sk-toggleable__content pre {margin: 0.2em;color: black;border-radius: 0.25em;background-color: #f0f8ff;}#sk-container-id-6 input.sk-toggleable__control:checked~div.sk-toggleable__content {max-height: 200px;max-width: 100%;overflow: auto;}#sk-container-id-6 input.sk-toggleable__control:checked~label.sk-toggleable__label-arrow:before {content: \"▾\";}#sk-container-id-6 div.sk-estimator input.sk-toggleable__control:checked~label.sk-toggleable__label {background-color: #d4ebff;}#sk-container-id-6 div.sk-label input.sk-toggleable__control:checked~label.sk-toggleable__label {background-color: #d4ebff;}#sk-container-id-6 input.sk-hidden--visually {border: 0;clip: rect(1px 1px 1px 1px);clip: rect(1px, 1px, 1px, 1px);height: 1px;margin: -1px;overflow: hidden;padding: 0;position: absolute;width: 1px;}#sk-container-id-6 div.sk-estimator {font-family: monospace;background-color: #f0f8ff;border: 1px dotted black;border-radius: 0.25em;box-sizing: border-box;margin-bottom: 0.5em;}#sk-container-id-6 div.sk-estimator:hover {background-color: #d4ebff;}#sk-container-id-6 div.sk-parallel-item::after {content: \"\";width: 100%;border-bottom: 1px solid gray;flex-grow: 1;}#sk-container-id-6 div.sk-label:hover label.sk-toggleable__label {background-color: #d4ebff;}#sk-container-id-6 div.sk-serial::before {content: \"\";position: absolute;border-left: 1px solid gray;box-sizing: border-box;top: 0;bottom: 0;left: 50%;z-index: 0;}#sk-container-id-6 div.sk-serial {display: flex;flex-direction: column;align-items: center;background-color: white;padding-right: 0.2em;padding-left: 0.2em;position: relative;}#sk-container-id-6 div.sk-item {position: relative;z-index: 1;}#sk-container-id-6 div.sk-parallel {display: flex;align-items: stretch;justify-content: center;background-color: white;position: relative;}#sk-container-id-6 div.sk-item::before, #sk-container-id-6 div.sk-parallel-item::before {content: \"\";position: absolute;border-left: 1px solid gray;box-sizing: border-box;top: 0;bottom: 0;left: 50%;z-index: -1;}#sk-container-id-6 div.sk-parallel-item {display: flex;flex-direction: column;z-index: 1;position: relative;background-color: white;}#sk-container-id-6 div.sk-parallel-item:first-child::after {align-self: flex-end;width: 50%;}#sk-container-id-6 div.sk-parallel-item:last-child::after {align-self: flex-start;width: 50%;}#sk-container-id-6 div.sk-parallel-item:only-child::after {width: 0;}#sk-container-id-6 div.sk-dashed-wrapped {border: 1px dashed gray;margin: 0 0.4em 0.5em 0.4em;box-sizing: border-box;padding-bottom: 0.4em;background-color: white;}#sk-container-id-6 div.sk-label label {font-family: monospace;font-weight: bold;display: inline-block;line-height: 1.2em;}#sk-container-id-6 div.sk-label-container {text-align: center;}#sk-container-id-6 div.sk-container {/* jupyter's `normalize.less` sets `[hidden] { display: none; }` but bootstrap.min.css set `[hidden] { display: none !important; }` so we also need the `!important` here to be able to override the default hidden behavior on the sphinx rendered scikit-learn.org. See: https://github.com/scikit-learn/scikit-learn/issues/21755 */display: inline-block !important;position: relative;}#sk-container-id-6 div.sk-text-repr-fallback {display: none;}</style><div id=\"sk-container-id-6\" class=\"sk-top-container\"><div class=\"sk-text-repr-fallback\"><pre>LogisticRegression(max_iter=1000)</pre><b>In a Jupyter environment, please rerun this cell to show the HTML representation or trust the notebook. <br />On GitHub, the HTML representation is unable to render, please try loading this page with nbviewer.org.</b></div><div class=\"sk-container\" hidden><div class=\"sk-item\"><div class=\"sk-estimator sk-toggleable\"><input class=\"sk-toggleable__control sk-hidden--visually\" id=\"sk-estimator-id-6\" type=\"checkbox\" checked><label for=\"sk-estimator-id-6\" class=\"sk-toggleable__label sk-toggleable__label-arrow\">LogisticRegression</label><div class=\"sk-toggleable__content\"><pre>LogisticRegression(max_iter=1000)</pre></div></div></div></div></div>"
      ],
      "text/plain": [
       "LogisticRegression(max_iter=1000)"
      ]
     },
     "execution_count": 53,
     "metadata": {},
     "output_type": "execute_result"
    }
   ],
   "source": [
    "from sklearn.preprocessing import StandardScaler\n",
    "\n",
    "# Standardize features\n",
    "scaler = StandardScaler()\n",
    "train_combined_features_scaled = scaler.fit_transform(train_combined_features)\n",
    "test_combined_features_scaled = scaler.transform(test_combined_features)\n",
    "\n",
    "le = LabelEncoder()\n",
    "train_labels_encoded = le.fit_transform(train_df['is_lighting'])\n",
    "test_labels_encoded = le.transform(test_df['is_lighting'])\n",
    "\n",
    "# Train the model with scaled features\n",
    "model = LogisticRegression(max_iter=1000)\n",
    "model.fit(train_combined_features_scaled, train_labels_encoded)"
   ]
  },
  {
   "cell_type": "code",
   "execution_count": 54,
   "id": "bc011f1d-f5b8-41c5-b2d2-ac3889bd81e5",
   "metadata": {},
   "outputs": [],
   "source": [
    "from sklearn.model_selection import train_test_split\n",
    "\n",
    "X_train, X_val, y_train, y_val = train_test_split(train_combined_features_scaled, train_labels_encoded, test_size=0.2)\n",
    "# X_train, X_val, y_train, y_val = train_test_split(train_features, train_labels_encoded, test_size=0.2)"
   ]
  },
  {
   "cell_type": "markdown",
   "id": "b13ae3d1-cb9d-4cb4-a512-5a5670b079cf",
   "metadata": {},
   "source": [
    "#### Validation accuracy using BERT on training data"
   ]
  },
  {
   "cell_type": "code",
   "execution_count": 58,
   "id": "dad2dbe6-27c5-41f8-a469-76547abfc25c",
   "metadata": {},
   "outputs": [
    {
     "name": "stdout",
     "output_type": "stream",
     "text": [
      "Validation Accuracy: 0.9763313609467456\n",
      "Validation Precision: 0.9743589743589743\n",
      "Validation Recall: 0.9743589743589743\n"
     ]
    }
   ],
   "source": [
    "model.fit(X_train, y_train)\n",
    "predictions = model.predict(X_val)\n",
    "\n",
    "# Calculate accuracy, precision, recall, etc.\n",
    "from sklearn.metrics import accuracy_score, precision_score, recall_score\n",
    "\n",
    "accuracy = accuracy_score(y_val, predictions)\n",
    "precision = precision_score(y_val, predictions)\n",
    "recall = recall_score(y_val, predictions)\n",
    "\n",
    "print(f\"Validation Accuracy: {accuracy}\")\n",
    "print(f\"Validation Precision: {precision}\")\n",
    "print(f\"Validation Recall: {recall}\")"
   ]
  },
  {
   "cell_type": "code",
   "execution_count": 59,
   "id": "b898ae35-e8ec-484c-a0d2-4a45c34a7085",
   "metadata": {},
   "outputs": [],
   "source": [
    "test_predictions = model.predict(test_combined_features_scaled)\n",
    "# test_predictions = model.predict(test_features)"
   ]
  },
  {
   "cell_type": "code",
   "execution_count": 60,
   "id": "1c7b9692-4daf-41ad-bf03-7f5d299b60ab",
   "metadata": {},
   "outputs": [],
   "source": [
    "train_false = train_df.loc[train_df['updated_predict_lighting'] == True]"
   ]
  },
  {
   "cell_type": "markdown",
   "id": "6107f48f-2bd7-40c6-bc05-96c2e3e01926",
   "metadata": {},
   "source": [
    "#### BERT Model Performance on test data - improved to 53% precision, and 77.5% accuracy compared to the use of word2vec embedding"
   ]
  },
  {
   "cell_type": "code",
   "execution_count": 106,
   "id": "faa9c1f2-7923-4b1a-9d87-4dc959106648",
   "metadata": {},
   "outputs": [
    {
     "name": "stdout",
     "output_type": "stream",
     "text": [
      "Test Accuracy: 0.775\n",
      "Test Precision: 0.53125\n",
      "Test Recall: 0.85\n"
     ]
    }
   ],
   "source": [
    "train_false = train_df.loc[train_df['updated_predict_lighting'] == True]\n",
    "test_texts = test_df[\"parsed_lines\"].apply(lambda x: \" \".join(x))\n",
    "test_features = vectorizer.transform(test_texts)\n",
    "test_bert_features = tokenize_lines(test_texts)\n",
    "test_bert_embeddings = extract_bert_embeddings(test_bert_features)\n",
    "test_bert_embeddings_flat = [embedding.flatten() for embedding in test_bert_embeddings]\n",
    "test_combined_features = np.concatenate((test_features.toarray(), test_bert_embeddings_flat), axis=1)\n",
    "\n",
    "# test_labels = 0\n",
    "# test_labels_encoded = le.transform(test_df['is_lighting'])\n",
    "test_combined_features_scaled = scaler.transform(test_combined_features)\n",
    "test_predictions = model.predict(test_combined_features_scaled)\n",
    "\n",
    "test_labels_encoded = le.transform(test_df['is_lighting'])\n",
    "\n",
    "accuracy = accuracy_score(test_labels_encoded, test_predictions)\n",
    "precision = precision_score(test_labels_encoded, test_predictions)\n",
    "recall = recall_score(test_labels_encoded, test_predictions)\n",
    "\n",
    "print(f\"Test Accuracy: {accuracy}\")\n",
    "print(f\"Test Precision: {precision}\")\n",
    "print(f\"Test Recall: {recall}\")"
   ]
  },
  {
   "cell_type": "code",
   "execution_count": 61,
   "id": "10ebb582-f4ba-4295-865d-731a5c86ccfc",
   "metadata": {
    "scrolled": true
   },
   "outputs": [
    {
     "name": "stdout",
     "output_type": "stream",
     "text": [
      "Test Accuracy: 0.775\n",
      "Test Precision: 0.53125\n",
      "Test Recall: 0.85\n"
     ]
    }
   ],
   "source": [
    "accuracy = accuracy_score(test_labels_encoded, test_predictions)\n",
    "precision = precision_score(test_labels_encoded, test_predictions)\n",
    "recall = recall_score(test_labels_encoded, test_predictions)\n",
    "\n",
    "print(f\"Test Accuracy: {accuracy}\")\n",
    "print(f\"Test Precision: {precision}\")\n",
    "print(f\"Test Recall: {recall}\")"
   ]
  },
  {
   "cell_type": "code",
   "execution_count": 115,
   "id": "3541ed2b-ee6a-49a4-906c-af458e19b166",
   "metadata": {},
   "outputs": [],
   "source": [
    "# Save the model\n",
    "import pickle\n",
    "\n",
    "with open(\"models/lr_light_model.pkl\", \"wb\") as f:\n",
    "    pickle.dump(model, f)\n",
    "\n",
    "# Load the model\n",
    "with open(\"models/lr_light_model.pkl\", \"rb\") as f:\n",
    "    model = pickle.load(f)"
   ]
  },
  {
   "cell_type": "code",
   "execution_count": 96,
   "id": "cbcdc54b-8760-4ad2-bdf2-da4f93515f84",
   "metadata": {},
   "outputs": [],
   "source": [
    "def predict_if_lighting(x):\n",
    "    test_texts = [x]\n",
    "    test_features = vectorizer.transform(test_texts)\n",
    "    test_bert_features = tokenize_lines(test_texts)\n",
    "    test_bert_embeddings = extract_bert_embeddings(test_bert_features)\n",
    "    test_bert_embeddings_flat = [embedding.flatten() for embedding in test_bert_embeddings]\n",
    "    test_combined_features = np.concatenate((test_features.toarray(), test_bert_embeddings_flat), axis=1)\n",
    "    \n",
    "    # test_labels = 0\n",
    "    # test_labels_encoded = le.transform(test_df['is_lighting'])\n",
    "    test_combined_features_scaled = scaler.transform(test_combined_features)\n",
    "    test_predictions = model.predict(test_combined_features_scaled)\n",
    "    return True if test_predictions[0] == 1 else False"
   ]
  },
  {
   "cell_type": "code",
   "execution_count": 113,
   "id": "e1e5da24-246f-4cce-909b-7aa94f277789",
   "metadata": {},
   "outputs": [
    {
     "data": {
      "text/plain": [
       "False"
      ]
     },
     "execution_count": 113,
     "metadata": {},
     "output_type": "execute_result"
    }
   ],
   "source": [
    "predict_if_lighting(test_data_final.loc[test_data_final['is_lighting'] == 0, 'parsed_text'].iloc[8])"
   ]
  },
  {
   "cell_type": "code",
   "execution_count": null,
   "id": "25ea2c8b-d3a4-4030-a6dd-10fcdadc6030",
   "metadata": {},
   "outputs": [],
   "source": []
  }
 ],
 "metadata": {
  "kernelspec": {
   "display_name": "lclassifier_env",
   "language": "python",
   "name": "lclassifier_env"
  },
  "language_info": {
   "codemirror_mode": {
    "name": "ipython",
    "version": 3
   },
   "file_extension": ".py",
   "mimetype": "text/x-python",
   "name": "python",
   "nbconvert_exporter": "python",
   "pygments_lexer": "ipython3",
   "version": "3.10.13"
  }
 },
 "nbformat": 4,
 "nbformat_minor": 5
}
